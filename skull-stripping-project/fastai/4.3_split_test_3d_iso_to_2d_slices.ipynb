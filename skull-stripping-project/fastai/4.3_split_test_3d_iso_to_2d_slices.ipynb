{
 "cells": [
  {
   "cell_type": "markdown",
   "metadata": {},
   "source": [
    "Created: 2020.07.03\n",
    "\n",
    "Modified: 2020.08.12"
   ]
  },
  {
   "cell_type": "markdown",
   "metadata": {},
   "source": [
    "#### Convertion 3D isotropic images to set of 2D png slices based on paths in a TEST df's"
   ]
  },
  {
   "cell_type": "code",
   "execution_count": 1,
   "metadata": {},
   "outputs": [],
   "source": [
    "%reload_ext autoreload\n",
    "%autoreload 2"
   ]
  },
  {
   "cell_type": "code",
   "execution_count": 2,
   "metadata": {},
   "outputs": [],
   "source": [
    "import glob\n",
    "import pandas as pd\n",
    "import numpy as np\n",
    "import imageio as io\n",
    "from pathlib import Path\n",
    "from fastai.core import parallel"
   ]
  },
  {
   "cell_type": "code",
   "execution_count": 34,
   "metadata": {},
   "outputs": [],
   "source": [
    "import sys\n",
    "sys.path.append('functions')\n",
    "\n",
    "%aimport functions00, functions01\n",
    "from functions00 import *\n",
    "from functions01 import *\n",
    "\n",
    "import functions23 as fun"
   ]
  },
  {
   "cell_type": "code",
   "execution_count": 4,
   "metadata": {},
   "outputs": [
    {
     "name": "stdout",
     "output_type": "stream",
     "text": [
      "**********************************************************************************************************************************\n",
      "Settings:\n",
      "\tHOST:  mmiv-ml-titan\n",
      "\tPATH_ROOT_DATA:  /data-10tb/shared/skull/train-3d-iso\n",
      "\tPATH_GIT_HUB:  /data-10tb/marek/github_codes/skull-stripping-1/fastai\n",
      "\tPATH_2D: /data-10tb/shared/skull\n",
      "\n",
      "3D DFs paths (_mk_3D):\n",
      "\tIXI_TEST_3D: /data-10tb/marek/github_codes/skull-stripping-1/fastai/2.2_train_valid_test_sets/ixi_test_mk_3d.csv\n",
      "\tTEST_3D : /data-10tb/marek/github_codes/skull-stripping-1/fastai/2.2_train_valid_test_sets/test_mk_3d.csv\n",
      "\tTRAIN_VAL_3D: /data-10tb/marek/github_codes/skull-stripping-1/fastai/2.2_train_valid_test_sets/train_val_mk_3d.csv\n",
      "\tNFBS_TEST_3D: /data-10tb/marek/github_codes/skull-stripping-1/fastai/2.2_train_valid_test_sets/nfbs_test_mk_3d.csv\n",
      "\n",
      "Error files (pickle):\n",
      "\tERROR_FILES: /data-10tb/marek/github_codes/skull-stripping-1/fastai/2.2_train_valid_test_sets/error_files\n",
      "**********************************************************************************************************************************\n"
     ]
    }
   ],
   "source": [
    "mk_get_host_info()"
   ]
  },
  {
   "cell_type": "code",
   "execution_count": 19,
   "metadata": {},
   "outputs": [
    {
     "name": "stdout",
     "output_type": "stream",
     "text": [
      "(934, 16)\n"
     ]
    },
    {
     "data": {
      "text/html": [
       "<div>\n",
       "<style scoped>\n",
       "    .dataframe tbody tr th:only-of-type {\n",
       "        vertical-align: middle;\n",
       "    }\n",
       "\n",
       "    .dataframe tbody tr th {\n",
       "        vertical-align: top;\n",
       "    }\n",
       "\n",
       "    .dataframe thead th {\n",
       "        text-align: right;\n",
       "    }\n",
       "</style>\n",
       "<table border=\"1\" class=\"dataframe\">\n",
       "  <thead>\n",
       "    <tr style=\"text-align: right;\">\n",
       "      <th></th>\n",
       "      <th>t1_pth_dgx</th>\n",
       "      <th>bias_pth_dgx</th>\n",
       "      <th>mask_nn_pth_dgx</th>\n",
       "      <th>mask_lin_pth_dgx</th>\n",
       "      <th>t1_pth_titan</th>\n",
       "      <th>bias_pth_titan</th>\n",
       "      <th>mask_nn_pth_titan</th>\n",
       "      <th>mask_lin_pth_titan</th>\n",
       "      <th>age_at_scan</th>\n",
       "      <th>gender</th>\n",
       "      <th>subject_id</th>\n",
       "      <th>img_id</th>\n",
       "      <th>source</th>\n",
       "      <th>rounded_age</th>\n",
       "      <th>age_group</th>\n",
       "      <th>usage</th>\n",
       "    </tr>\n",
       "  </thead>\n",
       "  <tbody>\n",
       "    <tr>\n",
       "      <td>0</td>\n",
       "      <td>/data-external/sathiesh/brains/ADNI/ADNI_011_S_0005_MR_MPR-R__GradWarp__B1_Correction__N3__Scale...</td>\n",
       "      <td>/data-external/sathiesh/brains/ADNI/ADNI_011_S_0005_MR_MPR-R__GradWarp__B1_Correction__N3__Scale...</td>\n",
       "      <td>/data-external/sathiesh/brains/ADNI/ADNI_011_S_0005_MR_MPR-R__GradWarp__B1_Correction__N3__Scale...</td>\n",
       "      <td>/data-external/sathiesh/brains/ADNI/ADNI_011_S_0005_MR_MPR-R__GradWarp__B1_Correction__N3__Scale...</td>\n",
       "      <td>/data-10tb/shared/skull/train-3d-iso/ADNI/ADNI_011_S_0005_MR_MPR-R__GradWarp__B1_Correction__N3_...</td>\n",
       "      <td>/data-10tb/shared/skull/train-3d-iso/ADNI/ADNI_011_S_0005_MR_MPR-R__GradWarp__B1_Correction__N3_...</td>\n",
       "      <td>/data-10tb/shared/skull/train-3d-iso/ADNI/ADNI_011_S_0005_MR_MPR-R__GradWarp__B1_Correction__N3_...</td>\n",
       "      <td>/data-10tb/shared/skull/train-3d-iso/ADNI/ADNI_011_S_0005_MR_MPR-R__GradWarp__B1_Correction__N3_...</td>\n",
       "      <td>73.7</td>\n",
       "      <td>M</td>\n",
       "      <td>011_S_0005</td>\n",
       "      <td>32246.0</td>\n",
       "      <td>ADNI</td>\n",
       "      <td>74</td>\n",
       "      <td>74</td>\n",
       "      <td>test</td>\n",
       "    </tr>\n",
       "    <tr>\n",
       "      <td>1</td>\n",
       "      <td>/data-external/sathiesh/brains/ADNI/ADNI_011_S_0005_MR_MPR__GradWarp__B1_Correction__N3__Scaled_...</td>\n",
       "      <td>/data-external/sathiesh/brains/ADNI/ADNI_011_S_0005_MR_MPR__GradWarp__B1_Correction__N3__Scaled_...</td>\n",
       "      <td>/data-external/sathiesh/brains/ADNI/ADNI_011_S_0005_MR_MPR__GradWarp__B1_Correction__N3__Scaled_...</td>\n",
       "      <td>/data-external/sathiesh/brains/ADNI/ADNI_011_S_0005_MR_MPR__GradWarp__B1_Correction__N3__Scaled_...</td>\n",
       "      <td>/data-10tb/shared/skull/train-3d-iso/ADNI/ADNI_011_S_0005_MR_MPR__GradWarp__B1_Correction__N3__S...</td>\n",
       "      <td>/data-10tb/shared/skull/train-3d-iso/ADNI/ADNI_011_S_0005_MR_MPR__GradWarp__B1_Correction__N3__S...</td>\n",
       "      <td>/data-10tb/shared/skull/train-3d-iso/ADNI/ADNI_011_S_0005_MR_MPR__GradWarp__B1_Correction__N3__S...</td>\n",
       "      <td>/data-10tb/shared/skull/train-3d-iso/ADNI/ADNI_011_S_0005_MR_MPR__GradWarp__B1_Correction__N3__S...</td>\n",
       "      <td>74.2</td>\n",
       "      <td>M</td>\n",
       "      <td>011_S_0005</td>\n",
       "      <td>31885.0</td>\n",
       "      <td>ADNI</td>\n",
       "      <td>74</td>\n",
       "      <td>74</td>\n",
       "      <td>test</td>\n",
       "    </tr>\n",
       "  </tbody>\n",
       "</table>\n",
       "</div>"
      ],
      "text/plain": [
       "                                                                                            t1_pth_dgx  \\\n",
       "0  /data-external/sathiesh/brains/ADNI/ADNI_011_S_0005_MR_MPR-R__GradWarp__B1_Correction__N3__Scale...   \n",
       "1  /data-external/sathiesh/brains/ADNI/ADNI_011_S_0005_MR_MPR__GradWarp__B1_Correction__N3__Scaled_...   \n",
       "\n",
       "                                                                                          bias_pth_dgx  \\\n",
       "0  /data-external/sathiesh/brains/ADNI/ADNI_011_S_0005_MR_MPR-R__GradWarp__B1_Correction__N3__Scale...   \n",
       "1  /data-external/sathiesh/brains/ADNI/ADNI_011_S_0005_MR_MPR__GradWarp__B1_Correction__N3__Scaled_...   \n",
       "\n",
       "                                                                                       mask_nn_pth_dgx  \\\n",
       "0  /data-external/sathiesh/brains/ADNI/ADNI_011_S_0005_MR_MPR-R__GradWarp__B1_Correction__N3__Scale...   \n",
       "1  /data-external/sathiesh/brains/ADNI/ADNI_011_S_0005_MR_MPR__GradWarp__B1_Correction__N3__Scaled_...   \n",
       "\n",
       "                                                                                      mask_lin_pth_dgx  \\\n",
       "0  /data-external/sathiesh/brains/ADNI/ADNI_011_S_0005_MR_MPR-R__GradWarp__B1_Correction__N3__Scale...   \n",
       "1  /data-external/sathiesh/brains/ADNI/ADNI_011_S_0005_MR_MPR__GradWarp__B1_Correction__N3__Scaled_...   \n",
       "\n",
       "                                                                                          t1_pth_titan  \\\n",
       "0  /data-10tb/shared/skull/train-3d-iso/ADNI/ADNI_011_S_0005_MR_MPR-R__GradWarp__B1_Correction__N3_...   \n",
       "1  /data-10tb/shared/skull/train-3d-iso/ADNI/ADNI_011_S_0005_MR_MPR__GradWarp__B1_Correction__N3__S...   \n",
       "\n",
       "                                                                                        bias_pth_titan  \\\n",
       "0  /data-10tb/shared/skull/train-3d-iso/ADNI/ADNI_011_S_0005_MR_MPR-R__GradWarp__B1_Correction__N3_...   \n",
       "1  /data-10tb/shared/skull/train-3d-iso/ADNI/ADNI_011_S_0005_MR_MPR__GradWarp__B1_Correction__N3__S...   \n",
       "\n",
       "                                                                                     mask_nn_pth_titan  \\\n",
       "0  /data-10tb/shared/skull/train-3d-iso/ADNI/ADNI_011_S_0005_MR_MPR-R__GradWarp__B1_Correction__N3_...   \n",
       "1  /data-10tb/shared/skull/train-3d-iso/ADNI/ADNI_011_S_0005_MR_MPR__GradWarp__B1_Correction__N3__S...   \n",
       "\n",
       "                                                                                    mask_lin_pth_titan  \\\n",
       "0  /data-10tb/shared/skull/train-3d-iso/ADNI/ADNI_011_S_0005_MR_MPR-R__GradWarp__B1_Correction__N3_...   \n",
       "1  /data-10tb/shared/skull/train-3d-iso/ADNI/ADNI_011_S_0005_MR_MPR__GradWarp__B1_Correction__N3__S...   \n",
       "\n",
       "   age_at_scan gender  subject_id   img_id source  rounded_age  age_group  \\\n",
       "0         73.7      M  011_S_0005  32246.0   ADNI           74         74   \n",
       "1         74.2      M  011_S_0005  31885.0   ADNI           74         74   \n",
       "\n",
       "  usage  \n",
       "0  test  \n",
       "1  test  "
      ]
     },
     "execution_count": 19,
     "metadata": {},
     "output_type": "execute_result"
    }
   ],
   "source": [
    "# Run for:\n",
    "# 1. IXI_TEST_3D - DONE\n",
    "# 2. TEST_3D -  DONE\n",
    "# 3. NFBS_TEST_3D - STH is wrong!!!  ERROR! TO DO!\n",
    "\n",
    "\n",
    "df = pd.read_csv(TEST_3D, index_col=None)\n",
    "print(df.shape)\n",
    "df.head(2)"
   ]
  },
  {
   "cell_type": "code",
   "execution_count": 25,
   "metadata": {},
   "outputs": [
    {
     "data": {
      "text/plain": [
       "'/data-10tb/shared/skull/train-3d-iso/ADNI/ADNI_011_S_0005_MR_MPR-R__GradWarp__B1_Correction__N3__Scaled_Br_20061208112603927_S9136_I32246.anat_T1_biascorr_brain_mask_iso_nn.nii.gz'"
      ]
     },
     "execution_count": 25,
     "metadata": {},
     "output_type": "execute_result"
    }
   ],
   "source": [
    "# df[df['t1_pth_titan'].str.contains('S9136_I32246')]\n",
    "# df.mask_nn_pth_titan[0]"
   ]
  },
  {
   "cell_type": "markdown",
   "metadata": {},
   "source": [
    "### Remove bad images from a df on ERROR_FILES"
   ]
  },
  {
   "cell_type": "code",
   "execution_count": 10,
   "metadata": {},
   "outputs": [
    {
     "name": "stdout",
     "output_type": "stream",
     "text": [
      " *** column_name=t1_pth_dgx ***\n",
      "\tNone of the files from the error_list is contained in a df!\n",
      "\tNew df shape: (934, 16)\n",
      "\n",
      " *** column_name=bias_pth_dgx ***\n",
      "\tNone of the files from the error_list is contained in a df!\n",
      "\tNew df shape: (934, 16)\n",
      "\n",
      " *** column_name=mask_nn_pth_dgx ***\n",
      "\tNone of the files from the error_list is contained in a df!\n",
      "\tNew df shape: (934, 16)\n",
      "\n"
     ]
    }
   ],
   "source": [
    "mk_remove_error_flies_from_df(df, mk_get_error_file_list(), column_name='t1_pth_dgx' )\n",
    "mk_remove_error_flies_from_df(df, mk_get_error_file_list(), column_name='bias_pth_dgx' )\n",
    "mk_remove_error_flies_from_df(df, mk_get_error_file_list(), column_name='mask_nn_pth_dgx' )"
   ]
  },
  {
   "cell_type": "markdown",
   "metadata": {},
   "source": [
    "## TEST SET"
   ]
  },
  {
   "cell_type": "markdown",
   "metadata": {},
   "source": [
    "#### Prepare a list of all 3D images to split into 2d images"
   ]
  },
  {
   "cell_type": "code",
   "execution_count": 26,
   "metadata": {},
   "outputs": [
    {
     "name": "stdout",
     "output_type": "stream",
     "text": [
      "2802\n"
     ]
    },
    {
     "data": {
      "text/plain": [
       "['/data-10tb/shared/skull/train-3d-iso/ADNI/ADNI_011_S_0005_MR_MPR-R__GradWarp__B1_Correction__N3__Scaled_Br_20061208112603927_S9136_I32246.anat_T1_iso.nii.gz',\n",
       " '/data-10tb/shared/skull/train-3d-iso/ADNI/ADNI_011_S_0005_MR_MPR__GradWarp__B1_Correction__N3__Scaled_Br_20061206162204955_S12037_I31885.anat_T1_iso.nii.gz']"
      ]
     },
     "execution_count": 26,
     "metadata": {},
     "output_type": "execute_result"
    }
   ],
   "source": [
    "im3d_test = []\n",
    "if 'dgx'.upper() in HOST:\n",
    "    im3d_test.extend(df['t1_pth_dgx'])\n",
    "    im3d_test.extend(df['bias_pth_dgx'])\n",
    "    im3d_test.extend(df['mask_nn_pth_dgx'])\n",
    "if 'titan' in HOST:\n",
    "    im3d_test.extend(df['t1_pth_titan'])\n",
    "    im3d_test.extend(df['bias_pth_titan'])\n",
    "    im3d_test.extend(df['mask_nn_pth_titan'])\n",
    "\n",
    "print(len(im3d_test))\n",
    "im3d_test[:2]"
   ]
  },
  {
   "cell_type": "markdown",
   "metadata": {},
   "source": [
    "#### Check in all files exists"
   ]
  },
  {
   "cell_type": "code",
   "execution_count": 13,
   "metadata": {},
   "outputs": [
    {
     "name": "stdout",
     "output_type": "stream",
     "text": [
      "Looing for NOT EXISTING files in \"df.t1_pth_titan\"\n",
      "\tAll files are OK\n",
      "\n",
      "Looing for NOT EXISTING files in \"df.bias_pth_titan\"\n",
      "\tAll files are OK\n",
      "\n",
      "Looing for NOT EXISTING files in \"df.mask_nn_pth_titan\"\n",
      "\tAll files are OK\n",
      "\n"
     ]
    }
   ],
   "source": [
    "if 'titan' in HOST:\n",
    "    #df_files_exists(df, ['t1_pth_titan', 'bias_pth_titan', 'mask_nn_pth_titan', 'mask_lin_pth_titan'])\n",
    "    mk_df_files_exists(df, ['t1_pth_titan', 'bias_pth_titan', 'mask_nn_pth_titan'])\n",
    "    "
   ]
  },
  {
   "cell_type": "code",
   "execution_count": 45,
   "metadata": {},
   "outputs": [],
   "source": [
    "if 'dgx'.upper() in HOST:\n",
    "    mk_df_files_exists(df, ['t1_pth_dgx', 'bias_pth_dgx', 'mask_nn_pth_dgx', 'mask_lin_pth_dgx'])"
   ]
  },
  {
   "cell_type": "markdown",
   "metadata": {},
   "source": [
    "### Prepare to splitting"
   ]
  },
  {
   "cell_type": "code",
   "execution_count": 35,
   "metadata": {},
   "outputs": [],
   "source": [
    "folder = 'test'\n",
    "im3d_test_folder = list(map(lambda e: (e, folder), im3d_test))"
   ]
  },
  {
   "cell_type": "markdown",
   "metadata": {},
   "source": [
    "#### Axial"
   ]
  },
  {
   "cell_type": "code",
   "execution_count": 15,
   "metadata": {},
   "outputs": [
    {
     "data": {
      "text/html": [],
      "text/plain": [
       "<IPython.core.display.HTML object>"
      ]
     },
     "metadata": {},
     "output_type": "display_data"
    },
    {
     "name": "stdout",
     "output_type": "stream",
     "text": [
      "CPU times: user 8.49 s, sys: 2.23 s, total: 10.7 s\n",
      "Wall time: 7min\n"
     ]
    }
   ],
   "source": [
    "%%time\n",
    "parallel(fun.axial_3d_2_2d, im3d_test_folder, max_workers=32)"
   ]
  },
  {
   "cell_type": "markdown",
   "metadata": {},
   "source": [
    "#### Coronal"
   ]
  },
  {
   "cell_type": "code",
   "execution_count": 48,
   "metadata": {},
   "outputs": [
    {
     "data": {
      "text/html": [],
      "text/plain": [
       "<IPython.core.display.HTML object>"
      ]
     },
     "metadata": {},
     "output_type": "display_data"
    },
    {
     "name": "stdout",
     "output_type": "stream",
     "text": [
      "CPU times: user 9.5 s, sys: 1.47 s, total: 11 s\n",
      "Wall time: 26.9 s\n"
     ]
    }
   ],
   "source": [
    "%%time\n",
    "parallel(fun.coronal_3d_2_2d, im3d_test_folder, max_workers=32)"
   ]
  },
  {
   "cell_type": "markdown",
   "metadata": {},
   "source": [
    "#### Sagittal"
   ]
  },
  {
   "cell_type": "code",
   "execution_count": 49,
   "metadata": {},
   "outputs": [
    {
     "data": {
      "text/html": [],
      "text/plain": [
       "<IPython.core.display.HTML object>"
      ]
     },
     "metadata": {},
     "output_type": "display_data"
    },
    {
     "name": "stdout",
     "output_type": "stream",
     "text": [
      "CPU times: user 6.26 s, sys: 1.52 s, total: 7.78 s\n",
      "Wall time: 28.4 s\n"
     ]
    }
   ],
   "source": [
    "%%time\n",
    "parallel(fun.sagittal_3d_2_2d, im3d_test_folder, max_workers=32)"
   ]
  },
  {
   "cell_type": "code",
   "execution_count": null,
   "metadata": {},
   "outputs": [],
   "source": []
  }
 ],
 "metadata": {
  "kernelspec": {
   "display_name": "fastai1",
   "language": "python",
   "name": "fastai1"
  },
  "language_info": {
   "codemirror_mode": {
    "name": "ipython",
    "version": 3
   },
   "file_extension": ".py",
   "mimetype": "text/x-python",
   "name": "python",
   "nbconvert_exporter": "python",
   "pygments_lexer": "ipython3",
   "version": "3.7.4"
  }
 },
 "nbformat": 4,
 "nbformat_minor": 4
}
