{
 "cells": [
  {
   "cell_type": "markdown",
   "metadata": {},
   "source": [
    "## Basic characteristics of anisotropic images\n",
    "\n",
    "##### Created: 2020.08.25\n",
    "\n",
    "##### Modified: 2020.08.26"
   ]
  },
  {
   "cell_type": "code",
   "execution_count": 1,
   "metadata": {},
   "outputs": [],
   "source": [
    "%reload_ext autoreload\n",
    "%autoreload 2\n",
    "%matplotlib inline"
   ]
  },
  {
   "cell_type": "code",
   "execution_count": 2,
   "metadata": {},
   "outputs": [],
   "source": [
    "import pandas as pd\n",
    "import numpy as np\n",
    "import seaborn as sns\n",
    "\n",
    "from pathlib import Path\n",
    "from fastai.utils.mem import *"
   ]
  },
  {
   "cell_type": "code",
   "execution_count": 3,
   "metadata": {},
   "outputs": [],
   "source": [
    "import sys\n",
    "sys.path.append('functions')\n",
    "\n",
    "%aimport functions00, functions01\n",
    "from functions00 import *\n",
    "from functions01 import *"
   ]
  },
  {
   "cell_type": "code",
   "execution_count": 4,
   "metadata": {},
   "outputs": [
    {
     "name": "stdout",
     "output_type": "stream",
     "text": [
      "**********************************************************************************************************************************\n",
      "Settings:\n",
      "\tHOST:  mmiv-ml-titan\n",
      "\tPATH_ROOT_DATA:  /data-10tb/shared/skull/train-3d-iso\n",
      "\tPATH_GIT_HUB:  /data-10tb/marek/github_codes/skull-stripping-1/fastai\n",
      "\tPATH_2D: /data-10tb/shared/skull\n",
      "\n",
      "3D NIFTI image DF paths (_mk_3D):\n",
      "\tIXI_TEST_3D: /data-10tb/marek/github_codes/skull-stripping-1/fastai/2.2_train_valid_test_sets/ixi_test_mk_3d.csv\n",
      "\tTEST_3D : /data-10tb/marek/github_codes/skull-stripping-1/fastai/2.2_train_valid_test_sets/test_mk_3d.csv\n",
      "\tTRAIN_VAL_3D: /data-10tb/marek/github_codes/skull-stripping-1/fastai/2.2_train_valid_test_sets/train_val_mk_3d.csv\n",
      "\tNFBS_TEST_3D: /data-10tb/marek/github_codes/skull-stripping-1/fastai/2.2_train_valid_test_sets/nfbs_test_mk_3d.csv\n",
      "\n",
      "Error files (pickle):\n",
      "\tERROR_FILES: /data-10tb/marek/github_codes/skull-stripping-1/fastai/2.2_train_valid_test_sets/error_files\n",
      "**********************************************************************************************************************************\n"
     ]
    }
   ],
   "source": [
    "mk_get_host_info()"
   ]
  },
  {
   "cell_type": "markdown",
   "metadata": {},
   "source": [
    "#### Some global variables"
   ]
  },
  {
   "cell_type": "code",
   "execution_count": 5,
   "metadata": {},
   "outputs": [],
   "source": [
    "ANISO_PTH = Path(f'/data-10tb/marek/github_codes/skull-stripping-1/fastai/1.0_results/')"
   ]
  },
  {
   "cell_type": "markdown",
   "metadata": {},
   "source": [
    "### T1_bias Aniso"
   ]
  },
  {
   "cell_type": "code",
   "execution_count": 6,
   "metadata": {},
   "outputs": [
    {
     "data": {
      "text/html": [
       "<div>\n",
       "<style scoped>\n",
       "    .dataframe tbody tr th:only-of-type {\n",
       "        vertical-align: middle;\n",
       "    }\n",
       "\n",
       "    .dataframe tbody tr th {\n",
       "        vertical-align: top;\n",
       "    }\n",
       "\n",
       "    .dataframe thead th {\n",
       "        text-align: right;\n",
       "    }\n",
       "</style>\n",
       "<table border=\"1\" class=\"dataframe\">\n",
       "  <thead>\n",
       "    <tr style=\"text-align: right;\">\n",
       "      <th></th>\n",
       "      <th>Examination</th>\n",
       "      <th>Image</th>\n",
       "      <th>Max</th>\n",
       "      <th>Mean</th>\n",
       "      <th>Min</th>\n",
       "      <th>Dtype</th>\n",
       "      <th>Size_1</th>\n",
       "      <th>Size_2</th>\n",
       "      <th>Size_3</th>\n",
       "      <th>Pixdim_1</th>\n",
       "      <th>Pixdim_2</th>\n",
       "      <th>Pixdim_3</th>\n",
       "    </tr>\n",
       "  </thead>\n",
       "  <tbody>\n",
       "    <tr>\n",
       "      <td>0</td>\n",
       "      <td>IXI002-Guys-0828-T1.anat</td>\n",
       "      <td>T1_biascorr.nii.gz</td>\n",
       "      <td>1069.679321</td>\n",
       "      <td>119.888452</td>\n",
       "      <td>0</td>\n",
       "      <td>float64</td>\n",
       "      <td>150</td>\n",
       "      <td>256</td>\n",
       "      <td>181</td>\n",
       "      <td>1.199997</td>\n",
       "      <td>0.9375</td>\n",
       "      <td>0.9375</td>\n",
       "    </tr>\n",
       "    <tr>\n",
       "      <td>1</td>\n",
       "      <td>IXI012-HH-1211-T1.anat</td>\n",
       "      <td>T1_biascorr.nii.gz</td>\n",
       "      <td>3635.520996</td>\n",
       "      <td>416.227917</td>\n",
       "      <td>0</td>\n",
       "      <td>float64</td>\n",
       "      <td>150</td>\n",
       "      <td>256</td>\n",
       "      <td>181</td>\n",
       "      <td>1.200004</td>\n",
       "      <td>0.9375</td>\n",
       "      <td>0.9375</td>\n",
       "    </tr>\n",
       "  </tbody>\n",
       "</table>\n",
       "</div>"
      ],
      "text/plain": [
       "                Examination               Image          Max        Mean  Min  \\\n",
       "0  IXI002-Guys-0828-T1.anat  T1_biascorr.nii.gz  1069.679321  119.888452    0   \n",
       "1    IXI012-HH-1211-T1.anat  T1_biascorr.nii.gz  3635.520996  416.227917    0   \n",
       "\n",
       "     Dtype  Size_1  Size_2  Size_3  Pixdim_1  Pixdim_2  Pixdim_3  \n",
       "0  float64     150     256     181  1.199997    0.9375    0.9375  \n",
       "1  float64     150     256     181  1.200004    0.9375    0.9375  "
      ]
     },
     "execution_count": 6,
     "metadata": {},
     "output_type": "execute_result"
    }
   ],
   "source": [
    "bias_ixi = pd.read_excel(ANISO_PTH/'ixi_aniso.xlsx', sheet_name='t1_bias_im')\n",
    "bias_adni = pd.read_excel(ANISO_PTH/'adni_aniso.xlsx', sheet_name='t1_bias_im')\n",
    "bias_aibl = pd.read_excel(ANISO_PTH/'aibl_aniso.xlsx', sheet_name='t1_bias_im')\n",
    "bias_ppmi = pd.read_excel(ANISO_PTH/'ppmi_aniso.xlsx', sheet_name='t1_bias_im')\n",
    "bias_slim = pd.read_excel(ANISO_PTH/'slim_aniso.xlsx', sheet_name='t1_bias_im')\n",
    "bias_sald = pd.read_excel(ANISO_PTH/'sald_aniso.xlsx', sheet_name='t1_bias_im')\n",
    "bias_hcp = pd.read_excel(ANISO_PTH/'hcp_aniso.xlsx', sheet_name='t1_bias_im')\n",
    "bias_ixi.head(2)"
   ]
  },
  {
   "cell_type": "markdown",
   "metadata": {},
   "source": [
    "### Get images used in our experiment (both TRAIN & TEST)"
   ]
  },
  {
   "cell_type": "code",
   "execution_count": 7,
   "metadata": {},
   "outputs": [
    {
     "name": "stdout",
     "output_type": "stream",
     "text": [
      "2791 934 3725\n"
     ]
    }
   ],
   "source": [
    "df_train = pd.read_csv(TRAIN_VAL_3D)\n",
    "df_test = pd.read_csv(TEST_3D)\n",
    "df_tt = pd.concat([df_train, df_test])\n",
    "df_tt = df_tt.sort_values(by='source')\n",
    "df_tt.head(2)\n",
    "print(df_train.shape[0], df_test.shape[0], df_tt.shape[0])"
   ]
  },
  {
   "cell_type": "code",
   "execution_count": 8,
   "metadata": {},
   "outputs": [
    {
     "data": {
      "text/plain": [
       "array(['ADNI', 'AIBL', 'CalgaryCampinas', 'PPMI', 'SALD', 'SLIM'], dtype=object)"
      ]
     },
     "execution_count": 8,
     "metadata": {},
     "output_type": "execute_result"
    }
   ],
   "source": [
    "# obie wersje dzialaja\n",
    "#df_db = df_tt[df_tt.source.str.contains('AIBL')\n",
    "#db_name_df = df_tt.loc[df_tt['source'] ==  DB_NAME]\n",
    "\n",
    "df_tt.source.unique()"
   ]
  },
  {
   "cell_type": "markdown",
   "metadata": {},
   "source": [
    "### Local functions"
   ]
  },
  {
   "cell_type": "code",
   "execution_count": 32,
   "metadata": {},
   "outputs": [],
   "source": [
    "def find_valid_examinations_in_db(tt_df_all, aniso_db, db_name):\n",
    "    \"\"\"\n",
    "    Gets valid examinations from the whole data base.\n",
    "    \n",
    "    Based on both test and train examination list, each examination is identified\n",
    "    and search for in Excel file for all anisotropic examinations.\n",
    "    \n",
    "    Parameters:\n",
    "    tt_df - test + train df for all data bases\n",
    "    aniso_db - df for all images in db, read from Excel file (.e.g 'ixi_aniso.xlsx', sheet_name='t1_bias_im')\n",
    "    db_name - data base name\n",
    "    \n",
    "    C: 2020.08.26\n",
    "    M: 2020.08.26\n",
    "    \"\"\"\n",
    "    tt_df = tt_df_all.loc[tt_df_all['source'] ==  db_name]\n",
    "    \n",
    "    x = tt_df.bias_pth_titan.str.split(f'/{db_name}/', expand=True)\n",
    "    y = x[1].str.split('_T1_', expand=True)\n",
    "    exams = y[0]\n",
    "\n",
    "    df_list = []\n",
    "    for ex in exams:\n",
    "        df_list.append(aniso_db[aniso_db.Examination.str.contains(ex)])\n",
    "        \n",
    "    print(f'{db_name}')\n",
    "    print(f'\\tAniso df shape:\\t\\t{aniso_db.shape}')\n",
    "    print(f'\\tTrain+Test df shape:\\t{tt_df.shape}\\n')\n",
    "    return pd.concat(df_list)"
   ]
  },
  {
   "cell_type": "markdown",
   "metadata": {},
   "source": [
    "#### Get list of exams from df_db ('ADNI') to search for in bias_ADNI)"
   ]
  },
  {
   "cell_type": "markdown",
   "metadata": {},
   "source": [
    "#### ADNI"
   ]
  },
  {
   "cell_type": "code",
   "execution_count": 36,
   "metadata": {},
   "outputs": [
    {
     "name": "stdout",
     "output_type": "stream",
     "text": [
      "ADNI\n",
      "\tAniso df shape:\t\t(7921, 12)\n",
      "\tTrain+Test df shape:\t(1130, 16)\n",
      "\n"
     ]
    },
    {
     "data": {
      "text/html": [
       "<div>\n",
       "<style scoped>\n",
       "    .dataframe tbody tr th:only-of-type {\n",
       "        vertical-align: middle;\n",
       "    }\n",
       "\n",
       "    .dataframe tbody tr th {\n",
       "        vertical-align: top;\n",
       "    }\n",
       "\n",
       "    .dataframe thead th {\n",
       "        text-align: right;\n",
       "    }\n",
       "</style>\n",
       "<table border=\"1\" class=\"dataframe\">\n",
       "  <thead>\n",
       "    <tr style=\"text-align: right;\">\n",
       "      <th></th>\n",
       "      <th>Examination</th>\n",
       "      <th>Image</th>\n",
       "      <th>Max</th>\n",
       "      <th>Mean</th>\n",
       "      <th>Min</th>\n",
       "      <th>Dtype</th>\n",
       "      <th>Size_1</th>\n",
       "      <th>Size_2</th>\n",
       "      <th>Size_3</th>\n",
       "      <th>Pixdim_1</th>\n",
       "      <th>Pixdim_2</th>\n",
       "      <th>Pixdim_3</th>\n",
       "    </tr>\n",
       "  </thead>\n",
       "  <tbody>\n",
       "    <tr>\n",
       "      <td>811</td>\n",
       "      <td>sub-30885_ses-1_T1w.anat</td>\n",
       "      <td>T1_biascorr.nii.gz</td>\n",
       "      <td>1094.128418</td>\n",
       "      <td>98.024886</td>\n",
       "      <td>0</td>\n",
       "      <td>float64</td>\n",
       "      <td>176</td>\n",
       "      <td>256</td>\n",
       "      <td>170</td>\n",
       "      <td>1.0</td>\n",
       "      <td>1.0</td>\n",
       "      <td>1.0</td>\n",
       "    </tr>\n",
       "    <tr>\n",
       "      <td>806</td>\n",
       "      <td>sub-30882_ses-1_T1w.anat</td>\n",
       "      <td>T1_biascorr.nii.gz</td>\n",
       "      <td>1402.876709</td>\n",
       "      <td>103.324594</td>\n",
       "      <td>0</td>\n",
       "      <td>float64</td>\n",
       "      <td>176</td>\n",
       "      <td>256</td>\n",
       "      <td>170</td>\n",
       "      <td>1.0</td>\n",
       "      <td>1.0</td>\n",
       "      <td>1.0</td>\n",
       "    </tr>\n",
       "  </tbody>\n",
       "</table>\n",
       "</div>"
      ],
      "text/plain": [
       "                  Examination               Image          Max        Mean  \\\n",
       "811  sub-30885_ses-1_T1w.anat  T1_biascorr.nii.gz  1094.128418   98.024886   \n",
       "806  sub-30882_ses-1_T1w.anat  T1_biascorr.nii.gz  1402.876709  103.324594   \n",
       "\n",
       "     Min    Dtype  Size_1  Size_2  Size_3  Pixdim_1  Pixdim_2  Pixdim_3  \n",
       "811    0  float64     176     256     170       1.0       1.0       1.0  \n",
       "806    0  float64     176     256     170       1.0       1.0       1.0  "
      ]
     },
     "execution_count": 36,
     "metadata": {},
     "output_type": "execute_result"
    }
   ],
   "source": [
    "DB_NAME = 'ADNI'\n",
    "DB_ANISO_DF = bias_adni\n",
    "\n",
    "df_adni = find_valid_examinations_in_db(df_tt, DB_ANISO_DF, DB_NAME )\n",
    "df_n.head(2)"
   ]
  },
  {
   "cell_type": "markdown",
   "metadata": {},
   "source": [
    "#### AIBL"
   ]
  },
  {
   "cell_type": "code",
   "execution_count": 37,
   "metadata": {},
   "outputs": [
    {
     "name": "stdout",
     "output_type": "stream",
     "text": [
      "AIBL\n",
      "\tAniso df shape:\t\t(726, 12)\n",
      "\tTrain+Test df shape:\t(601, 16)\n",
      "\n"
     ]
    },
    {
     "data": {
      "text/html": [
       "<div>\n",
       "<style scoped>\n",
       "    .dataframe tbody tr th:only-of-type {\n",
       "        vertical-align: middle;\n",
       "    }\n",
       "\n",
       "    .dataframe tbody tr th {\n",
       "        vertical-align: top;\n",
       "    }\n",
       "\n",
       "    .dataframe thead th {\n",
       "        text-align: right;\n",
       "    }\n",
       "</style>\n",
       "<table border=\"1\" class=\"dataframe\">\n",
       "  <thead>\n",
       "    <tr style=\"text-align: right;\">\n",
       "      <th></th>\n",
       "      <th>Examination</th>\n",
       "      <th>Image</th>\n",
       "      <th>Max</th>\n",
       "      <th>Mean</th>\n",
       "      <th>Min</th>\n",
       "      <th>Dtype</th>\n",
       "      <th>Size_1</th>\n",
       "      <th>Size_2</th>\n",
       "      <th>Size_3</th>\n",
       "      <th>Pixdim_1</th>\n",
       "      <th>Pixdim_2</th>\n",
       "      <th>Pixdim_3</th>\n",
       "    </tr>\n",
       "  </thead>\n",
       "  <tbody>\n",
       "    <tr>\n",
       "      <td>811</td>\n",
       "      <td>sub-30885_ses-1_T1w.anat</td>\n",
       "      <td>T1_biascorr.nii.gz</td>\n",
       "      <td>1094.128418</td>\n",
       "      <td>98.024886</td>\n",
       "      <td>0</td>\n",
       "      <td>float64</td>\n",
       "      <td>176</td>\n",
       "      <td>256</td>\n",
       "      <td>170</td>\n",
       "      <td>1.0</td>\n",
       "      <td>1.0</td>\n",
       "      <td>1.0</td>\n",
       "    </tr>\n",
       "    <tr>\n",
       "      <td>806</td>\n",
       "      <td>sub-30882_ses-1_T1w.anat</td>\n",
       "      <td>T1_biascorr.nii.gz</td>\n",
       "      <td>1402.876709</td>\n",
       "      <td>103.324594</td>\n",
       "      <td>0</td>\n",
       "      <td>float64</td>\n",
       "      <td>176</td>\n",
       "      <td>256</td>\n",
       "      <td>170</td>\n",
       "      <td>1.0</td>\n",
       "      <td>1.0</td>\n",
       "      <td>1.0</td>\n",
       "    </tr>\n",
       "  </tbody>\n",
       "</table>\n",
       "</div>"
      ],
      "text/plain": [
       "                  Examination               Image          Max        Mean  \\\n",
       "811  sub-30885_ses-1_T1w.anat  T1_biascorr.nii.gz  1094.128418   98.024886   \n",
       "806  sub-30882_ses-1_T1w.anat  T1_biascorr.nii.gz  1402.876709  103.324594   \n",
       "\n",
       "     Min    Dtype  Size_1  Size_2  Size_3  Pixdim_1  Pixdim_2  Pixdim_3  \n",
       "811    0  float64     176     256     170       1.0       1.0       1.0  \n",
       "806    0  float64     176     256     170       1.0       1.0       1.0  "
      ]
     },
     "execution_count": 37,
     "metadata": {},
     "output_type": "execute_result"
    }
   ],
   "source": [
    "DB_NAME = 'AIBL'\n",
    "DB_ANISO_DF = bias_aibl\n",
    "\n",
    "df_adni = find_valid_examinations_in_db(df_tt, DB_ANISO_DF, DB_NAME )\n",
    "df_n.head(2)"
   ]
  },
  {
   "cell_type": "markdown",
   "metadata": {},
   "source": [
    "### CalgaryCampinas - BRAK DANYCH"
   ]
  },
  {
   "cell_type": "code",
   "execution_count": null,
   "metadata": {},
   "outputs": [],
   "source": [
    "DB_NAME = 'CC'\n",
    "DB_ANISO_DF = bias_ca\n",
    "\n",
    "df_adni = find_valid_examinations_in_db(df_tt, DB_ANISO_DF, DB_NAME )\n",
    "df_n.head(2)"
   ]
  },
  {
   "cell_type": "markdown",
   "metadata": {},
   "source": [
    "### PPMI"
   ]
  },
  {
   "cell_type": "code",
   "execution_count": 38,
   "metadata": {},
   "outputs": [
    {
     "name": "stdout",
     "output_type": "stream",
     "text": [
      "PPMI\n",
      "\tAniso df shape:\t\t(752, 12)\n",
      "\tTrain+Test df shape:\t(130, 16)\n",
      "\n"
     ]
    },
    {
     "data": {
      "text/html": [
       "<div>\n",
       "<style scoped>\n",
       "    .dataframe tbody tr th:only-of-type {\n",
       "        vertical-align: middle;\n",
       "    }\n",
       "\n",
       "    .dataframe tbody tr th {\n",
       "        vertical-align: top;\n",
       "    }\n",
       "\n",
       "    .dataframe thead th {\n",
       "        text-align: right;\n",
       "    }\n",
       "</style>\n",
       "<table border=\"1\" class=\"dataframe\">\n",
       "  <thead>\n",
       "    <tr style=\"text-align: right;\">\n",
       "      <th></th>\n",
       "      <th>Examination</th>\n",
       "      <th>Image</th>\n",
       "      <th>Max</th>\n",
       "      <th>Mean</th>\n",
       "      <th>Min</th>\n",
       "      <th>Dtype</th>\n",
       "      <th>Size_1</th>\n",
       "      <th>Size_2</th>\n",
       "      <th>Size_3</th>\n",
       "      <th>Pixdim_1</th>\n",
       "      <th>Pixdim_2</th>\n",
       "      <th>Pixdim_3</th>\n",
       "    </tr>\n",
       "  </thead>\n",
       "  <tbody>\n",
       "    <tr>\n",
       "      <td>811</td>\n",
       "      <td>sub-30885_ses-1_T1w.anat</td>\n",
       "      <td>T1_biascorr.nii.gz</td>\n",
       "      <td>1094.128418</td>\n",
       "      <td>98.024886</td>\n",
       "      <td>0</td>\n",
       "      <td>float64</td>\n",
       "      <td>176</td>\n",
       "      <td>256</td>\n",
       "      <td>170</td>\n",
       "      <td>1.0</td>\n",
       "      <td>1.0</td>\n",
       "      <td>1.0</td>\n",
       "    </tr>\n",
       "    <tr>\n",
       "      <td>806</td>\n",
       "      <td>sub-30882_ses-1_T1w.anat</td>\n",
       "      <td>T1_biascorr.nii.gz</td>\n",
       "      <td>1402.876709</td>\n",
       "      <td>103.324594</td>\n",
       "      <td>0</td>\n",
       "      <td>float64</td>\n",
       "      <td>176</td>\n",
       "      <td>256</td>\n",
       "      <td>170</td>\n",
       "      <td>1.0</td>\n",
       "      <td>1.0</td>\n",
       "      <td>1.0</td>\n",
       "    </tr>\n",
       "  </tbody>\n",
       "</table>\n",
       "</div>"
      ],
      "text/plain": [
       "                  Examination               Image          Max        Mean  \\\n",
       "811  sub-30885_ses-1_T1w.anat  T1_biascorr.nii.gz  1094.128418   98.024886   \n",
       "806  sub-30882_ses-1_T1w.anat  T1_biascorr.nii.gz  1402.876709  103.324594   \n",
       "\n",
       "     Min    Dtype  Size_1  Size_2  Size_3  Pixdim_1  Pixdim_2  Pixdim_3  \n",
       "811    0  float64     176     256     170       1.0       1.0       1.0  \n",
       "806    0  float64     176     256     170       1.0       1.0       1.0  "
      ]
     },
     "execution_count": 38,
     "metadata": {},
     "output_type": "execute_result"
    }
   ],
   "source": [
    "DB_NAME = 'PPMI'\n",
    "DB_ANISO_DF = bias_ppmi\n",
    "\n",
    "df_adni = find_valid_examinations_in_db(df_tt, DB_ANISO_DF, DB_NAME )\n",
    "df_n.head(2)"
   ]
  },
  {
   "cell_type": "code",
   "execution_count": null,
   "metadata": {},
   "outputs": [],
   "source": []
  },
  {
   "cell_type": "code",
   "execution_count": null,
   "metadata": {},
   "outputs": [],
   "source": []
  },
  {
   "cell_type": "code",
   "execution_count": null,
   "metadata": {},
   "outputs": [],
   "source": []
  },
  {
   "cell_type": "code",
   "execution_count": null,
   "metadata": {},
   "outputs": [],
   "source": []
  },
  {
   "cell_type": "code",
   "execution_count": null,
   "metadata": {},
   "outputs": [],
   "source": []
  },
  {
   "cell_type": "code",
   "execution_count": null,
   "metadata": {},
   "outputs": [],
   "source": []
  },
  {
   "cell_type": "code",
   "execution_count": null,
   "metadata": {},
   "outputs": [],
   "source": []
  },
  {
   "cell_type": "code",
   "execution_count": null,
   "metadata": {},
   "outputs": [],
   "source": []
  },
  {
   "cell_type": "code",
   "execution_count": null,
   "metadata": {},
   "outputs": [],
   "source": []
  },
  {
   "cell_type": "code",
   "execution_count": null,
   "metadata": {},
   "outputs": [],
   "source": []
  },
  {
   "cell_type": "code",
   "execution_count": null,
   "metadata": {},
   "outputs": [],
   "source": []
  },
  {
   "cell_type": "markdown",
   "metadata": {},
   "source": [
    "## T1"
   ]
  },
  {
   "cell_type": "code",
   "execution_count": 33,
   "metadata": {},
   "outputs": [
    {
     "data": {
      "text/html": [
       "<div>\n",
       "<style scoped>\n",
       "    .dataframe tbody tr th:only-of-type {\n",
       "        vertical-align: middle;\n",
       "    }\n",
       "\n",
       "    .dataframe tbody tr th {\n",
       "        vertical-align: top;\n",
       "    }\n",
       "\n",
       "    .dataframe thead th {\n",
       "        text-align: right;\n",
       "    }\n",
       "</style>\n",
       "<table border=\"1\" class=\"dataframe\">\n",
       "  <thead>\n",
       "    <tr style=\"text-align: right;\">\n",
       "      <th></th>\n",
       "      <th>Examination</th>\n",
       "      <th>Image</th>\n",
       "      <th>Max</th>\n",
       "      <th>Mean</th>\n",
       "      <th>Min</th>\n",
       "      <th>Dtype</th>\n",
       "      <th>Size_1</th>\n",
       "      <th>Size_2</th>\n",
       "      <th>Size_3</th>\n",
       "      <th>Pixdim_1</th>\n",
       "      <th>Pixdim_2</th>\n",
       "      <th>Pixdim_3</th>\n",
       "    </tr>\n",
       "  </thead>\n",
       "  <tbody>\n",
       "    <tr>\n",
       "      <td>0</td>\n",
       "      <td>100206_3T_T1w_MPR1.anat</td>\n",
       "      <td>T1.nii.gz</td>\n",
       "      <td>4095</td>\n",
       "      <td>423.823266</td>\n",
       "      <td>0</td>\n",
       "      <td>float64</td>\n",
       "      <td>256</td>\n",
       "      <td>320</td>\n",
       "      <td>243</td>\n",
       "      <td>0.7</td>\n",
       "      <td>0.7</td>\n",
       "      <td>0.7</td>\n",
       "    </tr>\n",
       "    <tr>\n",
       "      <td>1</td>\n",
       "      <td>100307_3T_T1w_MPR1.anat</td>\n",
       "      <td>T1.nii.gz</td>\n",
       "      <td>3511</td>\n",
       "      <td>311.551633</td>\n",
       "      <td>0</td>\n",
       "      <td>float64</td>\n",
       "      <td>256</td>\n",
       "      <td>320</td>\n",
       "      <td>243</td>\n",
       "      <td>0.7</td>\n",
       "      <td>0.7</td>\n",
       "      <td>0.7</td>\n",
       "    </tr>\n",
       "    <tr>\n",
       "      <td>2</td>\n",
       "      <td>100408_3T_T1w_MPR1.anat</td>\n",
       "      <td>T1.nii.gz</td>\n",
       "      <td>4095</td>\n",
       "      <td>396.429113</td>\n",
       "      <td>0</td>\n",
       "      <td>float64</td>\n",
       "      <td>256</td>\n",
       "      <td>320</td>\n",
       "      <td>243</td>\n",
       "      <td>0.7</td>\n",
       "      <td>0.7</td>\n",
       "      <td>0.7</td>\n",
       "    </tr>\n",
       "    <tr>\n",
       "      <td>3</td>\n",
       "      <td>100610_3T_T1w_MPR1.anat</td>\n",
       "      <td>T1.nii.gz</td>\n",
       "      <td>4095</td>\n",
       "      <td>481.116009</td>\n",
       "      <td>0</td>\n",
       "      <td>float64</td>\n",
       "      <td>256</td>\n",
       "      <td>320</td>\n",
       "      <td>243</td>\n",
       "      <td>0.7</td>\n",
       "      <td>0.7</td>\n",
       "      <td>0.7</td>\n",
       "    </tr>\n",
       "    <tr>\n",
       "      <td>4</td>\n",
       "      <td>100610_3T_T1w_MPR2.anat</td>\n",
       "      <td>T1.nii.gz</td>\n",
       "      <td>4095</td>\n",
       "      <td>462.710013</td>\n",
       "      <td>0</td>\n",
       "      <td>float64</td>\n",
       "      <td>256</td>\n",
       "      <td>320</td>\n",
       "      <td>243</td>\n",
       "      <td>0.7</td>\n",
       "      <td>0.7</td>\n",
       "      <td>0.7</td>\n",
       "    </tr>\n",
       "  </tbody>\n",
       "</table>\n",
       "</div>"
      ],
      "text/plain": [
       "               Examination      Image   Max        Mean  Min    Dtype  Size_1  \\\n",
       "0  100206_3T_T1w_MPR1.anat  T1.nii.gz  4095  423.823266    0  float64     256   \n",
       "1  100307_3T_T1w_MPR1.anat  T1.nii.gz  3511  311.551633    0  float64     256   \n",
       "2  100408_3T_T1w_MPR1.anat  T1.nii.gz  4095  396.429113    0  float64     256   \n",
       "3  100610_3T_T1w_MPR1.anat  T1.nii.gz  4095  481.116009    0  float64     256   \n",
       "4  100610_3T_T1w_MPR2.anat  T1.nii.gz  4095  462.710013    0  float64     256   \n",
       "\n",
       "   Size_2  Size_3  Pixdim_1  Pixdim_2  Pixdim_3  \n",
       "0     320     243       0.7       0.7       0.7  \n",
       "1     320     243       0.7       0.7       0.7  \n",
       "2     320     243       0.7       0.7       0.7  \n",
       "3     320     243       0.7       0.7       0.7  \n",
       "4     320     243       0.7       0.7       0.7  "
      ]
     },
     "execution_count": 33,
     "metadata": {},
     "output_type": "execute_result"
    }
   ],
   "source": [
    "t1_hcp.head()"
   ]
  },
  {
   "cell_type": "markdown",
   "metadata": {},
   "source": [
    "### Voxes sizes and spacing"
   ]
  },
  {
   "cell_type": "markdown",
   "metadata": {},
   "source": [
    "#### IXI"
   ]
  },
  {
   "cell_type": "code",
   "execution_count": 11,
   "metadata": {},
   "outputs": [
    {
     "name": "stdout",
     "output_type": "stream",
     "text": [
      "[130 256 181] ---> 2\n",
      "[140 256 181] ---> 2\n",
      "[146 256 181] ---> 74\n",
      "[150 256 174] ---> 5\n",
      "[150 256 181] ---> 498\n"
     ]
    }
   ],
   "source": [
    "s_ixi = np.vstack((t1_ixi.Size_1, t1_ixi.Size_2, t1_ixi.Size_3 )).T\n",
    "val, cnt = np.unique(s_ixi, axis=0, return_counts=True)\n",
    "_ = [print(f'{v} ---> {c}')  for v,c in zip(val, cnt)]"
   ]
  },
  {
   "cell_type": "code",
   "execution_count": 25,
   "metadata": {},
   "outputs": [
    {
     "name": "stdout",
     "output_type": "stream",
     "text": [
      "[1.2   0.937 0.937] ---> 37\n",
      "[1.2   0.937 0.938] ---> 65\n",
      "[1.2   0.938 0.937] ---> 24\n",
      "[1.2   0.938 0.938] ---> 450\n",
      "[1.2   0.977 0.977] ---> 5\n"
     ]
    }
   ],
   "source": [
    "p_ixi = np.vstack((t1_ixi.Pixdim_1, t1_ixi.Pixdim_2, t1_ixi.Pixdim_3 )).T\n",
    "val, cnt = np.unique(p_ixi.round(3), axis=0, return_counts=True)\n",
    "_ = [print(f'{v} ---> {c}')  for v,c in zip(val, cnt)]"
   ]
  },
  {
   "cell_type": "markdown",
   "metadata": {},
   "source": [
    "### T1 -Max and mean values"
   ]
  },
  {
   "cell_type": "code",
   "execution_count": 16,
   "metadata": {},
   "outputs": [
    {
     "data": {
      "text/html": [
       "<div>\n",
       "<style scoped>\n",
       "    .dataframe tbody tr th:only-of-type {\n",
       "        vertical-align: middle;\n",
       "    }\n",
       "\n",
       "    .dataframe tbody tr th {\n",
       "        vertical-align: top;\n",
       "    }\n",
       "\n",
       "    .dataframe thead th {\n",
       "        text-align: right;\n",
       "    }\n",
       "</style>\n",
       "<table border=\"1\" class=\"dataframe\">\n",
       "  <thead>\n",
       "    <tr style=\"text-align: right;\">\n",
       "      <th></th>\n",
       "      <th>ixi</th>\n",
       "      <th>adni</th>\n",
       "      <th>ppmi</th>\n",
       "      <th>aibl</th>\n",
       "      <th>sald</th>\n",
       "      <th>slim</th>\n",
       "      <th>hcp</th>\n",
       "    </tr>\n",
       "  </thead>\n",
       "  <tbody>\n",
       "    <tr>\n",
       "      <td>0</td>\n",
       "      <td>1068.0</td>\n",
       "      <td>2650.0</td>\n",
       "      <td>906.0</td>\n",
       "      <td>871.0</td>\n",
       "      <td>883.0</td>\n",
       "      <td>1399.0</td>\n",
       "      <td>4095.0</td>\n",
       "    </tr>\n",
       "    <tr>\n",
       "      <td>1</td>\n",
       "      <td>3997.0</td>\n",
       "      <td>2686.0</td>\n",
       "      <td>1005.0</td>\n",
       "      <td>1017.0</td>\n",
       "      <td>923.0</td>\n",
       "      <td>1291.0</td>\n",
       "      <td>3511.0</td>\n",
       "    </tr>\n",
       "    <tr>\n",
       "      <td>2</td>\n",
       "      <td>4466.0</td>\n",
       "      <td>2255.0</td>\n",
       "      <td>766.0</td>\n",
       "      <td>883.0</td>\n",
       "      <td>1097.0</td>\n",
       "      <td>1463.0</td>\n",
       "      <td>4095.0</td>\n",
       "    </tr>\n",
       "    <tr>\n",
       "      <td>3</td>\n",
       "      <td>4479.0</td>\n",
       "      <td>3777.0</td>\n",
       "      <td>880.0</td>\n",
       "      <td>1058.0</td>\n",
       "      <td>1137.0</td>\n",
       "      <td>1653.0</td>\n",
       "      <td>4095.0</td>\n",
       "    </tr>\n",
       "    <tr>\n",
       "      <td>4</td>\n",
       "      <td>4433.0</td>\n",
       "      <td>2603.0</td>\n",
       "      <td>812.0</td>\n",
       "      <td>1024.0</td>\n",
       "      <td>1179.0</td>\n",
       "      <td>1477.0</td>\n",
       "      <td>4095.0</td>\n",
       "    </tr>\n",
       "  </tbody>\n",
       "</table>\n",
       "</div>"
      ],
      "text/plain": [
       "      ixi    adni    ppmi    aibl    sald    slim     hcp\n",
       "0  1068.0  2650.0   906.0   871.0   883.0  1399.0  4095.0\n",
       "1  3997.0  2686.0  1005.0  1017.0   923.0  1291.0  3511.0\n",
       "2  4466.0  2255.0   766.0   883.0  1097.0  1463.0  4095.0\n",
       "3  4479.0  3777.0   880.0  1058.0  1137.0  1653.0  4095.0\n",
       "4  4433.0  2603.0   812.0  1024.0  1179.0  1477.0  4095.0"
      ]
     },
     "execution_count": 16,
     "metadata": {},
     "output_type": "execute_result"
    }
   ],
   "source": [
    "mx = pd.DataFrame({'ixi':t1_ixi['Max'], 'adni':t1_adni['Max'], 'ppmi':t1_ppmi['Max'], \n",
    "                  'aibl':t1_aibl['Max'], 'sald':t1_sald['Max'], 'slim':t1_slim['Max'], 'hcp':t1_hcp['Max']})\n",
    "mx.head().round(0)"
   ]
  },
  {
   "cell_type": "code",
   "execution_count": 17,
   "metadata": {},
   "outputs": [
    {
     "data": {
      "image/png": "[encoded data removed]",
      "text/plain": [
       "<Figure size 1152x864 with 9 Axes>"
      ]
     },
     "metadata": {
      "needs_background": "light"
     },
     "output_type": "display_data"
    }
   ],
   "source": [
    "_= pd.DataFrame.hist(mx, figsize=(16,12))"
   ]
  },
  {
   "cell_type": "code",
   "execution_count": 18,
   "metadata": {},
   "outputs": [
    {
     "data": {
      "text/plain": [
       "55883.5625"
      ]
     },
     "execution_count": 18,
     "metadata": {},
     "output_type": "execute_result"
    }
   ],
   "source": [
    "mx.adni.max()"
   ]
  },
  {
   "cell_type": "code",
   "execution_count": 20,
   "metadata": {},
   "outputs": [
    {
     "data": {
      "text/html": [
       "<div>\n",
       "<style scoped>\n",
       "    .dataframe tbody tr th:only-of-type {\n",
       "        vertical-align: middle;\n",
       "    }\n",
       "\n",
       "    .dataframe tbody tr th {\n",
       "        vertical-align: top;\n",
       "    }\n",
       "\n",
       "    .dataframe thead th {\n",
       "        text-align: right;\n",
       "    }\n",
       "</style>\n",
       "<table border=\"1\" class=\"dataframe\">\n",
       "  <thead>\n",
       "    <tr style=\"text-align: right;\">\n",
       "      <th></th>\n",
       "      <th>ixi</th>\n",
       "      <th>adni</th>\n",
       "      <th>ppmi</th>\n",
       "      <th>aibl</th>\n",
       "      <th>sald</th>\n",
       "      <th>slim</th>\n",
       "      <th>hcp</th>\n",
       "    </tr>\n",
       "  </thead>\n",
       "  <tbody>\n",
       "    <tr>\n",
       "      <td>0</td>\n",
       "      <td>118.0</td>\n",
       "      <td>265.0</td>\n",
       "      <td>97.0</td>\n",
       "      <td>84.0</td>\n",
       "      <td>69.0</td>\n",
       "      <td>101.0</td>\n",
       "      <td>424.0</td>\n",
       "    </tr>\n",
       "    <tr>\n",
       "      <td>1</td>\n",
       "      <td>420.0</td>\n",
       "      <td>264.0</td>\n",
       "      <td>116.0</td>\n",
       "      <td>87.0</td>\n",
       "      <td>89.0</td>\n",
       "      <td>126.0</td>\n",
       "      <td>312.0</td>\n",
       "    </tr>\n",
       "    <tr>\n",
       "      <td>2</td>\n",
       "      <td>412.0</td>\n",
       "      <td>266.0</td>\n",
       "      <td>86.0</td>\n",
       "      <td>103.0</td>\n",
       "      <td>103.0</td>\n",
       "      <td>168.0</td>\n",
       "      <td>396.0</td>\n",
       "    </tr>\n",
       "    <tr>\n",
       "      <td>3</td>\n",
       "      <td>316.0</td>\n",
       "      <td>242.0</td>\n",
       "      <td>110.0</td>\n",
       "      <td>121.0</td>\n",
       "      <td>109.0</td>\n",
       "      <td>104.0</td>\n",
       "      <td>481.0</td>\n",
       "    </tr>\n",
       "    <tr>\n",
       "      <td>4</td>\n",
       "      <td>364.0</td>\n",
       "      <td>246.0</td>\n",
       "      <td>105.0</td>\n",
       "      <td>105.0</td>\n",
       "      <td>123.0</td>\n",
       "      <td>153.0</td>\n",
       "      <td>463.0</td>\n",
       "    </tr>\n",
       "  </tbody>\n",
       "</table>\n",
       "</div>"
      ],
      "text/plain": [
       "     ixi   adni   ppmi   aibl   sald   slim    hcp\n",
       "0  118.0  265.0   97.0   84.0   69.0  101.0  424.0\n",
       "1  420.0  264.0  116.0   87.0   89.0  126.0  312.0\n",
       "2  412.0  266.0   86.0  103.0  103.0  168.0  396.0\n",
       "3  316.0  242.0  110.0  121.0  109.0  104.0  481.0\n",
       "4  364.0  246.0  105.0  105.0  123.0  153.0  463.0"
      ]
     },
     "execution_count": 20,
     "metadata": {},
     "output_type": "execute_result"
    }
   ],
   "source": [
    "mean1 = pd.DataFrame({'ixi':t1_ixi['Mean'], 'adni':t1_adni['Mean'], 'ppmi':t1_ppmi['Mean'], \n",
    "                  'aibl':t1_aibl['Mean'], 'sald':t1_sald['Mean'], 'slim':t1_slim['Mean'], 'hcp':t1_hcp['Mean']})\n",
    "mean1.head().round(0)"
   ]
  },
  {
   "cell_type": "code",
   "execution_count": 22,
   "metadata": {},
   "outputs": [
    {
     "data": {
      "image/png": "[encoded data removed]",
      "text/plain": [
       "<Figure size 1152x864 with 9 Axes>"
      ]
     },
     "metadata": {
      "needs_background": "light"
     },
     "output_type": "display_data"
    }
   ],
   "source": [
    "_= pd.DataFrame.hist(mean1, figsize=(16,12))"
   ]
  },
  {
   "cell_type": "code",
   "execution_count": null,
   "metadata": {},
   "outputs": [],
   "source": []
  },
  {
   "cell_type": "code",
   "execution_count": 23,
   "metadata": {},
   "outputs": [
    {
     "data": {
      "text/plain": [
       "(0, 8000)"
      ]
     },
     "execution_count": 23,
     "metadata": {},
     "output_type": "execute_result"
    },
    {
     "data": {
      "image/png": "[encoded data removed]",
      "text/plain": [
       "<Figure size 1152x864 with 1 Axes>"
      ]
     },
     "metadata": {
      "needs_background": "light"
     },
     "output_type": "display_data"
    }
   ],
   "source": [
    "ax1 = mx.plot(kind='box', figsize=(16,12))\n",
    "ax1.set_ylim(0,8000)"
   ]
  },
  {
   "cell_type": "code",
   "execution_count": 24,
   "metadata": {},
   "outputs": [
    {
     "data": {
      "text/plain": [
       "(0, 600)"
      ]
     },
     "execution_count": 24,
     "metadata": {},
     "output_type": "execute_result"
    },
    {
     "data": {
      "image/png": "[encoded data removed]",
      "text/plain": [
       "<Figure size 1152x864 with 1 Axes>"
      ]
     },
     "metadata": {
      "needs_background": "light"
     },
     "output_type": "display_data"
    }
   ],
   "source": [
    "ax2 = mean1.plot(kind='box', figsize=(16,12))\n",
    "ax2.set_ylim(0,600)"
   ]
  },
  {
   "cell_type": "markdown",
   "metadata": {},
   "source": [
    "### T1_biascorr -Max and mean values"
   ]
  },
  {
   "cell_type": "code",
   "execution_count": 3,
   "metadata": {},
   "outputs": [],
   "source": [
    "bias_ixi = pd.read_excel(ANISO_PTH/'ixi_aniso.xlsx', sheet_name='t1_bias_im')\n",
    "bias_adni = pd.read_excel(ANISO_PTH/'adni_aniso.xlsx', sheet_name='t1_bias_im')\n",
    "bias_aibl = pd.read_excel(ANISO_PTH/'aibl_aniso.xlsx', sheet_name='t1_bias_im')\n",
    "bias_ppmi = pd.read_excel(ANISO_PTH/'ppmi_aniso.xlsx', sheet_name='t1_bias_im')\n",
    "bias_slim = pd.read_excel(ANISO_PTH/'slim_aniso.xlsx', sheet_name='t1_bias_im')\n",
    "bias_sald = pd.read_excel(ANISO_PTH/'sald_aniso.xlsx', sheet_name='t1_bias_im')\n",
    "bias_hcp = pd.read_excel(ANISO_PTH/'hcp_aniso.xlsx', sheet_name='t1_bias_im')"
   ]
  },
  {
   "cell_type": "code",
   "execution_count": 4,
   "metadata": {},
   "outputs": [
    {
     "data": {
      "text/html": [
       "<div>\n",
       "<style scoped>\n",
       "    .dataframe tbody tr th:only-of-type {\n",
       "        vertical-align: middle;\n",
       "    }\n",
       "\n",
       "    .dataframe tbody tr th {\n",
       "        vertical-align: top;\n",
       "    }\n",
       "\n",
       "    .dataframe thead th {\n",
       "        text-align: right;\n",
       "    }\n",
       "</style>\n",
       "<table border=\"1\" class=\"dataframe\">\n",
       "  <thead>\n",
       "    <tr style=\"text-align: right;\">\n",
       "      <th></th>\n",
       "      <th>Examination</th>\n",
       "      <th>Image</th>\n",
       "      <th>Max</th>\n",
       "      <th>Mean</th>\n",
       "      <th>Min</th>\n",
       "      <th>Dtype</th>\n",
       "      <th>Size_1</th>\n",
       "      <th>Size_2</th>\n",
       "      <th>Size_3</th>\n",
       "      <th>Pixdim_1</th>\n",
       "      <th>Pixdim_2</th>\n",
       "      <th>Pixdim_3</th>\n",
       "    </tr>\n",
       "  </thead>\n",
       "  <tbody>\n",
       "    <tr>\n",
       "      <td>0</td>\n",
       "      <td>100206_3T_T1w_MPR1.anat</td>\n",
       "      <td>T1_biascorr.nii.gz</td>\n",
       "      <td>5175.859375</td>\n",
       "      <td>410.081778</td>\n",
       "      <td>0</td>\n",
       "      <td>float64</td>\n",
       "      <td>256</td>\n",
       "      <td>320</td>\n",
       "      <td>243</td>\n",
       "      <td>0.7</td>\n",
       "      <td>0.7</td>\n",
       "      <td>0.7</td>\n",
       "    </tr>\n",
       "    <tr>\n",
       "      <td>1</td>\n",
       "      <td>100307_3T_T1w_MPR1.anat</td>\n",
       "      <td>T1_biascorr.nii.gz</td>\n",
       "      <td>4895.283691</td>\n",
       "      <td>319.043578</td>\n",
       "      <td>0</td>\n",
       "      <td>float64</td>\n",
       "      <td>256</td>\n",
       "      <td>320</td>\n",
       "      <td>243</td>\n",
       "      <td>0.7</td>\n",
       "      <td>0.7</td>\n",
       "      <td>0.7</td>\n",
       "    </tr>\n",
       "    <tr>\n",
       "      <td>2</td>\n",
       "      <td>100408_3T_T1w_MPR1.anat</td>\n",
       "      <td>T1_biascorr.nii.gz</td>\n",
       "      <td>4186.462891</td>\n",
       "      <td>389.070918</td>\n",
       "      <td>0</td>\n",
       "      <td>float64</td>\n",
       "      <td>256</td>\n",
       "      <td>320</td>\n",
       "      <td>243</td>\n",
       "      <td>0.7</td>\n",
       "      <td>0.7</td>\n",
       "      <td>0.7</td>\n",
       "    </tr>\n",
       "    <tr>\n",
       "      <td>3</td>\n",
       "      <td>100610_3T_T1w_MPR1.anat</td>\n",
       "      <td>T1_biascorr.nii.gz</td>\n",
       "      <td>5282.343750</td>\n",
       "      <td>473.049458</td>\n",
       "      <td>0</td>\n",
       "      <td>float64</td>\n",
       "      <td>256</td>\n",
       "      <td>320</td>\n",
       "      <td>243</td>\n",
       "      <td>0.7</td>\n",
       "      <td>0.7</td>\n",
       "      <td>0.7</td>\n",
       "    </tr>\n",
       "    <tr>\n",
       "      <td>4</td>\n",
       "      <td>100610_3T_T1w_MPR2.anat</td>\n",
       "      <td>T1_biascorr.nii.gz</td>\n",
       "      <td>4317.974121</td>\n",
       "      <td>449.297949</td>\n",
       "      <td>0</td>\n",
       "      <td>float64</td>\n",
       "      <td>256</td>\n",
       "      <td>320</td>\n",
       "      <td>243</td>\n",
       "      <td>0.7</td>\n",
       "      <td>0.7</td>\n",
       "      <td>0.7</td>\n",
       "    </tr>\n",
       "  </tbody>\n",
       "</table>\n",
       "</div>"
      ],
      "text/plain": [
       "               Examination               Image          Max        Mean  Min  \\\n",
       "0  100206_3T_T1w_MPR1.anat  T1_biascorr.nii.gz  5175.859375  410.081778    0   \n",
       "1  100307_3T_T1w_MPR1.anat  T1_biascorr.nii.gz  4895.283691  319.043578    0   \n",
       "2  100408_3T_T1w_MPR1.anat  T1_biascorr.nii.gz  4186.462891  389.070918    0   \n",
       "3  100610_3T_T1w_MPR1.anat  T1_biascorr.nii.gz  5282.343750  473.049458    0   \n",
       "4  100610_3T_T1w_MPR2.anat  T1_biascorr.nii.gz  4317.974121  449.297949    0   \n",
       "\n",
       "     Dtype  Size_1  Size_2  Size_3  Pixdim_1  Pixdim_2  Pixdim_3  \n",
       "0  float64     256     320     243       0.7       0.7       0.7  \n",
       "1  float64     256     320     243       0.7       0.7       0.7  \n",
       "2  float64     256     320     243       0.7       0.7       0.7  \n",
       "3  float64     256     320     243       0.7       0.7       0.7  \n",
       "4  float64     256     320     243       0.7       0.7       0.7  "
      ]
     },
     "execution_count": 4,
     "metadata": {},
     "output_type": "execute_result"
    }
   ],
   "source": [
    "bias_hcp.head()"
   ]
  },
  {
   "cell_type": "code",
   "execution_count": 5,
   "metadata": {},
   "outputs": [
    {
     "data": {
      "text/html": [
       "<div>\n",
       "<style scoped>\n",
       "    .dataframe tbody tr th:only-of-type {\n",
       "        vertical-align: middle;\n",
       "    }\n",
       "\n",
       "    .dataframe tbody tr th {\n",
       "        vertical-align: top;\n",
       "    }\n",
       "\n",
       "    .dataframe thead th {\n",
       "        text-align: right;\n",
       "    }\n",
       "</style>\n",
       "<table border=\"1\" class=\"dataframe\">\n",
       "  <thead>\n",
       "    <tr style=\"text-align: right;\">\n",
       "      <th></th>\n",
       "      <th>ixi</th>\n",
       "      <th>adni</th>\n",
       "      <th>ppmi</th>\n",
       "      <th>aibl</th>\n",
       "      <th>sald</th>\n",
       "      <th>slim</th>\n",
       "      <th>hcp</th>\n",
       "    </tr>\n",
       "  </thead>\n",
       "  <tbody>\n",
       "    <tr>\n",
       "      <td>0</td>\n",
       "      <td>1070.0</td>\n",
       "      <td>2749.0</td>\n",
       "      <td>946.0</td>\n",
       "      <td>892.0</td>\n",
       "      <td>888.0</td>\n",
       "      <td>1229.0</td>\n",
       "      <td>5176.0</td>\n",
       "    </tr>\n",
       "    <tr>\n",
       "      <td>1</td>\n",
       "      <td>3636.0</td>\n",
       "      <td>2552.0</td>\n",
       "      <td>929.0</td>\n",
       "      <td>914.0</td>\n",
       "      <td>797.0</td>\n",
       "      <td>1229.0</td>\n",
       "      <td>4895.0</td>\n",
       "    </tr>\n",
       "    <tr>\n",
       "      <td>2</td>\n",
       "      <td>3979.0</td>\n",
       "      <td>2273.0</td>\n",
       "      <td>746.0</td>\n",
       "      <td>804.0</td>\n",
       "      <td>983.0</td>\n",
       "      <td>1387.0</td>\n",
       "      <td>4186.0</td>\n",
       "    </tr>\n",
       "    <tr>\n",
       "      <td>3</td>\n",
       "      <td>4007.0</td>\n",
       "      <td>3662.0</td>\n",
       "      <td>916.0</td>\n",
       "      <td>968.0</td>\n",
       "      <td>1237.0</td>\n",
       "      <td>1547.0</td>\n",
       "      <td>5282.0</td>\n",
       "    </tr>\n",
       "    <tr>\n",
       "      <td>4</td>\n",
       "      <td>3952.0</td>\n",
       "      <td>2431.0</td>\n",
       "      <td>845.0</td>\n",
       "      <td>935.0</td>\n",
       "      <td>1095.0</td>\n",
       "      <td>1406.0</td>\n",
       "      <td>4318.0</td>\n",
       "    </tr>\n",
       "  </tbody>\n",
       "</table>\n",
       "</div>"
      ],
      "text/plain": [
       "      ixi    adni   ppmi   aibl    sald    slim     hcp\n",
       "0  1070.0  2749.0  946.0  892.0   888.0  1229.0  5176.0\n",
       "1  3636.0  2552.0  929.0  914.0   797.0  1229.0  4895.0\n",
       "2  3979.0  2273.0  746.0  804.0   983.0  1387.0  4186.0\n",
       "3  4007.0  3662.0  916.0  968.0  1237.0  1547.0  5282.0\n",
       "4  3952.0  2431.0  845.0  935.0  1095.0  1406.0  4318.0"
      ]
     },
     "execution_count": 5,
     "metadata": {},
     "output_type": "execute_result"
    }
   ],
   "source": [
    "mx = pd.DataFrame({'ixi':bias_ixi['Max'], 'adni':bias_adni['Max'], 'ppmi':bias_ppmi['Max'], \n",
    "                  'aibl':bias_aibl['Max'], 'sald':bias_sald['Max'], 'slim':bias_slim['Max'], 'hcp':bias_hcp['Max']})\n",
    "mx.head().round(0)"
   ]
  },
  {
   "cell_type": "code",
   "execution_count": 6,
   "metadata": {},
   "outputs": [
    {
     "data": {
      "image/png": "[encoded data removed]",
      "text/plain": [
       "<Figure size 1152x864 with 9 Axes>"
      ]
     },
     "metadata": {
      "needs_background": "light"
     },
     "output_type": "display_data"
    }
   ],
   "source": [
    "_= pd.DataFrame.hist(mx, figsize=(16,12))"
   ]
  },
  {
   "cell_type": "code",
   "execution_count": 7,
   "metadata": {},
   "outputs": [
    {
     "data": {
      "text/html": [
       "<div>\n",
       "<style scoped>\n",
       "    .dataframe tbody tr th:only-of-type {\n",
       "        vertical-align: middle;\n",
       "    }\n",
       "\n",
       "    .dataframe tbody tr th {\n",
       "        vertical-align: top;\n",
       "    }\n",
       "\n",
       "    .dataframe thead th {\n",
       "        text-align: right;\n",
       "    }\n",
       "</style>\n",
       "<table border=\"1\" class=\"dataframe\">\n",
       "  <thead>\n",
       "    <tr style=\"text-align: right;\">\n",
       "      <th></th>\n",
       "      <th>ixi</th>\n",
       "      <th>adni</th>\n",
       "      <th>ppmi</th>\n",
       "      <th>aibl</th>\n",
       "      <th>sald</th>\n",
       "      <th>slim</th>\n",
       "      <th>hcp</th>\n",
       "    </tr>\n",
       "  </thead>\n",
       "  <tbody>\n",
       "    <tr>\n",
       "      <td>0</td>\n",
       "      <td>120.0</td>\n",
       "      <td>267.0</td>\n",
       "      <td>99.0</td>\n",
       "      <td>83.0</td>\n",
       "      <td>71.0</td>\n",
       "      <td>100.0</td>\n",
       "      <td>410.0</td>\n",
       "    </tr>\n",
       "    <tr>\n",
       "      <td>1</td>\n",
       "      <td>416.0</td>\n",
       "      <td>265.0</td>\n",
       "      <td>118.0</td>\n",
       "      <td>86.0</td>\n",
       "      <td>89.0</td>\n",
       "      <td>127.0</td>\n",
       "      <td>319.0</td>\n",
       "    </tr>\n",
       "    <tr>\n",
       "      <td>2</td>\n",
       "      <td>408.0</td>\n",
       "      <td>267.0</td>\n",
       "      <td>87.0</td>\n",
       "      <td>103.0</td>\n",
       "      <td>104.0</td>\n",
       "      <td>169.0</td>\n",
       "      <td>389.0</td>\n",
       "    </tr>\n",
       "    <tr>\n",
       "      <td>3</td>\n",
       "      <td>315.0</td>\n",
       "      <td>244.0</td>\n",
       "      <td>110.0</td>\n",
       "      <td>121.0</td>\n",
       "      <td>109.0</td>\n",
       "      <td>106.0</td>\n",
       "      <td>473.0</td>\n",
       "    </tr>\n",
       "    <tr>\n",
       "      <td>4</td>\n",
       "      <td>362.0</td>\n",
       "      <td>248.0</td>\n",
       "      <td>104.0</td>\n",
       "      <td>105.0</td>\n",
       "      <td>125.0</td>\n",
       "      <td>155.0</td>\n",
       "      <td>449.0</td>\n",
       "    </tr>\n",
       "  </tbody>\n",
       "</table>\n",
       "</div>"
      ],
      "text/plain": [
       "     ixi   adni   ppmi   aibl   sald   slim    hcp\n",
       "0  120.0  267.0   99.0   83.0   71.0  100.0  410.0\n",
       "1  416.0  265.0  118.0   86.0   89.0  127.0  319.0\n",
       "2  408.0  267.0   87.0  103.0  104.0  169.0  389.0\n",
       "3  315.0  244.0  110.0  121.0  109.0  106.0  473.0\n",
       "4  362.0  248.0  104.0  105.0  125.0  155.0  449.0"
      ]
     },
     "execution_count": 7,
     "metadata": {},
     "output_type": "execute_result"
    }
   ],
   "source": [
    "mean1 = pd.DataFrame({'ixi':bias_ixi['Mean'], 'adni':bias_adni['Mean'], 'ppmi':bias_ppmi['Mean'], \n",
    "                  'aibl':bias_aibl['Mean'], 'sald':bias_sald['Mean'], 'slim':bias_slim['Mean'], 'hcp':bias_hcp['Mean']})\n",
    "mean1.head().round(0)"
   ]
  },
  {
   "cell_type": "code",
   "execution_count": 8,
   "metadata": {},
   "outputs": [
    {
     "data": {
      "image/png": "[encoded data removed]",
      "text/plain": [
       "<Figure size 1152x864 with 9 Axes>"
      ]
     },
     "metadata": {
      "needs_background": "light"
     },
     "output_type": "display_data"
    }
   ],
   "source": [
    "_= pd.DataFrame.hist(mean1, figsize=(16,12))"
   ]
  },
  {
   "cell_type": "code",
   "execution_count": 9,
   "metadata": {},
   "outputs": [
    {
     "data": {
      "text/plain": [
       "(0, 8000)"
      ]
     },
     "execution_count": 9,
     "metadata": {},
     "output_type": "execute_result"
    },
    {
     "data": {
      "image/png": "[encoded data removed]",
      "text/plain": [
       "<Figure size 1152x864 with 1 Axes>"
      ]
     },
     "metadata": {
      "needs_background": "light"
     },
     "output_type": "display_data"
    }
   ],
   "source": [
    "ax1 = mx.plot(kind='box', figsize=(16,12))\n",
    "ax1.set_ylim(0,8000)"
   ]
  },
  {
   "cell_type": "code",
   "execution_count": 10,
   "metadata": {},
   "outputs": [
    {
     "data": {
      "text/plain": [
       "(0, 600)"
      ]
     },
     "execution_count": 10,
     "metadata": {},
     "output_type": "execute_result"
    },
    {
     "data": {
      "image/png": "[encoded data removed]",
      "text/plain": [
       "<Figure size 1152x864 with 1 Axes>"
      ]
     },
     "metadata": {
      "needs_background": "light"
     },
     "output_type": "display_data"
    }
   ],
   "source": [
    "ax2 = mean1.plot(kind='box', figsize=(16,12))\n",
    "ax2.set_ylim(0,600)"
   ]
  },
  {
   "cell_type": "code",
   "execution_count": null,
   "metadata": {},
   "outputs": [],
   "source": []
  }
 ],
 "metadata": {
  "kernelspec": {
   "display_name": "fastai1",
   "language": "python",
   "name": "fastai1"
  },
  "language_info": {
   "codemirror_mode": {
    "name": "ipython",
    "version": 3
   },
   "file_extension": ".py",
   "mimetype": "text/x-python",
   "name": "python",
   "nbconvert_exporter": "python",
   "pygments_lexer": "ipython3",
   "version": "3.7.4"
  }
 },
 "nbformat": 4,
 "nbformat_minor": 4
}
