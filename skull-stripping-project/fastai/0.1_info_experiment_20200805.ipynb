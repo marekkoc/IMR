{
 "cells": [
  {
   "cell_type": "markdown",
   "metadata": {},
   "source": [
    "### Experiment (2020.08.05) - curent status"
   ]
  },
  {
   "cell_type": "markdown",
   "metadata": {},
   "source": [
    "1. Scripts adaptation to run on DGX and Titan.\n",
    "1. New datasets preparation to process (convert to iso):\n",
    "    1. CalgaryCampinas\n",
    "        1. T1\n",
    "        1. T1_biascorr\n",
    "        1. T1_biascorr_brain_mask\n",
    "    1. NFBS\n",
    "        1. T1w\n",
    "        1. T1w_brainmask\n",
    "        1. No biascorr image (!)\n",
    "1. Update df's prepared by Sathiesh to use within my framework:\n",
    "    1. ixi_test.csv --->>> ixi_test_mk_3d.csv\n",
    "    1. test.csv --->>> test_mk_3d.csv\n",
    "    1. train_val.csv --->>> train_val_mk_3d.csv\n",
    "1. Check error_files list from Sathiesh (images with poor Dice coef remove from 2d traing).\n",
    "1. Split 3D **test** data into 2d slices.\n",
    "1. Trained model: AXIAL-2D, T1-biascorr, not parallel, partly fp16(), 15 epoch feeeze, 5 ep. unfeeezed, Dice for 2D slices ~0.444, final and the best is equalled to 0.944902.\n"
   ]
  },
  {
   "cell_type": "code",
   "execution_count": null,
   "metadata": {},
   "outputs": [],
   "source": []
  }
 ],
 "metadata": {
  "kernelspec": {
   "display_name": "fastai1",
   "language": "python",
   "name": "fastai1"
  },
  "language_info": {
   "codemirror_mode": {
    "name": "ipython",
    "version": 3
   },
   "file_extension": ".py",
   "mimetype": "text/x-python",
   "name": "python",
   "nbconvert_exporter": "python",
   "pygments_lexer": "ipython3",
   "version": "3.7.4"
  }
 },
 "nbformat": 4,
 "nbformat_minor": 4
}
