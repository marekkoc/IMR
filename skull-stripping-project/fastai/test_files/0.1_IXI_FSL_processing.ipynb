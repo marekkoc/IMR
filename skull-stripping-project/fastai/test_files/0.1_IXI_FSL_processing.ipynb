{
 "cells": [
  {
   "cell_type": "markdown",
   "metadata": {},
   "source": [
    "##### 2020.07.01  (ver. 2020.07.02)\n",
    "##### Sathiesh's code"
   ]
  },
  {
   "cell_type": "markdown",
   "metadata": {},
   "source": [
    "### fastai_02_IXI_FSL_processing"
   ]
  },
  {
   "cell_type": "code",
   "execution_count": 2,
   "metadata": {},
   "outputs": [],
   "source": [
    "import os\n",
    "from glob import glob\n",
    "import pandas as pd\n",
    "from pathlib import Path"
   ]
  },
  {
   "cell_type": "code",
   "execution_count": 3,
   "metadata": {},
   "outputs": [],
   "source": [
    "root_folder = Path('/data-10tb/marek/IXI/train_data/FSL_outputs')\n",
    "xls_path    = Path('/data-10tb/marek/skull-stripping-1/fastai2d/xls/IXI.xls')"
   ]
  },
  {
   "cell_type": "code",
   "execution_count": 4,
   "metadata": {},
   "outputs": [],
   "source": [
    "# %load ixi_processing\n",
    "### Sathiesh's code...\n",
    "\n",
    "def process_ixi_xls(xls_path, img_path):\n",
    "    print('Preprocessing ' + str(xls_path))\n",
    "    df = pd.read_excel(xls_path)\n",
    "    duplicate_subject_ids = df[df.duplicated(['IXI_ID'], keep=False)].IXI_ID.unique()\n",
    "    for subject_id in duplicate_subject_ids:\n",
    "        age = df.loc[df.IXI_ID == subject_id].AGE.nunique()\n",
    "        if age != 1: df = df.loc[df.IXI_ID != subject_id]# #Remove duplicates with two different age values\n",
    "    df = df.drop_duplicates(subset='IXI_ID', keep='first').reset_index(drop=True)\n",
    "    df['subject_id'] = ['IXI' + str(subject_id).zfill(3) for subject_id in df.IXI_ID.values]\n",
    "    df = df.rename(columns={'SEX_ID (1=m, 2=f)': 'gender', 'AGE': 'age_at_scan'})\n",
    "    df = df.replace({'gender': {1:'M', 2:'F'}})\n",
    "    img_list = glob(str(img_path/'*'/'T1_biascorr.nii.gz'))\n",
    "    mask_list = glob(str(img_path/'*'/'T1_biascorr_brain_mask.nii.gz'))\n",
    "    for path in img_list:\n",
    "        subject_id = path.split('/')[-2].split('-')[0]\n",
    "        df.loc[df.subject_id == subject_id, 't1_biascorr_path'] = path\n",
    "    for path in mask_list:\n",
    "        subject_id = path.split('/')[-2].split('-')[0]\n",
    "        df.loc[df.subject_id == subject_id, 'brain_mask_path'] = path\n",
    "    df = df.dropna()\n",
    "    df = df[['t1_biascorr_path','brain_mask_path', 'subject_id', 'gender', 'age_at_scan']]\n",
    "    df['above_60_years'] = df.age_at_scan > 60\n",
    "    #os.remove(xls_path)\n",
    "    return df\n"
   ]
  },
  {
   "cell_type": "code",
   "execution_count": 5,
   "metadata": {},
   "outputs": [
    {
     "name": "stdout",
     "output_type": "stream",
     "text": [
      "Preprocessing /data-10tb/marek/skull-stripping-1/fastai2d/xls/IXI.xls\n"
     ]
    }
   ],
   "source": [
    "df = process_ixi_xls(xls_path, root_folder)"
   ]
  },
  {
   "cell_type": "code",
   "execution_count": 6,
   "metadata": {},
   "outputs": [
    {
     "data": {
      "text/html": [
       "<div>\n",
       "<style scoped>\n",
       "    .dataframe tbody tr th:only-of-type {\n",
       "        vertical-align: middle;\n",
       "    }\n",
       "\n",
       "    .dataframe tbody tr th {\n",
       "        vertical-align: top;\n",
       "    }\n",
       "\n",
       "    .dataframe thead th {\n",
       "        text-align: right;\n",
       "    }\n",
       "</style>\n",
       "<table border=\"1\" class=\"dataframe\">\n",
       "  <thead>\n",
       "    <tr style=\"text-align: right;\">\n",
       "      <th></th>\n",
       "      <th>t1_biascorr_path</th>\n",
       "      <th>brain_mask_path</th>\n",
       "      <th>subject_id</th>\n",
       "      <th>gender</th>\n",
       "      <th>age_at_scan</th>\n",
       "      <th>above_60_years</th>\n",
       "    </tr>\n",
       "  </thead>\n",
       "  <tbody>\n",
       "    <tr>\n",
       "      <td>1</td>\n",
       "      <td>/data-10tb/marek/IXI/train_data/FSL_outputs/IX...</td>\n",
       "      <td>/data-10tb/marek/IXI/train_data/FSL_outputs/IX...</td>\n",
       "      <td>IXI002</td>\n",
       "      <td>F</td>\n",
       "      <td>35.800137</td>\n",
       "      <td>False</td>\n",
       "    </tr>\n",
       "    <tr>\n",
       "      <td>2</td>\n",
       "      <td>/data-10tb/marek/IXI/train_data/FSL_outputs/IX...</td>\n",
       "      <td>/data-10tb/marek/IXI/train_data/FSL_outputs/IX...</td>\n",
       "      <td>IXI012</td>\n",
       "      <td>M</td>\n",
       "      <td>38.781656</td>\n",
       "      <td>False</td>\n",
       "    </tr>\n",
       "    <tr>\n",
       "      <td>3</td>\n",
       "      <td>/data-10tb/marek/IXI/train_data/FSL_outputs/IX...</td>\n",
       "      <td>/data-10tb/marek/IXI/train_data/FSL_outputs/IX...</td>\n",
       "      <td>IXI013</td>\n",
       "      <td>M</td>\n",
       "      <td>46.710472</td>\n",
       "      <td>False</td>\n",
       "    </tr>\n",
       "    <tr>\n",
       "      <td>4</td>\n",
       "      <td>/data-10tb/marek/IXI/train_data/FSL_outputs/IX...</td>\n",
       "      <td>/data-10tb/marek/IXI/train_data/FSL_outputs/IX...</td>\n",
       "      <td>IXI014</td>\n",
       "      <td>F</td>\n",
       "      <td>34.236824</td>\n",
       "      <td>False</td>\n",
       "    </tr>\n",
       "    <tr>\n",
       "      <td>5</td>\n",
       "      <td>/data-10tb/marek/IXI/train_data/FSL_outputs/IX...</td>\n",
       "      <td>/data-10tb/marek/IXI/train_data/FSL_outputs/IX...</td>\n",
       "      <td>IXI015</td>\n",
       "      <td>M</td>\n",
       "      <td>24.284736</td>\n",
       "      <td>False</td>\n",
       "    </tr>\n",
       "  </tbody>\n",
       "</table>\n",
       "</div>"
      ],
      "text/plain": [
       "                                    t1_biascorr_path  \\\n",
       "1  /data-10tb/marek/IXI/train_data/FSL_outputs/IX...   \n",
       "2  /data-10tb/marek/IXI/train_data/FSL_outputs/IX...   \n",
       "3  /data-10tb/marek/IXI/train_data/FSL_outputs/IX...   \n",
       "4  /data-10tb/marek/IXI/train_data/FSL_outputs/IX...   \n",
       "5  /data-10tb/marek/IXI/train_data/FSL_outputs/IX...   \n",
       "\n",
       "                                     brain_mask_path subject_id gender  \\\n",
       "1  /data-10tb/marek/IXI/train_data/FSL_outputs/IX...     IXI002      F   \n",
       "2  /data-10tb/marek/IXI/train_data/FSL_outputs/IX...     IXI012      M   \n",
       "3  /data-10tb/marek/IXI/train_data/FSL_outputs/IX...     IXI013      M   \n",
       "4  /data-10tb/marek/IXI/train_data/FSL_outputs/IX...     IXI014      F   \n",
       "5  /data-10tb/marek/IXI/train_data/FSL_outputs/IX...     IXI015      M   \n",
       "\n",
       "   age_at_scan  above_60_years  \n",
       "1    35.800137           False  \n",
       "2    38.781656           False  \n",
       "3    46.710472           False  \n",
       "4    34.236824           False  \n",
       "5    24.284736           False  "
      ]
     },
     "execution_count": 6,
     "metadata": {},
     "output_type": "execute_result"
    }
   ],
   "source": [
    "df.head()"
   ]
  },
  {
   "cell_type": "code",
   "execution_count": 7,
   "metadata": {},
   "outputs": [],
   "source": [
    "df.to_excel('xls/ixi_processed.xls', index=False)"
   ]
  },
  {
   "cell_type": "code",
   "execution_count": 8,
   "metadata": {},
   "outputs": [
    {
     "data": {
      "text/plain": [
       "'/data-10tb/marek/skull-stripping-1/fastai2d'"
      ]
     },
     "execution_count": 8,
     "metadata": {},
     "output_type": "execute_result"
    }
   ],
   "source": [
    "pwd"
   ]
  },
  {
   "cell_type": "code",
   "execution_count": null,
   "metadata": {},
   "outputs": [],
   "source": []
  }
 ],
 "metadata": {
  "kernelspec": {
   "display_name": "fastai1",
   "language": "python",
   "name": "fastai1"
  },
  "language_info": {
   "codemirror_mode": {
    "name": "ipython",
    "version": 3
   },
   "file_extension": ".py",
   "mimetype": "text/x-python",
   "name": "python",
   "nbconvert_exporter": "python",
   "pygments_lexer": "ipython3",
   "version": "3.7.4"
  }
 },
 "nbformat": 4,
 "nbformat_minor": 4
}
