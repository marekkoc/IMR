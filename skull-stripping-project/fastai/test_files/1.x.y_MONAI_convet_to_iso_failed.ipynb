{
 "cells": [
  {
   "cell_type": "markdown",
   "metadata": {},
   "source": [
    "### MONAI - ANISOTROPIC TO ISOTROPIC CONVERTIONS - FIRST TRIES\n",
    "\n",
    "##### C: 2020.07.04\n",
    "##### M: 2020.07.09"
   ]
  },
  {
   "cell_type": "markdown",
   "metadata": {},
   "source": [
    "[monai](https://docs.monai.io/en/latest/data.html#nifti-format-handling)\n",
    "\n",
    "[funkcja](https://docs.monai.io/en/latest/data.html?highlight=NiftiSaver#monai.data.NiftiSaver)\n",
    "\n",
    "[kod](https://docs.monai.io/en/latest/_modules/monai/data/nifti_saver.html#NiftiSaver)"
   ]
  },
  {
   "cell_type": "code",
   "execution_count": 2,
   "metadata": {},
   "outputs": [],
   "source": [
    "import monai\n",
    "from monai.transforms import LoadNifti\n",
    "import matplotlib.pyplot as plt\n",
    "import numpy as np\n",
    "import nibabel as nib"
   ]
  },
  {
   "cell_type": "code",
   "execution_count": 2,
   "metadata": {},
   "outputs": [],
   "source": [
    "fn = '/data-10tb/marek/IXI/train_data/FSL_outputs/IXI002-Guys-0828-T1.anat/T1.nii.gz'\n",
    "fo = '/data-10tb/marek/IXI/train_data/FSL_outputs_iso/IXI002-Guys-0828-T1.anat'"
   ]
  },
  {
   "cell_type": "code",
   "execution_count": 3,
   "metadata": {},
   "outputs": [
    {
     "data": {
      "text/plain": [
       "(150, 256, 181)"
      ]
     },
     "execution_count": 3,
     "metadata": {},
     "output_type": "execute_result"
    }
   ],
   "source": [
    "load_data = LoadNifti()\n",
    "im, header = load_data(fn) #nii file TODO aspect ratio\n",
    "#classmonai.data.NiftiSaver\n",
    "im.shape"
   ]
  },
  {
   "cell_type": "code",
   "execution_count": 4,
   "metadata": {},
   "outputs": [],
   "source": [
    "# add_channel = monai.transforms.AddChannel()\n",
    "# im2 = add_channel(im)\n",
    "# print(f\"image shape, {im2.shape}\")"
   ]
  },
  {
   "cell_type": "code",
   "execution_count": 5,
   "metadata": {},
   "outputs": [],
   "source": [
    "# transform = monai.transforms.Spacing(pixdim=(1.0, 1.0, 1.0))\n",
    "# img = transform(im)\n",
    "# a,b,c = img\n",
    "# print(a.shape, b.shape, c.shape)"
   ]
  },
  {
   "cell_type": "code",
   "execution_count": 20,
   "metadata": {},
   "outputs": [],
   "source": [
    "saver = monai.data.NiftiSaver(fo, output_postfix='iso', resample=True,  mode='bilinear')\n",
    "\n",
    "aff2 = header['affine']\n",
    "np.fill_diagonal(aff2,1)\n",
    "\n",
    "meta={'filename_or_obj':'xxxx', 'original_affine':header['affine'], 'affine':aff2}\n",
    "\n",
    "saver.save(im)"
   ]
  },
  {
   "cell_type": "code",
   "execution_count": 21,
   "metadata": {},
   "outputs": [
    {
     "data": {
      "text/plain": [
       "array([[   1.  ,    0.  ,    0.  ,   90.16],\n",
       "       [   0.  ,    1.  ,    0.12, -113.78],\n",
       "       [   0.  ,   -0.12,    1.  ,  -26.83],\n",
       "       [   0.  ,    0.  ,    0.  ,    1.  ]])"
      ]
     },
     "execution_count": 21,
     "metadata": {},
     "output_type": "execute_result"
    }
   ],
   "source": [
    "aff2.round(2)"
   ]
  },
  {
   "cell_type": "code",
   "execution_count": 17,
   "metadata": {},
   "outputs": [],
   "source": [
    "#plt.imshow(a[:,:,100])"
   ]
  },
  {
   "cell_type": "code",
   "execution_count": 18,
   "metadata": {},
   "outputs": [
    {
     "data": {
      "text/plain": [
       "array([[  -1.2 ,    0.  ,    0.  ,   90.16],\n",
       "       [   0.  ,    0.93,    0.12, -113.78],\n",
       "       [   0.  ,   -0.12,    0.93,  -26.83],\n",
       "       [   0.  ,    0.  ,    0.  ,    1.  ]])"
      ]
     },
     "execution_count": 18,
     "metadata": {},
     "output_type": "execute_result"
    }
   ],
   "source": [
    "header['affine'].round(2)"
   ]
  },
  {
   "cell_type": "code",
   "execution_count": 7,
   "metadata": {},
   "outputs": [],
   "source": [
    "# spacing =  monai.transforms.Spacingd(keys=['image'], pixdim=(1.5, 1.5, 5.), mode=('bilinear', 'nearest'))\n",
    "# data_dict ={'image':im}\n",
    "\n",
    "# spacing_dict = spacing(data_dict)\n",
    "# x = spacing_dict['image'][0]"
   ]
  },
  {
   "cell_type": "code",
   "execution_count": 51,
   "metadata": {},
   "outputs": [],
   "source": [
    "#spacing =  monai.transforms.Spacingd(keys=['image'], pixdim=(1.5, 1.5, 5.), mode=('bilinear', 'nearest'))"
   ]
  },
  {
   "cell_type": "code",
   "execution_count": 8,
   "metadata": {},
   "outputs": [],
   "source": [
    "# data_dict = spacing(data_dict)\n",
    "# print(f\"image shape:, {data_dict['image'].shape}\")\n",
    "# print(f\"image affine after Spacing\\n, {data_dict['image_meta_dict']['affine']}\") "
   ]
  },
  {
   "cell_type": "code",
   "execution_count": null,
   "metadata": {},
   "outputs": [],
   "source": []
  }
 ],
 "metadata": {
  "kernelspec": {
   "display_name": "monai2",
   "language": "python",
   "name": "monai2"
  },
  "language_info": {
   "codemirror_mode": {
    "name": "ipython",
    "version": 3
   },
   "file_extension": ".py",
   "mimetype": "text/x-python",
   "name": "python",
   "nbconvert_exporter": "python",
   "pygments_lexer": "ipython3",
   "version": "3.7.7"
  }
 },
 "nbformat": 4,
 "nbformat_minor": 4
}
