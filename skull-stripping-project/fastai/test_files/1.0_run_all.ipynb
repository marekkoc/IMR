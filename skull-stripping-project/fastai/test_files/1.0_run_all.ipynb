{
 "cells": [
  {
   "cell_type": "markdown",
   "metadata": {},
   "source": [
    "### Run all 1.0 scirpts in parallel"
   ]
  },
  {
   "cell_type": "markdown",
   "metadata": {},
   "source": [
    "[strona 1](https://stackoverflow.com/questions/53772955/ipyparallel-parallel-function-calls-example-in-jupyter-lab)\n",
    "[strona 2](https://ipython-books.github.io/59-distributing-python-code-across-multiple-cores-with-ipython)"
   ]
  },
  {
   "cell_type": "code",
   "execution_count": null,
   "metadata": {},
   "outputs": [
    {
     "name": "stdout",
     "output_type": "stream",
     "text": [
      "2020-07-13 12:07:36.247 [IPClusterStart] Removing pid file: /home/marek/.ipython/profile_default/pid/ipcluster.pid\n",
      "2020-07-13 12:07:36.247 [IPClusterStart] Starting ipcluster with [daemon=False]\n",
      "2020-07-13 12:07:36.247 [IPClusterStart] Creating pid file: /home/marek/.ipython/profile_default/pid/ipcluster.pid\n",
      "2020-07-13 12:07:36.248 [IPClusterStart] Starting Controller with LocalControllerLauncher\n",
      "2020-07-13 12:07:37.252 [IPClusterStart] Starting 4 Engines with LocalEngineSetLauncher\n"
     ]
    }
   ],
   "source": [
    "#! ipcluster start -n 4"
   ]
  },
  {
   "cell_type": "code",
   "execution_count": 1,
   "metadata": {},
   "outputs": [],
   "source": [
    "from ipyparallel import Client\n",
    "rc = Client()"
   ]
  },
  {
   "cell_type": "code",
   "execution_count": 2,
   "metadata": {},
   "outputs": [
    {
     "data": {
      "text/plain": [
       "[0, 1, 2, 3, 4, 5, 6, 7]"
      ]
     },
     "execution_count": 2,
     "metadata": {},
     "output_type": "execute_result"
    }
   ],
   "source": [
    "rc.ids"
   ]
  },
  {
   "cell_type": "code",
   "execution_count": 5,
   "metadata": {},
   "outputs": [],
   "source": [
    "def f1():\n",
    "    %run 1.0_IXI_FSL_info.ipynb"
   ]
  },
  {
   "cell_type": "code",
   "execution_count": 6,
   "metadata": {},
   "outputs": [],
   "source": [
    "def f2():\n",
    "    %run 1.0_AIBL_FSL_info.ipynb"
   ]
  },
  {
   "cell_type": "code",
   "execution_count": null,
   "metadata": {},
   "outputs": [],
   "source": [
    "res1 = rc[0].apply(f1)\n",
    "res2 = rc[1].apply(f2)\n",
    "results = [res1, res2]\n",
    "\n",
    "while not all(map(lambda ar: ar.ready(), results)):\n",
    "    pass\n",
    "\n",
    "print(res1.get(), res2.get())"
   ]
  },
  {
   "cell_type": "code",
   "execution_count": null,
   "metadata": {},
   "outputs": [],
   "source": [
    "%%px -t 1,2\n",
    "%run 1.0_IXI_FSL_info.ipynb"
   ]
  },
  {
   "cell_type": "code",
   "execution_count": null,
   "metadata": {},
   "outputs": [],
   "source": [
    "%%px\n",
    "%%time\n",
    "\n",
    "for i in range(1000000):\n",
    "        i**2\n",
    "        print(f\"Process {os.getpid():d}.\", end='\\r')"
   ]
  },
  {
   "cell_type": "code",
   "execution_count": null,
   "metadata": {},
   "outputs": [],
   "source": [
    "import os"
   ]
  },
  {
   "cell_type": "code",
   "execution_count": null,
   "metadata": {},
   "outputs": [],
   "source": []
  }
 ],
 "metadata": {
  "kernelspec": {
   "display_name": "fastai1",
   "language": "python",
   "name": "fastai1"
  },
  "language_info": {
   "codemirror_mode": {
    "name": "ipython",
    "version": 3
   },
   "file_extension": ".py",
   "mimetype": "text/x-python",
   "name": "python",
   "nbconvert_exporter": "python",
   "pygments_lexer": "ipython3",
   "version": "3.7.4"
  }
 },
 "nbformat": 4,
 "nbformat_minor": 4
}
