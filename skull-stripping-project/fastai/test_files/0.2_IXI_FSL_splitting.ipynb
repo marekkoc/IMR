{
 "cells": [
  {
   "cell_type": "markdown",
   "metadata": {},
   "source": [
    "#### 2020.07.02"
   ]
  },
  {
   "cell_type": "markdown",
   "metadata": {},
   "source": [
    "### Spliting all dataset in propotion 70%-15%-15%"
   ]
  },
  {
   "cell_type": "markdown",
   "metadata": {},
   "source": [
    "Some examples about splitting ([link](https://stackoverflow.com/questions/38250710/how-to-split-data-into-3-sets-train-validation-and-test))."
   ]
  },
  {
   "cell_type": "code",
   "execution_count": 25,
   "metadata": {},
   "outputs": [],
   "source": [
    "import os\n",
    "from glob import glob\n",
    "import pandas as pd\n",
    "from pathlib import Path\n",
    "from sklearn.model_selection import train_test_split"
   ]
  },
  {
   "cell_type": "code",
   "execution_count": 26,
   "metadata": {},
   "outputs": [],
   "source": [
    "def split_stratified_into_train_val_test(df_input, stratify_colname='y',\n",
    "                                         frac_train=0.6, frac_val=0.15, frac_test=0.25,\n",
    "                                         random_state=None):\n",
    "    '''\n",
    "    Splits a Pandas dataframe into three subsets (train, val, and test)\n",
    "    following fractional ratios provided by the user, where each subset is\n",
    "    stratified by the values in a specific column (that is, each subset has\n",
    "    the same relative frequency of the values in the column). It performs this\n",
    "    splitting by running train_test_split() twice.\n",
    "\n",
    "    Parameters\n",
    "    ----------\n",
    "    df_input : Pandas dataframe\n",
    "        Input dataframe to be split.\n",
    "    stratify_colname : str\n",
    "        The name of the column that will be used for stratification. Usually\n",
    "        this column would be for the label.\n",
    "    frac_train : float\n",
    "    frac_val   : float\n",
    "    frac_test  : float\n",
    "        The ratios with which the dataframe will be split into train, val, and\n",
    "        test data. The values should be expressed as float fractions and should\n",
    "        sum to 1.0.\n",
    "    random_state : int, None, or RandomStateInstance\n",
    "        Value to be passed to train_test_split().\n",
    "\n",
    "    Returns\n",
    "    -------\n",
    "    df_train, df_val, df_test :\n",
    "        Dataframes containing the three splits.\n",
    "        \n",
    "    link\n",
    "    https://stackoverflow.com/questions/38250710/how-to-split-data-into-3-sets-train-validation-and-test\n",
    "    '''\n",
    "\n",
    "    if frac_train + frac_val + frac_test != 1.0:\n",
    "        raise ValueError('fractions %f, %f, %f do not add up to 1.0' % \\\n",
    "                         (frac_train, frac_val, frac_test))\n",
    "\n",
    "    if stratify_colname not in df_input.columns:\n",
    "        raise ValueError('%s is not a column in the dataframe' % (stratify_colname))\n",
    "\n",
    "    X = df_input # Contains all columns.\n",
    "    y = df_input[[stratify_colname]] # Dataframe of just the column on which to stratify.\n",
    "\n",
    "    # Split original dataframe into train and temp dataframes.\n",
    "    df_train, df_temp, y_train, y_temp = train_test_split(X,\n",
    "                                                          y,\n",
    "                                                          stratify=y,\n",
    "                                                          test_size=(1.0 - frac_train),\n",
    "                                                          random_state=random_state)\n",
    "\n",
    "    # Split the temp dataframe into val and test dataframes.\n",
    "    relative_frac_test = frac_test / (frac_val + frac_test)\n",
    "    df_val, df_test, y_val, y_test = train_test_split(df_temp,\n",
    "                                                      y_temp,\n",
    "                                                      stratify=y_temp,\n",
    "                                                      test_size=relative_frac_test,\n",
    "                                                      random_state=random_state)\n",
    "\n",
    "    assert len(df_input) == len(df_train) + len(df_val) + len(df_test)\n",
    "\n",
    "    return df_train, df_val, df_test"
   ]
  },
  {
   "cell_type": "code",
   "execution_count": 31,
   "metadata": {},
   "outputs": [],
   "source": [
    "xls_path    = Path('xls/ixi_processed.xls')\n",
    "df= pd.read_excel(xls_path, index_col=0)"
   ]
  },
  {
   "cell_type": "code",
   "execution_count": 33,
   "metadata": {},
   "outputs": [
    {
     "data": {
      "text/html": [
       "<div>\n",
       "<style scoped>\n",
       "    .dataframe tbody tr th:only-of-type {\n",
       "        vertical-align: middle;\n",
       "    }\n",
       "\n",
       "    .dataframe tbody tr th {\n",
       "        vertical-align: top;\n",
       "    }\n",
       "\n",
       "    .dataframe thead th {\n",
       "        text-align: right;\n",
       "    }\n",
       "</style>\n",
       "<table border=\"1\" class=\"dataframe\">\n",
       "  <thead>\n",
       "    <tr style=\"text-align: right;\">\n",
       "      <th></th>\n",
       "      <th>brain_mask_path</th>\n",
       "      <th>subject_id</th>\n",
       "      <th>gender</th>\n",
       "      <th>age_at_scan</th>\n",
       "      <th>above_60_years</th>\n",
       "    </tr>\n",
       "    <tr>\n",
       "      <th>t1_biascorr_path</th>\n",
       "      <th></th>\n",
       "      <th></th>\n",
       "      <th></th>\n",
       "      <th></th>\n",
       "      <th></th>\n",
       "    </tr>\n",
       "  </thead>\n",
       "  <tbody>\n",
       "    <tr>\n",
       "      <td>/data-10tb/marek/IXI/train_data/FSL_outputs/IXI002-Guys-0828-T1.anat/T1_biascorr.nii.gz</td>\n",
       "      <td>/data-10tb/marek/IXI/train_data/FSL_outputs/IX...</td>\n",
       "      <td>IXI002</td>\n",
       "      <td>F</td>\n",
       "      <td>35.800137</td>\n",
       "      <td>False</td>\n",
       "    </tr>\n",
       "    <tr>\n",
       "      <td>/data-10tb/marek/IXI/train_data/FSL_outputs/IXI012-HH-1211-T1.anat/T1_biascorr.nii.gz</td>\n",
       "      <td>/data-10tb/marek/IXI/train_data/FSL_outputs/IX...</td>\n",
       "      <td>IXI012</td>\n",
       "      <td>M</td>\n",
       "      <td>38.781656</td>\n",
       "      <td>False</td>\n",
       "    </tr>\n",
       "    <tr>\n",
       "      <td>/data-10tb/marek/IXI/train_data/FSL_outputs/IXI013-HH-1212-T1.anat/T1_biascorr.nii.gz</td>\n",
       "      <td>/data-10tb/marek/IXI/train_data/FSL_outputs/IX...</td>\n",
       "      <td>IXI013</td>\n",
       "      <td>M</td>\n",
       "      <td>46.710472</td>\n",
       "      <td>False</td>\n",
       "    </tr>\n",
       "    <tr>\n",
       "      <td>/data-10tb/marek/IXI/train_data/FSL_outputs/IXI014-HH-1236-T1.anat/T1_biascorr.nii.gz</td>\n",
       "      <td>/data-10tb/marek/IXI/train_data/FSL_outputs/IX...</td>\n",
       "      <td>IXI014</td>\n",
       "      <td>F</td>\n",
       "      <td>34.236824</td>\n",
       "      <td>False</td>\n",
       "    </tr>\n",
       "    <tr>\n",
       "      <td>/data-10tb/marek/IXI/train_data/FSL_outputs/IXI015-HH-1258-T1.anat/T1_biascorr.nii.gz</td>\n",
       "      <td>/data-10tb/marek/IXI/train_data/FSL_outputs/IX...</td>\n",
       "      <td>IXI015</td>\n",
       "      <td>M</td>\n",
       "      <td>24.284736</td>\n",
       "      <td>False</td>\n",
       "    </tr>\n",
       "  </tbody>\n",
       "</table>\n",
       "</div>"
      ],
      "text/plain": [
       "                                                                                      brain_mask_path  \\\n",
       "t1_biascorr_path                                                                                        \n",
       "/data-10tb/marek/IXI/train_data/FSL_outputs/IXI...  /data-10tb/marek/IXI/train_data/FSL_outputs/IX...   \n",
       "/data-10tb/marek/IXI/train_data/FSL_outputs/IXI...  /data-10tb/marek/IXI/train_data/FSL_outputs/IX...   \n",
       "/data-10tb/marek/IXI/train_data/FSL_outputs/IXI...  /data-10tb/marek/IXI/train_data/FSL_outputs/IX...   \n",
       "/data-10tb/marek/IXI/train_data/FSL_outputs/IXI...  /data-10tb/marek/IXI/train_data/FSL_outputs/IX...   \n",
       "/data-10tb/marek/IXI/train_data/FSL_outputs/IXI...  /data-10tb/marek/IXI/train_data/FSL_outputs/IX...   \n",
       "\n",
       "                                                   subject_id gender  \\\n",
       "t1_biascorr_path                                                       \n",
       "/data-10tb/marek/IXI/train_data/FSL_outputs/IXI...     IXI002      F   \n",
       "/data-10tb/marek/IXI/train_data/FSL_outputs/IXI...     IXI012      M   \n",
       "/data-10tb/marek/IXI/train_data/FSL_outputs/IXI...     IXI013      M   \n",
       "/data-10tb/marek/IXI/train_data/FSL_outputs/IXI...     IXI014      F   \n",
       "/data-10tb/marek/IXI/train_data/FSL_outputs/IXI...     IXI015      M   \n",
       "\n",
       "                                                    age_at_scan  \\\n",
       "t1_biascorr_path                                                  \n",
       "/data-10tb/marek/IXI/train_data/FSL_outputs/IXI...    35.800137   \n",
       "/data-10tb/marek/IXI/train_data/FSL_outputs/IXI...    38.781656   \n",
       "/data-10tb/marek/IXI/train_data/FSL_outputs/IXI...    46.710472   \n",
       "/data-10tb/marek/IXI/train_data/FSL_outputs/IXI...    34.236824   \n",
       "/data-10tb/marek/IXI/train_data/FSL_outputs/IXI...    24.284736   \n",
       "\n",
       "                                                    above_60_years  \n",
       "t1_biascorr_path                                                    \n",
       "/data-10tb/marek/IXI/train_data/FSL_outputs/IXI...           False  \n",
       "/data-10tb/marek/IXI/train_data/FSL_outputs/IXI...           False  \n",
       "/data-10tb/marek/IXI/train_data/FSL_outputs/IXI...           False  \n",
       "/data-10tb/marek/IXI/train_data/FSL_outputs/IXI...           False  \n",
       "/data-10tb/marek/IXI/train_data/FSL_outputs/IXI...           False  "
      ]
     },
     "execution_count": 33,
     "metadata": {},
     "output_type": "execute_result"
    }
   ],
   "source": [
    "df.head()"
   ]
  },
  {
   "cell_type": "markdown",
   "metadata": {},
   "source": [
    "### Splitting"
   ]
  },
  {
   "cell_type": "code",
   "execution_count": 38,
   "metadata": {},
   "outputs": [],
   "source": [
    "df_train, df_val, df_test = split_stratified_into_train_val_test(df,\n",
    "                                                                 stratify_colname='above_60_years',\n",
    "                                                                 frac_train = 0.7,\n",
    "                                                                 frac_val=0.15,\n",
    "                                                                 frac_test=0.15,\n",
    "                                                                 random_state=42)"
   ]
  },
  {
   "cell_type": "code",
   "execution_count": 39,
   "metadata": {},
   "outputs": [],
   "source": [
    "# print(xls.shape)\n",
    "# print(df_train.shape)\n",
    "# print(df_val.shape)\n",
    "# print(df_test.shape)"
   ]
  },
  {
   "cell_type": "code",
   "execution_count": 40,
   "metadata": {},
   "outputs": [],
   "source": [
    "with pd.ExcelWriter('xls/ixi_split.xls') as writer:\n",
    "    df_train.to_excel(writer, sheet_name='ixi_train', index=False)\n",
    "    df_val.to_excel(writer, sheet_name='ixi_val', index=False)\n",
    "    df_test.to_excel(writer, sheet_name='ixi_test', index=False)"
   ]
  },
  {
   "cell_type": "code",
   "execution_count": null,
   "metadata": {},
   "outputs": [],
   "source": []
  }
 ],
 "metadata": {
  "kernelspec": {
   "display_name": "fastai1",
   "language": "python",
   "name": "fastai1"
  },
  "language_info": {
   "codemirror_mode": {
    "name": "ipython",
    "version": 3
   },
   "file_extension": ".py",
   "mimetype": "text/x-python",
   "name": "python",
   "nbconvert_exporter": "python",
   "pygments_lexer": "ipython3",
   "version": "3.7.4"
  }
 },
 "nbformat": 4,
 "nbformat_minor": 4
}
