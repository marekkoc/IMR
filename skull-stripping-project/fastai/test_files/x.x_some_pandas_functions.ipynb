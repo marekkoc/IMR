{
 "cells": [
  {
   "cell_type": "code",
   "execution_count": 1,
   "metadata": {},
   "outputs": [],
   "source": [
    "# Extend to path to image, without path to the root folder\n",
    "# df['short_path'] = df['path'].str.split('axial-2d',expand = True)[1]\n",
    "# df.tail()"
   ]
  },
  {
   "cell_type": "code",
   "execution_count": 2,
   "metadata": {},
   "outputs": [],
   "source": [
    "# # Get T1_biascorr\n",
    "# df_bias = df[df['short_path'].str.contains('T1_biascorr_iso')]\n",
    "# df_t1 = df[df['short_path'].str.contains('T1_iso')]\n",
    "# df_mask = df[df['short_path'].str.contains('_mask_iso')]\n",
    "# #print(df_bias.shape, df_t1.shape, df_mask.shape, 425766*3, df.shape)"
   ]
  },
  {
   "cell_type": "code",
   "execution_count": null,
   "metadata": {},
   "outputs": [],
   "source": [
    "df.agg(['count', 'size', 'nunique'])\n",
    "df.groupby('mID').agg(['count', 'size', 'nunique']).stack()"
   ]
  },
  {
   "cell_type": "code",
   "execution_count": null,
   "metadata": {},
   "outputs": [],
   "source": [
    "df_ixi.loc[df_ixi['shapes']==sh, 'shapes_id'] = k+1"
   ]
  },
  {
   "cell_type": "code",
   "execution_count": 2,
   "metadata": {},
   "outputs": [],
   "source": [
    "df['A']=df['A'].apply(lambda x: x.lower().strip() if isinstance(x, str) else x) "
   ]
  },
  {
   "cell_type": "code",
   "execution_count": null,
   "metadata": {},
   "outputs": [],
   "source": []
  }
 ],
 "metadata": {
  "kernelspec": {
   "display_name": "fastai1",
   "language": "python",
   "name": "fastai1"
  },
  "language_info": {
   "codemirror_mode": {
    "name": "ipython",
    "version": 3
   },
   "file_extension": ".py",
   "mimetype": "text/x-python",
   "name": "python",
   "nbconvert_exporter": "python",
   "pygments_lexer": "ipython3",
   "version": "3.7.4"
  }
 },
 "nbformat": 4,
 "nbformat_minor": 4
}
