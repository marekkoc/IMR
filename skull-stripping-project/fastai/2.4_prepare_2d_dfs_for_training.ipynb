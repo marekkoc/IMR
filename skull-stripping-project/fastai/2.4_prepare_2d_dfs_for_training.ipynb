{
 "cells": [
  {
   "cell_type": "markdown",
   "metadata": {},
   "source": [
    "Created: 2020.07.17\n",
    "\n",
    "Modified: 2020.07.11"
   ]
  },
  {
   "cell_type": "markdown",
   "metadata": {},
   "source": [
    "### Prepare csv files with file paths to images and masks"
   ]
  },
  {
   "cell_type": "markdown",
   "metadata": {},
   "source": [
    "Paths saved to csv files are used to prepare a DataBunch object in fastai algorithm. While df is built, a three values are compared to have correspond images. We check the following values:\n",
    "- folder name (i.e. subject name)\n",
    "- 2D slice number\n",
    "- set name: \"val\" or \"train\""
   ]
  },
  {
   "cell_type": "code",
   "execution_count": 1,
   "metadata": {},
   "outputs": [],
   "source": [
    "%reload_ext autoreload\n",
    "%autoreload 2"
   ]
  },
  {
   "cell_type": "code",
   "execution_count": 2,
   "metadata": {},
   "outputs": [],
   "source": [
    "import glob\n",
    "import pandas as pd\n",
    "from pathlib import Path"
   ]
  },
  {
   "cell_type": "code",
   "execution_count": 3,
   "metadata": {},
   "outputs": [],
   "source": [
    "import sys\n",
    "sys.path.append('functions')\n",
    "\n",
    "%aimport functions00, functions01\n",
    "from functions00 import *\n",
    "from functions01 import *\n",
    "\n",
    "import functions24 as fun"
   ]
  },
  {
   "cell_type": "code",
   "execution_count": 4,
   "metadata": {},
   "outputs": [
    {
     "name": "stdout",
     "output_type": "stream",
     "text": [
      "**********************************************************************************************************************************\n",
      "Settings:\n",
      "\tHOST:  mmiv-ml-titan\n",
      "\tPATH_ROOT_DATA:  /data-10tb/shared/skull/train-3d-iso\n",
      "\tPATH_GIT_HUB:  /data-10tb/marek/github_codes/skull-stripping-1/fastai\n",
      "\tPATH_2D: /data-10tb/shared/skull\n",
      "\n",
      "3D DFs paths (_mk_3D):\n",
      "\tIXI_TEST_3D: /data-10tb/marek/github_codes/skull-stripping-1/fastai/2.2_train_valid_test_sets/ixi_test_mk_3d.csv\n",
      "\tTEST_3D : /data-10tb/marek/github_codes/skull-stripping-1/fastai/2.2_train_valid_test_sets/test_mk_3d.csv\n",
      "\tTRAIN_VAL_3D: /data-10tb/marek/github_codes/skull-stripping-1/fastai/2.2_train_valid_test_sets/train_val_mk_3d.csv\n",
      "\tNFBS_TEST_3D: /data-10tb/marek/github_codes/skull-stripping-1/fastai/2.2_train_valid_test_sets/nfbs_test_mk_3d.csv\n",
      "\n",
      "Error files (pickle):\n",
      "\tERROR_FILES: /data-10tb/marek/github_codes/skull-stripping-1/fastai/2.2_train_valid_test_sets/error_files\n",
      "**********************************************************************************************************************************\n"
     ]
    }
   ],
   "source": [
    "mk_get_host_info()"
   ]
  },
  {
   "cell_type": "markdown",
   "metadata": {},
   "source": [
    "### AXIAL / CORONAL / SAGITTAL - train & valid"
   ]
  },
  {
   "cell_type": "code",
   "execution_count": 68,
   "metadata": {},
   "outputs": [
    {
     "name": "stdout",
     "output_type": "stream",
     "text": [
      "471836/471836\n",
      "Saved files:\n",
      "\t/data-10tb/marek/github_codes/skull-stripping-1/fastai/2.4_train_val_3d_path_tables/t1_mask-test-val-axial-2d.csv\n",
      "\t/data-10tb/shared/skull/axial-2d/t1_mask-test-val-axial-2d.csv\n",
      "Saved files:\n",
      "\t/data-10tb/marek/github_codes/skull-stripping-1/fastai/2.4_train_val_3d_path_tables/bias_mask-test-val-axial-2d.csv\n",
      "\t/data-10tb/shared/skull/axial-2d/bias_mask-test-val-axial-2d.csv\n",
      "axial 471836..done\n",
      "\n",
      "668562/668562\n",
      "Saved files:\n",
      "\t/data-10tb/marek/github_codes/skull-stripping-1/fastai/2.4_train_val_3d_path_tables/t1_mask-test-val-coronal-2d.csv\n",
      "\t/data-10tb/shared/skull/coronal-2d/t1_mask-test-val-coronal-2d.csv\n",
      "Saved files:\n",
      "\t/data-10tb/marek/github_codes/skull-stripping-1/fastai/2.4_train_val_3d_path_tables/bias_mask-test-val-coronal-2d.csv\n",
      "\t/data-10tb/shared/skull/coronal-2d/bias_mask-test-val-coronal-2d.csv\n",
      "coronal 668562..done\n",
      "\n",
      "523754/523754\n",
      "Saved files:\n",
      "\t/data-10tb/marek/github_codes/skull-stripping-1/fastai/2.4_train_val_3d_path_tables/t1_mask-test-val-sagittal-2d.csv\n",
      "\t/data-10tb/shared/skull/sagittal-2d/t1_mask-test-val-sagittal-2d.csv\n",
      "Saved files:\n",
      "\t/data-10tb/marek/github_codes/skull-stripping-1/fastai/2.4_train_val_3d_path_tables/bias_mask-test-val-sagittal-2d.csv\n",
      "\t/data-10tb/shared/skull/sagittal-2d/bias_mask-test-val-sagittal-2d.csv\n",
      "sagittal 523754..done\n",
      "\n",
      "CPU times: user 4min 29s, sys: 32.4 s, total: 5min 2s\n",
      "Wall time: 4min 45s\n"
     ]
    }
   ],
   "source": [
    "%%time\n",
    "cross_sections = ['axial', 'coronal', 'sagittal']\n",
    "save = 1\n",
    "\n",
    "for cross_sec in cross_sections:\n",
    "    t1_all = sorted(glob.glob(f'/data-10tb/shared/skull/{cross_sec}-2d/*/*/*/T1_iso_*.png'))\n",
    "    bias_all = sorted(glob.glob(f'/data-10tb/shared/skull/{cross_sec}-2d/*/*/*/T1_biascorr_iso_*.png'))\n",
    "    mask_all = sorted(glob.glob(f'/data-10tb/shared/skull/{cross_sec}-2d/*/*/*/*brain_mask_iso_*.png'))\n",
    "      \n",
    "    assert len(t1_all)==len(mask_all), f'Different image number t1 and mask in {cross_sec}-2d!!!'\n",
    "    assert len(bias_all)==len(mask_all), f'Different image number t1_biascorr and mask in {cross_sec}-2d!!!'\n",
    "    \n",
    "\n",
    "    root_list = []\n",
    "    t1_list = []\n",
    "    t1_full_list = []\n",
    "    bias_list = []\n",
    "    bias_full_list = []\n",
    "    mask_list = []\n",
    "    usage_list = []\n",
    "\n",
    "    i=1\n",
    "    tot = len(t1_all)\n",
    "    for t,b,m in zip(t1_all, bias_all, mask_all):\n",
    "\n",
    "        t = Path(t)\n",
    "        b = Path(b)\n",
    "        m = Path(m)\n",
    "\n",
    "        # parent folders\n",
    "        assert t.parent.name == m.parent.name, f'Different parent folder names in {t} and {m}'\n",
    "        assert b.parent.name == m.parent.name, f'Different parent folder names in {b} and {m}'\n",
    "\n",
    "        # train / val folder path part\n",
    "        train_val_t = 'train' if 'train' in str(t) else 'val'\n",
    "        train_val_b = 'train' if 'train' in str(b) else 'val'\n",
    "        train_val_m = 'train' if 'train' in str(m) else 'val'\n",
    "\n",
    "        assert train_val_t == train_val_m, f'Different train_val name in {t} and {m}'\n",
    "        assert train_val_b == train_val_m, f'Different train_val name in {b} and {m}'\n",
    "\n",
    "        # slice number e.g. 001\n",
    "        t_nr = t.stem.split('_')[-1]\n",
    "        b_nr = b.stem.split('_')[-1]\n",
    "        m_nr = m.stem.split('_')[-1]\n",
    "\n",
    "        assert t_nr == m_nr, f'Different image number in {t} and {bm}'\n",
    "        assert b_nr == m_nr, f'Different image number in {b} and {bm}'\n",
    "\n",
    "        root, t1 = str(t).split(f'{cross_sec}-2d')\n",
    "        bias = str(b).split(f'{cross_sec}-2d')[1]\n",
    "        #mask = str(m).split(f'{cross_sec}-2d')[1]\n",
    "\n",
    "        root_list.append(root + f'{cross_sec}-2d')\n",
    "        t1_list.append(t1)\n",
    "        t1_full_list.append(str(t))\n",
    "        bias_list.append(bias)\n",
    "        bias_full_list.append(str(b))\n",
    "        mask_list.append(str(m))\n",
    "        usage_list.append(train_val_t)\n",
    "\n",
    "        print(f'{i:06}/{tot}', end='\\r')\n",
    "        i+=1\n",
    "        \n",
    "    print()\n",
    "    df_t1 = pd.DataFrame.from_dict({'root':root_list, 't1_path':t1_list, 'image_full_path':t1_full_list, 'mask_full_path':mask_list, 'usage_txt':usage_list})\n",
    "    df_bias = pd.DataFrame.from_dict({'root':root_list, 'bias_path':bias_list,'image_full_path':bias_full_list, 'mask_full_path':mask_list, 'usage_txt':usage_list})\n",
    "    \n",
    "    \n",
    "    df_t1['usage'] = df_t1['usage_txt'].apply(lambda x: True if x =='val' else False)\n",
    "    df_bias['usage'] = df_bias['usage_txt'].apply(lambda x: True if x =='val' else False)\n",
    "    \n",
    "\n",
    "    if save:\n",
    "        fun.save_df(df_t1, cross_sec, 't1_mask')\n",
    "        fun.save_df(df_bias, cross_sec, 'bias_mask')\n",
    "        \n",
    "    print(f'{cross_sec} {df_t1.shape[0]}..done\\n')  "
   ]
  },
  {
   "cell_type": "code",
   "execution_count": 69,
   "metadata": {},
   "outputs": [
    {
     "name": "stdout",
     "output_type": "stream",
     "text": [
      "523754 523754 523754\n"
     ]
    }
   ],
   "source": [
    "print(len(t1_all), len(bias_all), len(mask_all))"
   ]
  },
  {
   "cell_type": "markdown",
   "metadata": {},
   "source": [
    "### Check if all files from path exists on a disc"
   ]
  },
  {
   "cell_type": "markdown",
   "metadata": {},
   "source": [
    "Test if all paths point to existing images."
   ]
  },
  {
   "cell_type": "code",
   "execution_count": 5,
   "metadata": {},
   "outputs": [
    {
     "name": "stdout",
     "output_type": "stream",
     "text": [
      "bias_mask-test-val-axial-2d.csv\n",
      "bias_mask-test-val-coronal-2d.csv\n",
      "bias_mask-test-val-sagittal-2d.csv\n",
      "t1_mask-test-val-axial-2d.csv\n",
      "t1_mask-test-val-coronal-2d.csv\n",
      "t1_mask-test-val-sagittal-2d.csv\n",
      "CPU times: user 7min 15s, sys: 1min 7s, total: 8min 23s\n",
      "Wall time: 7min 18s\n"
     ]
    }
   ],
   "source": [
    "%%time\n",
    "csv_files = sorted(glob.glob(f'/{PATH_GIT_HUB}/2.4_train_val_2d_path_tables/*.csv'))\n",
    "for csv in csv_files:\n",
    "    fun.file_exist2(csv)"
   ]
  },
  {
   "cell_type": "markdown",
   "metadata": {},
   "source": [
    "## Remove failed files (based on Sathiesh's error list)"
   ]
  },
  {
   "cell_type": "markdown",
   "metadata": {},
   "source": [
    "#### All files csv in the folder 2.4_train_val_2d_path_tables"
   ]
  },
  {
   "cell_type": "code",
   "execution_count": 7,
   "metadata": {},
   "outputs": [],
   "source": [
    "# remove = '123456'\n",
    "remove = '0'\n",
    "\n",
    "#1\n",
    "if '1' in remove:\n",
    "    f_bias_axial = 'bias_mask-test-val-axial-2d.csv'\n",
    "    fun.remove_fialed_files_from_csv_file(f_bias_axial, replace_csv_file=True)\n",
    "#2\n",
    "if '2' in remove:\n",
    "    f_bias_coronal = 'bias_mask-test-val-coronal-2d.csv'\n",
    "    fun.remove_fialed_files_from_csv_file(f_bias_coronal, replace_csv_file=True)\n",
    "#3\n",
    "if '3' in remove:\n",
    "    f_bias_sagittal = 'bias_mask-test-val-sagittal-2d.csv'\n",
    "    fun.remove_fialed_files_from_csv_file(f_bias_sagittal, replace_csv_file=True)\n",
    "#4\n",
    "if '4' in remove:\n",
    "    f_t1_axial = 't1_mask-test-val-axial-2d.csv'\n",
    "    fun.remove_fialed_files_from_csv_file(f_t1_axial, replace_csv_file=True)\n",
    "#5\n",
    "if '5' in remove:\n",
    "    f_t1_coronal = 't1_mask-test-val-coronal-2d.csv'\n",
    "    fun.remove_fialed_files_from_csv_file(f_t1_coronal, replace_csv_file=True)\n",
    "#6\n",
    "if '6' in remove:\n",
    "    f_t1_sagittal = 't1_mask-test-val-sagittal-2d.csv'\n",
    "    fun.remove_fialed_files_from_csv_file(f_t1_sagittal, replace_csv_file=True)"
   ]
  },
  {
   "cell_type": "markdown",
   "metadata": {},
   "source": [
    "## An old version"
   ]
  },
  {
   "cell_type": "code",
   "execution_count": null,
   "metadata": {},
   "outputs": [],
   "source": [
    "def file_exist(df):\n",
    "    k, l = 0, df.shape[0]\n",
    "    root = Path(df.root[0])\n",
    "    for i,m in zip(df.t1_path, df.mask_path):        \n",
    "        if not Path(root.as_posix() + i).exists(): print(i);\n",
    "        if not Path(root.as_posix() + m).exists(): print(m);\n",
    "        print(f'{k:07}/{l}', end='\\r')\n",
    "        k += 1"
   ]
  },
  {
   "cell_type": "code",
   "execution_count": 3,
   "metadata": {},
   "outputs": [
    {
     "name": "stdout",
     "output_type": "stream",
     "text": [
      "Done:\taxial ((1277298, 2))\n",
      "Done:\tcoronal ((1808145, 2))\n",
      "Done:\tsagittal ((1374648, 2))\n"
     ]
    }
   ],
   "source": [
    "cross_sections = ['axial', 'coronal', 'sagittal']\n",
    "save = 1\n",
    "\n",
    "for cross_sec in cross_sections:\n",
    "    t1 = glob.glob(f'/data-10tb/shared/skull/{cross_sec}-2d/*/*/*/T1_iso_*.png')\n",
    "    bias = glob.glob(f'/data-10tb/shared/skull/{cross_sec}-2d/*/*/*/T1_biascorr_iso_*.png')\n",
    "    mask = glob.glob(f'/data-10tb/shared/skull/{cross_sec}-2d/*/*/*/*brain_mask_iso_*.png')\n",
    "    \n",
    "    all_ = []\n",
    "    all_.extend(t1)\n",
    "    all_.extend(bias)\n",
    "    all_.extend(mask)\n",
    "    \n",
    "    df = pd.DataFrame.from_dict({'path':all_})\n",
    "    df.loc[df['path'].str.contains('train'), 'usage'] = 'train'\n",
    "    df.loc[df['path'].str.contains('valid'), 'usage'] = 'val'\n",
    "    \n",
    "\n",
    "    if save:\n",
    "        save_folder = Path(f'/data-10tb/marek/github_codes/skull-stripping-1/fastai/2.4_train_val_2d_path_tables')\n",
    "        save_folder.mkdir(parents=True, exist_ok=True)\n",
    "\n",
    "        save_name = f'test-val-{cross_sec}-2d.csv'    \n",
    "        pth = save_folder/save_name\n",
    "\n",
    "        df.to_csv(pth, index=False)\n",
    "    print(f'Done:\\t{cross_sec} {df.shape[0]}')\n",
    "    "
   ]
  },
  {
   "cell_type": "code",
   "execution_count": 5,
   "metadata": {},
   "outputs": [
    {
     "name": "stdout",
     "output_type": "stream",
     "text": [
      "CPU times: user 2min 35s, sys: 27.8 s, total: 3min 3s\n",
      "Wall time: 2min 33s\n"
     ]
    }
   ],
   "source": [
    "%%time\n",
    "file_exist2(df)"
   ]
  }
 ],
 "metadata": {
  "kernelspec": {
   "display_name": "fastai1",
   "language": "python",
   "name": "fastai1"
  },
  "language_info": {
   "codemirror_mode": {
    "name": "ipython",
    "version": 3
   },
   "file_extension": ".py",
   "mimetype": "text/x-python",
   "name": "python",
   "nbconvert_exporter": "python",
   "pygments_lexer": "ipython3",
   "version": "3.7.4"
  }
 },
 "nbformat": 4,
 "nbformat_minor": 4
}
