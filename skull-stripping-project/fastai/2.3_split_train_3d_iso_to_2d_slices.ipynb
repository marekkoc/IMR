{
 "cells": [
  {
   "cell_type": "markdown",
   "metadata": {},
   "source": [
    "Created: 2020.07.03\n",
    "\n",
    "Modified: 2020.08.10"
   ]
  },
  {
   "cell_type": "markdown",
   "metadata": {},
   "source": [
    "#### Convertion 3D isotropic images to set of 2D png slices based on paths in a df: train_val_mk_3d.csv"
   ]
  },
  {
   "cell_type": "code",
   "execution_count": 1,
   "metadata": {},
   "outputs": [],
   "source": [
    "%reload_ext autoreload\n",
    "%autoreload 2"
   ]
  },
  {
   "cell_type": "code",
   "execution_count": 2,
   "metadata": {},
   "outputs": [],
   "source": [
    "import glob\n",
    "import pandas as pd\n",
    "import numpy as np\n",
    "import imageio as io\n",
    "from pathlib import Path\n",
    "from fastai.core import parallel"
   ]
  },
  {
   "cell_type": "code",
   "execution_count": 3,
   "metadata": {},
   "outputs": [],
   "source": [
    "import sys\n",
    "sys.path.append('functions')\n",
    "\n",
    "%aimport functions00, functions01\n",
    "from functions00 import *\n",
    "from functions01 import *\n",
    "\n",
    "import functions23 as fun"
   ]
  },
  {
   "cell_type": "code",
   "execution_count": 4,
   "metadata": {},
   "outputs": [
    {
     "name": "stdout",
     "output_type": "stream",
     "text": [
      "**********************************************************************************************************************************\n",
      "Settings:\n",
      "\tHOST:  mmiv-ml-titan\n",
      "\tPATH_ROOT_DATA:  /data-10tb/shared/skull/train-3d-iso\n",
      "\tPATH_GIT_HUB:  /data-10tb/marek/github_codes/skull-stripping-1/fastai\n",
      "\tPATH_2D: /data-10tb/shared/skull\n",
      "\n",
      "3D DFs paths (_mk_3D):\n",
      "\tIXI_TEST_3D: /data-10tb/marek/github_codes/skull-stripping-1/fastai/2.2_train_valid_test_sets/ixi_test_mk_3d.csv\n",
      "\tTEST_3D : /data-10tb/marek/github_codes/skull-stripping-1/fastai/2.2_train_valid_test_sets/test_mk_3d.csv\n",
      "\tTRAIN_VAL_3D: /data-10tb/marek/github_codes/skull-stripping-1/fastai/2.2_train_valid_test_sets/train_val_mk_3d.csv\n",
      "\tNFBS_TEST_3D: /data-10tb/marek/github_codes/skull-stripping-1/fastai/2.2_train_valid_test_sets/nfbs_test_mk_3d.csv\n",
      "\n",
      "Error files (pickle):\n",
      "\tERROR_FILES: /data-10tb/marek/github_codes/skull-stripping-1/fastai/2.2_train_valid_test_sets/error_files\n",
      "**********************************************************************************************************************************\n"
     ]
    }
   ],
   "source": [
    "mk_get_host_info()"
   ]
  },
  {
   "cell_type": "code",
   "execution_count": 5,
   "metadata": {},
   "outputs": [
    {
     "name": "stdout",
     "output_type": "stream",
     "text": [
      "(2791, 16)\n"
     ]
    }
   ],
   "source": [
    "# pd.read_csv(...., index_col=0)\n",
    "df = pd.read_csv(TRAIN_VAL_3D, index_col=None)\n",
    "print(df.shape)"
   ]
  },
  {
   "cell_type": "code",
   "execution_count": 6,
   "metadata": {},
   "outputs": [
    {
     "data": {
      "text/html": [
       "<div>\n",
       "<style scoped>\n",
       "    .dataframe tbody tr th:only-of-type {\n",
       "        vertical-align: middle;\n",
       "    }\n",
       "\n",
       "    .dataframe tbody tr th {\n",
       "        vertical-align: top;\n",
       "    }\n",
       "\n",
       "    .dataframe thead th {\n",
       "        text-align: right;\n",
       "    }\n",
       "</style>\n",
       "<table border=\"1\" class=\"dataframe\">\n",
       "  <thead>\n",
       "    <tr style=\"text-align: right;\">\n",
       "      <th></th>\n",
       "      <th>t1_pth_dgx</th>\n",
       "      <th>bias_pth_dgx</th>\n",
       "      <th>mask_nn_pth_dgx</th>\n",
       "      <th>mask_lin_pth_dgx</th>\n",
       "      <th>t1_pth_titan</th>\n",
       "      <th>bias_pth_titan</th>\n",
       "      <th>mask_nn_pth_titan</th>\n",
       "      <th>mask_lin_pth_titan</th>\n",
       "      <th>age_at_scan</th>\n",
       "      <th>gender</th>\n",
       "      <th>subject_id</th>\n",
       "      <th>img_id</th>\n",
       "      <th>source</th>\n",
       "      <th>rounded_age</th>\n",
       "      <th>age_group</th>\n",
       "      <th>usage</th>\n",
       "    </tr>\n",
       "  </thead>\n",
       "  <tbody>\n",
       "    <tr>\n",
       "      <td>0</td>\n",
       "      <td>/data-external/sathiesh/br...</td>\n",
       "      <td>/data-external/sathiesh/br...</td>\n",
       "      <td>/data-external/sathiesh/br...</td>\n",
       "      <td>/data-external/sathiesh/br...</td>\n",
       "      <td>/data-10tb/shared/skull/tr...</td>\n",
       "      <td>/data-10tb/shared/skull/tr...</td>\n",
       "      <td>/data-10tb/shared/skull/tr...</td>\n",
       "      <td>/data-10tb/shared/skull/tr...</td>\n",
       "      <td>74.3</td>\n",
       "      <td>M</td>\n",
       "      <td>011_S_0002</td>\n",
       "      <td>35475.0</td>\n",
       "      <td>ADNI</td>\n",
       "      <td>74</td>\n",
       "      <td>74</td>\n",
       "      <td>train</td>\n",
       "    </tr>\n",
       "    <tr>\n",
       "      <td>1</td>\n",
       "      <td>/data-external/sathiesh/br...</td>\n",
       "      <td>/data-external/sathiesh/br...</td>\n",
       "      <td>/data-external/sathiesh/br...</td>\n",
       "      <td>/data-external/sathiesh/br...</td>\n",
       "      <td>/data-10tb/shared/skull/tr...</td>\n",
       "      <td>/data-10tb/shared/skull/tr...</td>\n",
       "      <td>/data-10tb/shared/skull/tr...</td>\n",
       "      <td>/data-10tb/shared/skull/tr...</td>\n",
       "      <td>78.5</td>\n",
       "      <td>F</td>\n",
       "      <td>022_S_0014</td>\n",
       "      <td>59375.0</td>\n",
       "      <td>ADNI</td>\n",
       "      <td>78</td>\n",
       "      <td>79</td>\n",
       "      <td>train</td>\n",
       "    </tr>\n",
       "  </tbody>\n",
       "</table>\n",
       "</div>"
      ],
      "text/plain": [
       "                      t1_pth_dgx                   bias_pth_dgx  \\\n",
       "0  /data-external/sathiesh/br...  /data-external/sathiesh/br...   \n",
       "1  /data-external/sathiesh/br...  /data-external/sathiesh/br...   \n",
       "\n",
       "                 mask_nn_pth_dgx               mask_lin_pth_dgx  \\\n",
       "0  /data-external/sathiesh/br...  /data-external/sathiesh/br...   \n",
       "1  /data-external/sathiesh/br...  /data-external/sathiesh/br...   \n",
       "\n",
       "                    t1_pth_titan                 bias_pth_titan  \\\n",
       "0  /data-10tb/shared/skull/tr...  /data-10tb/shared/skull/tr...   \n",
       "1  /data-10tb/shared/skull/tr...  /data-10tb/shared/skull/tr...   \n",
       "\n",
       "               mask_nn_pth_titan             mask_lin_pth_titan  age_at_scan  \\\n",
       "0  /data-10tb/shared/skull/tr...  /data-10tb/shared/skull/tr...         74.3   \n",
       "1  /data-10tb/shared/skull/tr...  /data-10tb/shared/skull/tr...         78.5   \n",
       "\n",
       "  gender  subject_id   img_id source  rounded_age  age_group  usage  \n",
       "0      M  011_S_0002  35475.0   ADNI           74         74  train  \n",
       "1      F  022_S_0014  59375.0   ADNI           78         79  train  "
      ]
     },
     "execution_count": 6,
     "metadata": {},
     "output_type": "execute_result"
    }
   ],
   "source": [
    "df.head(2)"
   ]
  },
  {
   "cell_type": "markdown",
   "metadata": {},
   "source": [
    "### Remove bad images from a df on ERROR_FILES"
   ]
  },
  {
   "cell_type": "code",
   "execution_count": 7,
   "metadata": {},
   "outputs": [
    {
     "name": "stdout",
     "output_type": "stream",
     "text": [
      "None of the files from the error_list is contained in a df!\n"
     ]
    }
   ],
   "source": [
    "mk_remove_error_flies_from_df(df, mk_get_error_file_list() )"
   ]
  },
  {
   "cell_type": "markdown",
   "metadata": {},
   "source": [
    "## TRAINING"
   ]
  },
  {
   "cell_type": "code",
   "execution_count": 8,
   "metadata": {},
   "outputs": [
    {
     "name": "stdout",
     "output_type": "stream",
     "text": [
      "(2132, 16)\n"
     ]
    }
   ],
   "source": [
    "df_train = df[df.usage=='train']\n",
    "print(df_train.shape)"
   ]
  },
  {
   "cell_type": "markdown",
   "metadata": {},
   "source": [
    "#### Prepare a list of all 3D images to split into 2d images"
   ]
  },
  {
   "cell_type": "code",
   "execution_count": 9,
   "metadata": {},
   "outputs": [
    {
     "data": {
      "text/plain": [
       "6396"
      ]
     },
     "execution_count": 9,
     "metadata": {},
     "output_type": "execute_result"
    }
   ],
   "source": [
    "im3d_train = []\n",
    "if 'dgx'.upper() in HOST:\n",
    "    im3d_train.extend(df_train['t1_pth_dgx'])\n",
    "    im3d_train.extend(df_train['bias_pth_dgx'])\n",
    "    im3d_train.extend(df_train['mask_nn_pth_dgx'])\n",
    "if 'titan' in HOST:\n",
    "    im3d_train.extend(df_train['t1_pth_titan'])\n",
    "    im3d_train.extend(df_train['bias_pth_titan'])\n",
    "    im3d_train.extend(df_train['mask_nn_pth_titan'])\n",
    "\n",
    "len(im3d_train)"
   ]
  },
  {
   "cell_type": "markdown",
   "metadata": {},
   "source": [
    "#### Check in all files exists"
   ]
  },
  {
   "cell_type": "code",
   "execution_count": 10,
   "metadata": {},
   "outputs": [
    {
     "name": "stdout",
     "output_type": "stream",
     "text": [
      "Looing for NOT EXISTING files in \"df.t1_pth_titan\"\n",
      "\tAll files are OK\n",
      "\n",
      "Looing for NOT EXISTING files in \"df.bias_pth_titan\"\n",
      "\tAll files are OK\n",
      "\n",
      "Looing for NOT EXISTING files in \"df.mask_nn_pth_titan\"\n",
      "\tAll files are OK\n",
      "\n"
     ]
    }
   ],
   "source": [
    "if 'titan' in HOST:\n",
    "    #df_files_exists(df, ['t1_pth_titan', 'bias_pth_titan', 'mask_nn_pth_titan', 'mask_lin_pth_titan'])\n",
    "    mk_df_files_exists(df, ['t1_pth_titan', 'bias_pth_titan', 'mask_nn_pth_titan'])\n",
    "    "
   ]
  },
  {
   "cell_type": "code",
   "execution_count": 11,
   "metadata": {},
   "outputs": [],
   "source": [
    "if 'dgx'.upper() in HOST:\n",
    "    mk_df_files_exists(df, ['t1_pth_dgx', 'bias_pth_dgx', 'mask_nn_pth_dgx', 'mask_lin_pth_dgx'])"
   ]
  },
  {
   "cell_type": "markdown",
   "metadata": {},
   "source": [
    "### Prepare to splitting"
   ]
  },
  {
   "cell_type": "code",
   "execution_count": 12,
   "metadata": {},
   "outputs": [],
   "source": [
    "im3d_train_folder = list(map(lambda e: (e, 'train'), im3d_train))"
   ]
  },
  {
   "cell_type": "markdown",
   "metadata": {},
   "source": [
    "#### Axial"
   ]
  },
  {
   "cell_type": "code",
   "execution_count": 13,
   "metadata": {},
   "outputs": [
    {
     "data": {
      "text/html": [],
      "text/plain": [
       "<IPython.core.display.HTML object>"
      ]
     },
     "metadata": {},
     "output_type": "display_data"
    },
    {
     "name": "stdout",
     "output_type": "stream",
     "text": [
      "CPU times: user 15 s, sys: 2.45 s, total: 17.5 s\n",
      "Wall time: 19min 44s\n"
     ]
    }
   ],
   "source": [
    "%%time\n",
    "parallel(fun.axial_3d_2_2d, im3d_train_folder, max_workers=32)"
   ]
  },
  {
   "cell_type": "markdown",
   "metadata": {},
   "source": [
    "#### Coronal"
   ]
  },
  {
   "cell_type": "code",
   "execution_count": 14,
   "metadata": {},
   "outputs": [
    {
     "data": {
      "text/html": [],
      "text/plain": [
       "<IPython.core.display.HTML object>"
      ]
     },
     "metadata": {},
     "output_type": "display_data"
    },
    {
     "name": "stdout",
     "output_type": "stream",
     "text": [
      "CPU times: user 14.8 s, sys: 2.45 s, total: 17.2 s\n",
      "Wall time: 16min 47s\n"
     ]
    }
   ],
   "source": [
    "%%time\n",
    "parallel(fun.coronal_3d_2_2d, im3d_train_folder, max_workers=32)"
   ]
  },
  {
   "cell_type": "markdown",
   "metadata": {},
   "source": [
    "#### Sagittal"
   ]
  },
  {
   "cell_type": "code",
   "execution_count": 15,
   "metadata": {},
   "outputs": [
    {
     "data": {
      "text/html": [],
      "text/plain": [
       "<IPython.core.display.HTML object>"
      ]
     },
     "metadata": {},
     "output_type": "display_data"
    },
    {
     "name": "stdout",
     "output_type": "stream",
     "text": [
      "CPU times: user 16.9 s, sys: 3.06 s, total: 20 s\n",
      "Wall time: 20min 44s\n"
     ]
    }
   ],
   "source": [
    "%%time\n",
    "parallel(fun.sagittal_3d_2_2d, im3d_train_folder, max_workers=32)"
   ]
  },
  {
   "cell_type": "markdown",
   "metadata": {},
   "source": [
    "## VALIDATION"
   ]
  },
  {
   "cell_type": "code",
   "execution_count": 16,
   "metadata": {},
   "outputs": [
    {
     "data": {
      "text/plain": [
       "(659, 16)"
      ]
     },
     "execution_count": 16,
     "metadata": {},
     "output_type": "execute_result"
    }
   ],
   "source": [
    "df_val = df[df.usage=='val']\n",
    "df_val.shape"
   ]
  },
  {
   "cell_type": "markdown",
   "metadata": {},
   "source": [
    "#### Prepare a list of all 3D images to split into 2d images"
   ]
  },
  {
   "cell_type": "code",
   "execution_count": 17,
   "metadata": {},
   "outputs": [
    {
     "data": {
      "text/plain": [
       "1977"
      ]
     },
     "execution_count": 17,
     "metadata": {},
     "output_type": "execute_result"
    }
   ],
   "source": [
    "im3d_val = []\n",
    "if 'dgx'.upper() in HOST:\n",
    "    im3d_val.extend(df_val['t1_pth_dgx'])\n",
    "    im3d_val.extend(df_val['bias_pth_dgx'])\n",
    "    im3d_val.extend(df_val['mask_nn_pth_dgx'])\n",
    "if 'titan' in HOST:\n",
    "    im3d_val.extend(df_val['t1_pth_titan'])\n",
    "    im3d_val.extend(df_val['bias_pth_titan'])\n",
    "    im3d_val.extend(df_val['mask_nn_pth_titan'])\n",
    "\n",
    "len(im3d_val)"
   ]
  },
  {
   "cell_type": "markdown",
   "metadata": {},
   "source": [
    "#### Check in all files exists"
   ]
  },
  {
   "cell_type": "code",
   "execution_count": 18,
   "metadata": {},
   "outputs": [
    {
     "name": "stdout",
     "output_type": "stream",
     "text": [
      "Looing for NOT EXISTING files in \"df.t1_pth_titan\"\n",
      "\tAll files are OK\n",
      "\n",
      "Looing for NOT EXISTING files in \"df.bias_pth_titan\"\n",
      "\tAll files are OK\n",
      "\n",
      "Looing for NOT EXISTING files in \"df.mask_nn_pth_titan\"\n",
      "\tAll files are OK\n",
      "\n"
     ]
    }
   ],
   "source": [
    "if 'titan' in HOST:\n",
    "    #df_files_exists(df, ['t1_pth_titan', 'bias_pth_titan', 'mask_nn_pth_titan', 'mask_lin_pth_titan'])\n",
    "    mk_df_files_exists(df, ['t1_pth_titan', 'bias_pth_titan', 'mask_nn_pth_titan'])"
   ]
  },
  {
   "cell_type": "code",
   "execution_count": 19,
   "metadata": {},
   "outputs": [],
   "source": [
    "if 'dgx'.upper() in HOST:\n",
    "    mk_df_files_exists(df, ['t1_pth_dgx', 'bias_pth_dgx', 'mask_nn_pth_dgx', 'mask_lin_pth_dgx'])"
   ]
  },
  {
   "cell_type": "markdown",
   "metadata": {},
   "source": [
    "### Prepare to splitting"
   ]
  },
  {
   "cell_type": "code",
   "execution_count": 20,
   "metadata": {},
   "outputs": [],
   "source": [
    "im3d_val_folder = list(map(lambda e: (e, 'valid'), im3d_val))"
   ]
  },
  {
   "cell_type": "markdown",
   "metadata": {},
   "source": [
    "#### Axial"
   ]
  },
  {
   "cell_type": "code",
   "execution_count": 21,
   "metadata": {},
   "outputs": [
    {
     "data": {
      "text/html": [],
      "text/plain": [
       "<IPython.core.display.HTML object>"
      ]
     },
     "metadata": {},
     "output_type": "display_data"
    },
    {
     "name": "stdout",
     "output_type": "stream",
     "text": [
      "CPU times: user 4.38 s, sys: 892 ms, total: 5.27 s\n",
      "Wall time: 9min 3s\n"
     ]
    }
   ],
   "source": [
    "%%time\n",
    "parallel(fun.axial_3d_2_2d, im3d_val_folder, max_workers=32)"
   ]
  },
  {
   "cell_type": "markdown",
   "metadata": {},
   "source": [
    "#### Coronal"
   ]
  },
  {
   "cell_type": "code",
   "execution_count": 22,
   "metadata": {},
   "outputs": [
    {
     "data": {
      "text/html": [],
      "text/plain": [
       "<IPython.core.display.HTML object>"
      ]
     },
     "metadata": {},
     "output_type": "display_data"
    },
    {
     "name": "stdout",
     "output_type": "stream",
     "text": [
      "CPU times: user 4.44 s, sys: 978 ms, total: 5.41 s\n",
      "Wall time: 5min 26s\n"
     ]
    }
   ],
   "source": [
    "%%time\n",
    "parallel(fun.coronal_3d_2_2d, im3d_val_folder, max_workers=32)"
   ]
  },
  {
   "cell_type": "markdown",
   "metadata": {},
   "source": [
    "#### Sagittal"
   ]
  },
  {
   "cell_type": "code",
   "execution_count": 23,
   "metadata": {},
   "outputs": [
    {
     "data": {
      "text/html": [],
      "text/plain": [
       "<IPython.core.display.HTML object>"
      ]
     },
     "metadata": {},
     "output_type": "display_data"
    },
    {
     "name": "stdout",
     "output_type": "stream",
     "text": [
      "CPU times: user 4.66 s, sys: 1.05 s, total: 5.72 s\n",
      "Wall time: 3min 52s\n"
     ]
    }
   ],
   "source": [
    "%%time\n",
    "parallel(fun.sagittal_3d_2_2d, im3d_val_folder, max_workers=32)"
   ]
  },
  {
   "cell_type": "markdown",
   "metadata": {},
   "source": [
    "## Previous version"
   ]
  },
  {
   "cell_type": "markdown",
   "metadata": {},
   "source": [
    "##### Replace values bigger than 1 to 1 in ALL MASK images"
   ]
  },
  {
   "cell_type": "code",
   "execution_count": 24,
   "metadata": {},
   "outputs": [],
   "source": [
    "# pth = Path('/data-10tb/shared/skull/')\n",
    "# pngs = sorted(glob.glob('/data-10tb/shared/skull/*/*/*/*/*_mask_iso*.png'))\n",
    "# len(pngs)"
   ]
  },
  {
   "cell_type": "code",
   "execution_count": 25,
   "metadata": {},
   "outputs": [],
   "source": [
    "# l = len(pngs)\n",
    "# for i, fname in enumerate(pngs):\n",
    "#     io.imsave(fname, np.where(io.imread(fname)>=1, 1, 0).astype('uint8'))\n",
    "#     print(f'{i}/{l}', end='\\r')"
   ]
  },
  {
   "cell_type": "code",
   "execution_count": null,
   "metadata": {},
   "outputs": [],
   "source": []
  }
 ],
 "metadata": {
  "kernelspec": {
   "display_name": "fastai1",
   "language": "python",
   "name": "fastai1"
  },
  "language_info": {
   "codemirror_mode": {
    "name": "ipython",
    "version": 3
   },
   "file_extension": ".py",
   "mimetype": "text/x-python",
   "name": "python",
   "nbconvert_exporter": "python",
   "pygments_lexer": "ipython3",
   "version": "3.7.4"
  }
 },
 "nbformat": 4,
 "nbformat_minor": 4
}
