{
 "cells": [
  {
   "cell_type": "markdown",
   "metadata": {},
   "source": [
    "### Basic information about 3D anisotropic images\n",
    "\n",
    "######  2020.07.01  \n",
    "\n",
    "###### (ver. 2020.07.12)"
   ]
  },
  {
   "cell_type": "markdown",
   "metadata": {},
   "source": [
    "This file reads the basic meta-information about **3D** images. It might be substantial during convertion from 3D dataset to set of 2D slices."
   ]
  },
  {
   "cell_type": "code",
   "execution_count": 103,
   "metadata": {},
   "outputs": [],
   "source": [
    "from fastai.utils.mem import *\n",
    "\n",
    "import sys\n",
    "sys.path.append('functions/')\n",
    "\n",
    "import functions10 as f\n",
    "\n",
    "import imp\n",
    "_ = imp.reload(f)"
   ]
  },
  {
   "cell_type": "code",
   "execution_count": 104,
   "metadata": {},
   "outputs": [],
   "source": [
    "t1_name = 'T1.nii.gz'\n",
    "t1_biascorr = 'T1_biascorr.nii.gz'\n",
    "t1_mask = 'T1_biascorr_brain_mask.nii.gz'"
   ]
  },
  {
   "cell_type": "markdown",
   "metadata": {},
   "source": [
    "# PPMI"
   ]
  },
  {
   "cell_type": "code",
   "execution_count": 105,
   "metadata": {},
   "outputs": [],
   "source": [
    "database = 'PPMI'\n",
    "root_folder = Path(f'/data-10tb/marek/{database}/train_data/FSL_outputs')\n",
    "results_folder = Path(f'/data-10tb/marek/github_codes/skull-stripping-1/fastai/1.0_results/')\n",
    "#root_folder.ls()"
   ]
  },
  {
   "cell_type": "code",
   "execution_count": 106,
   "metadata": {},
   "outputs": [],
   "source": [
    "t1_files = list(root_folder.glob(f'*/{t1_name}'))\n",
    "t1_bias_files = list(root_folder.glob(f'*/{t1_biascorr}'))\n",
    "t1_mask_files = list(root_folder.glob(f'*/{t1_mask}'))\n",
    "\n",
    "t1_files.sort()\n",
    "t1_bias_files.sort()\n",
    "t1_mask_files.sort()"
   ]
  },
  {
   "cell_type": "code",
   "execution_count": 107,
   "metadata": {},
   "outputs": [],
   "source": [
    "#t1_files[:3]"
   ]
  },
  {
   "cell_type": "markdown",
   "metadata": {},
   "source": [
    "#### Get description tables"
   ]
  },
  {
   "cell_type": "markdown",
   "metadata": {},
   "source": [
    "REMARK:     get_aibl_infoo() - works for PPMI (!!!)"
   ]
  },
  {
   "cell_type": "code",
   "execution_count": 108,
   "metadata": {},
   "outputs": [
    {
     "data": {
      "text/html": [
       "<div>\n",
       "<style scoped>\n",
       "    .dataframe tbody tr th:only-of-type {\n",
       "        vertical-align: middle;\n",
       "    }\n",
       "\n",
       "    .dataframe tbody tr th {\n",
       "        vertical-align: top;\n",
       "    }\n",
       "\n",
       "    .dataframe thead th {\n",
       "        text-align: right;\n",
       "    }\n",
       "</style>\n",
       "<table border=\"1\" class=\"dataframe\">\n",
       "  <thead>\n",
       "    <tr style=\"text-align: right;\">\n",
       "      <th></th>\n",
       "      <th>Examination</th>\n",
       "      <th>Subject_id</th>\n",
       "      <th>Image_id</th>\n",
       "      <th>Modality</th>\n",
       "      <th>Image</th>\n",
       "      <th>Path</th>\n",
       "    </tr>\n",
       "  </thead>\n",
       "  <tbody>\n",
       "    <tr>\n",
       "      <td>0</td>\n",
       "      <td>PPMI_15761_MR_T1-anatomical_Br_201503041823125...</td>\n",
       "      <td>S234683</td>\n",
       "      <td>I476311</td>\n",
       "      <td>T1.anat</td>\n",
       "      <td>T1.nii.gz</td>\n",
       "      <td>/data-10tb/marek/PPMI/train_data/FSL_outputs/P...</td>\n",
       "    </tr>\n",
       "    <tr>\n",
       "      <td>1</td>\n",
       "      <td>PPMI_17608_MR_T1-anatomical_Br_201510142056238...</td>\n",
       "      <td>S248491</td>\n",
       "      <td>I526726</td>\n",
       "      <td>T1.anat</td>\n",
       "      <td>T1.nii.gz</td>\n",
       "      <td>/data-10tb/marek/PPMI/train_data/FSL_outputs/P...</td>\n",
       "    </tr>\n",
       "    <tr>\n",
       "      <td>2</td>\n",
       "      <td>PPMI_3101_MR_T1-anatomical_Br_2014012213275883...</td>\n",
       "      <td>S178931</td>\n",
       "      <td>I405842</td>\n",
       "      <td>T1.anat</td>\n",
       "      <td>T1.nii.gz</td>\n",
       "      <td>/data-10tb/marek/PPMI/train_data/FSL_outputs/P...</td>\n",
       "    </tr>\n",
       "  </tbody>\n",
       "</table>\n",
       "</div>"
      ],
      "text/plain": [
       "                                         Examination Subject_id Image_id  \\\n",
       "0  PPMI_15761_MR_T1-anatomical_Br_201503041823125...    S234683  I476311   \n",
       "1  PPMI_17608_MR_T1-anatomical_Br_201510142056238...    S248491  I526726   \n",
       "2  PPMI_3101_MR_T1-anatomical_Br_2014012213275883...    S178931  I405842   \n",
       "\n",
       "  Modality      Image                                               Path  \n",
       "0  T1.anat  T1.nii.gz  /data-10tb/marek/PPMI/train_data/FSL_outputs/P...  \n",
       "1  T1.anat  T1.nii.gz  /data-10tb/marek/PPMI/train_data/FSL_outputs/P...  \n",
       "2  T1.anat  T1.nii.gz  /data-10tb/marek/PPMI/train_data/FSL_outputs/P...  "
      ]
     },
     "execution_count": 108,
     "metadata": {},
     "output_type": "execute_result"
    }
   ],
   "source": [
    "ppmi_t1_info = f.get_aibl_info(t1_files)\n",
    "ppmi_t1_info.head(3)"
   ]
  },
  {
   "cell_type": "code",
   "execution_count": 109,
   "metadata": {},
   "outputs": [
    {
     "data": {
      "text/html": [
       "<div>\n",
       "<style scoped>\n",
       "    .dataframe tbody tr th:only-of-type {\n",
       "        vertical-align: middle;\n",
       "    }\n",
       "\n",
       "    .dataframe tbody tr th {\n",
       "        vertical-align: top;\n",
       "    }\n",
       "\n",
       "    .dataframe thead th {\n",
       "        text-align: right;\n",
       "    }\n",
       "</style>\n",
       "<table border=\"1\" class=\"dataframe\">\n",
       "  <thead>\n",
       "    <tr style=\"text-align: right;\">\n",
       "      <th></th>\n",
       "      <th>Examination</th>\n",
       "      <th>Subject_id</th>\n",
       "      <th>Image_id</th>\n",
       "      <th>Modality</th>\n",
       "      <th>Image</th>\n",
       "      <th>Path</th>\n",
       "    </tr>\n",
       "  </thead>\n",
       "  <tbody>\n",
       "    <tr>\n",
       "      <td>0</td>\n",
       "      <td>PPMI_15761_MR_T1-anatomical_Br_201503041823125...</td>\n",
       "      <td>S234683</td>\n",
       "      <td>I476311</td>\n",
       "      <td>T1.anat</td>\n",
       "      <td>T1_biascorr.nii.gz</td>\n",
       "      <td>/data-10tb/marek/PPMI/train_data/FSL_outputs/P...</td>\n",
       "    </tr>\n",
       "    <tr>\n",
       "      <td>1</td>\n",
       "      <td>PPMI_17608_MR_T1-anatomical_Br_201510142056238...</td>\n",
       "      <td>S248491</td>\n",
       "      <td>I526726</td>\n",
       "      <td>T1.anat</td>\n",
       "      <td>T1_biascorr.nii.gz</td>\n",
       "      <td>/data-10tb/marek/PPMI/train_data/FSL_outputs/P...</td>\n",
       "    </tr>\n",
       "    <tr>\n",
       "      <td>2</td>\n",
       "      <td>PPMI_3101_MR_T1-anatomical_Br_2014012213275883...</td>\n",
       "      <td>S178931</td>\n",
       "      <td>I405842</td>\n",
       "      <td>T1.anat</td>\n",
       "      <td>T1_biascorr.nii.gz</td>\n",
       "      <td>/data-10tb/marek/PPMI/train_data/FSL_outputs/P...</td>\n",
       "    </tr>\n",
       "  </tbody>\n",
       "</table>\n",
       "</div>"
      ],
      "text/plain": [
       "                                         Examination Subject_id Image_id  \\\n",
       "0  PPMI_15761_MR_T1-anatomical_Br_201503041823125...    S234683  I476311   \n",
       "1  PPMI_17608_MR_T1-anatomical_Br_201510142056238...    S248491  I526726   \n",
       "2  PPMI_3101_MR_T1-anatomical_Br_2014012213275883...    S178931  I405842   \n",
       "\n",
       "  Modality               Image  \\\n",
       "0  T1.anat  T1_biascorr.nii.gz   \n",
       "1  T1.anat  T1_biascorr.nii.gz   \n",
       "2  T1.anat  T1_biascorr.nii.gz   \n",
       "\n",
       "                                                Path  \n",
       "0  /data-10tb/marek/PPMI/train_data/FSL_outputs/P...  \n",
       "1  /data-10tb/marek/PPMI/train_data/FSL_outputs/P...  \n",
       "2  /data-10tb/marek/PPMI/train_data/FSL_outputs/P...  "
      ]
     },
     "execution_count": 109,
     "metadata": {},
     "output_type": "execute_result"
    }
   ],
   "source": [
    "ppmi_t1_bias_info = f.get_aibl_info(t1_bias_files)\n",
    "ppmi_t1_bias_info.head(3)"
   ]
  },
  {
   "cell_type": "code",
   "execution_count": 110,
   "metadata": {},
   "outputs": [
    {
     "data": {
      "text/html": [
       "<div>\n",
       "<style scoped>\n",
       "    .dataframe tbody tr th:only-of-type {\n",
       "        vertical-align: middle;\n",
       "    }\n",
       "\n",
       "    .dataframe tbody tr th {\n",
       "        vertical-align: top;\n",
       "    }\n",
       "\n",
       "    .dataframe thead th {\n",
       "        text-align: right;\n",
       "    }\n",
       "</style>\n",
       "<table border=\"1\" class=\"dataframe\">\n",
       "  <thead>\n",
       "    <tr style=\"text-align: right;\">\n",
       "      <th></th>\n",
       "      <th>Examination</th>\n",
       "      <th>Subject_id</th>\n",
       "      <th>Image_id</th>\n",
       "      <th>Modality</th>\n",
       "      <th>Image</th>\n",
       "      <th>Path</th>\n",
       "    </tr>\n",
       "  </thead>\n",
       "  <tbody>\n",
       "    <tr>\n",
       "      <td>0</td>\n",
       "      <td>PPMI_15761_MR_T1-anatomical_Br_201503041823125...</td>\n",
       "      <td>S234683</td>\n",
       "      <td>I476311</td>\n",
       "      <td>T1.anat</td>\n",
       "      <td>T1_biascorr_brain_mask.nii.gz</td>\n",
       "      <td>/data-10tb/marek/PPMI/train_data/FSL_outputs/P...</td>\n",
       "    </tr>\n",
       "    <tr>\n",
       "      <td>1</td>\n",
       "      <td>PPMI_17608_MR_T1-anatomical_Br_201510142056238...</td>\n",
       "      <td>S248491</td>\n",
       "      <td>I526726</td>\n",
       "      <td>T1.anat</td>\n",
       "      <td>T1_biascorr_brain_mask.nii.gz</td>\n",
       "      <td>/data-10tb/marek/PPMI/train_data/FSL_outputs/P...</td>\n",
       "    </tr>\n",
       "    <tr>\n",
       "      <td>2</td>\n",
       "      <td>PPMI_3101_MR_T1-anatomical_Br_2014012213275883...</td>\n",
       "      <td>S178931</td>\n",
       "      <td>I405842</td>\n",
       "      <td>T1.anat</td>\n",
       "      <td>T1_biascorr_brain_mask.nii.gz</td>\n",
       "      <td>/data-10tb/marek/PPMI/train_data/FSL_outputs/P...</td>\n",
       "    </tr>\n",
       "  </tbody>\n",
       "</table>\n",
       "</div>"
      ],
      "text/plain": [
       "                                         Examination Subject_id Image_id  \\\n",
       "0  PPMI_15761_MR_T1-anatomical_Br_201503041823125...    S234683  I476311   \n",
       "1  PPMI_17608_MR_T1-anatomical_Br_201510142056238...    S248491  I526726   \n",
       "2  PPMI_3101_MR_T1-anatomical_Br_2014012213275883...    S178931  I405842   \n",
       "\n",
       "  Modality                          Image  \\\n",
       "0  T1.anat  T1_biascorr_brain_mask.nii.gz   \n",
       "1  T1.anat  T1_biascorr_brain_mask.nii.gz   \n",
       "2  T1.anat  T1_biascorr_brain_mask.nii.gz   \n",
       "\n",
       "                                                Path  \n",
       "0  /data-10tb/marek/PPMI/train_data/FSL_outputs/P...  \n",
       "1  /data-10tb/marek/PPMI/train_data/FSL_outputs/P...  \n",
       "2  /data-10tb/marek/PPMI/train_data/FSL_outputs/P...  "
      ]
     },
     "execution_count": 110,
     "metadata": {},
     "output_type": "execute_result"
    }
   ],
   "source": [
    "ppmi_t1_mask_info = f.get_aibl_info(t1_mask_files)\n",
    "ppmi_t1_mask_info.head(3)"
   ]
  },
  {
   "cell_type": "markdown",
   "metadata": {},
   "source": [
    "#### Get images info"
   ]
  },
  {
   "cell_type": "code",
   "execution_count": 111,
   "metadata": {},
   "outputs": [
    {
     "name": "stdout",
     "output_type": "stream",
     "text": [
      "CPU times: user 1min 39s, sys: 7.79 s, total: 1min 47s219_S254440_I525970.anat   \n",
      "Wall time: 3min 57s\n"
     ]
    }
   ],
   "source": [
    "%%time\n",
    "ppmi_t1_im_info = f.get_img_params(t1_files)"
   ]
  },
  {
   "cell_type": "code",
   "execution_count": 112,
   "metadata": {},
   "outputs": [],
   "source": [
    "# for k in ppmi_t1_im_info.Examination[:3]:\n",
    "#     print(k)"
   ]
  },
  {
   "cell_type": "code",
   "execution_count": 113,
   "metadata": {},
   "outputs": [
    {
     "data": {
      "text/html": [
       "<div>\n",
       "<style scoped>\n",
       "    .dataframe tbody tr th:only-of-type {\n",
       "        vertical-align: middle;\n",
       "    }\n",
       "\n",
       "    .dataframe tbody tr th {\n",
       "        vertical-align: top;\n",
       "    }\n",
       "\n",
       "    .dataframe thead th {\n",
       "        text-align: right;\n",
       "    }\n",
       "</style>\n",
       "<table border=\"1\" class=\"dataframe\">\n",
       "  <thead>\n",
       "    <tr style=\"text-align: right;\">\n",
       "      <th></th>\n",
       "      <th>Examination</th>\n",
       "      <th>Image</th>\n",
       "      <th>max</th>\n",
       "      <th>mean</th>\n",
       "      <th>min</th>\n",
       "      <th>dtype</th>\n",
       "      <th>size_1</th>\n",
       "      <th>size_2</th>\n",
       "      <th>size_3</th>\n",
       "      <th>pixdim_1</th>\n",
       "      <th>pixdim_2</th>\n",
       "      <th>pixixdim_3</th>\n",
       "    </tr>\n",
       "  </thead>\n",
       "  <tbody>\n",
       "    <tr>\n",
       "      <td>0</td>\n",
       "      <td>PPMI_15761_MR_T1-anatomical_Br_201503041823125...</td>\n",
       "      <td>T1.nii.gz</td>\n",
       "      <td>906.0</td>\n",
       "      <td>97.48</td>\n",
       "      <td>0.0</td>\n",
       "      <td>float64</td>\n",
       "      <td>176</td>\n",
       "      <td>240</td>\n",
       "      <td>170</td>\n",
       "      <td>1.0</td>\n",
       "      <td>1.0</td>\n",
       "      <td>1.0</td>\n",
       "    </tr>\n",
       "    <tr>\n",
       "      <td>1</td>\n",
       "      <td>PPMI_17608_MR_T1-anatomical_Br_201510142056238...</td>\n",
       "      <td>T1.nii.gz</td>\n",
       "      <td>1005.0</td>\n",
       "      <td>116.29</td>\n",
       "      <td>0.0</td>\n",
       "      <td>float64</td>\n",
       "      <td>176</td>\n",
       "      <td>240</td>\n",
       "      <td>170</td>\n",
       "      <td>1.0</td>\n",
       "      <td>1.0</td>\n",
       "      <td>1.0</td>\n",
       "    </tr>\n",
       "    <tr>\n",
       "      <td>2</td>\n",
       "      <td>PPMI_3101_MR_T1-anatomical_Br_2014012213275883...</td>\n",
       "      <td>T1.nii.gz</td>\n",
       "      <td>766.0</td>\n",
       "      <td>85.96</td>\n",
       "      <td>0.0</td>\n",
       "      <td>float64</td>\n",
       "      <td>176</td>\n",
       "      <td>240</td>\n",
       "      <td>170</td>\n",
       "      <td>1.0</td>\n",
       "      <td>1.0</td>\n",
       "      <td>1.0</td>\n",
       "    </tr>\n",
       "  </tbody>\n",
       "</table>\n",
       "</div>"
      ],
      "text/plain": [
       "                                         Examination      Image     max  \\\n",
       "0  PPMI_15761_MR_T1-anatomical_Br_201503041823125...  T1.nii.gz   906.0   \n",
       "1  PPMI_17608_MR_T1-anatomical_Br_201510142056238...  T1.nii.gz  1005.0   \n",
       "2  PPMI_3101_MR_T1-anatomical_Br_2014012213275883...  T1.nii.gz   766.0   \n",
       "\n",
       "     mean  min    dtype  size_1  size_2  size_3  pixdim_1  pixdim_2  \\\n",
       "0   97.48  0.0  float64     176     240     170       1.0       1.0   \n",
       "1  116.29  0.0  float64     176     240     170       1.0       1.0   \n",
       "2   85.96  0.0  float64     176     240     170       1.0       1.0   \n",
       "\n",
       "   pixixdim_3  \n",
       "0         1.0  \n",
       "1         1.0  \n",
       "2         1.0  "
      ]
     },
     "execution_count": 113,
     "metadata": {},
     "output_type": "execute_result"
    }
   ],
   "source": [
    "ppmi_t1_im_info.head(3).round(2)"
   ]
  },
  {
   "cell_type": "code",
   "execution_count": 114,
   "metadata": {},
   "outputs": [
    {
     "name": "stdout",
     "output_type": "stream",
     "text": [
      "752/752  PPMI_85242_MR_T1-anatomical_Br_20151014132355219_S254440_I525970.anat   \r"
     ]
    }
   ],
   "source": [
    "ppmi_t1_bias_im_info = f.get_img_params(t1_bias_files)"
   ]
  },
  {
   "cell_type": "code",
   "execution_count": 115,
   "metadata": {},
   "outputs": [
    {
     "data": {
      "text/html": [
       "<div>\n",
       "<style scoped>\n",
       "    .dataframe tbody tr th:only-of-type {\n",
       "        vertical-align: middle;\n",
       "    }\n",
       "\n",
       "    .dataframe tbody tr th {\n",
       "        vertical-align: top;\n",
       "    }\n",
       "\n",
       "    .dataframe thead th {\n",
       "        text-align: right;\n",
       "    }\n",
       "</style>\n",
       "<table border=\"1\" class=\"dataframe\">\n",
       "  <thead>\n",
       "    <tr style=\"text-align: right;\">\n",
       "      <th></th>\n",
       "      <th>Examination</th>\n",
       "      <th>Image</th>\n",
       "      <th>max</th>\n",
       "      <th>mean</th>\n",
       "      <th>min</th>\n",
       "      <th>dtype</th>\n",
       "      <th>size_1</th>\n",
       "      <th>size_2</th>\n",
       "      <th>size_3</th>\n",
       "      <th>pixdim_1</th>\n",
       "      <th>pixdim_2</th>\n",
       "      <th>pixixdim_3</th>\n",
       "    </tr>\n",
       "  </thead>\n",
       "  <tbody>\n",
       "    <tr>\n",
       "      <td>0</td>\n",
       "      <td>PPMI_15761_MR_T1-anatomical_Br_201503041823125...</td>\n",
       "      <td>T1_biascorr.nii.gz</td>\n",
       "      <td>946.47</td>\n",
       "      <td>98.59</td>\n",
       "      <td>0.0</td>\n",
       "      <td>float64</td>\n",
       "      <td>176</td>\n",
       "      <td>240</td>\n",
       "      <td>170</td>\n",
       "      <td>1.0</td>\n",
       "      <td>1.0</td>\n",
       "      <td>1.0</td>\n",
       "    </tr>\n",
       "    <tr>\n",
       "      <td>1</td>\n",
       "      <td>PPMI_17608_MR_T1-anatomical_Br_201510142056238...</td>\n",
       "      <td>T1_biascorr.nii.gz</td>\n",
       "      <td>928.93</td>\n",
       "      <td>118.40</td>\n",
       "      <td>0.0</td>\n",
       "      <td>float64</td>\n",
       "      <td>176</td>\n",
       "      <td>240</td>\n",
       "      <td>170</td>\n",
       "      <td>1.0</td>\n",
       "      <td>1.0</td>\n",
       "      <td>1.0</td>\n",
       "    </tr>\n",
       "    <tr>\n",
       "      <td>2</td>\n",
       "      <td>PPMI_3101_MR_T1-anatomical_Br_2014012213275883...</td>\n",
       "      <td>T1_biascorr.nii.gz</td>\n",
       "      <td>746.35</td>\n",
       "      <td>86.87</td>\n",
       "      <td>0.0</td>\n",
       "      <td>float64</td>\n",
       "      <td>176</td>\n",
       "      <td>240</td>\n",
       "      <td>170</td>\n",
       "      <td>1.0</td>\n",
       "      <td>1.0</td>\n",
       "      <td>1.0</td>\n",
       "    </tr>\n",
       "  </tbody>\n",
       "</table>\n",
       "</div>"
      ],
      "text/plain": [
       "                                         Examination               Image  \\\n",
       "0  PPMI_15761_MR_T1-anatomical_Br_201503041823125...  T1_biascorr.nii.gz   \n",
       "1  PPMI_17608_MR_T1-anatomical_Br_201510142056238...  T1_biascorr.nii.gz   \n",
       "2  PPMI_3101_MR_T1-anatomical_Br_2014012213275883...  T1_biascorr.nii.gz   \n",
       "\n",
       "      max    mean  min    dtype  size_1  size_2  size_3  pixdim_1  pixdim_2  \\\n",
       "0  946.47   98.59  0.0  float64     176     240     170       1.0       1.0   \n",
       "1  928.93  118.40  0.0  float64     176     240     170       1.0       1.0   \n",
       "2  746.35   86.87  0.0  float64     176     240     170       1.0       1.0   \n",
       "\n",
       "   pixixdim_3  \n",
       "0         1.0  \n",
       "1         1.0  \n",
       "2         1.0  "
      ]
     },
     "execution_count": 115,
     "metadata": {},
     "output_type": "execute_result"
    }
   ],
   "source": [
    "ppmi_t1_bias_im_info.head(3).round(2)"
   ]
  },
  {
   "cell_type": "code",
   "execution_count": 116,
   "metadata": {},
   "outputs": [
    {
     "name": "stdout",
     "output_type": "stream",
     "text": [
      "752/752  PPMI_85242_MR_T1-anatomical_Br_20151014132355219_S254440_I525970.anat   \r"
     ]
    }
   ],
   "source": [
    "ppmi_t1_mask_im_info = f.get_img_params(t1_mask_files)"
   ]
  },
  {
   "cell_type": "code",
   "execution_count": 117,
   "metadata": {},
   "outputs": [
    {
     "data": {
      "text/html": [
       "<div>\n",
       "<style scoped>\n",
       "    .dataframe tbody tr th:only-of-type {\n",
       "        vertical-align: middle;\n",
       "    }\n",
       "\n",
       "    .dataframe tbody tr th {\n",
       "        vertical-align: top;\n",
       "    }\n",
       "\n",
       "    .dataframe thead th {\n",
       "        text-align: right;\n",
       "    }\n",
       "</style>\n",
       "<table border=\"1\" class=\"dataframe\">\n",
       "  <thead>\n",
       "    <tr style=\"text-align: right;\">\n",
       "      <th></th>\n",
       "      <th>Examination</th>\n",
       "      <th>Image</th>\n",
       "      <th>max</th>\n",
       "      <th>mean</th>\n",
       "      <th>min</th>\n",
       "      <th>dtype</th>\n",
       "      <th>size_1</th>\n",
       "      <th>size_2</th>\n",
       "      <th>size_3</th>\n",
       "      <th>pixdim_1</th>\n",
       "      <th>pixdim_2</th>\n",
       "      <th>pixixdim_3</th>\n",
       "    </tr>\n",
       "  </thead>\n",
       "  <tbody>\n",
       "    <tr>\n",
       "      <td>0</td>\n",
       "      <td>PPMI_15761_MR_T1-anatomical_Br_201503041823125...</td>\n",
       "      <td>T1_biascorr_brain_mask.nii.gz</td>\n",
       "      <td>1.0</td>\n",
       "      <td>0.18</td>\n",
       "      <td>0.0</td>\n",
       "      <td>float64</td>\n",
       "      <td>176</td>\n",
       "      <td>240</td>\n",
       "      <td>170</td>\n",
       "      <td>1.0</td>\n",
       "      <td>1.0</td>\n",
       "      <td>1.0</td>\n",
       "    </tr>\n",
       "    <tr>\n",
       "      <td>1</td>\n",
       "      <td>PPMI_17608_MR_T1-anatomical_Br_201510142056238...</td>\n",
       "      <td>T1_biascorr_brain_mask.nii.gz</td>\n",
       "      <td>1.0</td>\n",
       "      <td>0.22</td>\n",
       "      <td>0.0</td>\n",
       "      <td>float64</td>\n",
       "      <td>176</td>\n",
       "      <td>240</td>\n",
       "      <td>170</td>\n",
       "      <td>1.0</td>\n",
       "      <td>1.0</td>\n",
       "      <td>1.0</td>\n",
       "    </tr>\n",
       "    <tr>\n",
       "      <td>2</td>\n",
       "      <td>PPMI_3101_MR_T1-anatomical_Br_2014012213275883...</td>\n",
       "      <td>T1_biascorr_brain_mask.nii.gz</td>\n",
       "      <td>1.0</td>\n",
       "      <td>0.20</td>\n",
       "      <td>0.0</td>\n",
       "      <td>float64</td>\n",
       "      <td>176</td>\n",
       "      <td>240</td>\n",
       "      <td>170</td>\n",
       "      <td>1.0</td>\n",
       "      <td>1.0</td>\n",
       "      <td>1.0</td>\n",
       "    </tr>\n",
       "  </tbody>\n",
       "</table>\n",
       "</div>"
      ],
      "text/plain": [
       "                                         Examination  \\\n",
       "0  PPMI_15761_MR_T1-anatomical_Br_201503041823125...   \n",
       "1  PPMI_17608_MR_T1-anatomical_Br_201510142056238...   \n",
       "2  PPMI_3101_MR_T1-anatomical_Br_2014012213275883...   \n",
       "\n",
       "                           Image  max  mean  min    dtype  size_1  size_2  \\\n",
       "0  T1_biascorr_brain_mask.nii.gz  1.0  0.18  0.0  float64     176     240   \n",
       "1  T1_biascorr_brain_mask.nii.gz  1.0  0.22  0.0  float64     176     240   \n",
       "2  T1_biascorr_brain_mask.nii.gz  1.0  0.20  0.0  float64     176     240   \n",
       "\n",
       "   size_3  pixdim_1  pixdim_2  pixixdim_3  \n",
       "0     170       1.0       1.0         1.0  \n",
       "1     170       1.0       1.0         1.0  \n",
       "2     170       1.0       1.0         1.0  "
      ]
     },
     "execution_count": 117,
     "metadata": {},
     "output_type": "execute_result"
    }
   ],
   "source": [
    "ppmi_t1_mask_im_info.head(3).round(2)"
   ]
  },
  {
   "cell_type": "markdown",
   "metadata": {},
   "source": [
    "#### Save tables to *results* folder"
   ]
  },
  {
   "cell_type": "code",
   "execution_count": 118,
   "metadata": {},
   "outputs": [],
   "source": [
    "# ### SAVE TO CSV FILES\n",
    "#df_ixi_t1_im_info.to_csv(results_folder/'ixi_t1_im_info.csv')\n",
    "#df_ixi_t1_bias_info.to_csv(results_folder/'ixi_t1_bias_info.csv')\n",
    "#df_ixi_t1_mask_info.to_csv(results_folder/'ixi_t1_mask_info.csv')"
   ]
  },
  {
   "cell_type": "code",
   "execution_count": 119,
   "metadata": {},
   "outputs": [],
   "source": [
    "# ### WRITE TO EXCEL FILE\n",
    "writer = pd.ExcelWriter(f'{results_folder}/ppmi_aniso.xlsx', engine = 'xlsxwriter')\n",
    "ppmi_t1_info.to_excel(writer, sheet_name = 't1', index=False )\n",
    "ppmi_t1_bias_info.to_excel(writer, sheet_name = 't1_biascorr', index=False )\n",
    "ppmi_t1_mask_info.to_excel(writer, sheet_name = 't1_mask', index=False )\n",
    "\n",
    "ppmi_t1_im_info.to_excel(writer, sheet_name = 't1_im', index=False )\n",
    "ppmi_t1_bias_im_info.to_excel(writer, sheet_name = 't1_bias_im', index=False )\n",
    "ppmi_t1_mask_im_info.to_excel(writer, sheet_name = 't1_mask_im', index=False )\n",
    "writer.save()\n",
    "writer.close()"
   ]
  },
  {
   "cell_type": "code",
   "execution_count": null,
   "metadata": {},
   "outputs": [],
   "source": [
    "print('PPMI...done')"
   ]
  },
  {
   "cell_type": "code",
   "execution_count": null,
   "metadata": {},
   "outputs": [],
   "source": []
  },
  {
   "cell_type": "code",
   "execution_count": 120,
   "metadata": {},
   "outputs": [],
   "source": [
    "# join tables\n",
    "#df_ixi_t1.join(df, lsuffix='_t1', rsuffix='_df')"
   ]
  },
  {
   "cell_type": "code",
   "execution_count": 121,
   "metadata": {},
   "outputs": [],
   "source": [
    "# # ## ipcluster start -n 4\n",
    "# import ipyparallel as ipp\n",
    "# c = ipp.Client()\n",
    "# c.ids\n",
    "# c[:].apply_async(f.get_img_params(ixi_t1_files))\n",
    "#c.shutdown(hub=True)\n",
    "# jobs\n",
    "# kill %1"
   ]
  }
 ],
 "metadata": {
  "kernelspec": {
   "display_name": "fastai1",
   "language": "python",
   "name": "fastai1"
  },
  "language_info": {
   "codemirror_mode": {
    "name": "ipython",
    "version": 3
   },
   "file_extension": ".py",
   "mimetype": "text/x-python",
   "name": "python",
   "nbconvert_exporter": "python",
   "pygments_lexer": "ipython3",
   "version": "3.7.4"
  }
 },
 "nbformat": 4,
 "nbformat_minor": 4
}
