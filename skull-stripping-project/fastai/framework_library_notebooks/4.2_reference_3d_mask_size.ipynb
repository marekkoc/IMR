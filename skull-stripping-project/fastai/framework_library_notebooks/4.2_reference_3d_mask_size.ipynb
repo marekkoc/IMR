{
 "cells": [
  {
   "cell_type": "markdown",
   "metadata": {},
   "source": [
    "Created: 2020.07.29\n",
    "\n",
    "Modified: 2020.07.29"
   ]
  },
  {
   "cell_type": "markdown",
   "metadata": {},
   "source": [
    "# df with reference mask sizes (e.g. from BET FSL)"
   ]
  },
  {
   "cell_type": "markdown",
   "metadata": {},
   "source": [
    "Get the df with file name and number of wihte voxels (size) in each mask to further Dice / Jaccard coefficient calculation."
   ]
  },
  {
   "cell_type": "code",
   "execution_count": 12,
   "metadata": {},
   "outputs": [],
   "source": [
    "%reload_ext autoreload\n",
    "%autoreload 2\n",
    "%matplotlib inline"
   ]
  },
  {
   "cell_type": "code",
   "execution_count": 13,
   "metadata": {},
   "outputs": [],
   "source": [
    "import glob\n",
    "import numpy as np\n",
    "import pandas as pd\n",
    "import nibabel as nib\n",
    "from pathlib import Path"
   ]
  },
  {
   "cell_type": "code",
   "execution_count": 14,
   "metadata": {},
   "outputs": [
    {
     "name": "stdout",
     "output_type": "stream",
     "text": [
      "1781\n"
     ]
    }
   ],
   "source": [
    "DATA1 = 'AIBL'\n",
    "DATA2 = 'HCP'\n",
    "\n",
    "DATA = DATA2\n",
    "\n",
    "root_folder = Path(f'/data-10tb/shared/skull/train-3d-iso/{DATA}')\n",
    "masks = sorted(glob.glob(f'{root_folder}/*_brain_mask_iso.nii.gz'))\n",
    "print(len(masks))\n",
    "#masks[:4]"
   ]
  },
  {
   "cell_type": "code",
   "execution_count": 15,
   "metadata": {},
   "outputs": [],
   "source": [
    "def get_reference_mask_vox_cnt_from_images(masks_full_pth, ref_vox_cnt_name, save=False):\n",
    "    \"\"\" \n",
    "    masks_full_pth - list of full paths to image masks\n",
    "    ref_vox_cnt column name - contains DATA name (e.g., AIBL, HCP) and source slgorithm (e.g. FSL),\n",
    "                                used as a column header and csv file name (e.g. ref_vox_cnt_name = f'{DATA}_FSL_masks.csv')\n",
    "    # save to csv or not\n",
    "    save = True\n",
    "    \"\"\"   \n",
    "    #exams = [m.split('/')[-1] for m in masks_full_pth]\n",
    "    \n",
    "    vox_cnt = []\n",
    "    for m in masks_full_pth:\n",
    "        im = nib.load(m).get_fdata()\n",
    "        vox_cnt.append(im[im>0].shape[0])\n",
    "\n",
    "    df = pd.DataFrame.from_dict({'ref_FSL_img_mask_pth':masks_full_pth, ref_vox_cnt_name : vox_cnt})\n",
    "\n",
    "    if save:\n",
    "        save_folder = Path(f'/data-10tb/marek/github_codes/skull-stripping-1/fastai/4.0_reference/')\n",
    "        save_name =  ref_vox_cnt_name if ref_vox_cnt_name.endswith('.csv') else ref_vox_cnt_name + '.csv'\n",
    "        df.to_csv(save_folder / save_name, index=False)\n",
    "    return df"
   ]
  },
  {
   "cell_type": "code",
   "execution_count": 16,
   "metadata": {},
   "outputs": [],
   "source": [
    "ref_vox_cnt_name = f'{DATA}_ref_FSL_masks_vox_cnt' \n",
    "df = get_reference_mask_vox_cnt_from_images(masks, ref_vox_cnt_name, True)"
   ]
  },
  {
   "cell_type": "code",
   "execution_count": 17,
   "metadata": {},
   "outputs": [
    {
     "data": {
      "text/html": [
       "<div>\n",
       "<style scoped>\n",
       "    .dataframe tbody tr th:only-of-type {\n",
       "        vertical-align: middle;\n",
       "    }\n",
       "\n",
       "    .dataframe tbody tr th {\n",
       "        vertical-align: top;\n",
       "    }\n",
       "\n",
       "    .dataframe thead th {\n",
       "        text-align: right;\n",
       "    }\n",
       "</style>\n",
       "<table border=\"1\" class=\"dataframe\">\n",
       "  <thead>\n",
       "    <tr style=\"text-align: right;\">\n",
       "      <th></th>\n",
       "      <th>ref_FSL_img_mask_pth</th>\n",
       "      <th>HCP_ref_FSL_masks_vox_cnt</th>\n",
       "    </tr>\n",
       "  </thead>\n",
       "  <tbody>\n",
       "    <tr>\n",
       "      <td>0</td>\n",
       "      <td>/data-10tb/shared/skull/train-3d-iso/HCP/10020...</td>\n",
       "      <td>1777050</td>\n",
       "    </tr>\n",
       "    <tr>\n",
       "      <td>1</td>\n",
       "      <td>/data-10tb/shared/skull/train-3d-iso/HCP/10030...</td>\n",
       "      <td>1370185</td>\n",
       "    </tr>\n",
       "    <tr>\n",
       "      <td>2</td>\n",
       "      <td>/data-10tb/shared/skull/train-3d-iso/HCP/10040...</td>\n",
       "      <td>1669664</td>\n",
       "    </tr>\n",
       "    <tr>\n",
       "      <td>3</td>\n",
       "      <td>/data-10tb/shared/skull/train-3d-iso/HCP/10061...</td>\n",
       "      <td>1642404</td>\n",
       "    </tr>\n",
       "    <tr>\n",
       "      <td>4</td>\n",
       "      <td>/data-10tb/shared/skull/train-3d-iso/HCP/10061...</td>\n",
       "      <td>1640583</td>\n",
       "    </tr>\n",
       "  </tbody>\n",
       "</table>\n",
       "</div>"
      ],
      "text/plain": [
       "                                ref_FSL_img_mask_pth  \\\n",
       "0  /data-10tb/shared/skull/train-3d-iso/HCP/10020...   \n",
       "1  /data-10tb/shared/skull/train-3d-iso/HCP/10030...   \n",
       "2  /data-10tb/shared/skull/train-3d-iso/HCP/10040...   \n",
       "3  /data-10tb/shared/skull/train-3d-iso/HCP/10061...   \n",
       "4  /data-10tb/shared/skull/train-3d-iso/HCP/10061...   \n",
       "\n",
       "   HCP_ref_FSL_masks_vox_cnt  \n",
       "0                    1777050  \n",
       "1                    1370185  \n",
       "2                    1669664  \n",
       "3                    1642404  \n",
       "4                    1640583  "
      ]
     },
     "execution_count": 17,
     "metadata": {},
     "output_type": "execute_result"
    }
   ],
   "source": [
    "df.head()"
   ]
  },
  {
   "cell_type": "code",
   "execution_count": null,
   "metadata": {},
   "outputs": [],
   "source": []
  },
  {
   "cell_type": "code",
   "execution_count": null,
   "metadata": {},
   "outputs": [],
   "source": []
  }
 ],
 "metadata": {
  "kernelspec": {
   "display_name": "fastai1",
   "language": "python",
   "name": "fastai1"
  },
  "language_info": {
   "codemirror_mode": {
    "name": "ipython",
    "version": 3
   },
   "file_extension": ".py",
   "mimetype": "text/x-python",
   "name": "python",
   "nbconvert_exporter": "python",
   "pygments_lexer": "ipython3",
   "version": "3.7.4"
  }
 },
 "nbformat": 4,
 "nbformat_minor": 4
}
