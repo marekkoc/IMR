{
 "cells": [
  {
   "cell_type": "markdown",
   "metadata": {},
   "source": [
    "Created: 2020.07.24\n",
    "\n",
    "Modified: 2020.08.05"
   ]
  },
  {
   "cell_type": "markdown",
   "metadata": {},
   "source": [
    "# Consequtive steps in data analysis - short guide"
   ]
  },
  {
   "cell_type": "markdown",
   "metadata": {},
   "source": [
    "## 0. Copy data from /data-nas/brains to Titan\n",
    "\n",
    "**Bash script:** 0.1_copy_data_to_Titan.sh\n",
    "\n",
    "The following databases are considered:\n",
    "1. ADNI - (7 921 examinations)\n",
    "1. AIBL - (726)\n",
    "1. IXI  - (581)\n",
    "1. PPMI - (752)\n",
    "1. SALD - (493)\n",
    "1. SLIM - (1 036)\n",
    "    - In total: 11 509 exams * 3 = 34 527 3D images\n",
    "\n",
    "1. HCP-WU-Minn - (1 782)\n",
    "    \n",
    "\n",
    "Fo all images in a FSL_outputs folder only three sets of images with anisotropic voxel size were copied to a local folder **/data-10tb/marek/**:\n",
    "\n",
    "- T1.nii.gz\n",
    "- T1_biascorr.nii.gz\n",
    "- T1_biascorr_mask.nii.gz\n",
    "\n"
   ]
  },
  {
   "cell_type": "markdown",
   "metadata": {},
   "source": [
    "## 1.0 Info about 3D anisotropic images\n",
    "\n",
    "**Notebooks:**\n",
    "1. 1.0_ADNI_FSL_aniso_info.ipynb\n",
    "1. 1.0_AIBL_FSL_aniso_info.ipynb\n",
    "1. 1.0_IXI_FSL_aniso_info.ipynb\n",
    "1. 1.0_PPMI_FSL_aniso_info.ipynb\n",
    "1. 1.0_SALD_FSL_aniso_info.ipynb\n",
    "1. 1.0_SLIM_FSL_aniso_info.ipynb\n",
    "1. 1.0_HCP-WU-Minn_FSL_aniso_info.ipynb\n",
    "\n",
    "The goal of this part is to check the diversity of voxes size, dimension and brightness range for individual images in every database and ten compare to each other. For each image type {T1, T1_biascorr, T1_biascorr_mask} two tables are created:\n",
    "1. subject info (based on image path):\n",
    "    - Examination,\n",
    "    - Subject_id,\n",
    "    - Image_id,\n",
    "    - Modality,\n",
    "    - Image,\n",
    "    - Path\n",
    "1. image info (based on metadata and image itself):\n",
    "    - Examination,\n",
    "    - Image,\n",
    "    - Max (brightness),\n",
    "    - Mean (brightness),\n",
    "    - Min (brightness),\n",
    "    - Dtype,\n",
    "    - Size_1 (voxel count in dim 1),\n",
    "    - Size_2 ( ---||--- in dim 2),\n",
    "    - Size_3 ( ---||--- in dim 3),\n",
    "    - Pixdim_1 (voxesl size in dim 1),\n",
    "    - Pixdim_2 (voxesl size in dim 2),\n",
    "    - Pixdim_3 (voxesl size in dim 3).\n",
    "    \n",
    "    \n",
    "\n",
    "All those information is stored in an Excel files with 6 tabs {t1, t1_biascorr, t1_mask, t1_im, t1_bias_im, t1_mask_im} three for path and name info {t1,t1_biascorr,t1_mask}  and three for image info {t1_im, t1_bias_im, t1_mask_im}. Each database has its separate Excel file(**folder 1.0_results**)."
   ]
  },
  {
   "cell_type": "markdown",
   "metadata": {},
   "source": [
    "## 1.1 A naive statistical inspection of images from databases (max, mean values)\n",
    "\n",
    "**Notebook:** 1.1_ALL_aniso_compare.ipynb"
   ]
  },
  {
   "cell_type": "markdown",
   "metadata": {},
   "source": [
    "# 2 Convertion to isotropic voxel size and splitting 3D images to 2D slices"
   ]
  },
  {
   "cell_type": "markdown",
   "metadata": {},
   "source": [
    "## 2.1 Image convertion from anisotropic to isotropic voxel size (c3d soft)\n",
    "\n",
    "**Bash script:** 2.1_c3d_convert_to_iso.sh\n",
    "\n",
    "\n",
    "**Result folder:** 2.1_resample_jobs\n",
    "\n",
    "\n",
    "Within a bash script the list of jobs is created, then those jobs are run in parallel from local compuer.\n",
    "\n",
    "\n",
    "Isotropic images are stored in a folder **/data-10tb/shared/skull/train-3d-iso/** with subfolders:"
   ]
  },
  {
   "cell_type": "code",
   "execution_count": 2,
   "metadata": {},
   "outputs": [
    {
     "name": "stdout",
     "output_type": "stream",
     "text": [
      "\u001b[01;34m/data-10tb/shared/skull/train-3d-iso/\u001b[00m\n",
      "├── \u001b[01;34mADNI\u001b[00m\n",
      "├── \u001b[01;34mAIBL\u001b[00m\n",
      "├── \u001b[01;34mHCP\u001b[00m\n",
      "├── \u001b[01;34mIXI\u001b[00m\n",
      "├── \u001b[01;34mPPMI\u001b[00m\n",
      "├── \u001b[01;34mSALD\u001b[00m\n",
      "└── \u001b[01;34mSLIM\u001b[00m\n",
      "\n",
      "7 directories\n"
     ]
    }
   ],
   "source": [
    "! tree -d -L 1 /data-10tb/shared/skull/train-3d-iso/"
   ]
  },
  {
   "cell_type": "markdown",
   "metadata": {},
   "source": [
    "1. ADNI (23 762 files)\n",
    "1. AIBL (2 173 files)\n",
    "1. IXI (1 743 files)\n",
    "1. PPMI (2 250 files)\n",
    "1. SALD (1472 files)\n",
    "1. SLIM (3 103 files)\n",
    "1. HCP (5 344 files)"
   ]
  },
  {
   "cell_type": "markdown",
   "metadata": {},
   "source": [
    "### 2.1.1 <s>Mask binarization with c3d software<s>\n",
    "\n",
    "\n",
    "**Bash script: 2.1.1_c3d_maks_binarization**\n",
    "\n",
    "Voxel brightness interpolation during resampling mask images results in voxel brightness between 0 and 1. To make an image binary, a built in function from c3d piece of software with changing data type from float to short:\n",
    "\n",
    "<center>c3d in.nii.gz -binarize -type short -o out.nii.gz</center>\n",
    "\n",
    "\n",
    "#### Remarks:\n",
    "\n",
    "1. Output images has two walues: 0 (background) and 2 (brain region). Those values are not acceptable by *fastai* library and it is corrected to 0 and 1 during splitting 3D image to set of 2D slices.\n",
    "\n",
    "1.  I am not sure about used interpolation algorithm during reslampling algorithm - linear or bicubic? There is option to force bicubic interpolation, but I haven't applied it. TO DO!?\n",
    "\n",
    "1. Some voxels on the brain mask ede are interpolated, then binarized (th>0) and clasified as a brain. It could lead to increase a region of the mask. Next time apply th=0.5? TO DO!?\n",
    "\n",
    "1. Maybe mask should be done for isotropic images? It is done for anisotropic images now. Would it give a better result? TO CHECK!?"
   ]
  },
  {
   "cell_type": "markdown",
   "metadata": {},
   "source": [
    "### 2.1.2 Rename of existing mask images\n",
    "\n",
    "All existing images were prepared with default Linear interpolation, then those images were binarized. To store them on the disck, we decided to ad a *_lin* suffix to existed filenames (e.g. /IXI256-HH-1723-T1.anat_T1_biascorr_brain_mask_iso.nii.gz ---->>>IXI256-HH-1723-T1.anat_T1_biascorr_brain_mask_iso_lin.nii.gz)"
   ]
  },
  {
   "cell_type": "markdown",
   "metadata": {},
   "source": [
    "### 2.1.3 Nearest neighbour interpolation of mask images\n",
    "\n",
    "**Input images:** anisotropic mask images (e.g./data-10tb/marek/IXI/train_data/FSL_outputs/IXI002-Guys-0828-T1.anat/T1_biascorr_brain_mask.nii.gz)\n",
    "\n",
    "**Ouput images:** isotropic, NN interpolation, names ends with \\*\\_nn suffix.nii.gz (e.g.  /data-10tb/shared/skull/train-3d-iso/IXI/T1_biascorr_brain_mask_nn.nii.gz)\n",
    "\n",
    "For each data set {IXI, AIBL, ADNI, PPMI, SALD, SLIM, HCP} a file with jobs to do in parallel {DATA}\\_resample_NN_jobx.txt is created and run from local computer (dell PRECISION-7540), then those txt filea are copied to the **2.1_resample_jobs** folder."
   ]
  },
  {
   "cell_type": "markdown",
   "metadata": {},
   "source": [
    "### 2.1.4 3D isotropic images info\n",
    "\n",
    "**Notebook:** 2.1.4_get_3D_iso_resolution.ipynb\n",
    "\n",
    "Get image shape information about 3D iso images in each brain database. The csv file for each database is created with the following information (folder **2.1_resample_jobs**):\n",
    "\n",
    "1. file name\n",
    "1. shape\n",
    "1. shape id (number of different shapes in this database)\n",
    "1. shape cnt (number of images with this shape)\n",
    "1. max_dims (maximum dimension in each direction from all images in a database)."
   ]
  },
  {
   "cell_type": "markdown",
   "metadata": {},
   "source": [
    "## 2.2  Split data between train and valid tests (Sathiesh)\n",
    "\n",
    "#### New set 2020.08.07\n",
    "\n",
    "**Notebook: 2.2_train_val_mk_iso_table.ipynb**\n",
    "\n",
    "Sathiesh split data batween training and validation set based on *age balance* of patients. Here an update of Sathiesh's paths to the images to paths on my computer. Additionaly paths to mask and biascorr files were added.\n",
    "\n",
    "**folder:** 2.2_train_valid_test_sets\n",
    "\n",
    "**file:** train_val_mk_3d.csv"
   ]
  },
  {
   "cell_type": "markdown",
   "metadata": {},
   "source": [
    "## 2.3 Split 3D isotropic images into set of 2D png slices\n",
    "\n",
    "Based on file *train_val_mk_3d.csv* (from pnt 2.2) all images {t1, t1_biascorr, t1_biascorr_mask} are split into 2D slices and save to png files. Image brightness is stored as float (in ragge between 0 and 1) and masks are converted to uint8 with value equalled to 1.\n",
    "\n",
    "To save png files as uint8 with one channel *imageio* libarary is used for mask:\n",
    " <center>io.imsave(path_png, np.where(im3d[:,:,k]>=1, 1, 0).astype(np.uint8))</center>\n",
    "\n",
    "To save png files as floata (0 to 1) with one channel *matplotlib.pyplot* libarary is used for images:\n",
    " <center>plt.imsave(path_png, im3d[:,:,k], cmap='gray')</center>\n",
    "            \n",
    "Images are saved in 3 main anatomical planes:\n",
    "1. axial\n",
    "1. coronal\n",
    "1. saggital\n",
    "\n",
    "To reduce number of files in each folder the output images were saved in subfolders, as follows:"
   ]
  },
  {
   "cell_type": "code",
   "execution_count": 61,
   "metadata": {},
   "outputs": [
    {
     "name": "stdout",
     "output_type": "stream",
     "text": [
      "\u001b[01;34m/data-10tb/shared/skull/\u001b[00m\n",
      "├── \u001b[01;34maxial-2d\u001b[00m\n",
      "├── \u001b[01;34mcoronal-2d\u001b[00m\n",
      "├── \u001b[01;34msagittal-2d\u001b[00m\n",
      "└── \u001b[01;34mtrain-3d-iso\u001b[00m\n",
      "\n",
      "4 directories\n"
     ]
    }
   ],
   "source": [
    "!tree -d -L 1 /data-10tb/shared/skull/"
   ]
  },
  {
   "cell_type": "code",
   "execution_count": 62,
   "metadata": {
    "collapsed": true,
    "jupyter": {
     "outputs_hidden": true
    }
   },
   "outputs": [
    {
     "name": "stdout",
     "output_type": "stream",
     "text": [
      "\u001b[01;34m/data-10tb/shared/skull/axial-2d/\u001b[00m\n",
      "├── \u001b[01;34mmodels\u001b[00m\n",
      "├── \u001b[01;34mtest\u001b[00m\n",
      "│   ├── \u001b[01;34mAIBL\u001b[00m\n",
      "│   └── \u001b[01;34mHCP\u001b[00m\n",
      "├── \u001b[01;34mtrain\u001b[00m\n",
      "│   ├── \u001b[01;34mADNI\u001b[00m\n",
      "│   ├── \u001b[01;34mIXI\u001b[00m\n",
      "│   ├── \u001b[01;34mPPMI\u001b[00m\n",
      "│   ├── \u001b[01;34mSALD\u001b[00m\n",
      "│   └── \u001b[01;34mSLIM\u001b[00m\n",
      "└── \u001b[01;34mvalid\u001b[00m\n",
      "    ├── \u001b[01;34mADNI\u001b[00m\n",
      "    ├── \u001b[01;34mIXI\u001b[00m\n",
      "    ├── \u001b[01;34mPPMI\u001b[00m\n",
      "    ├── \u001b[01;34mSALD\u001b[00m\n",
      "    └── \u001b[01;34mSLIM\u001b[00m\n",
      "\n",
      "16 directories\n"
     ]
    }
   ],
   "source": [
    "!tree -d -L 2 /data-10tb/shared/skull/axial-2d/"
   ]
  },
  {
   "cell_type": "code",
   "execution_count": 63,
   "metadata": {},
   "outputs": [
    {
     "name": "stdout",
     "output_type": "stream",
     "text": [
      "\u001b[01;34m/data-10tb/shared/skull/axial-2d/train/\u001b[00m\n",
      "├── \u001b[01;34mADNI\u001b[00m\n",
      "├── \u001b[01;34mIXI\u001b[00m\n",
      "├── \u001b[01;34mPPMI\u001b[00m\n",
      "├── \u001b[01;34mSALD\u001b[00m\n",
      "└── \u001b[01;34mSLIM\u001b[00m\n",
      "\n",
      "5 directories\n"
     ]
    }
   ],
   "source": [
    "!tree -d -L 1 /data-10tb/shared/skull/axial-2d/train/"
   ]
  },
  {
   "cell_type": "markdown",
   "metadata": {},
   "source": [
    "Thera are  are saved all images {t1, t1_biascorr, t1_biascorrr_mask} in each examinatin subfolder **/data-10tb/shared/skull/axial-2d/train/IXI/IXI002-Guys-0828-T1.anat/**"
   ]
  },
  {
   "cell_type": "markdown",
   "metadata": {},
   "source": [
    "## 2.4 df for 2D images\n",
    "\n",
    "Based on df with splited images between *train* and *valid* test sets for 3D isotropic images, there is need to build sucha a df for all 2D png slices in **axial, coronal** and **saggital** crossections. Df's containg paths to needed to crate DataBunch in fastai library. Df's are saved as csv file in the folder **2.4_train_val_3d_path_tables**.\n",
    "\n",
    "Size of those csv files is bigger than 150 MB, so I couldn't uploat them to a (free) github repositroy, here are the links to files: \n",
    "\n",
    "1. [bias_mask_test_val_axial_2d.csv](https://129.177.233.24:8888/lab/tree/2.4_train_val_3d_path_tables/bias_mask-test-val-axial-2d.csv) - paths to t1_biascorr & t1_biascorr_mask images in axial crossection\n",
    "1. [bias_mask_test_val_cornal_2d.csv](https://129.177.233.24:8888/lab/tree/2.4_train_val_3d_path_tables/bias_mask-test-val-coronal-2d.csv) - -------- || ------ cornal crossection\n",
    "1. [bias_mask_test_val_saggital_2d.csv](https://129.177.233.24:8888/lab/tree/2.4_train_val_3d_path_tables/bias_mask-test-val-sagittal-2d.csv) -----------||--------sagittal crossection\n",
    "\n",
    "1. [t1_mask_test_val_axial_2d.csv](https://129.177.233.24:8888/lab/tree/2.4_train_val_3d_path_tables/t1_mask-test-val-axial-2d.csv) - paths to t1 & t1_biascorr_mask images in axial crossection\n",
    "1. [t1_mask_test_val_coronal_2d.csv](https://129.177.233.24:8888/lab/tree/2.4_train_val_3d_path_tables/t1_mask-test-val-coronal-2d.csv) - ------||------- coronal crossection\n",
    "1. [t1_mask_test_val_saggital_2d.csv](https://129.177.233.24:8888/lab/tree/2.4_train_val_3d_path_tables/t1_mask-test-val-sagittal-2d.csv) - ---------||-------sagittal crossection\n",
    "\n",
    "\n",
    "Total number of 2D files in each crossection {t1, t1_biascorr, t1_biascorr_mask} are as follows:\n",
    "\n",
    "- axial ------> 1 277 298 files\n",
    "- coronal ----> 1 808 145 files\n",
    "- sagittal ---> 1 374 648 files\n",
    "- -------------------------------\n",
    "- total ------> 4 460 091"
   ]
  },
  {
   "cell_type": "markdown",
   "metadata": {},
   "source": [
    "# 3 Training a NN with fastai library\n",
    "\n",
    "Possible training options (to choose):\n",
    " \n",
    " 1. training: pretained = True/False,\n",
    " 1. axial/sagittal/coronal on t1 OR t1_biascorr,\n",
    " 1. table\n",
    " \n",
    " | training | inference |\n",
    "|-|-|\n",
    "| axial  | axial|\n",
    "| coronal | coronal |\n",
    "| sagittal | sagittal |\n",
    "| ax + cor + sag | ax OR cor OR sag |"
   ]
  },
  {
   "cell_type": "markdown",
   "metadata": {},
   "source": [
    "### 3.01 2D axial, t1_biascorr\n",
    "\n",
    "- resnet34 pre-trained model\n",
    "- train+val: all 2D axial images ({ADNI + IXI + PPMI + SALD + SLIM} = 425766 png files)\n",
    "- one epoch time : 24-27 min. (max 1h)\n",
    "- test sets {aibl, hcp}"
   ]
  },
  {
   "cell_type": "markdown",
   "metadata": {},
   "source": [
    "### 3.02 2D axial, t1\n",
    "\n",
    "- resnet34 pre-trained model\n",
    "- train+val: all 2D axial images ({ADNI + IXI + PPMI + SALD + SLIM} = 425766 png files)\n",
    "- one epoch time : 24-27 min. (max 1h)\n",
    "- test sets: {aibl, hcp}"
   ]
  },
  {
   "cell_type": "markdown",
   "metadata": {},
   "source": [
    "### 3.03 coronal, t1_biascorr\n",
    "\n",
    "- resnet34 pre-trained model\n",
    "- train+val: all 2D coronal images ({ADNI + IXI + PPMI + SALD + SLIM} = 425766 png files)\n",
    "- one epoch time : 34-72 min.\n",
    "- test sets: {aibl, hcp}\n"
   ]
  },
  {
   "cell_type": "markdown",
   "metadata": {},
   "source": [
    "# 4 Test sets preparation: AIBL & HCP and reference functions, data,... (in progress)\n",
    "\n",
    "Here are mainly function templates for algorithms described in 5.xx (testing) and 3.xx (training) in this section."
   ]
  },
  {
   "cell_type": "markdown",
   "metadata": {},
   "source": [
    "# 4.1 Convertion testsets to 2D images\n",
    "\n",
    "**Notebook:** 4.1_split_3d_train_iso_to_2d_slices.pynb\n",
    "\n",
    "t1 & t1_biascorr images wers splitted into set of 2D png images.Those images will act as test set for inference of models trained in section 3.xx and results will be saved in coresponding section in 5.xx. The structure of folder tree is in the tables below:\n",
    "\n",
    "| axial / coronal / sagittal  | rain / valid / test | AIBL / HCP| subfolder | files |\n",
    "| :-: | :-: | :-: | :-: | :-: |\n",
    "| axial-2d | test | AIBL | examination | t1_iso_001.png |\n",
    "|           |      |      | examination | t1_biascorr_iso_001.png |\n",
    "|           |      | HCP  |  examination | t1_iso_001.png |\n",
    "|           |      |      |  examination | t1_biascorr_iso_001.png |\n",
    "| coronal-2d | test | AIBL | examination | t1_iso_001.png |\n",
    "|           |      |      | examination | t1_biascorr_iso_001.png |\n",
    "|           |      | HCP  |  examination | t1_iso_001.png |\n",
    "|           |      |      |  examination | t1_biascorr_iso_001.png |\n",
    "| sagittal-2d | test | AIBL | examination | t1_iso_001.png |\n",
    "|           |      |      | examination | t1_biascorr_iso_001.png |\n",
    "|           |      | HCP  |  examination | t1_iso_001.png |\n",
    "|           |      |      |  examination | t1_biascorr_iso_001.png |"
   ]
  },
  {
   "cell_type": "markdown",
   "metadata": {},
   "source": [
    "## 4.2 Get reference image mask size (redundant)\n",
    "\n",
    "**Notebook:** 4.2_reference_3d_mask_size.ipynb\n",
    "\n",
    "Counts the number of \"white\" voxels in reference images (e.g. FSL_outputs). Results are saved in folder **4.0_reference** with approporiate name e.g.:\n",
    "1. AIBL_FSL_masks.csv\n",
    "1. HCP_FSL_masks.csv\n",
    "\n",
    "I've hanged the structure of this part of the algorithm, it seems it is no needed any more :(((("
   ]
  },
  {
   "cell_type": "markdown",
   "metadata": {},
   "source": [
    "# 5 Results - NN models from 3.xx vs. FSL_outputs (in progres)\n",
    "\n",
    "To do in 5.xx:\n",
    "1. inference a model on 2D images,\n",
    "1. save as 3D nifti image,\n",
    "1. calculate Dice/Jaccard coeff's and save in csv file."
   ]
  },
  {
   "cell_type": "markdown",
   "metadata": {},
   "source": [
    "### 5.01 Inference (model 3.01)\n",
    "\n",
    "- axial slices,\n",
    "- training set: {ADNI, IXI, PPMI, SLIM, SALD},\n",
    "- test sets: {AIBL, HCP}\n",
    "- output folders:\n",
    "    - images: /data-10tb/shared/skull/predictions/3.01/{AIBL, HCP}\n",
    "    - cvs files with Dice coef's (github repo): ~/fastai/5.0/3.01\n",
    "- works in a row, it is really slow :(\n",
    " "
   ]
  },
  {
   "cell_type": "markdown",
   "metadata": {},
   "source": [
    "# 6 Questions / issues\n",
    "\n",
    "1. Calculation of one epoch on Titan serwer takes about 24 minutes (up to 1h).  Is it possible to get an account on the second - more powerfull server?\n",
    "1. Is it OK to store all images in an \"open\" for all Titan users folder /data-10tb/shared? Or should I move those images to /data-10tb/marek/ with limited accesibility for our team only?\n",
    "1. I store all my notebook files on \"free account\" on GitHub. I hope it is OK with a view to e.g. ADNI licence. There are no images, only paths (to them on Titan) and some inforamtion about geometry, brightness..."
   ]
  }
 ],
 "metadata": {
  "kernelspec": {
   "display_name": "fastai1",
   "language": "python",
   "name": "fastai1"
  },
  "language_info": {
   "codemirror_mode": {
    "name": "ipython",
    "version": 3
   },
   "file_extension": ".py",
   "mimetype": "text/x-python",
   "name": "python",
   "nbconvert_exporter": "python",
   "pygments_lexer": "ipython3",
   "version": "3.7.4"
  }
 },
 "nbformat": 4,
 "nbformat_minor": 4
}
