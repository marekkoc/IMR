{
 "cells": [
  {
   "cell_type": "markdown",
   "metadata": {},
   "source": [
    "### Basic information about 3D anisotropic images\n",
    "\n",
    "######  2020.07.01  \n",
    "\n",
    "###### (ver. 2020.07.27)"
   ]
  },
  {
   "cell_type": "markdown",
   "metadata": {},
   "source": [
    "This file reads the basic meta-information about **3D** images. It might be substantial during convertion from 3D dataset to set of 2D slices."
   ]
  },
  {
   "cell_type": "code",
   "execution_count": 1,
   "metadata": {},
   "outputs": [],
   "source": [
    "%reload_ext autoreload\n",
    "%autoreload 2\n",
    "%matplotlib inline"
   ]
  },
  {
   "cell_type": "code",
   "execution_count": 2,
   "metadata": {},
   "outputs": [],
   "source": [
    "from fastai.utils.mem import *\n",
    "\n",
    "import sys\n",
    "sys.path.append('functions/')\n",
    "\n",
    "import functions10 as f\n",
    "\n",
    "# import imp\n",
    "# _ = imp.reload(f)"
   ]
  },
  {
   "cell_type": "code",
   "execution_count": 3,
   "metadata": {},
   "outputs": [],
   "source": [
    "t1_name = 'T1.nii.gz'\n",
    "t1_biascorr = 'T1_biascorr.nii.gz'\n",
    "t1_mask = 'T1_biascorr_brain_mask.nii.gz'"
   ]
  },
  {
   "cell_type": "markdown",
   "metadata": {},
   "source": [
    "# HCP"
   ]
  },
  {
   "cell_type": "code",
   "execution_count": 4,
   "metadata": {},
   "outputs": [],
   "source": [
    "database = 'HCP'\n",
    "root_folder = Path(f'/data-10tb/marek/{database}/train_data/FSL_outputs')\n",
    "results_folder = Path(f'/data-10tb/marek/github_codes/skull-stripping-1/fastai/1.0_results/')\n",
    "#root_folder.ls()"
   ]
  },
  {
   "cell_type": "code",
   "execution_count": 5,
   "metadata": {},
   "outputs": [],
   "source": [
    "t1_files = list(root_folder.glob(f'*/{t1_name}'))\n",
    "t1_bias_files = list(root_folder.glob(f'*/{t1_biascorr}'))\n",
    "t1_mask_files = list(root_folder.glob(f'*/{t1_mask}'))\n",
    "\n",
    "t1_files.sort()\n",
    "t1_bias_files.sort()\n",
    "t1_mask_files.sort()"
   ]
  },
  {
   "cell_type": "code",
   "execution_count": 6,
   "metadata": {},
   "outputs": [
    {
     "data": {
      "text/plain": [
       "[PosixPath('/data-10tb/marek/HCP/train_data/FSL_outputs/100206_3T_T1w_MPR1.anat/T1.nii.gz'),\n",
       " PosixPath('/data-10tb/marek/HCP/train_data/FSL_outputs/100307_3T_T1w_MPR1.anat/T1.nii.gz'),\n",
       " PosixPath('/data-10tb/marek/HCP/train_data/FSL_outputs/100408_3T_T1w_MPR1.anat/T1.nii.gz')]"
      ]
     },
     "execution_count": 6,
     "metadata": {},
     "output_type": "execute_result"
    }
   ],
   "source": [
    "t1_files[:3]"
   ]
  },
  {
   "cell_type": "markdown",
   "metadata": {},
   "source": [
    "#### Get description tables"
   ]
  },
  {
   "cell_type": "code",
   "execution_count": 7,
   "metadata": {},
   "outputs": [
    {
     "data": {
      "text/html": [
       "<div>\n",
       "<style scoped>\n",
       "    .dataframe tbody tr th:only-of-type {\n",
       "        vertical-align: middle;\n",
       "    }\n",
       "\n",
       "    .dataframe tbody tr th {\n",
       "        vertical-align: top;\n",
       "    }\n",
       "\n",
       "    .dataframe thead th {\n",
       "        text-align: right;\n",
       "    }\n",
       "</style>\n",
       "<table border=\"1\" class=\"dataframe\">\n",
       "  <thead>\n",
       "    <tr style=\"text-align: right;\">\n",
       "      <th></th>\n",
       "      <th>Examination</th>\n",
       "      <th>Subject_id</th>\n",
       "      <th>Image_id</th>\n",
       "      <th>Modality</th>\n",
       "      <th>Image</th>\n",
       "      <th>Path</th>\n",
       "    </tr>\n",
       "  </thead>\n",
       "  <tbody>\n",
       "    <tr>\n",
       "      <td>0</td>\n",
       "      <td>100206_3T_T1w_MPR1.anat</td>\n",
       "      <td>100206</td>\n",
       "      <td></td>\n",
       "      <td>MPR1.anat</td>\n",
       "      <td>T1.nii.gz</td>\n",
       "      <td>/data-10tb/marek/HCP/train_data/FSL_outputs/10...</td>\n",
       "    </tr>\n",
       "    <tr>\n",
       "      <td>1</td>\n",
       "      <td>100307_3T_T1w_MPR1.anat</td>\n",
       "      <td>100307</td>\n",
       "      <td></td>\n",
       "      <td>MPR1.anat</td>\n",
       "      <td>T1.nii.gz</td>\n",
       "      <td>/data-10tb/marek/HCP/train_data/FSL_outputs/10...</td>\n",
       "    </tr>\n",
       "    <tr>\n",
       "      <td>2</td>\n",
       "      <td>100408_3T_T1w_MPR1.anat</td>\n",
       "      <td>100408</td>\n",
       "      <td></td>\n",
       "      <td>MPR1.anat</td>\n",
       "      <td>T1.nii.gz</td>\n",
       "      <td>/data-10tb/marek/HCP/train_data/FSL_outputs/10...</td>\n",
       "    </tr>\n",
       "  </tbody>\n",
       "</table>\n",
       "</div>"
      ],
      "text/plain": [
       "               Examination Subject_id Image_id   Modality      Image  \\\n",
       "0  100206_3T_T1w_MPR1.anat     100206           MPR1.anat  T1.nii.gz   \n",
       "1  100307_3T_T1w_MPR1.anat     100307           MPR1.anat  T1.nii.gz   \n",
       "2  100408_3T_T1w_MPR1.anat     100408           MPR1.anat  T1.nii.gz   \n",
       "\n",
       "                                                Path  \n",
       "0  /data-10tb/marek/HCP/train_data/FSL_outputs/10...  \n",
       "1  /data-10tb/marek/HCP/train_data/FSL_outputs/10...  \n",
       "2  /data-10tb/marek/HCP/train_data/FSL_outputs/10...  "
      ]
     },
     "execution_count": 7,
     "metadata": {},
     "output_type": "execute_result"
    }
   ],
   "source": [
    "slim_t1_info = f.get_hcp_info(t1_files)\n",
    "slim_t1_info.head(3)"
   ]
  },
  {
   "cell_type": "code",
   "execution_count": 8,
   "metadata": {},
   "outputs": [
    {
     "data": {
      "text/html": [
       "<div>\n",
       "<style scoped>\n",
       "    .dataframe tbody tr th:only-of-type {\n",
       "        vertical-align: middle;\n",
       "    }\n",
       "\n",
       "    .dataframe tbody tr th {\n",
       "        vertical-align: top;\n",
       "    }\n",
       "\n",
       "    .dataframe thead th {\n",
       "        text-align: right;\n",
       "    }\n",
       "</style>\n",
       "<table border=\"1\" class=\"dataframe\">\n",
       "  <thead>\n",
       "    <tr style=\"text-align: right;\">\n",
       "      <th></th>\n",
       "      <th>Examination</th>\n",
       "      <th>Subject_id</th>\n",
       "      <th>Image_id</th>\n",
       "      <th>Modality</th>\n",
       "      <th>Image</th>\n",
       "      <th>Path</th>\n",
       "    </tr>\n",
       "  </thead>\n",
       "  <tbody>\n",
       "    <tr>\n",
       "      <td>0</td>\n",
       "      <td>100206_3T_T1w_MPR1.anat</td>\n",
       "      <td>100206</td>\n",
       "      <td></td>\n",
       "      <td>MPR1.anat</td>\n",
       "      <td>T1_biascorr.nii.gz</td>\n",
       "      <td>/data-10tb/marek/HCP/train_data/FSL_outputs/10...</td>\n",
       "    </tr>\n",
       "    <tr>\n",
       "      <td>1</td>\n",
       "      <td>100307_3T_T1w_MPR1.anat</td>\n",
       "      <td>100307</td>\n",
       "      <td></td>\n",
       "      <td>MPR1.anat</td>\n",
       "      <td>T1_biascorr.nii.gz</td>\n",
       "      <td>/data-10tb/marek/HCP/train_data/FSL_outputs/10...</td>\n",
       "    </tr>\n",
       "    <tr>\n",
       "      <td>2</td>\n",
       "      <td>100408_3T_T1w_MPR1.anat</td>\n",
       "      <td>100408</td>\n",
       "      <td></td>\n",
       "      <td>MPR1.anat</td>\n",
       "      <td>T1_biascorr.nii.gz</td>\n",
       "      <td>/data-10tb/marek/HCP/train_data/FSL_outputs/10...</td>\n",
       "    </tr>\n",
       "  </tbody>\n",
       "</table>\n",
       "</div>"
      ],
      "text/plain": [
       "               Examination Subject_id Image_id   Modality               Image  \\\n",
       "0  100206_3T_T1w_MPR1.anat     100206           MPR1.anat  T1_biascorr.nii.gz   \n",
       "1  100307_3T_T1w_MPR1.anat     100307           MPR1.anat  T1_biascorr.nii.gz   \n",
       "2  100408_3T_T1w_MPR1.anat     100408           MPR1.anat  T1_biascorr.nii.gz   \n",
       "\n",
       "                                                Path  \n",
       "0  /data-10tb/marek/HCP/train_data/FSL_outputs/10...  \n",
       "1  /data-10tb/marek/HCP/train_data/FSL_outputs/10...  \n",
       "2  /data-10tb/marek/HCP/train_data/FSL_outputs/10...  "
      ]
     },
     "execution_count": 8,
     "metadata": {},
     "output_type": "execute_result"
    }
   ],
   "source": [
    "slim_t1_bias_info = f.get_hcp_info(t1_bias_files)\n",
    "slim_t1_bias_info.head(3)"
   ]
  },
  {
   "cell_type": "code",
   "execution_count": 9,
   "metadata": {},
   "outputs": [
    {
     "data": {
      "text/html": [
       "<div>\n",
       "<style scoped>\n",
       "    .dataframe tbody tr th:only-of-type {\n",
       "        vertical-align: middle;\n",
       "    }\n",
       "\n",
       "    .dataframe tbody tr th {\n",
       "        vertical-align: top;\n",
       "    }\n",
       "\n",
       "    .dataframe thead th {\n",
       "        text-align: right;\n",
       "    }\n",
       "</style>\n",
       "<table border=\"1\" class=\"dataframe\">\n",
       "  <thead>\n",
       "    <tr style=\"text-align: right;\">\n",
       "      <th></th>\n",
       "      <th>Examination</th>\n",
       "      <th>Subject_id</th>\n",
       "      <th>Image_id</th>\n",
       "      <th>Modality</th>\n",
       "      <th>Image</th>\n",
       "      <th>Path</th>\n",
       "    </tr>\n",
       "  </thead>\n",
       "  <tbody>\n",
       "    <tr>\n",
       "      <td>0</td>\n",
       "      <td>100206_3T_T1w_MPR1.anat</td>\n",
       "      <td>100206</td>\n",
       "      <td></td>\n",
       "      <td>MPR1.anat</td>\n",
       "      <td>T1_biascorr_brain_mask.nii.gz</td>\n",
       "      <td>/data-10tb/marek/HCP/train_data/FSL_outputs/10...</td>\n",
       "    </tr>\n",
       "    <tr>\n",
       "      <td>1</td>\n",
       "      <td>100307_3T_T1w_MPR1.anat</td>\n",
       "      <td>100307</td>\n",
       "      <td></td>\n",
       "      <td>MPR1.anat</td>\n",
       "      <td>T1_biascorr_brain_mask.nii.gz</td>\n",
       "      <td>/data-10tb/marek/HCP/train_data/FSL_outputs/10...</td>\n",
       "    </tr>\n",
       "    <tr>\n",
       "      <td>2</td>\n",
       "      <td>100408_3T_T1w_MPR1.anat</td>\n",
       "      <td>100408</td>\n",
       "      <td></td>\n",
       "      <td>MPR1.anat</td>\n",
       "      <td>T1_biascorr_brain_mask.nii.gz</td>\n",
       "      <td>/data-10tb/marek/HCP/train_data/FSL_outputs/10...</td>\n",
       "    </tr>\n",
       "  </tbody>\n",
       "</table>\n",
       "</div>"
      ],
      "text/plain": [
       "               Examination Subject_id Image_id   Modality  \\\n",
       "0  100206_3T_T1w_MPR1.anat     100206           MPR1.anat   \n",
       "1  100307_3T_T1w_MPR1.anat     100307           MPR1.anat   \n",
       "2  100408_3T_T1w_MPR1.anat     100408           MPR1.anat   \n",
       "\n",
       "                           Image  \\\n",
       "0  T1_biascorr_brain_mask.nii.gz   \n",
       "1  T1_biascorr_brain_mask.nii.gz   \n",
       "2  T1_biascorr_brain_mask.nii.gz   \n",
       "\n",
       "                                                Path  \n",
       "0  /data-10tb/marek/HCP/train_data/FSL_outputs/10...  \n",
       "1  /data-10tb/marek/HCP/train_data/FSL_outputs/10...  \n",
       "2  /data-10tb/marek/HCP/train_data/FSL_outputs/10...  "
      ]
     },
     "execution_count": 9,
     "metadata": {},
     "output_type": "execute_result"
    }
   ],
   "source": [
    "slim_t1_mask_info = f.get_hcp_info(t1_mask_files)\n",
    "slim_t1_mask_info.head(3)"
   ]
  },
  {
   "cell_type": "markdown",
   "metadata": {},
   "source": [
    "#### Get images info"
   ]
  },
  {
   "cell_type": "code",
   "execution_count": 10,
   "metadata": {},
   "outputs": [
    {
     "name": "stdout",
     "output_type": "stream",
     "text": [
      "CPU times: user 12min 14s, sys: 2min 8s, total: 14min 23s\n",
      "Wall time: 29min 47s\n"
     ]
    }
   ],
   "source": [
    "%%time\n",
    "slim_t1_im_info = f.get_img_params(t1_files)"
   ]
  },
  {
   "cell_type": "code",
   "execution_count": 11,
   "metadata": {},
   "outputs": [],
   "source": [
    "# for k in slim_t1_im_info.Examination[:3]:\n",
    "#     print(k)"
   ]
  },
  {
   "cell_type": "code",
   "execution_count": 12,
   "metadata": {},
   "outputs": [
    {
     "data": {
      "text/html": [
       "<div>\n",
       "<style scoped>\n",
       "    .dataframe tbody tr th:only-of-type {\n",
       "        vertical-align: middle;\n",
       "    }\n",
       "\n",
       "    .dataframe tbody tr th {\n",
       "        vertical-align: top;\n",
       "    }\n",
       "\n",
       "    .dataframe thead th {\n",
       "        text-align: right;\n",
       "    }\n",
       "</style>\n",
       "<table border=\"1\" class=\"dataframe\">\n",
       "  <thead>\n",
       "    <tr style=\"text-align: right;\">\n",
       "      <th></th>\n",
       "      <th>Examination</th>\n",
       "      <th>Image</th>\n",
       "      <th>Max</th>\n",
       "      <th>Mean</th>\n",
       "      <th>Min</th>\n",
       "      <th>Dtype</th>\n",
       "      <th>Size_1</th>\n",
       "      <th>Size_2</th>\n",
       "      <th>Size_3</th>\n",
       "      <th>Pixdim_1</th>\n",
       "      <th>Pixdim_2</th>\n",
       "      <th>Pixdim_3</th>\n",
       "    </tr>\n",
       "  </thead>\n",
       "  <tbody>\n",
       "    <tr>\n",
       "      <td>0</td>\n",
       "      <td>100206_3T_T1w_MPR1.anat</td>\n",
       "      <td>T1.nii.gz</td>\n",
       "      <td>4095.0</td>\n",
       "      <td>423.82</td>\n",
       "      <td>0.0</td>\n",
       "      <td>float64</td>\n",
       "      <td>256</td>\n",
       "      <td>320</td>\n",
       "      <td>243</td>\n",
       "      <td>0.7</td>\n",
       "      <td>0.7</td>\n",
       "      <td>0.7</td>\n",
       "    </tr>\n",
       "    <tr>\n",
       "      <td>1</td>\n",
       "      <td>100307_3T_T1w_MPR1.anat</td>\n",
       "      <td>T1.nii.gz</td>\n",
       "      <td>3511.0</td>\n",
       "      <td>311.55</td>\n",
       "      <td>0.0</td>\n",
       "      <td>float64</td>\n",
       "      <td>256</td>\n",
       "      <td>320</td>\n",
       "      <td>243</td>\n",
       "      <td>0.7</td>\n",
       "      <td>0.7</td>\n",
       "      <td>0.7</td>\n",
       "    </tr>\n",
       "    <tr>\n",
       "      <td>2</td>\n",
       "      <td>100408_3T_T1w_MPR1.anat</td>\n",
       "      <td>T1.nii.gz</td>\n",
       "      <td>4095.0</td>\n",
       "      <td>396.43</td>\n",
       "      <td>0.0</td>\n",
       "      <td>float64</td>\n",
       "      <td>256</td>\n",
       "      <td>320</td>\n",
       "      <td>243</td>\n",
       "      <td>0.7</td>\n",
       "      <td>0.7</td>\n",
       "      <td>0.7</td>\n",
       "    </tr>\n",
       "  </tbody>\n",
       "</table>\n",
       "</div>"
      ],
      "text/plain": [
       "               Examination      Image     Max    Mean  Min    Dtype  Size_1  \\\n",
       "0  100206_3T_T1w_MPR1.anat  T1.nii.gz  4095.0  423.82  0.0  float64     256   \n",
       "1  100307_3T_T1w_MPR1.anat  T1.nii.gz  3511.0  311.55  0.0  float64     256   \n",
       "2  100408_3T_T1w_MPR1.anat  T1.nii.gz  4095.0  396.43  0.0  float64     256   \n",
       "\n",
       "   Size_2  Size_3  Pixdim_1  Pixdim_2  Pixdim_3  \n",
       "0     320     243       0.7       0.7       0.7  \n",
       "1     320     243       0.7       0.7       0.7  \n",
       "2     320     243       0.7       0.7       0.7  "
      ]
     },
     "execution_count": 12,
     "metadata": {},
     "output_type": "execute_result"
    }
   ],
   "source": [
    "slim_t1_im_info.head(3).round(2)"
   ]
  },
  {
   "cell_type": "code",
   "execution_count": 13,
   "metadata": {},
   "outputs": [
    {
     "name": "stdout",
     "output_type": "stream",
     "text": [
      "1781/1781  996782_3T_T1w_MPR2.anat   \r"
     ]
    }
   ],
   "source": [
    "slim_t1_bias_im_info = f.get_img_params(t1_bias_files)"
   ]
  },
  {
   "cell_type": "code",
   "execution_count": 14,
   "metadata": {},
   "outputs": [
    {
     "data": {
      "text/html": [
       "<div>\n",
       "<style scoped>\n",
       "    .dataframe tbody tr th:only-of-type {\n",
       "        vertical-align: middle;\n",
       "    }\n",
       "\n",
       "    .dataframe tbody tr th {\n",
       "        vertical-align: top;\n",
       "    }\n",
       "\n",
       "    .dataframe thead th {\n",
       "        text-align: right;\n",
       "    }\n",
       "</style>\n",
       "<table border=\"1\" class=\"dataframe\">\n",
       "  <thead>\n",
       "    <tr style=\"text-align: right;\">\n",
       "      <th></th>\n",
       "      <th>Examination</th>\n",
       "      <th>Image</th>\n",
       "      <th>Max</th>\n",
       "      <th>Mean</th>\n",
       "      <th>Min</th>\n",
       "      <th>Dtype</th>\n",
       "      <th>Size_1</th>\n",
       "      <th>Size_2</th>\n",
       "      <th>Size_3</th>\n",
       "      <th>Pixdim_1</th>\n",
       "      <th>Pixdim_2</th>\n",
       "      <th>Pixdim_3</th>\n",
       "    </tr>\n",
       "  </thead>\n",
       "  <tbody>\n",
       "    <tr>\n",
       "      <td>0</td>\n",
       "      <td>100206_3T_T1w_MPR1.anat</td>\n",
       "      <td>T1_biascorr.nii.gz</td>\n",
       "      <td>5175.86</td>\n",
       "      <td>410.08</td>\n",
       "      <td>0.0</td>\n",
       "      <td>float64</td>\n",
       "      <td>256</td>\n",
       "      <td>320</td>\n",
       "      <td>243</td>\n",
       "      <td>0.7</td>\n",
       "      <td>0.7</td>\n",
       "      <td>0.7</td>\n",
       "    </tr>\n",
       "    <tr>\n",
       "      <td>1</td>\n",
       "      <td>100307_3T_T1w_MPR1.anat</td>\n",
       "      <td>T1_biascorr.nii.gz</td>\n",
       "      <td>4895.28</td>\n",
       "      <td>319.04</td>\n",
       "      <td>0.0</td>\n",
       "      <td>float64</td>\n",
       "      <td>256</td>\n",
       "      <td>320</td>\n",
       "      <td>243</td>\n",
       "      <td>0.7</td>\n",
       "      <td>0.7</td>\n",
       "      <td>0.7</td>\n",
       "    </tr>\n",
       "    <tr>\n",
       "      <td>2</td>\n",
       "      <td>100408_3T_T1w_MPR1.anat</td>\n",
       "      <td>T1_biascorr.nii.gz</td>\n",
       "      <td>4186.46</td>\n",
       "      <td>389.07</td>\n",
       "      <td>0.0</td>\n",
       "      <td>float64</td>\n",
       "      <td>256</td>\n",
       "      <td>320</td>\n",
       "      <td>243</td>\n",
       "      <td>0.7</td>\n",
       "      <td>0.7</td>\n",
       "      <td>0.7</td>\n",
       "    </tr>\n",
       "  </tbody>\n",
       "</table>\n",
       "</div>"
      ],
      "text/plain": [
       "               Examination               Image      Max    Mean  Min    Dtype  \\\n",
       "0  100206_3T_T1w_MPR1.anat  T1_biascorr.nii.gz  5175.86  410.08  0.0  float64   \n",
       "1  100307_3T_T1w_MPR1.anat  T1_biascorr.nii.gz  4895.28  319.04  0.0  float64   \n",
       "2  100408_3T_T1w_MPR1.anat  T1_biascorr.nii.gz  4186.46  389.07  0.0  float64   \n",
       "\n",
       "   Size_1  Size_2  Size_3  Pixdim_1  Pixdim_2  Pixdim_3  \n",
       "0     256     320     243       0.7       0.7       0.7  \n",
       "1     256     320     243       0.7       0.7       0.7  \n",
       "2     256     320     243       0.7       0.7       0.7  "
      ]
     },
     "execution_count": 14,
     "metadata": {},
     "output_type": "execute_result"
    }
   ],
   "source": [
    "slim_t1_bias_im_info.head(3).round(2)"
   ]
  },
  {
   "cell_type": "code",
   "execution_count": 15,
   "metadata": {},
   "outputs": [
    {
     "name": "stdout",
     "output_type": "stream",
     "text": [
      "1781/1781  996782_3T_T1w_MPR2.anat   \r"
     ]
    }
   ],
   "source": [
    "slim_t1_mask_im_info = f.get_img_params(t1_mask_files)"
   ]
  },
  {
   "cell_type": "code",
   "execution_count": 16,
   "metadata": {},
   "outputs": [
    {
     "data": {
      "text/html": [
       "<div>\n",
       "<style scoped>\n",
       "    .dataframe tbody tr th:only-of-type {\n",
       "        vertical-align: middle;\n",
       "    }\n",
       "\n",
       "    .dataframe tbody tr th {\n",
       "        vertical-align: top;\n",
       "    }\n",
       "\n",
       "    .dataframe thead th {\n",
       "        text-align: right;\n",
       "    }\n",
       "</style>\n",
       "<table border=\"1\" class=\"dataframe\">\n",
       "  <thead>\n",
       "    <tr style=\"text-align: right;\">\n",
       "      <th></th>\n",
       "      <th>Examination</th>\n",
       "      <th>Image</th>\n",
       "      <th>Max</th>\n",
       "      <th>Mean</th>\n",
       "      <th>Min</th>\n",
       "      <th>Dtype</th>\n",
       "      <th>Size_1</th>\n",
       "      <th>Size_2</th>\n",
       "      <th>Size_3</th>\n",
       "      <th>Pixdim_1</th>\n",
       "      <th>Pixdim_2</th>\n",
       "      <th>Pixdim_3</th>\n",
       "    </tr>\n",
       "  </thead>\n",
       "  <tbody>\n",
       "    <tr>\n",
       "      <td>0</td>\n",
       "      <td>100206_3T_T1w_MPR1.anat</td>\n",
       "      <td>T1_biascorr_brain_mask.nii.gz</td>\n",
       "      <td>1.0</td>\n",
       "      <td>0.25</td>\n",
       "      <td>0.0</td>\n",
       "      <td>float64</td>\n",
       "      <td>256</td>\n",
       "      <td>320</td>\n",
       "      <td>243</td>\n",
       "      <td>0.7</td>\n",
       "      <td>0.7</td>\n",
       "      <td>0.7</td>\n",
       "    </tr>\n",
       "    <tr>\n",
       "      <td>1</td>\n",
       "      <td>100307_3T_T1w_MPR1.anat</td>\n",
       "      <td>T1_biascorr_brain_mask.nii.gz</td>\n",
       "      <td>1.0</td>\n",
       "      <td>0.20</td>\n",
       "      <td>0.0</td>\n",
       "      <td>float64</td>\n",
       "      <td>256</td>\n",
       "      <td>320</td>\n",
       "      <td>243</td>\n",
       "      <td>0.7</td>\n",
       "      <td>0.7</td>\n",
       "      <td>0.7</td>\n",
       "    </tr>\n",
       "    <tr>\n",
       "      <td>2</td>\n",
       "      <td>100408_3T_T1w_MPR1.anat</td>\n",
       "      <td>T1_biascorr_brain_mask.nii.gz</td>\n",
       "      <td>1.0</td>\n",
       "      <td>0.24</td>\n",
       "      <td>0.0</td>\n",
       "      <td>float64</td>\n",
       "      <td>256</td>\n",
       "      <td>320</td>\n",
       "      <td>243</td>\n",
       "      <td>0.7</td>\n",
       "      <td>0.7</td>\n",
       "      <td>0.7</td>\n",
       "    </tr>\n",
       "  </tbody>\n",
       "</table>\n",
       "</div>"
      ],
      "text/plain": [
       "               Examination                          Image  Max  Mean  Min  \\\n",
       "0  100206_3T_T1w_MPR1.anat  T1_biascorr_brain_mask.nii.gz  1.0  0.25  0.0   \n",
       "1  100307_3T_T1w_MPR1.anat  T1_biascorr_brain_mask.nii.gz  1.0  0.20  0.0   \n",
       "2  100408_3T_T1w_MPR1.anat  T1_biascorr_brain_mask.nii.gz  1.0  0.24  0.0   \n",
       "\n",
       "     Dtype  Size_1  Size_2  Size_3  Pixdim_1  Pixdim_2  Pixdim_3  \n",
       "0  float64     256     320     243       0.7       0.7       0.7  \n",
       "1  float64     256     320     243       0.7       0.7       0.7  \n",
       "2  float64     256     320     243       0.7       0.7       0.7  "
      ]
     },
     "execution_count": 16,
     "metadata": {},
     "output_type": "execute_result"
    }
   ],
   "source": [
    "slim_t1_mask_im_info.head(3).round(2)"
   ]
  },
  {
   "cell_type": "markdown",
   "metadata": {},
   "source": [
    "#### Save tables to *results* folder"
   ]
  },
  {
   "cell_type": "code",
   "execution_count": 17,
   "metadata": {},
   "outputs": [],
   "source": [
    "# ### SAVE TO CSV FILES\n",
    "#df_ixi_t1_im_info.to_csv(results_folder/'ixi_t1_im_info.csv')\n",
    "#df_ixi_t1_bias_info.to_csv(results_folder/'ixi_t1_bias_info.csv')\n",
    "#df_ixi_t1_mask_info.to_csv(results_folder/'ixi_t1_mask_info.csv')"
   ]
  },
  {
   "cell_type": "code",
   "execution_count": 18,
   "metadata": {},
   "outputs": [],
   "source": [
    "# ### WRITE TO EXCEL FILE\n",
    "writer = pd.ExcelWriter(f'{results_folder}/hcp_aniso.xlsx', engine = 'xlsxwriter')\n",
    "slim_t1_info.to_excel(writer, sheet_name = 't1', index=False )\n",
    "slim_t1_bias_info.to_excel(writer, sheet_name = 't1_biascorr', index=False )\n",
    "slim_t1_mask_info.to_excel(writer, sheet_name = 't1_mask', index=False )\n",
    "\n",
    "slim_t1_im_info.to_excel(writer, sheet_name = 't1_im', index=False )\n",
    "slim_t1_bias_im_info.to_excel(writer, sheet_name = 't1_bias_im', index=False )\n",
    "slim_t1_mask_im_info.to_excel(writer, sheet_name = 't1_mask_im', index=False )\n",
    "writer.save()\n",
    "writer.close()"
   ]
  },
  {
   "cell_type": "code",
   "execution_count": 19,
   "metadata": {},
   "outputs": [
    {
     "name": "stdout",
     "output_type": "stream",
     "text": [
      "HCP...done\n"
     ]
    }
   ],
   "source": [
    "print('HCP...done')"
   ]
  },
  {
   "cell_type": "code",
   "execution_count": null,
   "metadata": {},
   "outputs": [],
   "source": []
  },
  {
   "cell_type": "code",
   "execution_count": 20,
   "metadata": {},
   "outputs": [],
   "source": [
    "# join tables\n",
    "#df_ixi_t1.join(df, lsuffix='_t1', rsuffix='_df')"
   ]
  },
  {
   "cell_type": "code",
   "execution_count": 21,
   "metadata": {},
   "outputs": [],
   "source": [
    "# # ## ipcluster start -n 4\n",
    "# import ipyparallel as ipp\n",
    "# c = ipp.Client()\n",
    "# c.ids\n",
    "# c[:].apply_async(f.get_img_params(ixi_t1_files))\n",
    "#c.shutdown(hub=True)\n",
    "# jobs\n",
    "# kill %1"
   ]
  }
 ],
 "metadata": {
  "kernelspec": {
   "display_name": "fastai1",
   "language": "python",
   "name": "fastai1"
  },
  "language_info": {
   "codemirror_mode": {
    "name": "ipython",
    "version": 3
   },
   "file_extension": ".py",
   "mimetype": "text/x-python",
   "name": "python",
   "nbconvert_exporter": "python",
   "pygments_lexer": "ipython3",
   "version": "3.7.4"
  }
 },
 "nbformat": 4,
 "nbformat_minor": 4
}
