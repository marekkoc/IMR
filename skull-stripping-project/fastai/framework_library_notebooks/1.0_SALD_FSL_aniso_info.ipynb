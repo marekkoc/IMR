{
 "cells": [
  {
   "cell_type": "markdown",
   "metadata": {},
   "source": [
    "### Basic information about 3D anisotropic images\n",
    "\n",
    "######  2020.07.01  \n",
    "\n",
    "###### (ver. 2020.07.13)"
   ]
  },
  {
   "cell_type": "markdown",
   "metadata": {},
   "source": [
    "This file reads the basic meta-information about **3D** images. It might be substantial during convertion from 3D dataset to set of 2D slices."
   ]
  },
  {
   "cell_type": "code",
   "execution_count": 26,
   "metadata": {},
   "outputs": [],
   "source": [
    "from fastai.utils.mem import *\n",
    "\n",
    "import sys\n",
    "sys.path.append('functions/')\n",
    "\n",
    "import functions10 as f\n",
    "\n",
    "import imp\n",
    "_ = imp.reload(f)"
   ]
  },
  {
   "cell_type": "code",
   "execution_count": 27,
   "metadata": {},
   "outputs": [],
   "source": [
    "t1_name = 'T1.nii.gz'\n",
    "t1_biascorr = 'T1_biascorr.nii.gz'\n",
    "t1_mask = 'T1_biascorr_brain_mask.nii.gz'"
   ]
  },
  {
   "cell_type": "markdown",
   "metadata": {},
   "source": [
    "# SALD"
   ]
  },
  {
   "cell_type": "code",
   "execution_count": 28,
   "metadata": {},
   "outputs": [],
   "source": [
    "database = 'SALD'\n",
    "root_folder = Path(f'/data-10tb/marek/{database}/train_data/FSL_outputs')\n",
    "results_folder = Path(f'/data-10tb/marek/github_codes/skull-stripping-1/fastai/1.0_results/')\n",
    "#root_folder.ls()"
   ]
  },
  {
   "cell_type": "code",
   "execution_count": 29,
   "metadata": {},
   "outputs": [],
   "source": [
    "t1_files = list(root_folder.glob(f'*/{t1_name}'))\n",
    "t1_bias_files = list(root_folder.glob(f'*/{t1_biascorr}'))\n",
    "t1_mask_files = list(root_folder.glob(f'*/{t1_mask}'))\n",
    "\n",
    "t1_files.sort()\n",
    "t1_bias_files.sort()\n",
    "t1_mask_files.sort()"
   ]
  },
  {
   "cell_type": "code",
   "execution_count": 30,
   "metadata": {},
   "outputs": [
    {
     "data": {
      "text/plain": [
       "[PosixPath('/data-10tb/marek/SALD/train_data/FSL_outputs/sub-031274_T1w.anat/T1.nii.gz'),\n",
       " PosixPath('/data-10tb/marek/SALD/train_data/FSL_outputs/sub-031275_T1w.anat/T1.nii.gz'),\n",
       " PosixPath('/data-10tb/marek/SALD/train_data/FSL_outputs/sub-031276_T1w.anat/T1.nii.gz')]"
      ]
     },
     "execution_count": 30,
     "metadata": {},
     "output_type": "execute_result"
    }
   ],
   "source": [
    "t1_files[:3]"
   ]
  },
  {
   "cell_type": "markdown",
   "metadata": {},
   "source": [
    "#### Get description tables"
   ]
  },
  {
   "cell_type": "code",
   "execution_count": 31,
   "metadata": {},
   "outputs": [
    {
     "data": {
      "text/html": [
       "<div>\n",
       "<style scoped>\n",
       "    .dataframe tbody tr th:only-of-type {\n",
       "        vertical-align: middle;\n",
       "    }\n",
       "\n",
       "    .dataframe tbody tr th {\n",
       "        vertical-align: top;\n",
       "    }\n",
       "\n",
       "    .dataframe thead th {\n",
       "        text-align: right;\n",
       "    }\n",
       "</style>\n",
       "<table border=\"1\" class=\"dataframe\">\n",
       "  <thead>\n",
       "    <tr style=\"text-align: right;\">\n",
       "      <th></th>\n",
       "      <th>Examination</th>\n",
       "      <th>Subject_id</th>\n",
       "      <th>Image_id</th>\n",
       "      <th>Modality</th>\n",
       "      <th>Image</th>\n",
       "      <th>Path</th>\n",
       "    </tr>\n",
       "  </thead>\n",
       "  <tbody>\n",
       "    <tr>\n",
       "      <td>0</td>\n",
       "      <td>sub-031274_T1w.anat</td>\n",
       "      <td>sub-031274</td>\n",
       "      <td></td>\n",
       "      <td>T1w.anat</td>\n",
       "      <td>T1.nii.gz</td>\n",
       "      <td>/data-10tb/marek/SALD/train_data/FSL_outputs/s...</td>\n",
       "    </tr>\n",
       "    <tr>\n",
       "      <td>1</td>\n",
       "      <td>sub-031275_T1w.anat</td>\n",
       "      <td>sub-031275</td>\n",
       "      <td></td>\n",
       "      <td>T1w.anat</td>\n",
       "      <td>T1.nii.gz</td>\n",
       "      <td>/data-10tb/marek/SALD/train_data/FSL_outputs/s...</td>\n",
       "    </tr>\n",
       "    <tr>\n",
       "      <td>2</td>\n",
       "      <td>sub-031276_T1w.anat</td>\n",
       "      <td>sub-031276</td>\n",
       "      <td></td>\n",
       "      <td>T1w.anat</td>\n",
       "      <td>T1.nii.gz</td>\n",
       "      <td>/data-10tb/marek/SALD/train_data/FSL_outputs/s...</td>\n",
       "    </tr>\n",
       "  </tbody>\n",
       "</table>\n",
       "</div>"
      ],
      "text/plain": [
       "           Examination  Subject_id Image_id  Modality      Image  \\\n",
       "0  sub-031274_T1w.anat  sub-031274           T1w.anat  T1.nii.gz   \n",
       "1  sub-031275_T1w.anat  sub-031275           T1w.anat  T1.nii.gz   \n",
       "2  sub-031276_T1w.anat  sub-031276           T1w.anat  T1.nii.gz   \n",
       "\n",
       "                                                Path  \n",
       "0  /data-10tb/marek/SALD/train_data/FSL_outputs/s...  \n",
       "1  /data-10tb/marek/SALD/train_data/FSL_outputs/s...  \n",
       "2  /data-10tb/marek/SALD/train_data/FSL_outputs/s...  "
      ]
     },
     "execution_count": 31,
     "metadata": {},
     "output_type": "execute_result"
    }
   ],
   "source": [
    "sald_t1_info = f.get_sald_info(t1_files)\n",
    "sald_t1_info.head(3)"
   ]
  },
  {
   "cell_type": "code",
   "execution_count": 32,
   "metadata": {},
   "outputs": [
    {
     "data": {
      "text/html": [
       "<div>\n",
       "<style scoped>\n",
       "    .dataframe tbody tr th:only-of-type {\n",
       "        vertical-align: middle;\n",
       "    }\n",
       "\n",
       "    .dataframe tbody tr th {\n",
       "        vertical-align: top;\n",
       "    }\n",
       "\n",
       "    .dataframe thead th {\n",
       "        text-align: right;\n",
       "    }\n",
       "</style>\n",
       "<table border=\"1\" class=\"dataframe\">\n",
       "  <thead>\n",
       "    <tr style=\"text-align: right;\">\n",
       "      <th></th>\n",
       "      <th>Examination</th>\n",
       "      <th>Subject_id</th>\n",
       "      <th>Image_id</th>\n",
       "      <th>Modality</th>\n",
       "      <th>Image</th>\n",
       "      <th>Path</th>\n",
       "    </tr>\n",
       "  </thead>\n",
       "  <tbody>\n",
       "    <tr>\n",
       "      <td>0</td>\n",
       "      <td>sub-031274_T1w.anat</td>\n",
       "      <td>sub-031274</td>\n",
       "      <td></td>\n",
       "      <td>T1w.anat</td>\n",
       "      <td>T1_biascorr.nii.gz</td>\n",
       "      <td>/data-10tb/marek/SALD/train_data/FSL_outputs/s...</td>\n",
       "    </tr>\n",
       "    <tr>\n",
       "      <td>1</td>\n",
       "      <td>sub-031275_T1w.anat</td>\n",
       "      <td>sub-031275</td>\n",
       "      <td></td>\n",
       "      <td>T1w.anat</td>\n",
       "      <td>T1_biascorr.nii.gz</td>\n",
       "      <td>/data-10tb/marek/SALD/train_data/FSL_outputs/s...</td>\n",
       "    </tr>\n",
       "    <tr>\n",
       "      <td>2</td>\n",
       "      <td>sub-031276_T1w.anat</td>\n",
       "      <td>sub-031276</td>\n",
       "      <td></td>\n",
       "      <td>T1w.anat</td>\n",
       "      <td>T1_biascorr.nii.gz</td>\n",
       "      <td>/data-10tb/marek/SALD/train_data/FSL_outputs/s...</td>\n",
       "    </tr>\n",
       "  </tbody>\n",
       "</table>\n",
       "</div>"
      ],
      "text/plain": [
       "           Examination  Subject_id Image_id  Modality               Image  \\\n",
       "0  sub-031274_T1w.anat  sub-031274           T1w.anat  T1_biascorr.nii.gz   \n",
       "1  sub-031275_T1w.anat  sub-031275           T1w.anat  T1_biascorr.nii.gz   \n",
       "2  sub-031276_T1w.anat  sub-031276           T1w.anat  T1_biascorr.nii.gz   \n",
       "\n",
       "                                                Path  \n",
       "0  /data-10tb/marek/SALD/train_data/FSL_outputs/s...  \n",
       "1  /data-10tb/marek/SALD/train_data/FSL_outputs/s...  \n",
       "2  /data-10tb/marek/SALD/train_data/FSL_outputs/s...  "
      ]
     },
     "execution_count": 32,
     "metadata": {},
     "output_type": "execute_result"
    }
   ],
   "source": [
    "sald_t1_bias_info = f.get_sald_info(t1_bias_files)\n",
    "sald_t1_bias_info.head(3)"
   ]
  },
  {
   "cell_type": "code",
   "execution_count": 33,
   "metadata": {},
   "outputs": [
    {
     "data": {
      "text/html": [
       "<div>\n",
       "<style scoped>\n",
       "    .dataframe tbody tr th:only-of-type {\n",
       "        vertical-align: middle;\n",
       "    }\n",
       "\n",
       "    .dataframe tbody tr th {\n",
       "        vertical-align: top;\n",
       "    }\n",
       "\n",
       "    .dataframe thead th {\n",
       "        text-align: right;\n",
       "    }\n",
       "</style>\n",
       "<table border=\"1\" class=\"dataframe\">\n",
       "  <thead>\n",
       "    <tr style=\"text-align: right;\">\n",
       "      <th></th>\n",
       "      <th>Examination</th>\n",
       "      <th>Subject_id</th>\n",
       "      <th>Image_id</th>\n",
       "      <th>Modality</th>\n",
       "      <th>Image</th>\n",
       "      <th>Path</th>\n",
       "    </tr>\n",
       "  </thead>\n",
       "  <tbody>\n",
       "    <tr>\n",
       "      <td>0</td>\n",
       "      <td>sub-031274_T1w.anat</td>\n",
       "      <td>sub-031274</td>\n",
       "      <td></td>\n",
       "      <td>T1w.anat</td>\n",
       "      <td>T1_biascorr_brain_mask.nii.gz</td>\n",
       "      <td>/data-10tb/marek/SALD/train_data/FSL_outputs/s...</td>\n",
       "    </tr>\n",
       "    <tr>\n",
       "      <td>1</td>\n",
       "      <td>sub-031275_T1w.anat</td>\n",
       "      <td>sub-031275</td>\n",
       "      <td></td>\n",
       "      <td>T1w.anat</td>\n",
       "      <td>T1_biascorr_brain_mask.nii.gz</td>\n",
       "      <td>/data-10tb/marek/SALD/train_data/FSL_outputs/s...</td>\n",
       "    </tr>\n",
       "    <tr>\n",
       "      <td>2</td>\n",
       "      <td>sub-031276_T1w.anat</td>\n",
       "      <td>sub-031276</td>\n",
       "      <td></td>\n",
       "      <td>T1w.anat</td>\n",
       "      <td>T1_biascorr_brain_mask.nii.gz</td>\n",
       "      <td>/data-10tb/marek/SALD/train_data/FSL_outputs/s...</td>\n",
       "    </tr>\n",
       "  </tbody>\n",
       "</table>\n",
       "</div>"
      ],
      "text/plain": [
       "           Examination  Subject_id Image_id  Modality  \\\n",
       "0  sub-031274_T1w.anat  sub-031274           T1w.anat   \n",
       "1  sub-031275_T1w.anat  sub-031275           T1w.anat   \n",
       "2  sub-031276_T1w.anat  sub-031276           T1w.anat   \n",
       "\n",
       "                           Image  \\\n",
       "0  T1_biascorr_brain_mask.nii.gz   \n",
       "1  T1_biascorr_brain_mask.nii.gz   \n",
       "2  T1_biascorr_brain_mask.nii.gz   \n",
       "\n",
       "                                                Path  \n",
       "0  /data-10tb/marek/SALD/train_data/FSL_outputs/s...  \n",
       "1  /data-10tb/marek/SALD/train_data/FSL_outputs/s...  \n",
       "2  /data-10tb/marek/SALD/train_data/FSL_outputs/s...  "
      ]
     },
     "execution_count": 33,
     "metadata": {},
     "output_type": "execute_result"
    }
   ],
   "source": [
    "sald_t1_mask_info = f.get_sald_info(t1_mask_files)\n",
    "sald_t1_mask_info.head(3)"
   ]
  },
  {
   "cell_type": "markdown",
   "metadata": {},
   "source": [
    "#### Get images info"
   ]
  },
  {
   "cell_type": "code",
   "execution_count": 34,
   "metadata": {},
   "outputs": [
    {
     "name": "stdout",
     "output_type": "stream",
     "text": [
      "CPU times: user 1min 3s, sys: 4.07 s, total: 1min 7s\n",
      "Wall time: 1min 14s\n"
     ]
    }
   ],
   "source": [
    "%%time\n",
    "sald_t1_im_info = f.get_img_params(t1_files)"
   ]
  },
  {
   "cell_type": "code",
   "execution_count": 35,
   "metadata": {},
   "outputs": [],
   "source": [
    "# for k in sald_t1_im_info.Examination[:3]:\n",
    "#     print(k)"
   ]
  },
  {
   "cell_type": "code",
   "execution_count": 36,
   "metadata": {},
   "outputs": [
    {
     "data": {
      "text/html": [
       "<div>\n",
       "<style scoped>\n",
       "    .dataframe tbody tr th:only-of-type {\n",
       "        vertical-align: middle;\n",
       "    }\n",
       "\n",
       "    .dataframe tbody tr th {\n",
       "        vertical-align: top;\n",
       "    }\n",
       "\n",
       "    .dataframe thead th {\n",
       "        text-align: right;\n",
       "    }\n",
       "</style>\n",
       "<table border=\"1\" class=\"dataframe\">\n",
       "  <thead>\n",
       "    <tr style=\"text-align: right;\">\n",
       "      <th></th>\n",
       "      <th>Examination</th>\n",
       "      <th>Image</th>\n",
       "      <th>max</th>\n",
       "      <th>mean</th>\n",
       "      <th>min</th>\n",
       "      <th>dtype</th>\n",
       "      <th>size_1</th>\n",
       "      <th>size_2</th>\n",
       "      <th>size_3</th>\n",
       "      <th>pixdim_1</th>\n",
       "      <th>pixdim_2</th>\n",
       "      <th>pixixdim_3</th>\n",
       "    </tr>\n",
       "  </thead>\n",
       "  <tbody>\n",
       "    <tr>\n",
       "      <td>0</td>\n",
       "      <td>sub-031274_T1w.anat</td>\n",
       "      <td>T1.nii.gz</td>\n",
       "      <td>882.99</td>\n",
       "      <td>68.99</td>\n",
       "      <td>0.0</td>\n",
       "      <td>float64</td>\n",
       "      <td>176</td>\n",
       "      <td>256</td>\n",
       "      <td>170</td>\n",
       "      <td>1.0</td>\n",
       "      <td>1.0</td>\n",
       "      <td>1.0</td>\n",
       "    </tr>\n",
       "    <tr>\n",
       "      <td>1</td>\n",
       "      <td>sub-031275_T1w.anat</td>\n",
       "      <td>T1.nii.gz</td>\n",
       "      <td>923.00</td>\n",
       "      <td>89.10</td>\n",
       "      <td>0.0</td>\n",
       "      <td>float64</td>\n",
       "      <td>176</td>\n",
       "      <td>256</td>\n",
       "      <td>170</td>\n",
       "      <td>1.0</td>\n",
       "      <td>1.0</td>\n",
       "      <td>1.0</td>\n",
       "    </tr>\n",
       "    <tr>\n",
       "      <td>2</td>\n",
       "      <td>sub-031276_T1w.anat</td>\n",
       "      <td>T1.nii.gz</td>\n",
       "      <td>1096.98</td>\n",
       "      <td>102.78</td>\n",
       "      <td>0.0</td>\n",
       "      <td>float64</td>\n",
       "      <td>176</td>\n",
       "      <td>256</td>\n",
       "      <td>170</td>\n",
       "      <td>1.0</td>\n",
       "      <td>1.0</td>\n",
       "      <td>1.0</td>\n",
       "    </tr>\n",
       "  </tbody>\n",
       "</table>\n",
       "</div>"
      ],
      "text/plain": [
       "           Examination      Image      max    mean  min    dtype  size_1  \\\n",
       "0  sub-031274_T1w.anat  T1.nii.gz   882.99   68.99  0.0  float64     176   \n",
       "1  sub-031275_T1w.anat  T1.nii.gz   923.00   89.10  0.0  float64     176   \n",
       "2  sub-031276_T1w.anat  T1.nii.gz  1096.98  102.78  0.0  float64     176   \n",
       "\n",
       "   size_2  size_3  pixdim_1  pixdim_2  pixixdim_3  \n",
       "0     256     170       1.0       1.0         1.0  \n",
       "1     256     170       1.0       1.0         1.0  \n",
       "2     256     170       1.0       1.0         1.0  "
      ]
     },
     "execution_count": 36,
     "metadata": {},
     "output_type": "execute_result"
    }
   ],
   "source": [
    "sald_t1_im_info.head(3).round(2)"
   ]
  },
  {
   "cell_type": "code",
   "execution_count": 37,
   "metadata": {},
   "outputs": [
    {
     "name": "stdout",
     "output_type": "stream",
     "text": [
      "493/493  sub-031767_T1w.anat   \r"
     ]
    }
   ],
   "source": [
    "sald_t1_bias_im_info = f.get_img_params(t1_bias_files)"
   ]
  },
  {
   "cell_type": "code",
   "execution_count": 38,
   "metadata": {},
   "outputs": [
    {
     "data": {
      "text/html": [
       "<div>\n",
       "<style scoped>\n",
       "    .dataframe tbody tr th:only-of-type {\n",
       "        vertical-align: middle;\n",
       "    }\n",
       "\n",
       "    .dataframe tbody tr th {\n",
       "        vertical-align: top;\n",
       "    }\n",
       "\n",
       "    .dataframe thead th {\n",
       "        text-align: right;\n",
       "    }\n",
       "</style>\n",
       "<table border=\"1\" class=\"dataframe\">\n",
       "  <thead>\n",
       "    <tr style=\"text-align: right;\">\n",
       "      <th></th>\n",
       "      <th>Examination</th>\n",
       "      <th>Image</th>\n",
       "      <th>max</th>\n",
       "      <th>mean</th>\n",
       "      <th>min</th>\n",
       "      <th>dtype</th>\n",
       "      <th>size_1</th>\n",
       "      <th>size_2</th>\n",
       "      <th>size_3</th>\n",
       "      <th>pixdim_1</th>\n",
       "      <th>pixdim_2</th>\n",
       "      <th>pixixdim_3</th>\n",
       "    </tr>\n",
       "  </thead>\n",
       "  <tbody>\n",
       "    <tr>\n",
       "      <td>0</td>\n",
       "      <td>sub-031274_T1w.anat</td>\n",
       "      <td>T1_biascorr.nii.gz</td>\n",
       "      <td>888.31</td>\n",
       "      <td>70.58</td>\n",
       "      <td>0.0</td>\n",
       "      <td>float64</td>\n",
       "      <td>176</td>\n",
       "      <td>256</td>\n",
       "      <td>170</td>\n",
       "      <td>1.0</td>\n",
       "      <td>1.0</td>\n",
       "      <td>1.0</td>\n",
       "    </tr>\n",
       "    <tr>\n",
       "      <td>1</td>\n",
       "      <td>sub-031275_T1w.anat</td>\n",
       "      <td>T1_biascorr.nii.gz</td>\n",
       "      <td>797.09</td>\n",
       "      <td>89.32</td>\n",
       "      <td>0.0</td>\n",
       "      <td>float64</td>\n",
       "      <td>176</td>\n",
       "      <td>256</td>\n",
       "      <td>170</td>\n",
       "      <td>1.0</td>\n",
       "      <td>1.0</td>\n",
       "      <td>1.0</td>\n",
       "    </tr>\n",
       "    <tr>\n",
       "      <td>2</td>\n",
       "      <td>sub-031276_T1w.anat</td>\n",
       "      <td>T1_biascorr.nii.gz</td>\n",
       "      <td>982.65</td>\n",
       "      <td>103.93</td>\n",
       "      <td>0.0</td>\n",
       "      <td>float64</td>\n",
       "      <td>176</td>\n",
       "      <td>256</td>\n",
       "      <td>170</td>\n",
       "      <td>1.0</td>\n",
       "      <td>1.0</td>\n",
       "      <td>1.0</td>\n",
       "    </tr>\n",
       "  </tbody>\n",
       "</table>\n",
       "</div>"
      ],
      "text/plain": [
       "           Examination               Image     max    mean  min    dtype  \\\n",
       "0  sub-031274_T1w.anat  T1_biascorr.nii.gz  888.31   70.58  0.0  float64   \n",
       "1  sub-031275_T1w.anat  T1_biascorr.nii.gz  797.09   89.32  0.0  float64   \n",
       "2  sub-031276_T1w.anat  T1_biascorr.nii.gz  982.65  103.93  0.0  float64   \n",
       "\n",
       "   size_1  size_2  size_3  pixdim_1  pixdim_2  pixixdim_3  \n",
       "0     176     256     170       1.0       1.0         1.0  \n",
       "1     176     256     170       1.0       1.0         1.0  \n",
       "2     176     256     170       1.0       1.0         1.0  "
      ]
     },
     "execution_count": 38,
     "metadata": {},
     "output_type": "execute_result"
    }
   ],
   "source": [
    "sald_t1_bias_im_info.head(3).round(2)"
   ]
  },
  {
   "cell_type": "code",
   "execution_count": 39,
   "metadata": {},
   "outputs": [
    {
     "name": "stdout",
     "output_type": "stream",
     "text": [
      "493/493  sub-031767_T1w.anat   \r"
     ]
    }
   ],
   "source": [
    "sald_t1_mask_im_info = f.get_img_params(t1_mask_files)"
   ]
  },
  {
   "cell_type": "code",
   "execution_count": 40,
   "metadata": {},
   "outputs": [
    {
     "data": {
      "text/html": [
       "<div>\n",
       "<style scoped>\n",
       "    .dataframe tbody tr th:only-of-type {\n",
       "        vertical-align: middle;\n",
       "    }\n",
       "\n",
       "    .dataframe tbody tr th {\n",
       "        vertical-align: top;\n",
       "    }\n",
       "\n",
       "    .dataframe thead th {\n",
       "        text-align: right;\n",
       "    }\n",
       "</style>\n",
       "<table border=\"1\" class=\"dataframe\">\n",
       "  <thead>\n",
       "    <tr style=\"text-align: right;\">\n",
       "      <th></th>\n",
       "      <th>Examination</th>\n",
       "      <th>Image</th>\n",
       "      <th>max</th>\n",
       "      <th>mean</th>\n",
       "      <th>min</th>\n",
       "      <th>dtype</th>\n",
       "      <th>size_1</th>\n",
       "      <th>size_2</th>\n",
       "      <th>size_3</th>\n",
       "      <th>pixdim_1</th>\n",
       "      <th>pixdim_2</th>\n",
       "      <th>pixixdim_3</th>\n",
       "    </tr>\n",
       "  </thead>\n",
       "  <tbody>\n",
       "    <tr>\n",
       "      <td>0</td>\n",
       "      <td>sub-031274_T1w.anat</td>\n",
       "      <td>T1_biascorr_brain_mask.nii.gz</td>\n",
       "      <td>1.0</td>\n",
       "      <td>0.13</td>\n",
       "      <td>0.0</td>\n",
       "      <td>float64</td>\n",
       "      <td>176</td>\n",
       "      <td>256</td>\n",
       "      <td>170</td>\n",
       "      <td>1.0</td>\n",
       "      <td>1.0</td>\n",
       "      <td>1.0</td>\n",
       "    </tr>\n",
       "    <tr>\n",
       "      <td>1</td>\n",
       "      <td>sub-031275_T1w.anat</td>\n",
       "      <td>T1_biascorr_brain_mask.nii.gz</td>\n",
       "      <td>1.0</td>\n",
       "      <td>0.17</td>\n",
       "      <td>0.0</td>\n",
       "      <td>float64</td>\n",
       "      <td>176</td>\n",
       "      <td>256</td>\n",
       "      <td>170</td>\n",
       "      <td>1.0</td>\n",
       "      <td>1.0</td>\n",
       "      <td>1.0</td>\n",
       "    </tr>\n",
       "    <tr>\n",
       "      <td>2</td>\n",
       "      <td>sub-031276_T1w.anat</td>\n",
       "      <td>T1_biascorr_brain_mask.nii.gz</td>\n",
       "      <td>1.0</td>\n",
       "      <td>0.16</td>\n",
       "      <td>0.0</td>\n",
       "      <td>float64</td>\n",
       "      <td>176</td>\n",
       "      <td>256</td>\n",
       "      <td>170</td>\n",
       "      <td>1.0</td>\n",
       "      <td>1.0</td>\n",
       "      <td>1.0</td>\n",
       "    </tr>\n",
       "  </tbody>\n",
       "</table>\n",
       "</div>"
      ],
      "text/plain": [
       "           Examination                          Image  max  mean  min  \\\n",
       "0  sub-031274_T1w.anat  T1_biascorr_brain_mask.nii.gz  1.0  0.13  0.0   \n",
       "1  sub-031275_T1w.anat  T1_biascorr_brain_mask.nii.gz  1.0  0.17  0.0   \n",
       "2  sub-031276_T1w.anat  T1_biascorr_brain_mask.nii.gz  1.0  0.16  0.0   \n",
       "\n",
       "     dtype  size_1  size_2  size_3  pixdim_1  pixdim_2  pixixdim_3  \n",
       "0  float64     176     256     170       1.0       1.0         1.0  \n",
       "1  float64     176     256     170       1.0       1.0         1.0  \n",
       "2  float64     176     256     170       1.0       1.0         1.0  "
      ]
     },
     "execution_count": 40,
     "metadata": {},
     "output_type": "execute_result"
    }
   ],
   "source": [
    "sald_t1_mask_im_info.head(3).round(2)"
   ]
  },
  {
   "cell_type": "markdown",
   "metadata": {},
   "source": [
    "#### Save tables to *results* folder"
   ]
  },
  {
   "cell_type": "code",
   "execution_count": 41,
   "metadata": {},
   "outputs": [],
   "source": [
    "# ### SAVE TO CSV FILES\n",
    "#df_ixi_t1_im_info.to_csv(results_folder/'ixi_t1_im_info.csv')\n",
    "#df_ixi_t1_bias_info.to_csv(results_folder/'ixi_t1_bias_info.csv')\n",
    "#df_ixi_t1_mask_info.to_csv(results_folder/'ixi_t1_mask_info.csv')"
   ]
  },
  {
   "cell_type": "code",
   "execution_count": 42,
   "metadata": {},
   "outputs": [],
   "source": [
    "# ### WRITE TO EXCEL FILE\n",
    "writer = pd.ExcelWriter(f'{results_folder}/sald_aniso.xlsx', engine = 'xlsxwriter')\n",
    "sald_t1_info.to_excel(writer, sheet_name = 't1', index=False )\n",
    "sald_t1_bias_info.to_excel(writer, sheet_name = 't1_biascorr', index=False )\n",
    "sald_t1_mask_info.to_excel(writer, sheet_name = 't1_mask', index=False )\n",
    "\n",
    "sald_t1_im_info.to_excel(writer, sheet_name = 't1_im', index=False )\n",
    "sald_t1_bias_im_info.to_excel(writer, sheet_name = 't1_bias_im', index=False )\n",
    "sald_t1_mask_im_info.to_excel(writer, sheet_name = 't1_mask_im', index=False )\n",
    "writer.save()\n",
    "writer.close()"
   ]
  },
  {
   "cell_type": "code",
   "execution_count": null,
   "metadata": {},
   "outputs": [],
   "source": [
    "print('SALD...done')"
   ]
  },
  {
   "cell_type": "code",
   "execution_count": null,
   "metadata": {},
   "outputs": [],
   "source": []
  },
  {
   "cell_type": "code",
   "execution_count": 43,
   "metadata": {},
   "outputs": [],
   "source": [
    "# join tables\n",
    "#df_ixi_t1.join(df, lsuffix='_t1', rsuffix='_df')"
   ]
  },
  {
   "cell_type": "code",
   "execution_count": 44,
   "metadata": {},
   "outputs": [],
   "source": [
    "# # ## ipcluster start -n 4\n",
    "# import ipyparallel as ipp\n",
    "# c = ipp.Client()\n",
    "# c.ids\n",
    "# c[:].apply_async(f.get_img_params(ixi_t1_files))\n",
    "#c.shutdown(hub=True)\n",
    "# jobs\n",
    "# kill %1"
   ]
  }
 ],
 "metadata": {
  "kernelspec": {
   "display_name": "fastai1",
   "language": "python",
   "name": "fastai1"
  },
  "language_info": {
   "codemirror_mode": {
    "name": "ipython",
    "version": 3
   },
   "file_extension": ".py",
   "mimetype": "text/x-python",
   "name": "python",
   "nbconvert_exporter": "python",
   "pygments_lexer": "ipython3",
   "version": "3.7.4"
  }
 },
 "nbformat": 4,
 "nbformat_minor": 4
}
