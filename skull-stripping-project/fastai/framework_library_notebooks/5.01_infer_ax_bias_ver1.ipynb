{
 "cells": [
  {
   "cell_type": "markdown",
   "metadata": {},
   "source": [
    "Created: 2020.07.29\n",
    "\n",
    "Modified: 2020.07.31"
   ]
  },
  {
   "cell_type": "markdown",
   "metadata": {},
   "source": [
    "# Inference test data with a model"
   ]
  },
  {
   "cell_type": "markdown",
   "metadata": {},
   "source": [
    "## Axial-2d / bias - mask"
   ]
  },
  {
   "cell_type": "code",
   "execution_count": 1,
   "metadata": {},
   "outputs": [],
   "source": [
    "%reload_ext autoreload\n",
    "%autoreload 2\n",
    "%matplotlib inline"
   ]
  },
  {
   "cell_type": "code",
   "execution_count": 2,
   "metadata": {},
   "outputs": [],
   "source": [
    "from fastai.vision import *\n",
    "from fastai.callbacks.hooks import *\n",
    "from fastai.utils.mem import *\n",
    "\n",
    "from fastai.core import parallel"
   ]
  },
  {
   "cell_type": "code",
   "execution_count": 4,
   "metadata": {},
   "outputs": [],
   "source": [
    "import glob\n",
    "import numpy as np\n",
    "import pandas as pd\n",
    "import nibabel as nib\n",
    "from pathlib import Path\n",
    "import matplotlib.pyplot as plt"
   ]
  },
  {
   "cell_type": "code",
   "execution_count": 6,
   "metadata": {},
   "outputs": [],
   "source": [
    "import sys\n",
    "sys.path.append('functions')\n",
    "\n",
    "%aimport functions00, functions01\n",
    "from functions00 import *\n",
    "from functions01 import *\n",
    "\n",
    "import functions23 as fun"
   ]
  },
  {
   "cell_type": "code",
   "execution_count": 7,
   "metadata": {},
   "outputs": [
    {
     "name": "stdout",
     "output_type": "stream",
     "text": [
      "**********************************************************************************************************************************\n",
      "Settings:\n",
      "\tHOST:  mmiv-ml-titan\n",
      "\tPATH_ROOT_DATA:  /data-10tb/shared/skull/train-3d-iso\n",
      "\tPATH_GIT_HUB:  /data-10tb/marek/github_codes/skull-stripping-1/fastai\n",
      "\tPATH_2D: /data-10tb/shared/skull\n",
      "\n",
      "3D DFs paths (_mk_3D):\n",
      "\tIXI_TEST_3D: /data-10tb/marek/github_codes/skull-stripping-1/fastai/2.2_train_valid_test_sets/ixi_test_mk_3d.csv\n",
      "\tTEST_3D : /data-10tb/marek/github_codes/skull-stripping-1/fastai/2.2_train_valid_test_sets/test_mk_3d.csv\n",
      "\tTRAIN_VAL_3D: /data-10tb/marek/github_codes/skull-stripping-1/fastai/2.2_train_valid_test_sets/train_val_mk_3d.csv\n",
      "\tNFBS_TEST_3D: /data-10tb/marek/github_codes/skull-stripping-1/fastai/2.2_train_valid_test_sets/nfbs_test_mk_3d.csv\n",
      "\n",
      "Error files (pickle):\n",
      "\tERROR_FILES: /data-10tb/marek/github_codes/skull-stripping-1/fastai/2.2_train_valid_test_sets/error_files\n",
      "**********************************************************************************************************************************\n"
     ]
    }
   ],
   "source": [
    "mk_get_host_info()"
   ]
  },
  {
   "cell_type": "markdown",
   "metadata": {},
   "source": [
    "# Functions"
   ]
  },
  {
   "cell_type": "code",
   "execution_count": 4,
   "metadata": {},
   "outputs": [],
   "source": [
    "# there are all png files (t1 or t1_biascorr) from selected exam (folder) in selected test data (aibl/hcp)\n",
    "def assamble_3d_from_2d_slices(pngs_list, mask_pth, save_png_3d=None):\n",
    "    \"\"\"\n",
    "    1 assemble a 3d matrix from set of 2d images\n",
    "    2 load original mask (eg FSL_outputs)\n",
    "    3 counts Dice coef\n",
    "    4 saves assembled 3d matrix to nii file \n",
    "    5 save to df: \n",
    "    6 msk_cnt, png_cnt, dice\n",
    "    \n",
    "    different versions of save function for axial/coronal/saggital\n",
    "    \n",
    "    \"\"\"\n",
    "    img = open_image(pngs_list[0], convert_mode='L')\n",
    "    learn.data.single_dl.dataset.tfmargs['size'] = img.shape\n",
    "    rows, cols =  img.shape[1:]\n",
    "    sl = len(pngs_list)\n",
    "    png_img = np.zeros((rows, cols, sl), dtype = 'uint8' )\n",
    "\n",
    "    name = pngs_list[0]\n",
    "    if 'axial' in name:\n",
    "        plane = 'axial'\n",
    "    elif 'coronal' in name:\n",
    "        plane = 'coronal'\n",
    "    elif 'sagittal' in name:\n",
    "        plane = 'sagittal'\n",
    "    else:\n",
    "        print('Sth wrong with file name (assamgle_3d_from_2d_slices)')\n",
    "        return\n",
    "    \n",
    "    # TA CZESC BEDZIE INNA DLA CORONAL I SATTITAL\n",
    "    # assemble 3d matrix from png's\n",
    "    for k, png in enumerate(pngs_list):\n",
    "        img = open_image(png, convert_mode='L')    \n",
    "        prediction = learn.predict(img)[0]\n",
    "        if plane == 'axial':\n",
    "            png_img[:,:,k] = np.squeeze(prediction.data.numpy())\n",
    "        if plane == 'coronal':\n",
    "            pass\n",
    "        if plane == 'sagittal':\n",
    "            pass\n",
    "    \n",
    "    \n",
    "    # load 3d_mask to compare with (e.g. FSL_outputs)\n",
    "    msk_nii = nib.load(mask_pth)          \n",
    "    msk_img = msk_nii.get_fdata()\n",
    "\n",
    "    # get brain mask voxels (withe voxels)\n",
    "    msk_cnt = msk_img[msk_img>0].shape[0]\n",
    "    png_cnt = png_img[png_img>0].shape[0]\n",
    "\n",
    "    # count dice\n",
    "    dice = fun.dice_jaccard(msk_img, png_img)    \n",
    "    \n",
    "    if save_png_3d:        \n",
    "        fun.mkSaveImageAsNifti(png_img, msk_nii, save_png_3d)\n",
    "    return msk_cnt, png_cnt, dice"
   ]
  },
  {
   "cell_type": "markdown",
   "metadata": {},
   "source": [
    "# Main code"
   ]
  },
  {
   "cell_type": "markdown",
   "metadata": {},
   "source": [
    "### Learner"
   ]
  },
  {
   "cell_type": "code",
   "execution_count": 9,
   "metadata": {},
   "outputs": [],
   "source": [
    "# Create a loader to load saved models\n",
    "# Is any easer and shorter way to load a model???\n",
    "# It is too complicated.... :(\n",
    "\n",
    "\n",
    "# dir: axial-2d/coronal/saggita\n",
    "# df with paht \n",
    "# cols ---> t1 OR bias (e.g from csv name)\n",
    "\n",
    "def create_learner():\n",
    "    folder_path = PATH_2D / 'axial-2d/'\n",
    "    \n",
    "    df = pd.read_csv(folder_path/'bias_mask-test-val-axial-2d.csv')\n",
    "\n",
    "    codes = np.loadtxt(folder_path/'codes.txt', dtype=str); codes\n",
    "\n",
    "    src = SegmentationItemList.from_df(df, folder_path, cols='bias_path')\\\n",
    "                                .split_from_df(col='usage')\\\n",
    "                                .label_from_df(cols='mask_full_path', classes=codes)\n",
    "\n",
    "    size = 128\n",
    "    bs = 124\n",
    "    data = (src.transform(get_transforms(), size=size, tfm_y=True) \n",
    "            .databunch(bs=bs)\n",
    "            .normalize(imagenet_stats))\n",
    "    wd=1e-2\n",
    "    learn = unet_learner(data, models.resnet34, metrics=dice, wd=wd)\n",
    "    return learn"
   ]
  },
  {
   "cell_type": "code",
   "execution_count": 10,
   "metadata": {},
   "outputs": [],
   "source": [
    "# learner\n",
    "learn = create_learner()"
   ]
  },
  {
   "cell_type": "markdown",
   "metadata": {},
   "source": [
    "### Global variables, paths"
   ]
  },
  {
   "cell_type": "code",
   "execution_count": 14,
   "metadata": {},
   "outputs": [],
   "source": [
    "# Tutaj bedzie nazwa pliku testowego.scv!!!!\n",
    "\n",
    "# One of two test datasets\n",
    "test1 = 'TEST_3D'\n",
    "test2 = 'IXI_TEST_3D'\n",
    "test3 = 'NFBS_TEST_3D'\n",
    "DATA = test1\n",
    "\n",
    "MODEL_NR = 3.01\n",
    "\n",
    "# argumenty funcji\n",
    "# axial-2d OR coronal-2d OR sagittal-2d : str\n",
    "plane1 = 'axial-2d'\n",
    "plane2 = 'coronal-2d'\n",
    "plane3 = 'sagittal-2d'\n",
    "PLANE = plane1\n",
    "\n",
    "# 'T1_iso_' OR 'T1_biascorr_iso_' : str\n",
    "t1_or_bias1 = 'T1_biascorr_iso_' \n",
    "t1_or_bias2 = 'T1_iso_' \n",
    "T1_OR_BIAS = t1_or_bias2"
   ]
  },
  {
   "cell_type": "code",
   "execution_count": 18,
   "metadata": {},
   "outputs": [],
   "source": [
    "##################\n",
    "### 1. LEARNER ###\n",
    "##################\n",
    "\n",
    "# name nn model to specify the test_resulting folder name\n",
    "# e.g. 3.01\n",
    "model_name_path = Path(f'{PATH_2D}/{PLANE}/models/{MODEL_NR}_02_train-axial_bias_uf_foc-20_lr-1e3_sp-all')\n",
    "\n",
    "learn.load(model_name_path);\n",
    "#learn.destroy()"
   ]
  },
  {
   "cell_type": "code",
   "execution_count": 19,
   "metadata": {},
   "outputs": [],
   "source": [
    "##########################################################\n",
    "### II. Data to test on eg: axial-2d/test/AIBL        ###\n",
    "### Cechy porownania:                                  ###  \n",
    "###    1. test set: AIBL / HCP                         ###\n",
    "###    2. plane : axaial-2d / coronal-2d / sagittal-2d ###\n",
    "###    3. typ obrazu: t1 / t1_biascorr                 ###\n",
    "##########################################################\n",
    "\n",
    "\n",
    "\n",
    "############################################\n",
    "#### III. Prediction (save) folder path  ###\n",
    "############################################\n",
    "# folder to store a predicted-assembled 3D nifti images\n",
    "pred_folder_path = Path (f'{PATH_2D}/pred/{MODEL_NR}/{DATA}/')\n",
    "pred_folder_path.mkdir(parents=True, exist_ok=True)\n",
    "\n",
    "# folder to save resulted df's\n",
    "pred_cvs_folder_path = Path(f'{PATH_GIT_HUB}/5.0/')\n",
    "pred_cvs_folder_path.mkdir(parents=True, exist_ok=True)\n",
    "\n",
    "##################################\n",
    "### IV. TEST (load) folder path ###\n",
    "##################################\n",
    "# root folder for patient folders (each contains 2d png images - both t1 and t1_biascorr)\n",
    "test_folder_path = Path(f'{PATH_2D}/{PLANE}/test/{DATA}')\n",
    "\n",
    "\n",
    "\n",
    "# # folder with path to reference mask image (iso) and number of voxels classified to a brain mask\n",
    "# reference_root_folder = Path('/data-10tb/marek/github_codes/skull-stripping-1/fastai/4.0_reference/')\n",
    "# ref_df = pd.read_csv(f'{reference_root_folder}/{DATA}_ref_FSL_masks_vox_cnt.csv', index_col=None)\n",
    "# ref_df.head(2)"
   ]
  },
  {
   "cell_type": "code",
   "execution_count": 10,
   "metadata": {},
   "outputs": [
    {
     "name": "stdout",
     "output_type": "stream",
     "text": [
      "Done :)\tAIBL_99_MPRAGE_ADNI_confirmed_2008-08-08_11_41_36.0_S78685_I164096.anat\t\t\t\t\t\t\t\n",
      "CPU times: user 1d 6h 44min 55s, sys: 1h 22min 8s, total: 1d 8h 7min 4s\n",
      "Wall time: 1h 1min 28s\n"
     ]
    }
   ],
   "source": [
    "%%time\n",
    "##############################################################################################################################################################\n",
    "### V. assembeld (from 2D slices) 3D_images to compare with e.g. FSL_iso_mask_3d ###\n",
    "###    1. robie petle for po tych plikach i tworze nazwy plikow do obrobki w punkcie II (na danych testowych), czyli porownoje wybrane (i skonstuowane) \n",
    "###        nazwy danych tetowych (duza czesc nazwy plikow png) do obrazow masek iso!!!!\n",
    "###        \n",
    "###    2. maska 3d jest jedna ===> z nia bede porownywal obrazy odtworzone ze wszystkich kierunkow (axial/cor/dag) i typow danych (t1 / t1_biascorr)\n",
    "##############################################################################################################################################################\n",
    "fsl_masks_folder_path = Path(f'/data-10tb/shared/skull/train-3d-iso/{DATA}')\n",
    "fsl_masks_full_path_list = sorted(glob.glob(f'{fsl_masks_folder_path}/*_brain_mask_iso.nii.gz'))\n",
    "\n",
    "\n",
    "k = 0\n",
    "l = len(fsl_masks_full_path_list)\n",
    "\n",
    "msk_paths_lst = []\n",
    "msk_cnt_lst = []\n",
    "png_cnt_lst = []\n",
    "dice_lst = []\n",
    "\n",
    "# TU BEDZIE PETLA FOR DLA WSZYSTKICH TYCH PLIKOW MASEK 3D ISO\n",
    "# /some/root/folders/exam name [AIBL]/exam name[folder] + image name[nii.gz]\n",
    "for single_fsl_mask_full_path in fsl_masks_full_path_list:\n",
    "    #print(1, single_fsl_mask_full_path)\n",
    "\n",
    "    single_fsl_mask_full_name = single_fsl_mask_full_path.split('/')[-1]\n",
    "    #print(2, single_fsl_mask_full_name)\n",
    "\n",
    "    exam_folder_name = single_fsl_mask_full_name.split('_T1')[0]\n",
    "    #print(3, exam_folder_name)\n",
    "\n",
    "    cur_exam_full_path = test_folder_path / f'{exam_folder_name}'\n",
    "    if not cur_exam_full_path.exists(): \n",
    "        print(f'Folder {cur_exam_full_path} not exists!!!')\n",
    "\n",
    "    cur_pngs_full_path_list =  sorted(glob.glob(f'{cur_exam_full_path}/{T1_OR_BIAS}*.png'))\n",
    "    #print(4, cur_pngs_full_path_list[0])   \n",
    "\n",
    "    # save name for output png_3d_nii.gz image\n",
    "    pred_3d_save_name = pred_folder_path / f'{exam_folder_name}_{T1_OR_BIAS}pred_{MODEL_NR}.nii.gz'\n",
    "\n",
    "    # png_3d_nii.gz image save name\n",
    "    #nii_pred_3d_save_name = pred_folder_path / str(pred_3d_save_name + '.nii.gz')\n",
    "    #print(5, nii_pred_3d_save_name)\n",
    "\n",
    "    # main function ;)\n",
    "    msk_cnt, png_cnt, dice_c = assamble_3d_from_2d_slices(cur_pngs_full_path_list, single_fsl_mask_full_path, save_png_3d=pred_3d_save_name)\n",
    "    #print(6, single_fsl_mask_full_name, msk_cnt, png_cnt, dice)\n",
    "\n",
    "    msk_paths_lst.append(single_fsl_mask_full_path)\n",
    "    msk_cnt_lst.append(msk_cnt)\n",
    "    png_cnt_lst.append(png_cnt)\n",
    "    dice_lst.append(dice_c)\n",
    "    \n",
    "    print(f'{k}/{l}\\t{exam_folder_name}\\t\\t\\t', end='\\r')\n",
    "    k +=1\n",
    "    \n",
    "\n",
    "# df save name     \n",
    "save_df = f'{MODEL_NR}_{DATA}_{T1_OR_BIAS}{PLANE}_dice.csv'\n",
    "save_df = pred_cvs_folder_path / save_df\n",
    "\n",
    "# create df: msk_path, msk_cnt, png_cnt, dice\n",
    "df = pd.DataFrame({'msk_full_path':msk_paths_lst, 'msk_cnt':msk_cnt_lst, 'png_cnt':png_cnt_lst, 'dice':dice_lst})\n",
    "df.to_csv(save_df, index=False)\n",
    "\n",
    "print('Done :)')"
   ]
  },
  {
   "cell_type": "code",
   "execution_count": 11,
   "metadata": {},
   "outputs": [
    {
     "name": "stdout",
     "output_type": "stream",
     "text": [
      "Done :)\n"
     ]
    }
   ],
   "source": []
  },
  {
   "cell_type": "code",
   "execution_count": null,
   "metadata": {},
   "outputs": [],
   "source": []
  }
 ],
 "metadata": {
  "kernelspec": {
   "display_name": "fastai1",
   "language": "python",
   "name": "fastai1"
  },
  "language_info": {
   "codemirror_mode": {
    "name": "ipython",
    "version": 3
   },
   "file_extension": ".py",
   "mimetype": "text/x-python",
   "name": "python",
   "nbconvert_exporter": "python",
   "pygments_lexer": "ipython3",
   "version": "3.7.4"
  }
 },
 "nbformat": 4,
 "nbformat_minor": 4
}
