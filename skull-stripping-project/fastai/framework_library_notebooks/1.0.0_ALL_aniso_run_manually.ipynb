{
 "cells": [
  {
   "cell_type": "code",
   "execution_count": 1,
   "metadata": {},
   "outputs": [
    {
     "name": "stdout",
     "output_type": "stream",
     "text": [
      "CPU times: user 1min 4s, sys: 3.89 s, total: 1min 8s\n",
      "Wall time: 1min 8s\n",
      "IXI...doneXI662-Guys-1120-T1.anat   \n"
     ]
    }
   ],
   "source": [
    "%run 1.0_IXI_FSL_aniso_info.ipynb"
   ]
  },
  {
   "cell_type": "code",
   "execution_count": 2,
   "metadata": {},
   "outputs": [
    {
     "name": "stdout",
     "output_type": "stream",
     "text": [
      "CPU times: user 1min 21s, sys: 4.82 s, total: 1min 26s1_36.0_S78685_I164096.anat       \n",
      "Wall time: 1min 26s\n",
      "AIBL...doneBL_99_MPRAGE_ADNI_confirmed_2008-08-08_11_41_36.0_S78685_I164096.anat       \n"
     ]
    }
   ],
   "source": [
    "%run 1.0_AIBL_FSL_aniso_info.ipynb"
   ]
  },
  {
   "cell_type": "code",
   "execution_count": 3,
   "metadata": {},
   "outputs": [
    {
     "name": "stdout",
     "output_type": "stream",
     "text": [
      "CPU times: user 1min 36s, sys: 7.16 s, total: 1min 43s219_S254440_I525970.anat   \n",
      "Wall time: 1min 43s\n",
      "PPMI...doneMI_85242_MR_T1-anatomical_Br_20151014132355219_S254440_I525970.anat   \n"
     ]
    }
   ],
   "source": [
    "%run 1.0_PPMI_FSL_aniso_info.ipynb"
   ]
  },
  {
   "cell_type": "code",
   "execution_count": 4,
   "metadata": {},
   "outputs": [
    {
     "name": "stdout",
     "output_type": "stream",
     "text": [
      "CPU times: user 1min 4s, sys: 5.04 s, total: 1min 9s\n",
      "Wall time: 1min 14s\n",
      "SALD...doneb-031767_T1w.anat   \n"
     ]
    }
   ],
   "source": [
    "%run 1.0_SALD_FSL_aniso_info.ipynb"
   ]
  },
  {
   "cell_type": "code",
   "execution_count": 5,
   "metadata": {},
   "outputs": [
    {
     "name": "stdout",
     "output_type": "stream",
     "text": [
      "CPU times: user 1min 54s, sys: 11.2 s, total: 2min 6s\n",
      "Wall time: 2min 8s\n",
      "SLIM...donesub-31057_ses-3_T1w.anat   \n"
     ]
    }
   ],
   "source": [
    "%run 1.0_SLIM_FSL_aniso_info.ipynb"
   ]
  },
  {
   "cell_type": "code",
   "execution_count": 6,
   "metadata": {},
   "outputs": [
    {
     "name": "stdout",
     "output_type": "stream",
     "text": [
      "CPU times: user 20min 2s, sys: 2min 7s, total: 22min 10s0829113740072_S198235_I388033.anat   28008_I63897.anat        \n",
      "Wall time: 23min 52s\n",
      "ADNI...doneADNI_941_S_5193_MR_MT1__GradWarp__N3m_Br_20130829113740072_S198235_I388033.anat   28008_I63897.anat        \n"
     ]
    }
   ],
   "source": [
    "%run 1.0_ADNI_FSL_aniso_info.ipynb"
   ]
  },
  {
   "cell_type": "code",
   "execution_count": null,
   "metadata": {},
   "outputs": [
    {
     "name": "stdout",
     "output_type": "stream",
     "text": [
      "28/1036  sub-25643_ses-2_T1w.anat   \r"
     ]
    }
   ],
   "source": [
    "%run 1.0_HCP_FSL_aniso_info.ipynb"
   ]
  },
  {
   "cell_type": "code",
   "execution_count": 7,
   "metadata": {},
   "outputs": [
    {
     "name": "stdout",
     "output_type": "stream",
     "text": [
      "DONE!!!!\n"
     ]
    }
   ],
   "source": [
    "print('DONE!!!!')"
   ]
  }
 ],
 "metadata": {
  "kernelspec": {
   "display_name": "fastai1",
   "language": "python",
   "name": "fastai1"
  },
  "language_info": {
   "codemirror_mode": {
    "name": "ipython",
    "version": 3
   },
   "file_extension": ".py",
   "mimetype": "text/x-python",
   "name": "python",
   "nbconvert_exporter": "python",
   "pygments_lexer": "ipython3",
   "version": "3.7.4"
  }
 },
 "nbformat": 4,
 "nbformat_minor": 4
}
