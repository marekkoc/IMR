{
 "cells": [
  {
   "cell_type": "markdown",
   "metadata": {},
   "source": [
    "### Basic information about 3D anisotropic images\n",
    "\n",
    "######  2020.07.01  \n",
    "\n",
    "###### (ver. 2020.07.12)"
   ]
  },
  {
   "cell_type": "markdown",
   "metadata": {},
   "source": [
    "This file reads the basic meta-information about **3D** images. It might be substantial during convertion from 3D dataset to set of 2D slices."
   ]
  },
  {
   "cell_type": "code",
   "execution_count": 1,
   "metadata": {},
   "outputs": [],
   "source": [
    "from fastai.utils.mem import *\n",
    "\n",
    "import sys\n",
    "sys.path.append('functions/')\n",
    "\n",
    "import functions10 as f\n",
    "\n",
    "import imp\n",
    "_ = imp.reload(f)"
   ]
  },
  {
   "cell_type": "code",
   "execution_count": 2,
   "metadata": {},
   "outputs": [],
   "source": [
    "t1_name = 'T1.nii.gz'\n",
    "t1_biascorr = 'T1_biascorr.nii.gz'\n",
    "t1_mask = 'T1_biascorr_brain_mask.nii.gz'"
   ]
  },
  {
   "cell_type": "markdown",
   "metadata": {},
   "source": [
    "# ADNI"
   ]
  },
  {
   "cell_type": "code",
   "execution_count": 3,
   "metadata": {},
   "outputs": [],
   "source": [
    "database = 'ADNI'\n",
    "root_folder = Path(f'/data-10tb/marek/{database}/train_data/FSL_outputs')\n",
    "results_folder = Path(f'/data-10tb/marek/github_codes/skull-stripping-1/fastai/1.0_results/')\n",
    "#root_folder.ls()"
   ]
  },
  {
   "cell_type": "code",
   "execution_count": 4,
   "metadata": {},
   "outputs": [],
   "source": [
    "t1_files = list(root_folder.glob(f'*/{t1_name}'))\n",
    "t1_bias_files = list(root_folder.glob(f'*/{t1_biascorr}'))\n",
    "t1_mask_files = list(root_folder.glob(f'*/{t1_mask}'))\n",
    "\n",
    "t1_files.sort()\n",
    "t1_bias_files.sort()\n",
    "t1_mask_files.sort()"
   ]
  },
  {
   "cell_type": "code",
   "execution_count": 5,
   "metadata": {},
   "outputs": [],
   "source": [
    "#t1_files[:3]"
   ]
  },
  {
   "cell_type": "markdown",
   "metadata": {},
   "source": [
    "#### Get description tables"
   ]
  },
  {
   "cell_type": "code",
   "execution_count": 6,
   "metadata": {},
   "outputs": [
    {
     "data": {
      "text/html": [
       "<div>\n",
       "<style scoped>\n",
       "    .dataframe tbody tr th:only-of-type {\n",
       "        vertical-align: middle;\n",
       "    }\n",
       "\n",
       "    .dataframe tbody tr th {\n",
       "        vertical-align: top;\n",
       "    }\n",
       "\n",
       "    .dataframe thead th {\n",
       "        text-align: right;\n",
       "    }\n",
       "</style>\n",
       "<table border=\"1\" class=\"dataframe\">\n",
       "  <thead>\n",
       "    <tr style=\"text-align: right;\">\n",
       "      <th></th>\n",
       "      <th>Examination</th>\n",
       "      <th>Subject_id</th>\n",
       "      <th>Image_id</th>\n",
       "      <th>Modality</th>\n",
       "      <th>Image</th>\n",
       "      <th>Path</th>\n",
       "    </tr>\n",
       "  </thead>\n",
       "  <tbody>\n",
       "    <tr>\n",
       "      <td>0</td>\n",
       "      <td>ADNI_002_S_0295_MR_MPR__GradWarp__B1_Correctio...</td>\n",
       "      <td>S13408</td>\n",
       "      <td>I118671</td>\n",
       "      <td>T1.anat</td>\n",
       "      <td>T1.nii.gz</td>\n",
       "      <td>/data-10tb/marek/ADNI/train_data/FSL_outputs/A...</td>\n",
       "    </tr>\n",
       "    <tr>\n",
       "      <td>1</td>\n",
       "      <td>ADNI_002_S_0295_MR_MPR__GradWarp__B1_Correctio...</td>\n",
       "      <td>S21856</td>\n",
       "      <td>I118692</td>\n",
       "      <td>T1.anat</td>\n",
       "      <td>T1.nii.gz</td>\n",
       "      <td>/data-10tb/marek/ADNI/train_data/FSL_outputs/A...</td>\n",
       "    </tr>\n",
       "    <tr>\n",
       "      <td>2</td>\n",
       "      <td>ADNI_002_S_0295_MR_MPR__GradWarp__B1_Correctio...</td>\n",
       "      <td>S32678</td>\n",
       "      <td>I64025</td>\n",
       "      <td>T1.anat</td>\n",
       "      <td>T1.nii.gz</td>\n",
       "      <td>/data-10tb/marek/ADNI/train_data/FSL_outputs/A...</td>\n",
       "    </tr>\n",
       "  </tbody>\n",
       "</table>\n",
       "</div>"
      ],
      "text/plain": [
       "                                         Examination Subject_id Image_id  \\\n",
       "0  ADNI_002_S_0295_MR_MPR__GradWarp__B1_Correctio...     S13408  I118671   \n",
       "1  ADNI_002_S_0295_MR_MPR__GradWarp__B1_Correctio...     S21856  I118692   \n",
       "2  ADNI_002_S_0295_MR_MPR__GradWarp__B1_Correctio...     S32678   I64025   \n",
       "\n",
       "  Modality      Image                                               Path  \n",
       "0  T1.anat  T1.nii.gz  /data-10tb/marek/ADNI/train_data/FSL_outputs/A...  \n",
       "1  T1.anat  T1.nii.gz  /data-10tb/marek/ADNI/train_data/FSL_outputs/A...  \n",
       "2  T1.anat  T1.nii.gz  /data-10tb/marek/ADNI/train_data/FSL_outputs/A...  "
      ]
     },
     "execution_count": 6,
     "metadata": {},
     "output_type": "execute_result"
    }
   ],
   "source": [
    "adni_t1_info = f.get_aibl_info(t1_files)\n",
    "adni_t1_info.head(3)"
   ]
  },
  {
   "cell_type": "code",
   "execution_count": 7,
   "metadata": {},
   "outputs": [
    {
     "data": {
      "text/html": [
       "<div>\n",
       "<style scoped>\n",
       "    .dataframe tbody tr th:only-of-type {\n",
       "        vertical-align: middle;\n",
       "    }\n",
       "\n",
       "    .dataframe tbody tr th {\n",
       "        vertical-align: top;\n",
       "    }\n",
       "\n",
       "    .dataframe thead th {\n",
       "        text-align: right;\n",
       "    }\n",
       "</style>\n",
       "<table border=\"1\" class=\"dataframe\">\n",
       "  <thead>\n",
       "    <tr style=\"text-align: right;\">\n",
       "      <th></th>\n",
       "      <th>Examination</th>\n",
       "      <th>Subject_id</th>\n",
       "      <th>Image_id</th>\n",
       "      <th>Modality</th>\n",
       "      <th>Image</th>\n",
       "      <th>Path</th>\n",
       "    </tr>\n",
       "  </thead>\n",
       "  <tbody>\n",
       "    <tr>\n",
       "      <td>0</td>\n",
       "      <td>ADNI_002_S_0295_MR_MPR__GradWarp__B1_Correctio...</td>\n",
       "      <td>S13408</td>\n",
       "      <td>I118671</td>\n",
       "      <td>T1.anat</td>\n",
       "      <td>T1_biascorr.nii.gz</td>\n",
       "      <td>/data-10tb/marek/ADNI/train_data/FSL_outputs/A...</td>\n",
       "    </tr>\n",
       "    <tr>\n",
       "      <td>1</td>\n",
       "      <td>ADNI_002_S_0295_MR_MPR__GradWarp__B1_Correctio...</td>\n",
       "      <td>S21856</td>\n",
       "      <td>I118692</td>\n",
       "      <td>T1.anat</td>\n",
       "      <td>T1_biascorr.nii.gz</td>\n",
       "      <td>/data-10tb/marek/ADNI/train_data/FSL_outputs/A...</td>\n",
       "    </tr>\n",
       "    <tr>\n",
       "      <td>2</td>\n",
       "      <td>ADNI_002_S_0295_MR_MPR__GradWarp__B1_Correctio...</td>\n",
       "      <td>S32678</td>\n",
       "      <td>I64025</td>\n",
       "      <td>T1.anat</td>\n",
       "      <td>T1_biascorr.nii.gz</td>\n",
       "      <td>/data-10tb/marek/ADNI/train_data/FSL_outputs/A...</td>\n",
       "    </tr>\n",
       "  </tbody>\n",
       "</table>\n",
       "</div>"
      ],
      "text/plain": [
       "                                         Examination Subject_id Image_id  \\\n",
       "0  ADNI_002_S_0295_MR_MPR__GradWarp__B1_Correctio...     S13408  I118671   \n",
       "1  ADNI_002_S_0295_MR_MPR__GradWarp__B1_Correctio...     S21856  I118692   \n",
       "2  ADNI_002_S_0295_MR_MPR__GradWarp__B1_Correctio...     S32678   I64025   \n",
       "\n",
       "  Modality               Image  \\\n",
       "0  T1.anat  T1_biascorr.nii.gz   \n",
       "1  T1.anat  T1_biascorr.nii.gz   \n",
       "2  T1.anat  T1_biascorr.nii.gz   \n",
       "\n",
       "                                                Path  \n",
       "0  /data-10tb/marek/ADNI/train_data/FSL_outputs/A...  \n",
       "1  /data-10tb/marek/ADNI/train_data/FSL_outputs/A...  \n",
       "2  /data-10tb/marek/ADNI/train_data/FSL_outputs/A...  "
      ]
     },
     "execution_count": 7,
     "metadata": {},
     "output_type": "execute_result"
    }
   ],
   "source": [
    "adni_t1_bias_info = f.get_aibl_info(t1_bias_files)\n",
    "adni_t1_bias_info.head(3)"
   ]
  },
  {
   "cell_type": "code",
   "execution_count": 8,
   "metadata": {},
   "outputs": [
    {
     "data": {
      "text/html": [
       "<div>\n",
       "<style scoped>\n",
       "    .dataframe tbody tr th:only-of-type {\n",
       "        vertical-align: middle;\n",
       "    }\n",
       "\n",
       "    .dataframe tbody tr th {\n",
       "        vertical-align: top;\n",
       "    }\n",
       "\n",
       "    .dataframe thead th {\n",
       "        text-align: right;\n",
       "    }\n",
       "</style>\n",
       "<table border=\"1\" class=\"dataframe\">\n",
       "  <thead>\n",
       "    <tr style=\"text-align: right;\">\n",
       "      <th></th>\n",
       "      <th>Examination</th>\n",
       "      <th>Subject_id</th>\n",
       "      <th>Image_id</th>\n",
       "      <th>Modality</th>\n",
       "      <th>Image</th>\n",
       "      <th>Path</th>\n",
       "    </tr>\n",
       "  </thead>\n",
       "  <tbody>\n",
       "    <tr>\n",
       "      <td>0</td>\n",
       "      <td>ADNI_002_S_0295_MR_MPR__GradWarp__B1_Correctio...</td>\n",
       "      <td>S13408</td>\n",
       "      <td>I118671</td>\n",
       "      <td>T1.anat</td>\n",
       "      <td>T1_biascorr_brain_mask.nii.gz</td>\n",
       "      <td>/data-10tb/marek/ADNI/train_data/FSL_outputs/A...</td>\n",
       "    </tr>\n",
       "    <tr>\n",
       "      <td>1</td>\n",
       "      <td>ADNI_002_S_0295_MR_MPR__GradWarp__B1_Correctio...</td>\n",
       "      <td>S21856</td>\n",
       "      <td>I118692</td>\n",
       "      <td>T1.anat</td>\n",
       "      <td>T1_biascorr_brain_mask.nii.gz</td>\n",
       "      <td>/data-10tb/marek/ADNI/train_data/FSL_outputs/A...</td>\n",
       "    </tr>\n",
       "    <tr>\n",
       "      <td>2</td>\n",
       "      <td>ADNI_002_S_0295_MR_MPR__GradWarp__B1_Correctio...</td>\n",
       "      <td>S32678</td>\n",
       "      <td>I64025</td>\n",
       "      <td>T1.anat</td>\n",
       "      <td>T1_biascorr_brain_mask.nii.gz</td>\n",
       "      <td>/data-10tb/marek/ADNI/train_data/FSL_outputs/A...</td>\n",
       "    </tr>\n",
       "  </tbody>\n",
       "</table>\n",
       "</div>"
      ],
      "text/plain": [
       "                                         Examination Subject_id Image_id  \\\n",
       "0  ADNI_002_S_0295_MR_MPR__GradWarp__B1_Correctio...     S13408  I118671   \n",
       "1  ADNI_002_S_0295_MR_MPR__GradWarp__B1_Correctio...     S21856  I118692   \n",
       "2  ADNI_002_S_0295_MR_MPR__GradWarp__B1_Correctio...     S32678   I64025   \n",
       "\n",
       "  Modality                          Image  \\\n",
       "0  T1.anat  T1_biascorr_brain_mask.nii.gz   \n",
       "1  T1.anat  T1_biascorr_brain_mask.nii.gz   \n",
       "2  T1.anat  T1_biascorr_brain_mask.nii.gz   \n",
       "\n",
       "                                                Path  \n",
       "0  /data-10tb/marek/ADNI/train_data/FSL_outputs/A...  \n",
       "1  /data-10tb/marek/ADNI/train_data/FSL_outputs/A...  \n",
       "2  /data-10tb/marek/ADNI/train_data/FSL_outputs/A...  "
      ]
     },
     "execution_count": 8,
     "metadata": {},
     "output_type": "execute_result"
    }
   ],
   "source": [
    "adni_t1_mask_info = f.get_aibl_info(t1_mask_files)\n",
    "adni_t1_mask_info.head(3)"
   ]
  },
  {
   "cell_type": "markdown",
   "metadata": {},
   "source": [
    "#### Get images info"
   ]
  },
  {
   "cell_type": "code",
   "execution_count": 9,
   "metadata": {},
   "outputs": [
    {
     "name": "stdout",
     "output_type": "stream",
     "text": [
      "CPU times: user 20min 24s, sys: 2min 5s, total: 22min 29s829113740072_S198235_I388033.anat   28008_I63897.anat        \n",
      "Wall time: 32min 50s\n"
     ]
    }
   ],
   "source": [
    "%%time\n",
    "adni_t1_im_info = f.get_img_params(t1_files)"
   ]
  },
  {
   "cell_type": "code",
   "execution_count": 10,
   "metadata": {},
   "outputs": [],
   "source": [
    "# for k in adni_t1_im_info.Examination[:3]:\n",
    "#     print(k)"
   ]
  },
  {
   "cell_type": "code",
   "execution_count": 11,
   "metadata": {},
   "outputs": [
    {
     "data": {
      "text/html": [
       "<div>\n",
       "<style scoped>\n",
       "    .dataframe tbody tr th:only-of-type {\n",
       "        vertical-align: middle;\n",
       "    }\n",
       "\n",
       "    .dataframe tbody tr th {\n",
       "        vertical-align: top;\n",
       "    }\n",
       "\n",
       "    .dataframe thead th {\n",
       "        text-align: right;\n",
       "    }\n",
       "</style>\n",
       "<table border=\"1\" class=\"dataframe\">\n",
       "  <thead>\n",
       "    <tr style=\"text-align: right;\">\n",
       "      <th></th>\n",
       "      <th>Examination</th>\n",
       "      <th>Image</th>\n",
       "      <th>max</th>\n",
       "      <th>mean</th>\n",
       "      <th>min</th>\n",
       "      <th>dtype</th>\n",
       "      <th>size_1</th>\n",
       "      <th>size_2</th>\n",
       "      <th>size_3</th>\n",
       "      <th>pixdim_1</th>\n",
       "      <th>pixdim_2</th>\n",
       "      <th>pixixdim_3</th>\n",
       "    </tr>\n",
       "  </thead>\n",
       "  <tbody>\n",
       "    <tr>\n",
       "      <td>0</td>\n",
       "      <td>ADNI_002_S_0295_MR_MPR__GradWarp__B1_Correctio...</td>\n",
       "      <td>T1.nii.gz</td>\n",
       "      <td>2649.90</td>\n",
       "      <td>264.93</td>\n",
       "      <td>0.0</td>\n",
       "      <td>float64</td>\n",
       "      <td>166</td>\n",
       "      <td>256</td>\n",
       "      <td>179</td>\n",
       "      <td>1.2</td>\n",
       "      <td>0.94</td>\n",
       "      <td>0.95</td>\n",
       "    </tr>\n",
       "    <tr>\n",
       "      <td>1</td>\n",
       "      <td>ADNI_002_S_0295_MR_MPR__GradWarp__B1_Correctio...</td>\n",
       "      <td>T1.nii.gz</td>\n",
       "      <td>2685.67</td>\n",
       "      <td>264.15</td>\n",
       "      <td>0.0</td>\n",
       "      <td>float64</td>\n",
       "      <td>166</td>\n",
       "      <td>256</td>\n",
       "      <td>179</td>\n",
       "      <td>1.2</td>\n",
       "      <td>0.94</td>\n",
       "      <td>0.95</td>\n",
       "    </tr>\n",
       "    <tr>\n",
       "      <td>2</td>\n",
       "      <td>ADNI_002_S_0295_MR_MPR__GradWarp__B1_Correctio...</td>\n",
       "      <td>T1.nii.gz</td>\n",
       "      <td>2254.73</td>\n",
       "      <td>265.99</td>\n",
       "      <td>0.0</td>\n",
       "      <td>float64</td>\n",
       "      <td>166</td>\n",
       "      <td>256</td>\n",
       "      <td>179</td>\n",
       "      <td>1.2</td>\n",
       "      <td>0.95</td>\n",
       "      <td>0.95</td>\n",
       "    </tr>\n",
       "  </tbody>\n",
       "</table>\n",
       "</div>"
      ],
      "text/plain": [
       "                                         Examination      Image      max  \\\n",
       "0  ADNI_002_S_0295_MR_MPR__GradWarp__B1_Correctio...  T1.nii.gz  2649.90   \n",
       "1  ADNI_002_S_0295_MR_MPR__GradWarp__B1_Correctio...  T1.nii.gz  2685.67   \n",
       "2  ADNI_002_S_0295_MR_MPR__GradWarp__B1_Correctio...  T1.nii.gz  2254.73   \n",
       "\n",
       "     mean  min    dtype  size_1  size_2  size_3  pixdim_1  pixdim_2  \\\n",
       "0  264.93  0.0  float64     166     256     179       1.2      0.94   \n",
       "1  264.15  0.0  float64     166     256     179       1.2      0.94   \n",
       "2  265.99  0.0  float64     166     256     179       1.2      0.95   \n",
       "\n",
       "   pixixdim_3  \n",
       "0        0.95  \n",
       "1        0.95  \n",
       "2        0.95  "
      ]
     },
     "execution_count": 11,
     "metadata": {},
     "output_type": "execute_result"
    }
   ],
   "source": [
    "adni_t1_im_info.head(3).round(2)"
   ]
  },
  {
   "cell_type": "code",
   "execution_count": 12,
   "metadata": {},
   "outputs": [
    {
     "name": "stdout",
     "output_type": "stream",
     "text": [
      "7921/7921  ADNI_941_S_5193_MR_MT1__GradWarp__N3m_Br_20130829113740072_S198235_I388033.anat   28008_I63897.anat        \r"
     ]
    }
   ],
   "source": [
    "adni_t1_bias_im_info = f.get_img_params(t1_bias_files)"
   ]
  },
  {
   "cell_type": "code",
   "execution_count": 13,
   "metadata": {},
   "outputs": [
    {
     "data": {
      "text/html": [
       "<div>\n",
       "<style scoped>\n",
       "    .dataframe tbody tr th:only-of-type {\n",
       "        vertical-align: middle;\n",
       "    }\n",
       "\n",
       "    .dataframe tbody tr th {\n",
       "        vertical-align: top;\n",
       "    }\n",
       "\n",
       "    .dataframe thead th {\n",
       "        text-align: right;\n",
       "    }\n",
       "</style>\n",
       "<table border=\"1\" class=\"dataframe\">\n",
       "  <thead>\n",
       "    <tr style=\"text-align: right;\">\n",
       "      <th></th>\n",
       "      <th>Examination</th>\n",
       "      <th>Image</th>\n",
       "      <th>max</th>\n",
       "      <th>mean</th>\n",
       "      <th>min</th>\n",
       "      <th>dtype</th>\n",
       "      <th>size_1</th>\n",
       "      <th>size_2</th>\n",
       "      <th>size_3</th>\n",
       "      <th>pixdim_1</th>\n",
       "      <th>pixdim_2</th>\n",
       "      <th>pixixdim_3</th>\n",
       "    </tr>\n",
       "  </thead>\n",
       "  <tbody>\n",
       "    <tr>\n",
       "      <td>0</td>\n",
       "      <td>ADNI_002_S_0295_MR_MPR__GradWarp__B1_Correctio...</td>\n",
       "      <td>T1_biascorr.nii.gz</td>\n",
       "      <td>2749.13</td>\n",
       "      <td>267.04</td>\n",
       "      <td>0.0</td>\n",
       "      <td>float64</td>\n",
       "      <td>166</td>\n",
       "      <td>256</td>\n",
       "      <td>179</td>\n",
       "      <td>1.2</td>\n",
       "      <td>0.94</td>\n",
       "      <td>0.95</td>\n",
       "    </tr>\n",
       "    <tr>\n",
       "      <td>1</td>\n",
       "      <td>ADNI_002_S_0295_MR_MPR__GradWarp__B1_Correctio...</td>\n",
       "      <td>T1_biascorr.nii.gz</td>\n",
       "      <td>2551.87</td>\n",
       "      <td>265.32</td>\n",
       "      <td>0.0</td>\n",
       "      <td>float64</td>\n",
       "      <td>166</td>\n",
       "      <td>256</td>\n",
       "      <td>179</td>\n",
       "      <td>1.2</td>\n",
       "      <td>0.94</td>\n",
       "      <td>0.95</td>\n",
       "    </tr>\n",
       "    <tr>\n",
       "      <td>2</td>\n",
       "      <td>ADNI_002_S_0295_MR_MPR__GradWarp__B1_Correctio...</td>\n",
       "      <td>T1_biascorr.nii.gz</td>\n",
       "      <td>2273.45</td>\n",
       "      <td>266.77</td>\n",
       "      <td>0.0</td>\n",
       "      <td>float64</td>\n",
       "      <td>166</td>\n",
       "      <td>256</td>\n",
       "      <td>179</td>\n",
       "      <td>1.2</td>\n",
       "      <td>0.95</td>\n",
       "      <td>0.95</td>\n",
       "    </tr>\n",
       "  </tbody>\n",
       "</table>\n",
       "</div>"
      ],
      "text/plain": [
       "                                         Examination               Image  \\\n",
       "0  ADNI_002_S_0295_MR_MPR__GradWarp__B1_Correctio...  T1_biascorr.nii.gz   \n",
       "1  ADNI_002_S_0295_MR_MPR__GradWarp__B1_Correctio...  T1_biascorr.nii.gz   \n",
       "2  ADNI_002_S_0295_MR_MPR__GradWarp__B1_Correctio...  T1_biascorr.nii.gz   \n",
       "\n",
       "       max    mean  min    dtype  size_1  size_2  size_3  pixdim_1  pixdim_2  \\\n",
       "0  2749.13  267.04  0.0  float64     166     256     179       1.2      0.94   \n",
       "1  2551.87  265.32  0.0  float64     166     256     179       1.2      0.94   \n",
       "2  2273.45  266.77  0.0  float64     166     256     179       1.2      0.95   \n",
       "\n",
       "   pixixdim_3  \n",
       "0        0.95  \n",
       "1        0.95  \n",
       "2        0.95  "
      ]
     },
     "execution_count": 13,
     "metadata": {},
     "output_type": "execute_result"
    }
   ],
   "source": [
    "adni_t1_bias_im_info.head(3).round(2)"
   ]
  },
  {
   "cell_type": "code",
   "execution_count": 14,
   "metadata": {},
   "outputs": [
    {
     "name": "stdout",
     "output_type": "stream",
     "text": [
      "7921/7921  ADNI_941_S_5193_MR_MT1__GradWarp__N3m_Br_20130829113740072_S198235_I388033.anat   28008_I63897.anat        \r"
     ]
    }
   ],
   "source": [
    "adni_t1_mask_im_info = f.get_img_params(t1_mask_files)"
   ]
  },
  {
   "cell_type": "code",
   "execution_count": 15,
   "metadata": {},
   "outputs": [
    {
     "data": {
      "text/html": [
       "<div>\n",
       "<style scoped>\n",
       "    .dataframe tbody tr th:only-of-type {\n",
       "        vertical-align: middle;\n",
       "    }\n",
       "\n",
       "    .dataframe tbody tr th {\n",
       "        vertical-align: top;\n",
       "    }\n",
       "\n",
       "    .dataframe thead th {\n",
       "        text-align: right;\n",
       "    }\n",
       "</style>\n",
       "<table border=\"1\" class=\"dataframe\">\n",
       "  <thead>\n",
       "    <tr style=\"text-align: right;\">\n",
       "      <th></th>\n",
       "      <th>Examination</th>\n",
       "      <th>Image</th>\n",
       "      <th>max</th>\n",
       "      <th>mean</th>\n",
       "      <th>min</th>\n",
       "      <th>dtype</th>\n",
       "      <th>size_1</th>\n",
       "      <th>size_2</th>\n",
       "      <th>size_3</th>\n",
       "      <th>pixdim_1</th>\n",
       "      <th>pixdim_2</th>\n",
       "      <th>pixixdim_3</th>\n",
       "    </tr>\n",
       "  </thead>\n",
       "  <tbody>\n",
       "    <tr>\n",
       "      <td>0</td>\n",
       "      <td>ADNI_002_S_0295_MR_MPR__GradWarp__B1_Correctio...</td>\n",
       "      <td>T1_biascorr_brain_mask.nii.gz</td>\n",
       "      <td>1.0</td>\n",
       "      <td>0.18</td>\n",
       "      <td>0.0</td>\n",
       "      <td>float64</td>\n",
       "      <td>166</td>\n",
       "      <td>256</td>\n",
       "      <td>179</td>\n",
       "      <td>1.2</td>\n",
       "      <td>0.94</td>\n",
       "      <td>0.95</td>\n",
       "    </tr>\n",
       "    <tr>\n",
       "      <td>1</td>\n",
       "      <td>ADNI_002_S_0295_MR_MPR__GradWarp__B1_Correctio...</td>\n",
       "      <td>T1_biascorr_brain_mask.nii.gz</td>\n",
       "      <td>1.0</td>\n",
       "      <td>0.18</td>\n",
       "      <td>0.0</td>\n",
       "      <td>float64</td>\n",
       "      <td>166</td>\n",
       "      <td>256</td>\n",
       "      <td>179</td>\n",
       "      <td>1.2</td>\n",
       "      <td>0.94</td>\n",
       "      <td>0.95</td>\n",
       "    </tr>\n",
       "    <tr>\n",
       "      <td>2</td>\n",
       "      <td>ADNI_002_S_0295_MR_MPR__GradWarp__B1_Correctio...</td>\n",
       "      <td>T1_biascorr_brain_mask.nii.gz</td>\n",
       "      <td>1.0</td>\n",
       "      <td>0.18</td>\n",
       "      <td>0.0</td>\n",
       "      <td>float64</td>\n",
       "      <td>166</td>\n",
       "      <td>256</td>\n",
       "      <td>179</td>\n",
       "      <td>1.2</td>\n",
       "      <td>0.95</td>\n",
       "      <td>0.95</td>\n",
       "    </tr>\n",
       "  </tbody>\n",
       "</table>\n",
       "</div>"
      ],
      "text/plain": [
       "                                         Examination  \\\n",
       "0  ADNI_002_S_0295_MR_MPR__GradWarp__B1_Correctio...   \n",
       "1  ADNI_002_S_0295_MR_MPR__GradWarp__B1_Correctio...   \n",
       "2  ADNI_002_S_0295_MR_MPR__GradWarp__B1_Correctio...   \n",
       "\n",
       "                           Image  max  mean  min    dtype  size_1  size_2  \\\n",
       "0  T1_biascorr_brain_mask.nii.gz  1.0  0.18  0.0  float64     166     256   \n",
       "1  T1_biascorr_brain_mask.nii.gz  1.0  0.18  0.0  float64     166     256   \n",
       "2  T1_biascorr_brain_mask.nii.gz  1.0  0.18  0.0  float64     166     256   \n",
       "\n",
       "   size_3  pixdim_1  pixdim_2  pixixdim_3  \n",
       "0     179       1.2      0.94        0.95  \n",
       "1     179       1.2      0.94        0.95  \n",
       "2     179       1.2      0.95        0.95  "
      ]
     },
     "execution_count": 15,
     "metadata": {},
     "output_type": "execute_result"
    }
   ],
   "source": [
    "adni_t1_mask_im_info.head(3).round(2)"
   ]
  },
  {
   "cell_type": "markdown",
   "metadata": {},
   "source": [
    "#### Save tables to *results* folder"
   ]
  },
  {
   "cell_type": "code",
   "execution_count": 16,
   "metadata": {},
   "outputs": [],
   "source": [
    "# ### SAVE TO CSV FILES\n",
    "#df_ixi_t1_im_info.to_csv(results_folder/'ixi_t1_im_info.csv')\n",
    "#df_ixi_t1_bias_info.to_csv(results_folder/'ixi_t1_bias_info.csv')\n",
    "#df_ixi_t1_mask_info.to_csv(results_folder/'ixi_t1_mask_info.csv')"
   ]
  },
  {
   "cell_type": "code",
   "execution_count": 17,
   "metadata": {},
   "outputs": [],
   "source": [
    "# ### WRITE TO EXCEL FILE\n",
    "writer = pd.ExcelWriter(f'{results_folder}/adni_aniso.xlsx', engine = 'xlsxwriter')\n",
    "adni_t1_info.to_excel(writer, sheet_name = 't1', index=False )\n",
    "adni_t1_bias_info.to_excel(writer, sheet_name = 't1_biascorr', index=False )\n",
    "adni_t1_mask_info.to_excel(writer, sheet_name = 't1_mask', index=False )\n",
    "\n",
    "adni_t1_im_info.to_excel(writer, sheet_name = 't1_im', index=False )\n",
    "adni_t1_bias_im_info.to_excel(writer, sheet_name = 't1_bias_im', index=False )\n",
    "adni_t1_mask_im_info.to_excel(writer, sheet_name = 't1_mask_im', index=False )\n",
    "writer.save()\n",
    "writer.close()"
   ]
  },
  {
   "cell_type": "code",
   "execution_count": null,
   "metadata": {},
   "outputs": [],
   "source": [
    "print('ADNI...done')"
   ]
  },
  {
   "cell_type": "code",
   "execution_count": null,
   "metadata": {},
   "outputs": [],
   "source": []
  },
  {
   "cell_type": "code",
   "execution_count": 18,
   "metadata": {},
   "outputs": [],
   "source": [
    "# join tables\n",
    "#df_ixi_t1.join(df, lsuffix='_t1', rsuffix='_df')"
   ]
  },
  {
   "cell_type": "code",
   "execution_count": 19,
   "metadata": {},
   "outputs": [],
   "source": [
    "# # ## ipcluster start -n 4\n",
    "# import ipyparallel as ipp\n",
    "# c = ipp.Client()\n",
    "# c.ids\n",
    "# c[:].apply_async(f.get_img_params(ixi_t1_files))\n",
    "#c.shutdown(hub=True)\n",
    "# jobs\n",
    "# kill %1"
   ]
  }
 ],
 "metadata": {
  "kernelspec": {
   "display_name": "fastai1",
   "language": "python",
   "name": "fastai1"
  },
  "language_info": {
   "codemirror_mode": {
    "name": "ipython",
    "version": 3
   },
   "file_extension": ".py",
   "mimetype": "text/x-python",
   "name": "python",
   "nbconvert_exporter": "python",
   "pygments_lexer": "ipython3",
   "version": "3.7.4"
  }
 },
 "nbformat": 4,
 "nbformat_minor": 4
}
