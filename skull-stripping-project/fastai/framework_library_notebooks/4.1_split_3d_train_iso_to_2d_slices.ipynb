{
 "cells": [
  {
   "cell_type": "markdown",
   "metadata": {},
   "source": [
    "Created: 2020.07.28\n",
    "\n",
    "Modified: 2020.07.28"
   ]
  },
  {
   "cell_type": "markdown",
   "metadata": {},
   "source": [
    "#### Convertion of 3D isotropic TEST images to set of 2D png slices"
   ]
  },
  {
   "cell_type": "markdown",
   "metadata": {},
   "source": [
    "Splitting ONLY images {t1, t1_biass} NOT masks."
   ]
  },
  {
   "cell_type": "code",
   "execution_count": 10,
   "metadata": {},
   "outputs": [],
   "source": [
    "%reload_ext autoreload\n",
    "%autoreload 2\n",
    "%matplotlib inline"
   ]
  },
  {
   "cell_type": "code",
   "execution_count": 11,
   "metadata": {},
   "outputs": [],
   "source": [
    "import glob\n",
    "from pathlib import Path\n",
    "from fastai.core import parallel\n",
    "\n",
    "import sys\n",
    "sys.path.append('functions')\n",
    "import functions41 as fun"
   ]
  },
  {
   "cell_type": "code",
   "execution_count": 12,
   "metadata": {},
   "outputs": [
    {
     "data": {
      "text/plain": [
       "PosixPath('/data-10tb/shared/skull/train-3d-iso/HCP')"
      ]
     },
     "execution_count": 12,
     "metadata": {},
     "output_type": "execute_result"
    }
   ],
   "source": [
    "DATA1 = 'AIBL'\n",
    "DATA2 = 'HCP'\n",
    "\n",
    "DATA = DATA2\n",
    "\n",
    "root_pth = Path(f'/data-10tb/shared/skull/train-3d-iso/{DATA}')\n",
    "root_pth"
   ]
  },
  {
   "cell_type": "code",
   "execution_count": 13,
   "metadata": {},
   "outputs": [
    {
     "name": "stdout",
     "output_type": "stream",
     "text": [
      "1781 1781 3562\n"
     ]
    }
   ],
   "source": [
    "t1 = sorted(glob.glob(f'{root_pth}/*T1_iso.nii.gz'))\n",
    "bias = sorted(glob.glob(f'{root_pth}/*T1_biascorr_iso.nii.gz'))\n",
    "\n",
    "im3d_test = []\n",
    "im3d_test.extend(t1)\n",
    "im3d_test.extend(bias)\n",
    "\n",
    "print(len(t1), len(bias), len(im3d_test))"
   ]
  },
  {
   "cell_type": "code",
   "execution_count": 14,
   "metadata": {},
   "outputs": [],
   "source": [
    "#t1[:3]"
   ]
  },
  {
   "cell_type": "code",
   "execution_count": 15,
   "metadata": {},
   "outputs": [],
   "source": [
    "#bias[:3]"
   ]
  },
  {
   "cell_type": "markdown",
   "metadata": {},
   "source": [
    "#### Axial"
   ]
  },
  {
   "cell_type": "code",
   "execution_count": 16,
   "metadata": {},
   "outputs": [
    {
     "data": {
      "text/html": [],
      "text/plain": [
       "<IPython.core.display.HTML object>"
      ]
     },
     "metadata": {},
     "output_type": "display_data"
    },
    {
     "name": "stdout",
     "output_type": "stream",
     "text": [
      "CPU times: user 7.47 s, sys: 1.55 s, total: 9.01 s\n",
      "Wall time: 41min 2s\n"
     ]
    }
   ],
   "source": [
    "%%time\n",
    "parallel(fun.axial_3d_2_2d, im3d_test, max_workers=48)"
   ]
  },
  {
   "cell_type": "markdown",
   "metadata": {},
   "source": [
    "#### Coronal"
   ]
  },
  {
   "cell_type": "code",
   "execution_count": 17,
   "metadata": {},
   "outputs": [
    {
     "data": {
      "text/html": [],
      "text/plain": [
       "<IPython.core.display.HTML object>"
      ]
     },
     "metadata": {},
     "output_type": "display_data"
    },
    {
     "name": "stdout",
     "output_type": "stream",
     "text": [
      "CPU times: user 7.44 s, sys: 1.76 s, total: 9.2 s\n",
      "Wall time: 25min 43s\n"
     ]
    }
   ],
   "source": [
    "%%time\n",
    "parallel(fun.coronal_3d_2_2d, im3d_test, max_workers=48)"
   ]
  },
  {
   "cell_type": "markdown",
   "metadata": {},
   "source": [
    "#### Sagittal"
   ]
  },
  {
   "cell_type": "code",
   "execution_count": 18,
   "metadata": {},
   "outputs": [
    {
     "data": {
      "text/html": [],
      "text/plain": [
       "<IPython.core.display.HTML object>"
      ]
     },
     "metadata": {},
     "output_type": "display_data"
    },
    {
     "name": "stdout",
     "output_type": "stream",
     "text": [
      "CPU times: user 7.62 s, sys: 1.61 s, total: 9.23 s\n",
      "Wall time: 24min 41s\n"
     ]
    }
   ],
   "source": [
    "%%time\n",
    "parallel(fun.sagittal_3d_2_2d, im3d_test, max_workers=48)"
   ]
  },
  {
   "cell_type": "code",
   "execution_count": null,
   "metadata": {},
   "outputs": [],
   "source": []
  }
 ],
 "metadata": {
  "kernelspec": {
   "display_name": "fastai1",
   "language": "python",
   "name": "fastai1"
  },
  "language_info": {
   "codemirror_mode": {
    "name": "ipython",
    "version": 3
   },
   "file_extension": ".py",
   "mimetype": "text/x-python",
   "name": "python",
   "nbconvert_exporter": "python",
   "pygments_lexer": "ipython3",
   "version": "3.7.4"
  }
 },
 "nbformat": 4,
 "nbformat_minor": 4
}
