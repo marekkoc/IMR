{
 "cells": [
  {
   "cell_type": "markdown",
   "metadata": {},
   "source": [
    "## Basic characteristics of anisotropic images\n",
    "\n",
    "##### Created: 2020.08.25\n",
    "\n",
    "##### Modified: 2020.08.26"
   ]
  },
  {
   "cell_type": "code",
   "execution_count": 1,
   "metadata": {},
   "outputs": [],
   "source": [
    "%reload_ext autoreload\n",
    "%autoreload 2\n",
    "%matplotlib inline"
   ]
  },
  {
   "cell_type": "code",
   "execution_count": 2,
   "metadata": {},
   "outputs": [],
   "source": [
    "import pandas as pd\n",
    "import numpy as np\n",
    "import seaborn as sns\n",
    "\n",
    "from pathlib import Path\n",
    "from fastai.utils.mem import *"
   ]
  },
  {
   "cell_type": "code",
   "execution_count": 3,
   "metadata": {},
   "outputs": [],
   "source": [
    "import sys\n",
    "sys.path.append('functions')\n",
    "\n",
    "%aimport functions00, functions01\n",
    "from functions00 import *\n",
    "from functions01 import *"
   ]
  },
  {
   "cell_type": "code",
   "execution_count": 4,
   "metadata": {},
   "outputs": [
    {
     "name": "stdout",
     "output_type": "stream",
     "text": [
      "**********************************************************************************************************************************\n",
      "Settings:\n",
      "\tHOST:  mmiv-ml-titan\n",
      "\tPATH_ROOT_DATA:  /data-10tb/shared/skull/train-3d-iso\n",
      "\tPATH_GIT_HUB:  /data-10tb/marek/github_codes/skull-stripping-1/fastai\n",
      "\tPATH_2D: /data-10tb/shared/skull\n",
      "\n",
      "3D NIFTI image DF paths (_mk_3D):\n",
      "\tIXI_TEST_3D: /data-10tb/marek/github_codes/skull-stripping-1/fastai/2.2_train_valid_test_sets/ixi_test_mk_3d.csv\n",
      "\tTEST_3D : /data-10tb/marek/github_codes/skull-stripping-1/fastai/2.2_train_valid_test_sets/test_mk_3d.csv\n",
      "\tTRAIN_VAL_3D: /data-10tb/marek/github_codes/skull-stripping-1/fastai/2.2_train_valid_test_sets/train_val_mk_3d.csv\n",
      "\tNFBS_TEST_3D: /data-10tb/marek/github_codes/skull-stripping-1/fastai/2.2_train_valid_test_sets/nfbs_test_mk_3d.csv\n",
      "\n",
      "Error files (pickle):\n",
      "\tERROR_FILES: /data-10tb/marek/github_codes/skull-stripping-1/fastai/2.2_train_valid_test_sets/error_files\n",
      "**********************************************************************************************************************************\n"
     ]
    }
   ],
   "source": [
    "mk_get_host_info()"
   ]
  },
  {
   "cell_type": "markdown",
   "metadata": {},
   "source": [
    "#### Global variables"
   ]
  },
  {
   "cell_type": "code",
   "execution_count": 5,
   "metadata": {},
   "outputs": [],
   "source": [
    "ANISO_PTH = Path(f'/data-10tb/marek/github_codes/skull-stripping-1/fastai/1.0_results/')"
   ]
  },
  {
   "cell_type": "markdown",
   "metadata": {},
   "source": [
    "### T1_bias Aniso"
   ]
  },
  {
   "cell_type": "code",
   "execution_count": 6,
   "metadata": {},
   "outputs": [],
   "source": [
    "bias_ixi = pd.read_excel(ANISO_PTH/'ixi_aniso.xlsx', sheet_name='t1_bias_im')\n",
    "bias_adni = pd.read_excel(ANISO_PTH/'adni_aniso.xlsx', sheet_name='t1_bias_im')\n",
    "bias_aibl = pd.read_excel(ANISO_PTH/'aibl_aniso.xlsx', sheet_name='t1_bias_im')\n",
    "bias_ppmi = pd.read_excel(ANISO_PTH/'ppmi_aniso.xlsx', sheet_name='t1_bias_im')\n",
    "bias_slim = pd.read_excel(ANISO_PTH/'slim_aniso.xlsx', sheet_name='t1_bias_im')\n",
    "bias_sald = pd.read_excel(ANISO_PTH/'sald_aniso.xlsx', sheet_name='t1_bias_im')\n",
    "bias_cc = pd.read_excel(ANISO_PTH/'cc_aniso.xlsx', sheet_name='t1_bias_im')\n",
    "#bias_hcp = pd.read_excel(ANISO_PTH/'hcp_aniso.xlsx', sheet_name='t1_bias_im')"
   ]
  },
  {
   "cell_type": "code",
   "execution_count": 7,
   "metadata": {},
   "outputs": [
    {
     "data": {
      "text/html": [
       "<div>\n",
       "<style scoped>\n",
       "    .dataframe tbody tr th:only-of-type {\n",
       "        vertical-align: middle;\n",
       "    }\n",
       "\n",
       "    .dataframe tbody tr th {\n",
       "        vertical-align: top;\n",
       "    }\n",
       "\n",
       "    .dataframe thead th {\n",
       "        text-align: right;\n",
       "    }\n",
       "</style>\n",
       "<table border=\"1\" class=\"dataframe\">\n",
       "  <thead>\n",
       "    <tr style=\"text-align: right;\">\n",
       "      <th></th>\n",
       "      <th>Examination</th>\n",
       "      <th>Image</th>\n",
       "      <th>Max</th>\n",
       "      <th>Mean</th>\n",
       "      <th>Min</th>\n",
       "      <th>Dtype</th>\n",
       "      <th>Size_1</th>\n",
       "      <th>Size_2</th>\n",
       "      <th>Size_3</th>\n",
       "      <th>Pixdim_1</th>\n",
       "      <th>Pixdim_2</th>\n",
       "      <th>Pixdim_3</th>\n",
       "    </tr>\n",
       "  </thead>\n",
       "  <tbody>\n",
       "    <tr>\n",
       "      <td>0</td>\n",
       "      <td>CC0001_philips_15_55_M.anat</td>\n",
       "      <td>T1_biascorr.nii.gz</td>\n",
       "      <td>2659.811523</td>\n",
       "      <td>352.307226</td>\n",
       "      <td>0</td>\n",
       "      <td>float64</td>\n",
       "      <td>171</td>\n",
       "      <td>256</td>\n",
       "      <td>170</td>\n",
       "      <td>0.999998</td>\n",
       "      <td>1.000000</td>\n",
       "      <td>1.000000</td>\n",
       "    </tr>\n",
       "    <tr>\n",
       "      <td>1</td>\n",
       "      <td>CC0002_philips_15_56_M.anat</td>\n",
       "      <td>T1_biascorr.nii.gz</td>\n",
       "      <td>3477.040527</td>\n",
       "      <td>425.928278</td>\n",
       "      <td>0</td>\n",
       "      <td>float64</td>\n",
       "      <td>150</td>\n",
       "      <td>288</td>\n",
       "      <td>191</td>\n",
       "      <td>1.000000</td>\n",
       "      <td>0.888889</td>\n",
       "      <td>0.888889</td>\n",
       "    </tr>\n",
       "  </tbody>\n",
       "</table>\n",
       "</div>"
      ],
      "text/plain": [
       "                   Examination               Image          Max        Mean  \\\n",
       "0  CC0001_philips_15_55_M.anat  T1_biascorr.nii.gz  2659.811523  352.307226   \n",
       "1  CC0002_philips_15_56_M.anat  T1_biascorr.nii.gz  3477.040527  425.928278   \n",
       "\n",
       "   Min    Dtype  Size_1  Size_2  Size_3  Pixdim_1  Pixdim_2  Pixdim_3  \n",
       "0    0  float64     171     256     170  0.999998  1.000000  1.000000  \n",
       "1    0  float64     150     288     191  1.000000  0.888889  0.888889  "
      ]
     },
     "execution_count": 7,
     "metadata": {},
     "output_type": "execute_result"
    }
   ],
   "source": [
    "bias_cc.head(2)"
   ]
  },
  {
   "cell_type": "code",
   "execution_count": 8,
   "metadata": {},
   "outputs": [],
   "source": [
    "name_list = ['ixi', 'adni', 'aibl', 'ppmi', 'slim', 'sald', 'cc']\n",
    "df_list = [bias_ixi, bias_adni, bias_aibl, bias_ppmi, bias_slim, bias_sald, bias_cc]\n",
    "\n",
    "dct = dict(zip(name_list, df_list))"
   ]
  },
  {
   "cell_type": "markdown",
   "metadata": {},
   "source": [
    "### Voxes sizes and spacing"
   ]
  },
  {
   "cell_type": "code",
   "execution_count": 9,
   "metadata": {},
   "outputs": [],
   "source": [
    "def volume_size(dct, key, print_full_res=False):\n",
    "    s_ixi = np.vstack((dct[key].Size_1, dct[key].Size_2, dct[key].Size_3 )).T\n",
    "    val, cnt = np.unique(s_ixi, axis=0, return_counts=True)\n",
    "    df = pd.DataFrame.from_dict({'cnt':list(cnt), 'dimension':list(val)})\n",
    "    df = df.sort_values(by='cnt', ascending=False)\n",
    "    if print_full_res:\n",
    "        print(f'{key.upper()} - voxelsize (Voxelsizes: {len(cnt)})')\n",
    "        _ = [print(f'\\t{v} ---> {c}')  for v,c in zip(val, cnt)]\n",
    "        print()\n",
    "    return df"
   ]
  },
  {
   "cell_type": "code",
   "execution_count": 10,
   "metadata": {},
   "outputs": [],
   "source": [
    "def spacing(dct, key, digits=2, print_full_res=False):\n",
    "    p_ixi = np.vstack((dct[key].Pixdim_1, dct[key].Pixdim_2, dct[key].Pixdim_3 )).T\n",
    "    val, cnt = np.unique(p_ixi.round(digits), axis=0, return_counts=True)\n",
    "    \n",
    "    df = pd.DataFrame.from_dict({'cnt':list(cnt), 'dimension':list(val)})\n",
    "    df = df.sort_values(by='cnt', ascending=False)\n",
    "    if print_full_res:\n",
    "        print(f'{key.upper()} - pixelsize (Pixelsizes: {len(cnt)})')\n",
    "        _ = [print(f'\\t{v} ---> {c}')  for v,c in zip(val, cnt)]\n",
    "        print()\n",
    "    return df"
   ]
  },
  {
   "cell_type": "markdown",
   "metadata": {},
   "source": [
    "### Spacing"
   ]
  },
  {
   "cell_type": "code",
   "execution_count": 11,
   "metadata": {},
   "outputs": [
    {
     "name": "stdout",
     "output_type": "stream",
     "text": [
      "**************************\n",
      "*** ixi (exams: 581)   ***\n",
      "**************************\n",
      "   cnt        dimension\n",
      "0  576  [1.2, 0.9, 0.9]\n",
      "1    5  [1.2, 1.0, 1.0]\n",
      "\n",
      "\n",
      "\n",
      "****************************\n",
      "*** adni (exams: 7921)   ***\n",
      "****************************\n",
      "     cnt        dimension\n",
      "2   3977  [1.2, 1.0, 1.0]\n",
      "0   2208  [1.2, 0.9, 0.9]\n",
      "4    520  [1.2, 1.2, 1.2]\n",
      "5    407  [1.2, 1.2, 1.3]\n",
      "6    402  [1.2, 1.3, 1.2]\n",
      "7    212  [1.2, 1.3, 1.3]\n",
      "3     99  [1.2, 1.1, 1.1]\n",
      "1     84  [1.2, 0.9, 1.0]\n",
      "9      9  [1.2, 1.4, 1.4]\n",
      "8      1  [1.2, 1.3, 1.4]\n",
      "10     1  [1.3, 0.9, 0.9]\n",
      "11     1  [1.4, 1.2, 1.2]\n",
      "\n",
      "\n",
      "\n",
      "***************************\n",
      "*** aibl (exams: 726)   ***\n",
      "***************************\n",
      "   cnt        dimension\n",
      "0  726  [1.2, 1.0, 1.0]\n",
      "\n",
      "\n",
      "\n",
      "***************************\n",
      "*** ppmi (exams: 752)   ***\n",
      "***************************\n",
      "   cnt        dimension\n",
      "0  749  [1.0, 1.0, 1.0]\n",
      "1    3  [1.2, 1.1, 1.1]\n",
      "\n",
      "\n",
      "\n",
      "****************************\n",
      "*** slim (exams: 1036)   ***\n",
      "****************************\n",
      "    cnt        dimension\n",
      "0  1036  [1.0, 1.0, 1.0]\n",
      "\n",
      "\n",
      "\n",
      "***************************\n",
      "*** sald (exams: 493)   ***\n",
      "***************************\n",
      "   cnt        dimension\n",
      "0  493  [1.0, 1.0, 1.0]\n",
      "\n",
      "\n",
      "\n",
      "*************************\n",
      "*** cc (exams: 359)   ***\n",
      "*************************\n",
      "   cnt        dimension\n",
      "1  242  [1.0, 1.0, 1.0]\n",
      "2   60  [1.3, 1.0, 1.0]\n",
      "0   57  [1.0, 0.9, 0.9]\n",
      "\n",
      "\n",
      "\n"
     ]
    }
   ],
   "source": [
    "for k in dct.keys():\n",
    "    d1 = spacing(dct, k, digits=1)\n",
    "    mk_wrap_text(f'{k} (exams: {len(dct[k])})')\n",
    "    print(d1)\n",
    "    print(f'\\n\\n')"
   ]
  },
  {
   "cell_type": "markdown",
   "metadata": {},
   "source": [
    "### Image sizes"
   ]
  },
  {
   "cell_type": "code",
   "execution_count": 12,
   "metadata": {},
   "outputs": [
    {
     "name": "stdout",
     "output_type": "stream",
     "text": [
      "**************************\n",
      "*** ixi (exams: 581)   ***\n",
      "**************************\n",
      "   cnt        dimension\n",
      "4  498  [150, 256, 181]\n",
      "2   74  [146, 256, 181]\n",
      "3    5  [150, 256, 174]\n",
      "0    2  [130, 256, 181]\n",
      "1    2  [140, 256, 181]\n",
      "\n",
      "\n",
      "\n",
      "****************************\n",
      "*** adni (exams: 7921)   ***\n",
      "****************************\n",
      "     cnt        dimension\n",
      "56  2127  [176, 240, 170]\n",
      "17  1028  [160, 192, 136]\n",
      "78  1005  [196, 256, 167]\n",
      "37   752  [170, 256, 170]\n",
      "33   727  [166, 256, 180]\n",
      "..   ...              ...\n",
      "47     1  [170, 288, 184]\n",
      "49     1  [172, 256, 167]\n",
      "50     1  [176, 192, 136]\n",
      "51     1  [176, 192, 137]\n",
      "40     1  [170, 256, 173]\n",
      "\n",
      "[80 rows x 2 columns]\n",
      "\n",
      "\n",
      "\n",
      "***************************\n",
      "*** aibl (exams: 726)   ***\n",
      "***************************\n",
      "   cnt        dimension\n",
      "0  726  [160, 240, 170]\n",
      "\n",
      "\n",
      "\n",
      "***************************\n",
      "*** ppmi (exams: 752)   ***\n",
      "***************************\n",
      "    cnt        dimension\n",
      "4   600  [176, 240, 170]\n",
      "6    93  [176, 256, 170]\n",
      "8    23  [192, 240, 170]\n",
      "7    17  [176, 256, 174]\n",
      "1     4  [160, 240, 170]\n",
      "2     4  [175, 240, 170]\n",
      "10    4  [256, 240, 170]\n",
      "3     3  [176, 240, 161]\n",
      "9     2  [192, 256, 170]\n",
      "0     1  [144, 240, 170]\n",
      "5     1  [176, 248, 170]\n",
      "\n",
      "\n",
      "\n",
      "****************************\n",
      "*** slim (exams: 1036)   ***\n",
      "****************************\n",
      "     cnt        dimension\n",
      "433  545  [176, 256, 170]\n",
      "434   13  [176, 256, 174]\n",
      "402    3  [176, 184, 170]\n",
      "396    3  [175, 200, 170]\n",
      "412    3  [176, 197, 170]\n",
      "..   ...              ...\n",
      "146    1  [164, 182, 167]\n",
      "145    1  [164, 180, 131]\n",
      "144    1  [164, 179, 170]\n",
      "143    1  [164, 175, 161]\n",
      "217    1  [166, 199, 170]\n",
      "\n",
      "[435 rows x 2 columns]\n",
      "\n",
      "\n",
      "\n",
      "***************************\n",
      "*** sald (exams: 493)   ***\n",
      "***************************\n",
      "   cnt        dimension\n",
      "0  493  [176, 256, 170]\n",
      "\n",
      "\n",
      "\n",
      "*************************\n",
      "*** cc (exams: 359)   ***\n",
      "*************************\n",
      "    cnt        dimension\n",
      "27   63  [192, 256, 170]\n",
      "31   60  [224, 256, 170]\n",
      "24   55  [180, 240, 170]\n",
      "36   52  [256, 196, 170]\n",
      "29   47  [200, 256, 170]\n",
      "1    32  [150, 288, 191]\n",
      "23    5  [180, 224, 173]\n",
      "8     4  [160, 288, 191]\n",
      "20    3  [176, 256, 170]\n",
      "5     3  [158, 288, 191]\n",
      "19    2  [172, 256, 170]\n",
      "16    2  [170, 288, 191]\n",
      "34    2  [256, 186, 170]\n",
      "9     2  [161, 288, 191]\n",
      "15    2  [168, 288, 191]\n",
      "30    1  [212, 256, 170]\n",
      "35    1  [256, 192, 170]\n",
      "32    1  [256, 168, 170]\n",
      "33    1  [256, 174, 170]\n",
      "28    1  [196, 256, 170]\n",
      "37    1  [256, 200, 170]\n",
      "38    1  [256, 204, 170]\n",
      "26    1  [188, 256, 170]\n",
      "25    1  [184, 256, 170]\n",
      "0     1  [150, 288, 178]\n",
      "22    1  [179, 288, 191]\n",
      "21    1  [176, 288, 191]\n",
      "18    1  [171, 288, 191]\n",
      "17    1  [171, 256, 170]\n",
      "14    1  [165, 288, 191]\n",
      "13    1  [165, 288, 186]\n",
      "12    1  [164, 288, 191]\n",
      "11    1  [164, 256, 170]\n",
      "10    1  [162, 288, 191]\n",
      "7     1  [160, 288, 183]\n",
      "6     1  [159, 288, 191]\n",
      "4     1  [157, 288, 191]\n",
      "3     1  [156, 288, 191]\n",
      "2     1  [154, 288, 191]\n",
      "39    1  [256, 208, 170]\n",
      "\n",
      "\n",
      "\n"
     ]
    }
   ],
   "source": [
    "for k in dct.keys():\n",
    "    d1 = volume_size(dct, k, False)\n",
    "    mk_wrap_text(f'{k} (exams: {len(dct[k])})')\n",
    "    print(d1)\n",
    "    print(f'\\n\\n')"
   ]
  },
  {
   "cell_type": "markdown",
   "metadata": {},
   "source": [
    "___"
   ]
  },
  {
   "cell_type": "code",
   "execution_count": null,
   "metadata": {},
   "outputs": [],
   "source": []
  },
  {
   "cell_type": "code",
   "execution_count": null,
   "metadata": {},
   "outputs": [],
   "source": []
  },
  {
   "cell_type": "code",
   "execution_count": null,
   "metadata": {},
   "outputs": [],
   "source": []
  },
  {
   "cell_type": "code",
   "execution_count": null,
   "metadata": {},
   "outputs": [],
   "source": []
  },
  {
   "cell_type": "code",
   "execution_count": null,
   "metadata": {},
   "outputs": [],
   "source": []
  },
  {
   "cell_type": "code",
   "execution_count": null,
   "metadata": {},
   "outputs": [],
   "source": []
  },
  {
   "cell_type": "code",
   "execution_count": null,
   "metadata": {},
   "outputs": [],
   "source": []
  },
  {
   "cell_type": "code",
   "execution_count": null,
   "metadata": {},
   "outputs": [],
   "source": []
  },
  {
   "cell_type": "code",
   "execution_count": null,
   "metadata": {},
   "outputs": [],
   "source": []
  },
  {
   "cell_type": "code",
   "execution_count": null,
   "metadata": {},
   "outputs": [],
   "source": []
  },
  {
   "cell_type": "markdown",
   "metadata": {},
   "source": [
    "### T1 -Max and mean values"
   ]
  },
  {
   "cell_type": "code",
   "execution_count": 13,
   "metadata": {},
   "outputs": [
    {
     "data": {
      "text/html": [
       "<div>\n",
       "<style scoped>\n",
       "    .dataframe tbody tr th:only-of-type {\n",
       "        vertical-align: middle;\n",
       "    }\n",
       "\n",
       "    .dataframe tbody tr th {\n",
       "        vertical-align: top;\n",
       "    }\n",
       "\n",
       "    .dataframe thead th {\n",
       "        text-align: right;\n",
       "    }\n",
       "</style>\n",
       "<table border=\"1\" class=\"dataframe\">\n",
       "  <thead>\n",
       "    <tr style=\"text-align: right;\">\n",
       "      <th></th>\n",
       "      <th>ixi</th>\n",
       "      <th>adni</th>\n",
       "      <th>ppmi</th>\n",
       "      <th>aibl</th>\n",
       "      <th>sald</th>\n",
       "      <th>slim</th>\n",
       "      <th>cc</th>\n",
       "    </tr>\n",
       "  </thead>\n",
       "  <tbody>\n",
       "    <tr>\n",
       "      <td>0</td>\n",
       "      <td>1070.0</td>\n",
       "      <td>2749.0</td>\n",
       "      <td>946.0</td>\n",
       "      <td>892.0</td>\n",
       "      <td>888.0</td>\n",
       "      <td>1229.0</td>\n",
       "      <td>2660.0</td>\n",
       "    </tr>\n",
       "    <tr>\n",
       "      <td>1</td>\n",
       "      <td>3636.0</td>\n",
       "      <td>2552.0</td>\n",
       "      <td>929.0</td>\n",
       "      <td>914.0</td>\n",
       "      <td>797.0</td>\n",
       "      <td>1229.0</td>\n",
       "      <td>3477.0</td>\n",
       "    </tr>\n",
       "    <tr>\n",
       "      <td>2</td>\n",
       "      <td>3979.0</td>\n",
       "      <td>2273.0</td>\n",
       "      <td>746.0</td>\n",
       "      <td>804.0</td>\n",
       "      <td>983.0</td>\n",
       "      <td>1387.0</td>\n",
       "      <td>2964.0</td>\n",
       "    </tr>\n",
       "    <tr>\n",
       "      <td>3</td>\n",
       "      <td>4007.0</td>\n",
       "      <td>3662.0</td>\n",
       "      <td>916.0</td>\n",
       "      <td>968.0</td>\n",
       "      <td>1237.0</td>\n",
       "      <td>1547.0</td>\n",
       "      <td>4850.0</td>\n",
       "    </tr>\n",
       "    <tr>\n",
       "      <td>4</td>\n",
       "      <td>3952.0</td>\n",
       "      <td>2431.0</td>\n",
       "      <td>845.0</td>\n",
       "      <td>935.0</td>\n",
       "      <td>1095.0</td>\n",
       "      <td>1406.0</td>\n",
       "      <td>3131.0</td>\n",
       "    </tr>\n",
       "  </tbody>\n",
       "</table>\n",
       "</div>"
      ],
      "text/plain": [
       "      ixi    adni   ppmi   aibl    sald    slim      cc\n",
       "0  1070.0  2749.0  946.0  892.0   888.0  1229.0  2660.0\n",
       "1  3636.0  2552.0  929.0  914.0   797.0  1229.0  3477.0\n",
       "2  3979.0  2273.0  746.0  804.0   983.0  1387.0  2964.0\n",
       "3  4007.0  3662.0  916.0  968.0  1237.0  1547.0  4850.0\n",
       "4  3952.0  2431.0  845.0  935.0  1095.0  1406.0  3131.0"
      ]
     },
     "execution_count": 13,
     "metadata": {},
     "output_type": "execute_result"
    }
   ],
   "source": [
    "mx = pd.DataFrame({'ixi':bias_ixi['Max'], 'adni':bias_adni['Max'], 'ppmi':bias_ppmi['Max'], \n",
    "                  'aibl':bias_aibl['Max'], 'sald':bias_sald['Max'], 'slim':bias_slim['Max'], 'cc':bias_cc['Max']})\n",
    "mx.head().round(0)"
   ]
  },
  {
   "cell_type": "code",
   "execution_count": 14,
   "metadata": {},
   "outputs": [
    {
     "data": {
      "image/png": "[encoded data removed]",
      "text/plain": [
       "<Figure size 1152x864 with 9 Axes>"
      ]
     },
     "metadata": {
      "needs_background": "light"
     },
     "output_type": "display_data"
    }
   ],
   "source": [
    "_= pd.DataFrame.hist(mx, figsize=(16,12))"
   ]
  },
  {
   "cell_type": "code",
   "execution_count": 18,
   "metadata": {},
   "outputs": [
    {
     "data": {
      "text/plain": [
       "55883.5625"
      ]
     },
     "execution_count": 18,
     "metadata": {},
     "output_type": "execute_result"
    }
   ],
   "source": [
    "mx.adni.max()"
   ]
  },
  {
   "cell_type": "code",
   "execution_count": 15,
   "metadata": {},
   "outputs": [
    {
     "data": {
      "text/html": [
       "<div>\n",
       "<style scoped>\n",
       "    .dataframe tbody tr th:only-of-type {\n",
       "        vertical-align: middle;\n",
       "    }\n",
       "\n",
       "    .dataframe tbody tr th {\n",
       "        vertical-align: top;\n",
       "    }\n",
       "\n",
       "    .dataframe thead th {\n",
       "        text-align: right;\n",
       "    }\n",
       "</style>\n",
       "<table border=\"1\" class=\"dataframe\">\n",
       "  <thead>\n",
       "    <tr style=\"text-align: right;\">\n",
       "      <th></th>\n",
       "      <th>ixi</th>\n",
       "      <th>adni</th>\n",
       "      <th>ppmi</th>\n",
       "      <th>aibl</th>\n",
       "      <th>sald</th>\n",
       "      <th>slim</th>\n",
       "      <th>cc</th>\n",
       "    </tr>\n",
       "  </thead>\n",
       "  <tbody>\n",
       "    <tr>\n",
       "      <td>0</td>\n",
       "      <td>120.0</td>\n",
       "      <td>267.0</td>\n",
       "      <td>99.0</td>\n",
       "      <td>83.0</td>\n",
       "      <td>71.0</td>\n",
       "      <td>100.0</td>\n",
       "      <td>352.0</td>\n",
       "    </tr>\n",
       "    <tr>\n",
       "      <td>1</td>\n",
       "      <td>416.0</td>\n",
       "      <td>265.0</td>\n",
       "      <td>118.0</td>\n",
       "      <td>86.0</td>\n",
       "      <td>89.0</td>\n",
       "      <td>127.0</td>\n",
       "      <td>426.0</td>\n",
       "    </tr>\n",
       "    <tr>\n",
       "      <td>2</td>\n",
       "      <td>408.0</td>\n",
       "      <td>267.0</td>\n",
       "      <td>87.0</td>\n",
       "      <td>103.0</td>\n",
       "      <td>104.0</td>\n",
       "      <td>169.0</td>\n",
       "      <td>353.0</td>\n",
       "    </tr>\n",
       "    <tr>\n",
       "      <td>3</td>\n",
       "      <td>315.0</td>\n",
       "      <td>244.0</td>\n",
       "      <td>110.0</td>\n",
       "      <td>121.0</td>\n",
       "      <td>109.0</td>\n",
       "      <td>106.0</td>\n",
       "      <td>364.0</td>\n",
       "    </tr>\n",
       "    <tr>\n",
       "      <td>4</td>\n",
       "      <td>362.0</td>\n",
       "      <td>248.0</td>\n",
       "      <td>104.0</td>\n",
       "      <td>105.0</td>\n",
       "      <td>125.0</td>\n",
       "      <td>155.0</td>\n",
       "      <td>353.0</td>\n",
       "    </tr>\n",
       "  </tbody>\n",
       "</table>\n",
       "</div>"
      ],
      "text/plain": [
       "     ixi   adni   ppmi   aibl   sald   slim     cc\n",
       "0  120.0  267.0   99.0   83.0   71.0  100.0  352.0\n",
       "1  416.0  265.0  118.0   86.0   89.0  127.0  426.0\n",
       "2  408.0  267.0   87.0  103.0  104.0  169.0  353.0\n",
       "3  315.0  244.0  110.0  121.0  109.0  106.0  364.0\n",
       "4  362.0  248.0  104.0  105.0  125.0  155.0  353.0"
      ]
     },
     "execution_count": 15,
     "metadata": {},
     "output_type": "execute_result"
    }
   ],
   "source": [
    "mean1 = pd.DataFrame({'ixi':bias_ixi['Mean'], 'adni':bias_adni['Mean'], 'ppmi':bias_ppmi['Mean'], \n",
    "                  'aibl':bias_aibl['Mean'], 'sald':bias_sald['Mean'], 'slim':bias_slim['Mean'], 'cc':bias_cc['Mean']})\n",
    "mean1.head().round(0)"
   ]
  },
  {
   "cell_type": "code",
   "execution_count": 16,
   "metadata": {},
   "outputs": [
    {
     "data": {
      "image/png": "[encoded data removed]",
      "text/plain": [
       "<Figure size 1152x864 with 9 Axes>"
      ]
     },
     "metadata": {
      "needs_background": "light"
     },
     "output_type": "display_data"
    }
   ],
   "source": [
    "_= pd.DataFrame.hist(mean1, figsize=(16,12))"
   ]
  },
  {
   "cell_type": "code",
   "execution_count": null,
   "metadata": {},
   "outputs": [],
   "source": []
  },
  {
   "cell_type": "code",
   "execution_count": 17,
   "metadata": {},
   "outputs": [
    {
     "data": {
      "text/plain": [
       "(0, 8000)"
      ]
     },
     "execution_count": 17,
     "metadata": {},
     "output_type": "execute_result"
    },
    {
     "data": {
      "image/png": "[encoded data removed]",
      "text/plain": [
       "<Figure size 1152x864 with 1 Axes>"
      ]
     },
     "metadata": {
      "needs_background": "light"
     },
     "output_type": "display_data"
    }
   ],
   "source": [
    "ax1 = mx.plot(kind='box', figsize=(16,12))\n",
    "ax1.set_ylim(0,8000)"
   ]
  },
  {
   "cell_type": "code",
   "execution_count": 18,
   "metadata": {},
   "outputs": [
    {
     "data": {
      "text/plain": [
       "(0, 600)"
      ]
     },
     "execution_count": 18,
     "metadata": {},
     "output_type": "execute_result"
    },
    {
     "data": {
      "image/png": "[encoded data removed]",
      "text/plain": [
       "<Figure size 1152x864 with 1 Axes>"
      ]
     },
     "metadata": {
      "needs_background": "light"
     },
     "output_type": "display_data"
    }
   ],
   "source": [
    "ax2 = mean1.plot(kind='box', figsize=(16,12))\n",
    "ax2.set_ylim(0,600)"
   ]
  },
  {
   "cell_type": "code",
   "execution_count": null,
   "metadata": {},
   "outputs": [],
   "source": []
  }
 ],
 "metadata": {
  "kernelspec": {
   "display_name": "fastai1",
   "language": "python",
   "name": "fastai1"
  },
  "language_info": {
   "codemirror_mode": {
    "name": "ipython",
    "version": 3
   },
   "file_extension": ".py",
   "mimetype": "text/x-python",
   "name": "python",
   "nbconvert_exporter": "python",
   "pygments_lexer": "ipython3",
   "version": "3.7.4"
  }
 },
 "nbformat": 4,
 "nbformat_minor": 4
}
