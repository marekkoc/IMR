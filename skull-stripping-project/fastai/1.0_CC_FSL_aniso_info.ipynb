{
 "cells": [
  {
   "cell_type": "markdown",
   "metadata": {},
   "source": [
    "### Basic information about 3D anisotropic images\n",
    "\n",
    "######  2020.08.26  \n",
    "\n",
    "###### 2020.08.26"
   ]
  },
  {
   "cell_type": "markdown",
   "metadata": {},
   "source": [
    "This file reads the basic meta-information about **3D** images. It might be substantial during convertion from 3D dataset to set of 2D slices."
   ]
  },
  {
   "cell_type": "code",
   "execution_count": 1,
   "metadata": {},
   "outputs": [],
   "source": [
    "from fastai.utils.mem import *\n",
    "\n",
    "import sys\n",
    "sys.path.append('functions/')\n",
    "\n",
    "import functions10 as f\n",
    "\n",
    "import imp\n",
    "_ = imp.reload(f)"
   ]
  },
  {
   "cell_type": "code",
   "execution_count": 2,
   "metadata": {},
   "outputs": [],
   "source": [
    "t1_name = 'T1.nii.gz'\n",
    "t1_biascorr = 'T1_biascorr.nii.gz'\n",
    "t1_mask = 'T1_biascorr_brain_mask.nii.gz'"
   ]
  },
  {
   "cell_type": "markdown",
   "metadata": {},
   "source": [
    "# IXI"
   ]
  },
  {
   "cell_type": "code",
   "execution_count": 3,
   "metadata": {},
   "outputs": [],
   "source": [
    "database = 'CalgaryCampinas'\n",
    "root_folder = Path(f'/data-10tb/marek/{database}/train_data/FSL_outputs')\n",
    "results_folder = Path(f'/data-10tb/marek/github_codes/skull-stripping-1/fastai/1.0_results/')\n",
    "#root_folder.ls()"
   ]
  },
  {
   "cell_type": "code",
   "execution_count": 4,
   "metadata": {},
   "outputs": [],
   "source": [
    "t1_files = list(root_folder.glob(f'*/{t1_name}'))\n",
    "t1_bias_files = list(root_folder.glob(f'*/{t1_biascorr}'))\n",
    "t1_mask_files = list(root_folder.glob(f'*/{t1_mask}'))\n",
    "\n",
    "t1_files.sort()\n",
    "t1_bias_files.sort()\n",
    "t1_mask_files.sort()"
   ]
  },
  {
   "cell_type": "code",
   "execution_count": 8,
   "metadata": {},
   "outputs": [],
   "source": [
    "#t1_files[:3]"
   ]
  },
  {
   "cell_type": "markdown",
   "metadata": {},
   "source": [
    "#### Get description tables"
   ]
  },
  {
   "cell_type": "code",
   "execution_count": 20,
   "metadata": {},
   "outputs": [
    {
     "data": {
      "text/html": [
       "<div>\n",
       "<style scoped>\n",
       "    .dataframe tbody tr th:only-of-type {\n",
       "        vertical-align: middle;\n",
       "    }\n",
       "\n",
       "    .dataframe tbody tr th {\n",
       "        vertical-align: top;\n",
       "    }\n",
       "\n",
       "    .dataframe thead th {\n",
       "        text-align: right;\n",
       "    }\n",
       "</style>\n",
       "<table border=\"1\" class=\"dataframe\">\n",
       "  <thead>\n",
       "    <tr style=\"text-align: right;\">\n",
       "      <th></th>\n",
       "      <th>Examination</th>\n",
       "      <th>Subject_id</th>\n",
       "      <th>Image_id</th>\n",
       "      <th>Modality</th>\n",
       "      <th>Image</th>\n",
       "      <th>Path</th>\n",
       "    </tr>\n",
       "  </thead>\n",
       "  <tbody>\n",
       "    <tr>\n",
       "      <td>0</td>\n",
       "      <td>CC0001_philips_15_55_M.anat</td>\n",
       "      <td>CC0001</td>\n",
       "      <td></td>\n",
       "      <td>philips</td>\n",
       "      <td>T1.nii.gz</td>\n",
       "      <td>/data-10tb/marek/CalgaryCampinas/train_data/FS...</td>\n",
       "    </tr>\n",
       "    <tr>\n",
       "      <td>1</td>\n",
       "      <td>CC0002_philips_15_56_M.anat</td>\n",
       "      <td>CC0002</td>\n",
       "      <td></td>\n",
       "      <td>philips</td>\n",
       "      <td>T1.nii.gz</td>\n",
       "      <td>/data-10tb/marek/CalgaryCampinas/train_data/FS...</td>\n",
       "    </tr>\n",
       "    <tr>\n",
       "      <td>2</td>\n",
       "      <td>CC0003_philips_15_63_F.anat</td>\n",
       "      <td>CC0003</td>\n",
       "      <td></td>\n",
       "      <td>philips</td>\n",
       "      <td>T1.nii.gz</td>\n",
       "      <td>/data-10tb/marek/CalgaryCampinas/train_data/FS...</td>\n",
       "    </tr>\n",
       "  </tbody>\n",
       "</table>\n",
       "</div>"
      ],
      "text/plain": [
       "                   Examination Subject_id Image_id Modality      Image  \\\n",
       "0  CC0001_philips_15_55_M.anat     CC0001           philips  T1.nii.gz   \n",
       "1  CC0002_philips_15_56_M.anat     CC0002           philips  T1.nii.gz   \n",
       "2  CC0003_philips_15_63_F.anat     CC0003           philips  T1.nii.gz   \n",
       "\n",
       "                                                Path  \n",
       "0  /data-10tb/marek/CalgaryCampinas/train_data/FS...  \n",
       "1  /data-10tb/marek/CalgaryCampinas/train_data/FS...  \n",
       "2  /data-10tb/marek/CalgaryCampinas/train_data/FS...  "
      ]
     },
     "execution_count": 20,
     "metadata": {},
     "output_type": "execute_result"
    }
   ],
   "source": [
    "# NOT OPTIMAL SOLUTION!!! ALE NIE MIALEM CZASU NA PISANIE NOWEJ FUNCJI!!! TO UPDATE!!!\n",
    "cc_t1_info = f.get_sald_info(t1_files)\n",
    "cc_t1_info.head(3)"
   ]
  },
  {
   "cell_type": "code",
   "execution_count": 21,
   "metadata": {},
   "outputs": [],
   "source": [
    "cc_t1_bias_info = f.get_sald_info(t1_bias_files)\n",
    "#cc_t1_bias_info.head(3)"
   ]
  },
  {
   "cell_type": "code",
   "execution_count": 22,
   "metadata": {},
   "outputs": [],
   "source": [
    "cc_t1_mask_info = f.get_sald_info(t1_mask_files)\n",
    "#cc_t1_mask_info.head(3)"
   ]
  },
  {
   "cell_type": "markdown",
   "metadata": {},
   "source": [
    "#### Get images info"
   ]
  },
  {
   "cell_type": "code",
   "execution_count": 23,
   "metadata": {},
   "outputs": [
    {
     "name": "stdout",
     "output_type": "stream",
     "text": [
      "CPU times: user 50.5 s, sys: 6.77 s, total: 57.3 s\n",
      "Wall time: 1min\n"
     ]
    }
   ],
   "source": [
    "%%time\n",
    "cc_t1_im_info = f.get_img_params(t1_files)"
   ]
  },
  {
   "cell_type": "code",
   "execution_count": 24,
   "metadata": {},
   "outputs": [
    {
     "data": {
      "text/html": [
       "<div>\n",
       "<style scoped>\n",
       "    .dataframe tbody tr th:only-of-type {\n",
       "        vertical-align: middle;\n",
       "    }\n",
       "\n",
       "    .dataframe tbody tr th {\n",
       "        vertical-align: top;\n",
       "    }\n",
       "\n",
       "    .dataframe thead th {\n",
       "        text-align: right;\n",
       "    }\n",
       "</style>\n",
       "<table border=\"1\" class=\"dataframe\">\n",
       "  <thead>\n",
       "    <tr style=\"text-align: right;\">\n",
       "      <th></th>\n",
       "      <th>Examination</th>\n",
       "      <th>Image</th>\n",
       "      <th>Max</th>\n",
       "      <th>Mean</th>\n",
       "      <th>Min</th>\n",
       "      <th>Dtype</th>\n",
       "      <th>Size_1</th>\n",
       "      <th>Size_2</th>\n",
       "      <th>Size_3</th>\n",
       "      <th>Pixdim_1</th>\n",
       "      <th>Pixdim_2</th>\n",
       "      <th>Pixdim_3</th>\n",
       "    </tr>\n",
       "  </thead>\n",
       "  <tbody>\n",
       "    <tr>\n",
       "      <td>0</td>\n",
       "      <td>CC0001_philips_15_55_M.anat</td>\n",
       "      <td>T1.nii.gz</td>\n",
       "      <td>2651.18</td>\n",
       "      <td>349.70</td>\n",
       "      <td>0.0</td>\n",
       "      <td>float64</td>\n",
       "      <td>171</td>\n",
       "      <td>256</td>\n",
       "      <td>170</td>\n",
       "      <td>1.0</td>\n",
       "      <td>1.00</td>\n",
       "      <td>1.00</td>\n",
       "    </tr>\n",
       "    <tr>\n",
       "      <td>1</td>\n",
       "      <td>CC0002_philips_15_56_M.anat</td>\n",
       "      <td>T1.nii.gz</td>\n",
       "      <td>3258.32</td>\n",
       "      <td>418.89</td>\n",
       "      <td>0.0</td>\n",
       "      <td>float64</td>\n",
       "      <td>150</td>\n",
       "      <td>288</td>\n",
       "      <td>191</td>\n",
       "      <td>1.0</td>\n",
       "      <td>0.89</td>\n",
       "      <td>0.89</td>\n",
       "    </tr>\n",
       "    <tr>\n",
       "      <td>2</td>\n",
       "      <td>CC0003_philips_15_63_F.anat</td>\n",
       "      <td>T1.nii.gz</td>\n",
       "      <td>2750.29</td>\n",
       "      <td>346.82</td>\n",
       "      <td>0.0</td>\n",
       "      <td>float64</td>\n",
       "      <td>150</td>\n",
       "      <td>288</td>\n",
       "      <td>191</td>\n",
       "      <td>1.0</td>\n",
       "      <td>0.89</td>\n",
       "      <td>0.89</td>\n",
       "    </tr>\n",
       "  </tbody>\n",
       "</table>\n",
       "</div>"
      ],
      "text/plain": [
       "                   Examination      Image      Max    Mean  Min    Dtype  \\\n",
       "0  CC0001_philips_15_55_M.anat  T1.nii.gz  2651.18  349.70  0.0  float64   \n",
       "1  CC0002_philips_15_56_M.anat  T1.nii.gz  3258.32  418.89  0.0  float64   \n",
       "2  CC0003_philips_15_63_F.anat  T1.nii.gz  2750.29  346.82  0.0  float64   \n",
       "\n",
       "   Size_1  Size_2  Size_3  Pixdim_1  Pixdim_2  Pixdim_3  \n",
       "0     171     256     170       1.0      1.00      1.00  \n",
       "1     150     288     191       1.0      0.89      0.89  \n",
       "2     150     288     191       1.0      0.89      0.89  "
      ]
     },
     "execution_count": 24,
     "metadata": {},
     "output_type": "execute_result"
    }
   ],
   "source": [
    "cc_t1_im_info.head(3).round(2)"
   ]
  },
  {
   "cell_type": "code",
   "execution_count": 25,
   "metadata": {},
   "outputs": [
    {
     "name": "stdout",
     "output_type": "stream",
     "text": [
      "359/359  CC0359_ge_3_58_F.anat    t    \r"
     ]
    }
   ],
   "source": [
    "cc_t1_bias_im_info = f.get_img_params(t1_bias_files)"
   ]
  },
  {
   "cell_type": "code",
   "execution_count": 26,
   "metadata": {},
   "outputs": [
    {
     "data": {
      "text/html": [
       "<div>\n",
       "<style scoped>\n",
       "    .dataframe tbody tr th:only-of-type {\n",
       "        vertical-align: middle;\n",
       "    }\n",
       "\n",
       "    .dataframe tbody tr th {\n",
       "        vertical-align: top;\n",
       "    }\n",
       "\n",
       "    .dataframe thead th {\n",
       "        text-align: right;\n",
       "    }\n",
       "</style>\n",
       "<table border=\"1\" class=\"dataframe\">\n",
       "  <thead>\n",
       "    <tr style=\"text-align: right;\">\n",
       "      <th></th>\n",
       "      <th>Examination</th>\n",
       "      <th>Image</th>\n",
       "      <th>Max</th>\n",
       "      <th>Mean</th>\n",
       "      <th>Min</th>\n",
       "      <th>Dtype</th>\n",
       "      <th>Size_1</th>\n",
       "      <th>Size_2</th>\n",
       "      <th>Size_3</th>\n",
       "      <th>Pixdim_1</th>\n",
       "      <th>Pixdim_2</th>\n",
       "      <th>Pixdim_3</th>\n",
       "    </tr>\n",
       "  </thead>\n",
       "  <tbody>\n",
       "    <tr>\n",
       "      <td>0</td>\n",
       "      <td>CC0001_philips_15_55_M.anat</td>\n",
       "      <td>T1_biascorr.nii.gz</td>\n",
       "      <td>2659.81</td>\n",
       "      <td>352.31</td>\n",
       "      <td>0.0</td>\n",
       "      <td>float64</td>\n",
       "      <td>171</td>\n",
       "      <td>256</td>\n",
       "      <td>170</td>\n",
       "      <td>1.0</td>\n",
       "      <td>1.00</td>\n",
       "      <td>1.00</td>\n",
       "    </tr>\n",
       "    <tr>\n",
       "      <td>1</td>\n",
       "      <td>CC0002_philips_15_56_M.anat</td>\n",
       "      <td>T1_biascorr.nii.gz</td>\n",
       "      <td>3477.04</td>\n",
       "      <td>425.93</td>\n",
       "      <td>0.0</td>\n",
       "      <td>float64</td>\n",
       "      <td>150</td>\n",
       "      <td>288</td>\n",
       "      <td>191</td>\n",
       "      <td>1.0</td>\n",
       "      <td>0.89</td>\n",
       "      <td>0.89</td>\n",
       "    </tr>\n",
       "    <tr>\n",
       "      <td>2</td>\n",
       "      <td>CC0003_philips_15_63_F.anat</td>\n",
       "      <td>T1_biascorr.nii.gz</td>\n",
       "      <td>2964.07</td>\n",
       "      <td>353.07</td>\n",
       "      <td>0.0</td>\n",
       "      <td>float64</td>\n",
       "      <td>150</td>\n",
       "      <td>288</td>\n",
       "      <td>191</td>\n",
       "      <td>1.0</td>\n",
       "      <td>0.89</td>\n",
       "      <td>0.89</td>\n",
       "    </tr>\n",
       "  </tbody>\n",
       "</table>\n",
       "</div>"
      ],
      "text/plain": [
       "                   Examination               Image      Max    Mean  Min  \\\n",
       "0  CC0001_philips_15_55_M.anat  T1_biascorr.nii.gz  2659.81  352.31  0.0   \n",
       "1  CC0002_philips_15_56_M.anat  T1_biascorr.nii.gz  3477.04  425.93  0.0   \n",
       "2  CC0003_philips_15_63_F.anat  T1_biascorr.nii.gz  2964.07  353.07  0.0   \n",
       "\n",
       "     Dtype  Size_1  Size_2  Size_3  Pixdim_1  Pixdim_2  Pixdim_3  \n",
       "0  float64     171     256     170       1.0      1.00      1.00  \n",
       "1  float64     150     288     191       1.0      0.89      0.89  \n",
       "2  float64     150     288     191       1.0      0.89      0.89  "
      ]
     },
     "execution_count": 26,
     "metadata": {},
     "output_type": "execute_result"
    }
   ],
   "source": [
    "cc_t1_bias_im_info.head(3).round(2)"
   ]
  },
  {
   "cell_type": "code",
   "execution_count": 27,
   "metadata": {},
   "outputs": [
    {
     "name": "stdout",
     "output_type": "stream",
     "text": [
      "359/359  CC0359_ge_3_58_F.anat    t    \r"
     ]
    }
   ],
   "source": [
    "cc_t1_mask_im_info = f.get_img_params(t1_mask_files)"
   ]
  },
  {
   "cell_type": "code",
   "execution_count": 28,
   "metadata": {},
   "outputs": [
    {
     "data": {
      "text/html": [
       "<div>\n",
       "<style scoped>\n",
       "    .dataframe tbody tr th:only-of-type {\n",
       "        vertical-align: middle;\n",
       "    }\n",
       "\n",
       "    .dataframe tbody tr th {\n",
       "        vertical-align: top;\n",
       "    }\n",
       "\n",
       "    .dataframe thead th {\n",
       "        text-align: right;\n",
       "    }\n",
       "</style>\n",
       "<table border=\"1\" class=\"dataframe\">\n",
       "  <thead>\n",
       "    <tr style=\"text-align: right;\">\n",
       "      <th></th>\n",
       "      <th>Examination</th>\n",
       "      <th>Image</th>\n",
       "      <th>Max</th>\n",
       "      <th>Mean</th>\n",
       "      <th>Min</th>\n",
       "      <th>Dtype</th>\n",
       "      <th>Size_1</th>\n",
       "      <th>Size_2</th>\n",
       "      <th>Size_3</th>\n",
       "      <th>Pixdim_1</th>\n",
       "      <th>Pixdim_2</th>\n",
       "      <th>Pixdim_3</th>\n",
       "    </tr>\n",
       "  </thead>\n",
       "  <tbody>\n",
       "    <tr>\n",
       "      <td>0</td>\n",
       "      <td>CC0001_philips_15_55_M.anat</td>\n",
       "      <td>T1_biascorr_brain_mask.nii.gz</td>\n",
       "      <td>1.0</td>\n",
       "      <td>0.21</td>\n",
       "      <td>0.0</td>\n",
       "      <td>float64</td>\n",
       "      <td>171</td>\n",
       "      <td>256</td>\n",
       "      <td>170</td>\n",
       "      <td>1.0</td>\n",
       "      <td>1.00</td>\n",
       "      <td>1.00</td>\n",
       "    </tr>\n",
       "    <tr>\n",
       "      <td>1</td>\n",
       "      <td>CC0002_philips_15_56_M.anat</td>\n",
       "      <td>T1_biascorr_brain_mask.nii.gz</td>\n",
       "      <td>1.0</td>\n",
       "      <td>0.19</td>\n",
       "      <td>0.0</td>\n",
       "      <td>float64</td>\n",
       "      <td>150</td>\n",
       "      <td>288</td>\n",
       "      <td>191</td>\n",
       "      <td>1.0</td>\n",
       "      <td>0.89</td>\n",
       "      <td>0.89</td>\n",
       "    </tr>\n",
       "    <tr>\n",
       "      <td>2</td>\n",
       "      <td>CC0003_philips_15_63_F.anat</td>\n",
       "      <td>T1_biascorr_brain_mask.nii.gz</td>\n",
       "      <td>1.0</td>\n",
       "      <td>0.17</td>\n",
       "      <td>0.0</td>\n",
       "      <td>float64</td>\n",
       "      <td>150</td>\n",
       "      <td>288</td>\n",
       "      <td>191</td>\n",
       "      <td>1.0</td>\n",
       "      <td>0.89</td>\n",
       "      <td>0.89</td>\n",
       "    </tr>\n",
       "  </tbody>\n",
       "</table>\n",
       "</div>"
      ],
      "text/plain": [
       "                   Examination                          Image  Max  Mean  Min  \\\n",
       "0  CC0001_philips_15_55_M.anat  T1_biascorr_brain_mask.nii.gz  1.0  0.21  0.0   \n",
       "1  CC0002_philips_15_56_M.anat  T1_biascorr_brain_mask.nii.gz  1.0  0.19  0.0   \n",
       "2  CC0003_philips_15_63_F.anat  T1_biascorr_brain_mask.nii.gz  1.0  0.17  0.0   \n",
       "\n",
       "     Dtype  Size_1  Size_2  Size_3  Pixdim_1  Pixdim_2  Pixdim_3  \n",
       "0  float64     171     256     170       1.0      1.00      1.00  \n",
       "1  float64     150     288     191       1.0      0.89      0.89  \n",
       "2  float64     150     288     191       1.0      0.89      0.89  "
      ]
     },
     "execution_count": 28,
     "metadata": {},
     "output_type": "execute_result"
    }
   ],
   "source": [
    "cc_t1_mask_im_info.head(3).round(2)"
   ]
  },
  {
   "cell_type": "markdown",
   "metadata": {},
   "source": [
    "#### Save tables to *results* folder"
   ]
  },
  {
   "cell_type": "code",
   "execution_count": 15,
   "metadata": {},
   "outputs": [],
   "source": [
    "# ### SAVE TO CSV FILES\n",
    "#cc_t1_im_info.to_csv(results_folder/'ixi_t1_im_info.csv')\n",
    "#cc_t1_bias_info.to_csv(results_folder/'ixi_t1_bias_info.csv')\n",
    "#cc_t1_mask_info.to_csv(results_folder/'ixi_t1_mask_info.csv')"
   ]
  },
  {
   "cell_type": "code",
   "execution_count": 29,
   "metadata": {},
   "outputs": [],
   "source": [
    "# ### WRITE TO EXCEL FILE\n",
    "writer = pd.ExcelWriter(f'{results_folder}/cc_aniso.xlsx', engine = 'xlsxwriter')\n",
    "cc_t1_info.to_excel(writer, sheet_name = 't1', index=False )\n",
    "cc_t1_bias_info.to_excel(writer, sheet_name = 't1_biascorr', index=False )\n",
    "cc_t1_mask_info.to_excel(writer, sheet_name = 't1_mask', index=False )\n",
    "\n",
    "cc_t1_im_info.to_excel(writer, sheet_name = 't1_im', index=False )\n",
    "cc_t1_bias_im_info.to_excel(writer, sheet_name = 't1_bias_im', index=False )\n",
    "cc_t1_mask_im_info.to_excel(writer, sheet_name = 't1_mask_im', index=False )\n",
    "writer.save()\n",
    "writer.close()"
   ]
  },
  {
   "cell_type": "code",
   "execution_count": 30,
   "metadata": {},
   "outputs": [
    {
     "name": "stdout",
     "output_type": "stream",
     "text": [
      "CC...done\n"
     ]
    }
   ],
   "source": [
    "print('CC...done')"
   ]
  },
  {
   "cell_type": "code",
   "execution_count": null,
   "metadata": {},
   "outputs": [],
   "source": []
  },
  {
   "cell_type": "code",
   "execution_count": 17,
   "metadata": {},
   "outputs": [],
   "source": [
    "# join tables\n",
    "#df_ixi_t1.join(df, lsuffix='_t1', rsuffix='_df')"
   ]
  },
  {
   "cell_type": "code",
   "execution_count": 18,
   "metadata": {},
   "outputs": [],
   "source": [
    "# # ## ipcluster start -n 4\n",
    "# import ipyparallel as ipp\n",
    "# c = ipp.Client()\n",
    "# c.ids\n",
    "# c[:].apply_async(f.get_img_params(ixi_t1_files))\n",
    "#c.shutdown(hub=True)\n",
    "# jobs\n",
    "# kill %1"
   ]
  }
 ],
 "metadata": {
  "kernelspec": {
   "display_name": "fastai1",
   "language": "python",
   "name": "fastai1"
  },
  "language_info": {
   "codemirror_mode": {
    "name": "ipython",
    "version": 3
   },
   "file_extension": ".py",
   "mimetype": "text/x-python",
   "name": "python",
   "nbconvert_exporter": "python",
   "pygments_lexer": "ipython3",
   "version": "3.7.4"
  }
 },
 "nbformat": 4,
 "nbformat_minor": 4
}
