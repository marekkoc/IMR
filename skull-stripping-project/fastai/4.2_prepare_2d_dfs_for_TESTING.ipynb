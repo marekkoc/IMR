{
 "cells": [
  {
   "cell_type": "markdown",
   "metadata": {},
   "source": [
    "Created: 2020.08.13\n",
    "\n",
    "Modified: 2020.08.22"
   ]
  },
  {
   "cell_type": "markdown",
   "metadata": {},
   "source": [
    "### Prepare TEST csv files for inference (pts. 5.xx)"
   ]
  },
  {
   "cell_type": "markdown",
   "metadata": {},
   "source": [
    "Get csv **test set** files (e.g. ixi_test_mk_3d.csv) with paths to **3D NIFTI images**, convert each 3D image path to a set of **2D slice** paths and save to resulting csv file in the **2.4_train_val_2d_path_tables** folder.\n",
    "\n",
    "Those paths to each 2D slice are needed during prediction process to concatenate to a part of training data (for efficiency reason) and feed with a learner.\n"
   ]
  },
  {
   "cell_type": "code",
   "execution_count": 1,
   "metadata": {},
   "outputs": [],
   "source": [
    "%reload_ext autoreload\n",
    "%autoreload 2"
   ]
  },
  {
   "cell_type": "code",
   "execution_count": 2,
   "metadata": {},
   "outputs": [],
   "source": [
    "import glob\n",
    "import pandas as pd\n",
    "from pathlib import Path"
   ]
  },
  {
   "cell_type": "code",
   "execution_count": 3,
   "metadata": {},
   "outputs": [],
   "source": [
    "import sys\n",
    "sys.path.append('functions')\n",
    "\n",
    "%aimport functions00, functions01\n",
    "from functions00 import *\n",
    "from functions01 import *\n",
    "\n",
    "import functions24 as fun24\n",
    "import functions50 as fun50"
   ]
  },
  {
   "cell_type": "code",
   "execution_count": 4,
   "metadata": {},
   "outputs": [
    {
     "name": "stdout",
     "output_type": "stream",
     "text": [
      "**********************************************************************************************************************************\n",
      "Settings:\n",
      "\tHOST:  mmiv-ml-titan\n",
      "\tPATH_ROOT_DATA:  /data-10tb/shared/skull/train-3d-iso\n",
      "\tPATH_GIT_HUB:  /data-10tb/marek/github_codes/skull-stripping-1/fastai\n",
      "\tPATH_2D: /data-10tb/shared/skull\n",
      "\n",
      "3D DFs paths (_mk_3D):\n",
      "\tIXI_TEST_3D: /data-10tb/marek/github_codes/skull-stripping-1/fastai/2.2_train_valid_test_sets/ixi_test_mk_3d.csv\n",
      "\tTEST_3D : /data-10tb/marek/github_codes/skull-stripping-1/fastai/2.2_train_valid_test_sets/test_mk_3d.csv\n",
      "\tTRAIN_VAL_3D: /data-10tb/marek/github_codes/skull-stripping-1/fastai/2.2_train_valid_test_sets/train_val_mk_3d.csv\n",
      "\tNFBS_TEST_3D: /data-10tb/marek/github_codes/skull-stripping-1/fastai/2.2_train_valid_test_sets/nfbs_test_mk_3d.csv\n",
      "\n",
      "Error files (pickle):\n",
      "\tERROR_FILES: /data-10tb/marek/github_codes/skull-stripping-1/fastai/2.2_train_valid_test_sets/error_files\n",
      "**********************************************************************************************************************************\n"
     ]
    }
   ],
   "source": [
    "mk_get_host_info()"
   ]
  },
  {
   "cell_type": "code",
   "execution_count": 5,
   "metadata": {},
   "outputs": [
    {
     "data": {
      "text/plain": [
       "26"
      ]
     },
     "execution_count": 5,
     "metadata": {},
     "output_type": "execute_result"
    }
   ],
   "source": [
    "len(mk_get_error_file_list())"
   ]
  },
  {
   "cell_type": "markdown",
   "metadata": {},
   "source": [
    "#### Global parameters"
   ]
  },
  {
   "cell_type": "code",
   "execution_count": 8,
   "metadata": {},
   "outputs": [],
   "source": [
    "test1_name = 'TEST_3D'\n",
    "test2_name = 'IXI_TEST_3D'\n",
    "test3_name = 'NFBS_TEST_3D'\n",
    "\n",
    "test1 = TEST_3D\n",
    "test2 = IXI_TEST_3D\n",
    "test3 = NFBS_TEST_3D\n",
    "\n",
    "############################\n",
    "TEST_SET = test1\n",
    "TEST_SET_NAME = test1_name\n",
    "#############################\n",
    "\n",
    "SAVE = 1"
   ]
  },
  {
   "cell_type": "markdown",
   "metadata": {},
   "source": [
    "#### Load TEST df"
   ]
  },
  {
   "cell_type": "code",
   "execution_count": 9,
   "metadata": {},
   "outputs": [
    {
     "name": "stdout",
     "output_type": "stream",
     "text": [
      " *** column_name=t1_pth_dgx ***\n",
      "\tNone of the files from the error_list is contained in a df!\n",
      "\tNew df shape: (934, 17)\n",
      "\n",
      " *** column_name=bias_pth_dgx ***\n",
      "\tRemoved follong files from the df (7 files): \n",
      "\t\tADNI_027_S_0118_MR_MPR__GradWarp__B1_Correction__N3__Scaled_Br_20090227154801572_S62836_I137255.anat_T1_biascorr_iso.nii.gz\n",
      "\t\tsub-031358_T1w.anat_T1_biascorr_iso.nii.gz\n",
      "\t\tsub-031584_T1w.anat_T1_biascorr_iso.nii.gz\n",
      "\t\tsub-25743_ses-1_T1w.anat_T1_biascorr_iso.nii.gz\n",
      "\t\tsub-25645_ses-1_T1w.anat_T1_biascorr_iso.nii.gz\n",
      "\t\tsub-30967_ses-1_T1w.anat_T1_biascorr_iso.nii.gz\n",
      "\t\tsub-30772_ses-3_T1w.anat_T1_biascorr_iso.nii.gz\n",
      "\tNew df shape: (927, 17)\n",
      "\n",
      "Saved files:\n",
      "\t/data-10tb/marek/github_codes/skull-stripping-1/fastai/2.4_train_val_2d_path_tables/TEST_3D-t1-mask-axial-2d.csv\n",
      "\t/data-10tb/shared/skull/axial-2d/TEST_3D-t1-mask-axial-2d.csv\n",
      "Saved files:\n",
      "\t/data-10tb/marek/github_codes/skull-stripping-1/fastai/2.4_train_val_2d_path_tables/TEST_3D-bias-mask-axial-2d.csv\n",
      "\t/data-10tb/shared/skull/axial-2d/TEST_3D-bias-mask-axial-2d.csv\n",
      "************************************************ axial-2d...done :D ***********************************************\n",
      " *** column_name=t1_pth_dgx ***\n",
      "\tNone of the files from the error_list is contained in a df!\n",
      "\tNew df shape: (934, 17)\n",
      "\n",
      " *** column_name=bias_pth_dgx ***\n",
      "\tRemoved follong files from the df (7 files): \n",
      "\t\tADNI_027_S_0118_MR_MPR__GradWarp__B1_Correction__N3__Scaled_Br_20090227154801572_S62836_I137255.anat_T1_biascorr_iso.nii.gz\n",
      "\t\tsub-031358_T1w.anat_T1_biascorr_iso.nii.gz\n",
      "\t\tsub-031584_T1w.anat_T1_biascorr_iso.nii.gz\n",
      "\t\tsub-25743_ses-1_T1w.anat_T1_biascorr_iso.nii.gz\n",
      "\t\tsub-25645_ses-1_T1w.anat_T1_biascorr_iso.nii.gz\n",
      "\t\tsub-30967_ses-1_T1w.anat_T1_biascorr_iso.nii.gz\n",
      "\t\tsub-30772_ses-3_T1w.anat_T1_biascorr_iso.nii.gz\n",
      "\tNew df shape: (927, 17)\n",
      "\n",
      "Saved files:\n",
      "\t/data-10tb/marek/github_codes/skull-stripping-1/fastai/2.4_train_val_2d_path_tables/TEST_3D-t1-mask-coronal-2d.csv\n",
      "\t/data-10tb/shared/skull/coronal-2d/TEST_3D-t1-mask-coronal-2d.csv\n",
      "Saved files:\n",
      "\t/data-10tb/marek/github_codes/skull-stripping-1/fastai/2.4_train_val_2d_path_tables/TEST_3D-bias-mask-coronal-2d.csv\n",
      "\t/data-10tb/shared/skull/coronal-2d/TEST_3D-bias-mask-coronal-2d.csv\n",
      "************************************************ coronal-2d...done :D ***********************************************\n",
      " *** column_name=t1_pth_dgx ***\n",
      "\tNone of the files from the error_list is contained in a df!\n",
      "\tNew df shape: (934, 17)\n",
      "\n",
      " *** column_name=bias_pth_dgx ***\n",
      "\tRemoved follong files from the df (7 files): \n",
      "\t\tADNI_027_S_0118_MR_MPR__GradWarp__B1_Correction__N3__Scaled_Br_20090227154801572_S62836_I137255.anat_T1_biascorr_iso.nii.gz\n",
      "\t\tsub-031358_T1w.anat_T1_biascorr_iso.nii.gz\n",
      "\t\tsub-031584_T1w.anat_T1_biascorr_iso.nii.gz\n",
      "\t\tsub-25743_ses-1_T1w.anat_T1_biascorr_iso.nii.gz\n",
      "\t\tsub-25645_ses-1_T1w.anat_T1_biascorr_iso.nii.gz\n",
      "\t\tsub-30967_ses-1_T1w.anat_T1_biascorr_iso.nii.gz\n",
      "\t\tsub-30772_ses-3_T1w.anat_T1_biascorr_iso.nii.gz\n",
      "\tNew df shape: (927, 17)\n",
      "\n",
      "Saved files:\n",
      "\t/data-10tb/marek/github_codes/skull-stripping-1/fastai/2.4_train_val_2d_path_tables/TEST_3D-t1-mask-sagittal-2d.csv\n",
      "\t/data-10tb/shared/skull/sagittal-2d/TEST_3D-t1-mask-sagittal-2d.csv\n",
      "Saved files:\n",
      "\t/data-10tb/marek/github_codes/skull-stripping-1/fastai/2.4_train_val_2d_path_tables/TEST_3D-bias-mask-sagittal-2d.csv\n",
      "\t/data-10tb/shared/skull/sagittal-2d/TEST_3D-bias-mask-sagittal-2d.csv\n",
      "************************************************ sagittal-2d...done :D ***********************************************\n"
     ]
    }
   ],
   "source": [
    "save = 1\n",
    "\n",
    "for PLANE in ['axial-2d', 'coronal-2d', 'sagittal-2d']:\n",
    "    # load TEST df\n",
    "    df1 = pd.read_csv(TEST_SET)\n",
    "    df1['usage_txt'] = TEST_SET_NAME.lower()\n",
    "    df1['usage'] = True\n",
    "    \n",
    "    # remove  failed images based on Sathiesh's error_list file\n",
    "    mk_remove_error_flies_from_df(df1, mk_get_error_file_list(), column_name='t1_pth_dgx')\n",
    "    mk_remove_error_flies_from_df(df1, mk_get_error_file_list(), column_name='bias_pth_dgx')\n",
    "\n",
    "    # Drop some columns\n",
    "    cols = ['t1_pth_titan','bias_pth_titan', 'mask_nn_pth_titan','usage', 'usage_txt' ]\n",
    "    df = df1[cols]\n",
    "\n",
    "    # Lists o files to process\n",
    "    #usg = df.usage[0]\n",
    "    #usg_txt = df.usage_txt[0]\n",
    "\n",
    "    # Get lists of all 3D NIFTI images: to t1, bias, mask\n",
    "    t1_list = df.t1_pth_titan\n",
    "    bias_list = df.bias_pth_titan\n",
    "    mask_list = df.mask_nn_pth_titan\n",
    "    #print(len(t1_list), len(bias_list), len(mask_list))\n",
    "\n",
    "    \n",
    "    usg = df.usage[0]\n",
    "    usg_txt = df.usage_txt[0]\n",
    "\n",
    "    df_t1_list = []\n",
    "    df_bias_list = []\n",
    "\n",
    "    for t,b,m in zip(t1_list, bias_list, mask_list):\n",
    "\n",
    "        pngs_t1 = fun50.get_pngs_for_mask(t, PLANE, 'test')\n",
    "        pngs_bias = fun50.get_pngs_for_mask(b, PLANE, 'test')\n",
    "        pngs_msk = fun50.get_pngs_for_mask(m, PLANE, 'test')\n",
    "\n",
    "        # df for t1_mask-testset\n",
    "        df_t1 = fun24.create_pngs_df_for_mask(pngs_t1, pngs_msk, usg, usg_txt, t1=True)\n",
    "        # df for bias_mask-testset\n",
    "        df_bias = fun24.create_pngs_df_for_mask(pngs_bias, pngs_msk, usg, usg_txt, t1=False)\n",
    "\n",
    "        df_t1_list.append(df_t1)\n",
    "        df_bias_list.append(df_bias)\n",
    "\n",
    "    # why such a way to create new df???? I'dont remember ;)\n",
    "    df_t1_all = pd.concat(df_t1_list)\n",
    "    df_bias_all = pd.concat(df_bias_list)\n",
    "    \n",
    "    # Create column name for newly created df's: t1_path for t1, and bias_path for bias\n",
    "    col_t1 = ['root', 't1_path','image_full_path', 'mask_full_path', 'usage_txt', 'usage']\n",
    "    col_bias = ['root', 'bias_path','image_full_path', 'mask_full_path', 'usage_txt', 'usage']\n",
    "\n",
    "    # Update column name in newly created df's\n",
    "    df_t1_all = df_t1_all[col_t1]\n",
    "    df_bias_all = df_bias_all[col_bias]\n",
    "\n",
    "    # Save names: e.g.: IXI_TEST_3D_t1-mask-axial-2d\n",
    "    t1_save_name = f'{TEST_SET_NAME}-t1-mask-{PLANE}.csv'\n",
    "    bias_save_name = f'{TEST_SET_NAME}-bias-mask-{PLANE}.csv'\n",
    "    \n",
    "    # save folder name\n",
    "    save_folder_name = '2.4_train_val_2d_path_tables'\n",
    "\n",
    "    if SAVE:\n",
    "        fun24.save_df(df_t1_all, PLANE, t1_save_name, save_folder_name)\n",
    "        fun24.save_df(df_bias_all, PLANE, bias_save_name, save_folder_name)\n",
    "    print(f'\\n******************************************************** {PLANE}...done :D *********************************************************\\n')"
   ]
  }
 ],
 "metadata": {
  "kernelspec": {
   "display_name": "fastai1",
   "language": "python",
   "name": "fastai1"
  },
  "language_info": {
   "codemirror_mode": {
    "name": "ipython",
    "version": 3
   },
   "file_extension": ".py",
   "mimetype": "text/x-python",
   "name": "python",
   "nbconvert_exporter": "python",
   "pygments_lexer": "ipython3",
   "version": "3.7.4"
  }
 },
 "nbformat": 4,
 "nbformat_minor": 4
}
